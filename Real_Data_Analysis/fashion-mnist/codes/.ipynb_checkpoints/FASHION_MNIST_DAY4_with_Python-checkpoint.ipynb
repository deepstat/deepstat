{
 "cells": [
  {
   "cell_type": "markdown",
   "metadata": {},
   "source": [
    "# FASHION MNIST with Python (DAY 4)\n",
    "\n",
    "DATA SOURCE : https://www.kaggle.com/zalando-research/fashionmnist (Kaggle, Fashion MNIST)\n",
    "\n",
    "FASHION MNIST with Python (DAY 1) : http://deepstat.tistory.com/35\n",
    "\n",
    "FASHION MNIST with Python (DAY 2) : http://deepstat.tistory.com/36\n",
    "\n",
    "FASHION MNIST with Python (DAY 3) : http://deepstat.tistory.com/37"
   ]
  },
  {
   "cell_type": "markdown",
   "metadata": {},
   "source": [
    "## Datasets"
   ]
  },
  {
   "cell_type": "markdown",
   "metadata": {},
   "source": [
    "### Importing numpy, pandas, pyplot"
   ]
  },
  {
   "cell_type": "code",
   "execution_count": 1,
   "metadata": {},
   "outputs": [],
   "source": [
    "import numpy as np\n",
    "import pandas as pd\n",
    "import matplotlib.pyplot as plt"
   ]
  },
  {
   "cell_type": "markdown",
   "metadata": {},
   "source": [
    "### Loading datasets"
   ]
  },
  {
   "cell_type": "code",
   "execution_count": 2,
   "metadata": {},
   "outputs": [],
   "source": [
    "data_train = pd.read_csv(\"..\\\\datasets\\\\fashion-mnist_train.csv\")\n",
    "data_test = pd.read_csv(\"..\\\\datasets\\\\fashion-mnist_test.csv\")"
   ]
  },
  {
   "cell_type": "code",
   "execution_count": 3,
   "metadata": {
    "scrolled": true
   },
   "outputs": [],
   "source": [
    "data_train_y = data_train.label\n",
    "y_test = data_test.label"
   ]
  },
  {
   "cell_type": "code",
   "execution_count": 4,
   "metadata": {},
   "outputs": [],
   "source": [
    "data_train_x = data_train.drop(\"label\",axis=1)/256\n",
    "x_test = data_test.drop(\"label\",axis=1)/256"
   ]
  },
  {
   "cell_type": "markdown",
   "metadata": {},
   "source": [
    "### Spliting valid and training"
   ]
  },
  {
   "cell_type": "code",
   "execution_count": 5,
   "metadata": {},
   "outputs": [],
   "source": [
    "np.random.seed(0)\n",
    "valid2_idx = np.random.choice(60000,10000,replace = False)\n",
    "valid1_idx = np.random.choice(list(set(range(60000)) - set(valid2_idx)),10000,replace=False)\n",
    "train_idx = list(set(range(60000))-set(valid1_idx)-set(valid2_idx))\n",
    "\n",
    "x_train = data_train_x.iloc[train_idx,:]\n",
    "y_train = data_train_y.iloc[train_idx]\n",
    "\n",
    "x_valid1 = data_train_x.iloc[valid1_idx,:]\n",
    "y_valid1 = data_train_y.iloc[valid1_idx]\n",
    "\n",
    "x_valid2 = data_train_x.iloc[valid2_idx,:]\n",
    "y_valid2 = data_train_y.iloc[valid2_idx]"
   ]
  },
  {
   "cell_type": "markdown",
   "metadata": {},
   "source": [
    "## Support Vector Machine"
   ]
  },
  {
   "cell_type": "markdown",
   "metadata": {},
   "source": [
    "### Importing SVC"
   ]
  },
  {
   "cell_type": "code",
   "execution_count": 6,
   "metadata": {},
   "outputs": [],
   "source": [
    "from sklearn.svm import SVC\n",
    "from sklearn.metrics import confusion_matrix"
   ]
  },
  {
   "cell_type": "markdown",
   "metadata": {},
   "source": [
    "### Fitting SVC with cost 0.00001"
   ]
  },
  {
   "cell_type": "code",
   "execution_count": 7,
   "metadata": {},
   "outputs": [],
   "source": [
    "SVM_model_type_1 = SVC(C=0.00001).fit(x_train, y_train)"
   ]
  },
  {
   "cell_type": "markdown",
   "metadata": {},
   "source": [
    "### Training Accuracy"
   ]
  },
  {
   "cell_type": "code",
   "execution_count": 8,
   "metadata": {},
   "outputs": [
    {
     "data": {
      "text/plain": [
       "array([[   0,    0,    0,    0,    0,    0,    0,    0,    0,    0],\n",
       "       [   0,    0,    0,    0,    0,    0,    0,    0,    0,    0],\n",
       "       [   0,    0,    0,    0,    0,    0,    0,    0,    0,    0],\n",
       "       [   0,    0,    0,    0,    0,    0,    0,    0,    0,    0],\n",
       "       [   0,    0,    0,    0,    0,    0,    0,    0,    0,    0],\n",
       "       [   0,    0,    0,    0,    0,    0,    0,    0,    0,    0],\n",
       "       [   0,    0,    0,    0,    0,    0,    0,    0,    0,    0],\n",
       "       [3994, 3990, 4056, 3929, 4016, 3932, 4005, 4103, 3946, 4029],\n",
       "       [   0,    0,    0,    0,    0,    0,    0,    0,    0,    0],\n",
       "       [   0,    0,    0,    0,    0,    0,    0,    0,    0,    0]],\n",
       "      dtype=int64)"
      ]
     },
     "execution_count": 8,
     "metadata": {},
     "output_type": "execute_result"
    }
   ],
   "source": [
    "confusion_matrix(SVM_model_type_1.predict(x_train),y_train)"
   ]
  },
  {
   "cell_type": "code",
   "execution_count": 9,
   "metadata": {},
   "outputs": [
    {
     "name": "stdout",
     "output_type": "stream",
     "text": [
      "TRAINING ACCURACY = 0.102575\n"
     ]
    }
   ],
   "source": [
    "SVM_model_type_1_train_acc = (SVM_model_type_1.predict(x_train) == y_train).mean()\n",
    "print(\"TRAINING ACCURACY =\",SVM_model_type_1_train_acc)"
   ]
  },
  {
   "cell_type": "markdown",
   "metadata": {},
   "source": [
    "### Validation Accuracy"
   ]
  },
  {
   "cell_type": "code",
   "execution_count": 10,
   "metadata": {
    "scrolled": true
   },
   "outputs": [
    {
     "data": {
      "text/plain": [
       "array([[   0,    0,    0,    0,    0,    0,    0,    0,    0,    0],\n",
       "       [   0,    0,    0,    0,    0,    0,    0,    0,    0,    0],\n",
       "       [   0,    0,    0,    0,    0,    0,    0,    0,    0,    0],\n",
       "       [   0,    0,    0,    0,    0,    0,    0,    0,    0,    0],\n",
       "       [   0,    0,    0,    0,    0,    0,    0,    0,    0,    0],\n",
       "       [   0,    0,    0,    0,    0,    0,    0,    0,    0,    0],\n",
       "       [   0,    0,    0,    0,    0,    0,    0,    0,    0,    0],\n",
       "       [1015, 1026,  945, 1012,  995, 1060,  987,  948, 1034,  978],\n",
       "       [   0,    0,    0,    0,    0,    0,    0,    0,    0,    0],\n",
       "       [   0,    0,    0,    0,    0,    0,    0,    0,    0,    0]],\n",
       "      dtype=int64)"
      ]
     },
     "execution_count": 10,
     "metadata": {},
     "output_type": "execute_result"
    }
   ],
   "source": [
    "confusion_matrix(SVM_model_type_1.predict(x_valid1),y_valid1)"
   ]
  },
  {
   "cell_type": "code",
   "execution_count": 11,
   "metadata": {},
   "outputs": [
    {
     "name": "stdout",
     "output_type": "stream",
     "text": [
      "VALIDATION ACCURACY = 0.0948\n"
     ]
    }
   ],
   "source": [
    "SVM_model_type_1_valid1_acc = (SVM_model_type_1.predict(x_valid1) == y_valid1).mean()\n",
    "print(\"VALIDATION ACCURACY =\",SVM_model_type_1_valid1_acc)"
   ]
  },
  {
   "cell_type": "code",
   "execution_count": 12,
   "metadata": {},
   "outputs": [
    {
     "data": {
      "text/plain": [
       "{'TRAIN_ACC': 0.102575, 'VALID_ACC': 0.0948}"
      ]
     },
     "execution_count": 12,
     "metadata": {},
     "output_type": "execute_result"
    }
   ],
   "source": [
    "{\"TRAIN_ACC\" : SVM_model_type_1_train_acc , \"VALID_ACC\" : SVM_model_type_1_valid1_acc}"
   ]
  },
  {
   "cell_type": "code",
   "execution_count": null,
   "metadata": {},
   "outputs": [],
   "source": []
  },
  {
   "cell_type": "markdown",
   "metadata": {},
   "source": [
    "### Fitting SVC with cost 0.0001"
   ]
  },
  {
   "cell_type": "code",
   "execution_count": 13,
   "metadata": {},
   "outputs": [],
   "source": [
    "SVM_model_type_2 = SVC(C=0.0001).fit(x_train, y_train)"
   ]
  },
  {
   "cell_type": "markdown",
   "metadata": {},
   "source": [
    "### Training Accuracy"
   ]
  },
  {
   "cell_type": "code",
   "execution_count": 14,
   "metadata": {},
   "outputs": [
    {
     "data": {
      "text/plain": [
       "array([[   0,    0,    0,    0,    0,    0,    0,    0,    0,    0],\n",
       "       [   0,    0,    0,    0,    0,    0,    0,    0,    0,    0],\n",
       "       [   0,    0,    0,    0,    0,    0,    0,    0,    0,    0],\n",
       "       [   0,    0,    0,    0,    0,    0,    0,    0,    0,    0],\n",
       "       [   0,    0,    0,    0,    0,    0,    0,    0,    0,    0],\n",
       "       [   0,    0,    0,    0,    0,    0,    0,    0,    0,    0],\n",
       "       [   0,    0,    0,    0,    0,    0,    0,    0,    0,    0],\n",
       "       [3994, 3990, 4056, 3929, 4016, 3932, 4005, 4103, 3946, 4029],\n",
       "       [   0,    0,    0,    0,    0,    0,    0,    0,    0,    0],\n",
       "       [   0,    0,    0,    0,    0,    0,    0,    0,    0,    0]],\n",
       "      dtype=int64)"
      ]
     },
     "execution_count": 14,
     "metadata": {},
     "output_type": "execute_result"
    }
   ],
   "source": [
    "confusion_matrix(SVM_model_type_2.predict(x_train),y_train)"
   ]
  },
  {
   "cell_type": "code",
   "execution_count": 15,
   "metadata": {},
   "outputs": [
    {
     "name": "stdout",
     "output_type": "stream",
     "text": [
      "TRAINING ACCURACY = 0.102575\n"
     ]
    }
   ],
   "source": [
    "SVM_model_type_2_train_acc = (SVM_model_type_2.predict(x_train) == y_train).mean()\n",
    "print(\"TRAINING ACCURACY =\",SVM_model_type_2_train_acc)"
   ]
  },
  {
   "cell_type": "markdown",
   "metadata": {},
   "source": [
    "### Validation Accuracy"
   ]
  },
  {
   "cell_type": "code",
   "execution_count": 16,
   "metadata": {
    "scrolled": true
   },
   "outputs": [
    {
     "data": {
      "text/plain": [
       "array([[   0,    0,    0,    0,    0,    0,    0,    0,    0,    0],\n",
       "       [   0,    0,    0,    0,    0,    0,    0,    0,    0,    0],\n",
       "       [   0,    0,    0,    0,    0,    0,    0,    0,    0,    0],\n",
       "       [   0,    0,    0,    0,    0,    0,    0,    0,    0,    0],\n",
       "       [   0,    0,    0,    0,    0,    0,    0,    0,    0,    0],\n",
       "       [   0,    0,    0,    0,    0,    0,    0,    0,    0,    0],\n",
       "       [   0,    0,    0,    0,    0,    0,    0,    0,    0,    0],\n",
       "       [1015, 1026,  945, 1012,  995, 1060,  987,  948, 1034,  978],\n",
       "       [   0,    0,    0,    0,    0,    0,    0,    0,    0,    0],\n",
       "       [   0,    0,    0,    0,    0,    0,    0,    0,    0,    0]],\n",
       "      dtype=int64)"
      ]
     },
     "execution_count": 16,
     "metadata": {},
     "output_type": "execute_result"
    }
   ],
   "source": [
    "confusion_matrix(SVM_model_type_2.predict(x_valid1),y_valid1)"
   ]
  },
  {
   "cell_type": "code",
   "execution_count": 17,
   "metadata": {},
   "outputs": [
    {
     "name": "stdout",
     "output_type": "stream",
     "text": [
      "VALIDATION ACCURACY = 0.0948\n"
     ]
    }
   ],
   "source": [
    "SVM_model_type_2_valid1_acc = (SVM_model_type_2.predict(x_valid1) == y_valid1).mean()\n",
    "print(\"VALIDATION ACCURACY =\",SVM_model_type_2_valid1_acc)"
   ]
  },
  {
   "cell_type": "code",
   "execution_count": 18,
   "metadata": {},
   "outputs": [
    {
     "data": {
      "text/plain": [
       "{'TRAIN_ACC': 0.102575, 'VALID_ACC': 0.0948}"
      ]
     },
     "execution_count": 18,
     "metadata": {},
     "output_type": "execute_result"
    }
   ],
   "source": [
    "{\"TRAIN_ACC\" : SVM_model_type_2_train_acc , \"VALID_ACC\" : SVM_model_type_2_valid1_acc}"
   ]
  },
  {
   "cell_type": "code",
   "execution_count": null,
   "metadata": {},
   "outputs": [],
   "source": []
  },
  {
   "cell_type": "markdown",
   "metadata": {},
   "source": [
    "### Fitting SVC with cost 0.001"
   ]
  },
  {
   "cell_type": "code",
   "execution_count": 19,
   "metadata": {},
   "outputs": [],
   "source": [
    "SVM_model_type_3 = SVC(C=0.001).fit(x_train, y_train)"
   ]
  },
  {
   "cell_type": "markdown",
   "metadata": {},
   "source": [
    "### Training Accuracy"
   ]
  },
  {
   "cell_type": "code",
   "execution_count": 20,
   "metadata": {},
   "outputs": [
    {
     "data": {
      "text/plain": [
       "array([[   0,    0,    0,    0,    0,    0,    0,    0,    0,    0],\n",
       "       [   0,    0,    0,    0,    0,    0,    0,    0,    0,    0],\n",
       "       [2215, 2008, 2214, 1258, 2700,    0, 1758,    0,  196,    3],\n",
       "       [   0,    0,    0,    0,    0,    0,    0,    0,    0,    0],\n",
       "       [   0,    0,    0,    0,    0,    0,    0,    0,    0,    0],\n",
       "       [   0,    0,    0,    0,    0,    0,    0,    0,    0,    0],\n",
       "       [   0,    0,    0,    0,    0,    0,    0,    0,    0,    0],\n",
       "       [1779, 1982, 1842, 2671, 1316, 3932, 2247, 4103, 3750, 4026],\n",
       "       [   0,    0,    0,    0,    0,    0,    0,    0,    0,    0],\n",
       "       [   0,    0,    0,    0,    0,    0,    0,    0,    0,    0]],\n",
       "      dtype=int64)"
      ]
     },
     "execution_count": 20,
     "metadata": {},
     "output_type": "execute_result"
    }
   ],
   "source": [
    "confusion_matrix(SVM_model_type_3.predict(x_train),y_train)"
   ]
  },
  {
   "cell_type": "code",
   "execution_count": 21,
   "metadata": {},
   "outputs": [
    {
     "name": "stdout",
     "output_type": "stream",
     "text": [
      "TRAINING ACCURACY = 0.157925\n"
     ]
    }
   ],
   "source": [
    "SVM_model_type_3_train_acc = (SVM_model_type_3.predict(x_train) == y_train).mean()\n",
    "print(\"TRAINING ACCURACY =\",SVM_model_type_3_train_acc)"
   ]
  },
  {
   "cell_type": "markdown",
   "metadata": {},
   "source": [
    "### Validation Accuracy"
   ]
  },
  {
   "cell_type": "code",
   "execution_count": 22,
   "metadata": {
    "scrolled": true
   },
   "outputs": [
    {
     "data": {
      "text/plain": [
       "array([[   0,    0,    0,    0,    0,    0,    0,    0,    0,    0],\n",
       "       [   0,    0,    0,    0,    0,    0,    0,    0,    0,    0],\n",
       "       [ 537,  490,  482,  315,  652,    0,  437,    0,   55,    1],\n",
       "       [   0,    0,    0,    0,    0,    0,    0,    0,    0,    0],\n",
       "       [   0,    0,    0,    0,    0,    0,    0,    0,    0,    0],\n",
       "       [   0,    0,    0,    0,    0,    0,    0,    0,    0,    0],\n",
       "       [   0,    0,    0,    0,    0,    0,    0,    0,    0,    0],\n",
       "       [ 478,  536,  463,  697,  343, 1060,  550,  948,  979,  977],\n",
       "       [   0,    0,    0,    0,    0,    0,    0,    0,    0,    0],\n",
       "       [   0,    0,    0,    0,    0,    0,    0,    0,    0,    0]],\n",
       "      dtype=int64)"
      ]
     },
     "execution_count": 22,
     "metadata": {},
     "output_type": "execute_result"
    }
   ],
   "source": [
    "confusion_matrix(SVM_model_type_3.predict(x_valid1),y_valid1)"
   ]
  },
  {
   "cell_type": "code",
   "execution_count": 23,
   "metadata": {},
   "outputs": [
    {
     "name": "stdout",
     "output_type": "stream",
     "text": [
      "VALIDATION ACCURACY = 0.143\n"
     ]
    }
   ],
   "source": [
    "SVM_model_type_3_valid1_acc = (SVM_model_type_3.predict(x_valid1) == y_valid1).mean()\n",
    "print(\"VALIDATION ACCURACY =\",SVM_model_type_3_valid1_acc)"
   ]
  },
  {
   "cell_type": "code",
   "execution_count": 24,
   "metadata": {},
   "outputs": [
    {
     "data": {
      "text/plain": [
       "{'TRAIN_ACC': 0.157925, 'VALID_ACC': 0.143}"
      ]
     },
     "execution_count": 24,
     "metadata": {},
     "output_type": "execute_result"
    }
   ],
   "source": [
    "{\"TRAIN_ACC\" : SVM_model_type_3_train_acc , \"VALID_ACC\" : SVM_model_type_3_valid1_acc}"
   ]
  },
  {
   "cell_type": "code",
   "execution_count": null,
   "metadata": {},
   "outputs": [],
   "source": []
  },
  {
   "cell_type": "markdown",
   "metadata": {},
   "source": [
    "### Fitting SVC with cost 0.01"
   ]
  },
  {
   "cell_type": "code",
   "execution_count": 25,
   "metadata": {},
   "outputs": [],
   "source": [
    "SVM_model_type_4 = SVC(C=0.01).fit(x_train, y_train)"
   ]
  },
  {
   "cell_type": "markdown",
   "metadata": {},
   "source": [
    "### Training Accuracy"
   ]
  },
  {
   "cell_type": "code",
   "execution_count": 26,
   "metadata": {},
   "outputs": [
    {
     "data": {
      "text/plain": [
       "array([[2925,   64,   34,  134,   10,    1,  801,    0,   11,    0],\n",
       "       [  11, 3596,    2,   36,    9,    0,    3,    0,    3,    0],\n",
       "       [  59,   38, 2090,   13,  886,    0,  707,    0,  104,    3],\n",
       "       [ 448,  213,   37, 3301,  406,    4,  256,    0,  123,    6],\n",
       "       [  51,   15,  741,  120, 2142,    0,  727,    0,   26,    0],\n",
       "       [ 296,   23,  318,  151,  136, 3013,  421,  410,  303,  156],\n",
       "       [ 171,   38,  806,  169,  410,    1, 1023,    0,   67,   17],\n",
       "       [   2,    0,    1,    0,    0,  691,    3, 3403,  160,  262],\n",
       "       [  31,    3,   27,    5,   17,   13,   63,    0, 3142,    0],\n",
       "       [   0,    0,    0,    0,    0,  209,    1,  290,    7, 3585]],\n",
       "      dtype=int64)"
      ]
     },
     "execution_count": 26,
     "metadata": {},
     "output_type": "execute_result"
    }
   ],
   "source": [
    "confusion_matrix(SVM_model_type_4.predict(x_train),y_train)"
   ]
  },
  {
   "cell_type": "code",
   "execution_count": 27,
   "metadata": {},
   "outputs": [
    {
     "name": "stdout",
     "output_type": "stream",
     "text": [
      "TRAINING ACCURACY = 0.7055\n"
     ]
    }
   ],
   "source": [
    "SVM_model_type_4_train_acc = (SVM_model_type_4.predict(x_train) == y_train).mean()\n",
    "print(\"TRAINING ACCURACY =\",SVM_model_type_4_train_acc)"
   ]
  },
  {
   "cell_type": "markdown",
   "metadata": {},
   "source": [
    "### Validation Accuracy"
   ]
  },
  {
   "cell_type": "code",
   "execution_count": 28,
   "metadata": {
    "scrolled": true
   },
   "outputs": [
    {
     "data": {
      "text/plain": [
       "array([[742,  18,   7,  37,   4,   0, 201,   0,   3,   0],\n",
       "       [  2, 921,   0,  15,   6,   0,   3,   0,   1,   0],\n",
       "       [ 10,  16, 489,   2, 220,   0, 162,   0,  29,   0],\n",
       "       [135,  51,   9, 873, 103,   3,  60,   0,  33,   1],\n",
       "       [  6,   5, 161,  26, 501,   0, 207,   0,  13,   0],\n",
       "       [ 62,   7,  71,  25,  38, 818, 106,  84,  78,  37],\n",
       "       [ 51,   8, 201,  32, 113,   1, 226,   0,  17,   2],\n",
       "       [  0,   0,   0,   0,   0, 174,   1, 788,  34,  60],\n",
       "       [  7,   0,   7,   2,  10,   1,  21,   0, 825,   0],\n",
       "       [  0,   0,   0,   0,   0,  63,   0,  76,   1, 878]], dtype=int64)"
      ]
     },
     "execution_count": 28,
     "metadata": {},
     "output_type": "execute_result"
    }
   ],
   "source": [
    "confusion_matrix(SVM_model_type_4.predict(x_valid1),y_valid1)"
   ]
  },
  {
   "cell_type": "code",
   "execution_count": 29,
   "metadata": {},
   "outputs": [
    {
     "name": "stdout",
     "output_type": "stream",
     "text": [
      "VALIDATION ACCURACY = 0.7061\n"
     ]
    }
   ],
   "source": [
    "SVM_model_type_4_valid1_acc = (SVM_model_type_4.predict(x_valid1) == y_valid1).mean()\n",
    "print(\"VALIDATION ACCURACY =\",SVM_model_type_4_valid1_acc)"
   ]
  },
  {
   "cell_type": "code",
   "execution_count": 30,
   "metadata": {},
   "outputs": [
    {
     "data": {
      "text/plain": [
       "{'TRAIN_ACC': 0.7055, 'VALID_ACC': 0.7061}"
      ]
     },
     "execution_count": 30,
     "metadata": {},
     "output_type": "execute_result"
    }
   ],
   "source": [
    "{\"TRAIN_ACC\" : SVM_model_type_4_train_acc , \"VALID_ACC\" : SVM_model_type_4_valid1_acc}"
   ]
  },
  {
   "cell_type": "code",
   "execution_count": null,
   "metadata": {},
   "outputs": [],
   "source": []
  },
  {
   "cell_type": "markdown",
   "metadata": {},
   "source": [
    "### Fitting SVC with cost 0.1"
   ]
  },
  {
   "cell_type": "code",
   "execution_count": 31,
   "metadata": {},
   "outputs": [],
   "source": [
    "SVM_model_type_5 = SVC(C=0.1).fit(x_train, y_train)"
   ]
  },
  {
   "cell_type": "markdown",
   "metadata": {},
   "source": [
    "### Training Accuracy"
   ]
  },
  {
   "cell_type": "code",
   "execution_count": 32,
   "metadata": {},
   "outputs": [
    {
     "data": {
      "text/plain": [
       "array([[3212,   21,   40,  152,   12,    0,  872,    0,    7,    2],\n",
       "       [   4, 3667,    2,   17,    4,    0,    2,    0,    2,    0],\n",
       "       [  28,   69, 2543,   11,  305,    0,  426,    0,   53,    0],\n",
       "       [ 424,  208,   37, 3454,  276,    3,  274,    0,   65,    2],\n",
       "       [  20,    7,  779,  101, 3000,    0,  635,    0,   17,    1],\n",
       "       [  22,    1,   20,    2,    4, 3438,   24,  365,   98,  120],\n",
       "       [ 238,   14,  606,  179,  395,    0, 1690,    0,   75,    2],\n",
       "       [   0,    0,    0,    0,    0,  350,    0, 3450,   30,  223],\n",
       "       [  44,    3,   29,   13,   20,   16,   81,    3, 3593,    0],\n",
       "       [   2,    0,    0,    0,    0,  125,    1,  285,    6, 3679]],\n",
       "      dtype=int64)"
      ]
     },
     "execution_count": 32,
     "metadata": {},
     "output_type": "execute_result"
    }
   ],
   "source": [
    "confusion_matrix(SVM_model_type_5.predict(x_train),y_train)"
   ]
  },
  {
   "cell_type": "code",
   "execution_count": 33,
   "metadata": {},
   "outputs": [
    {
     "name": "stdout",
     "output_type": "stream",
     "text": [
      "TRAINING ACCURACY = 0.79315\n"
     ]
    }
   ],
   "source": [
    "SVM_model_type_5_train_acc = (SVM_model_type_5.predict(x_train) == y_train).mean()\n",
    "print(\"TRAINING ACCURACY =\",SVM_model_type_5_train_acc)"
   ]
  },
  {
   "cell_type": "markdown",
   "metadata": {},
   "source": [
    "### Validation Accuracy"
   ]
  },
  {
   "cell_type": "code",
   "execution_count": 34,
   "metadata": {
    "scrolled": true
   },
   "outputs": [
    {
     "data": {
      "text/plain": [
       "array([[803,  16,   4,  38,   5,   0, 219,   0,   2,   0],\n",
       "       [  1, 942,   0,   7,   3,   0,   2,   0,   1,   0],\n",
       "       [  5,  18, 565,   4,  74,   0, 120,   0,  13,   0],\n",
       "       [127,  42,   9, 906,  75,   2,  66,   0,  15,   1],\n",
       "       [  4,   2, 191,  15, 714,   0, 167,   0,   4,   0],\n",
       "       [  5,   0,   2,   1,   4, 910,   5,  71,  23,  31],\n",
       "       [ 59,   6, 166,  38, 110,   0, 380,   0,  33,   1],\n",
       "       [  0,   0,   0,   0,   0, 102,   0, 805,   6,  47],\n",
       "       [ 11,   0,   8,   3,  10,   3,  28,   1, 936,   0],\n",
       "       [  0,   0,   0,   0,   0,  43,   0,  71,   1, 898]], dtype=int64)"
      ]
     },
     "execution_count": 34,
     "metadata": {},
     "output_type": "execute_result"
    }
   ],
   "source": [
    "confusion_matrix(SVM_model_type_5.predict(x_valid1),y_valid1)"
   ]
  },
  {
   "cell_type": "code",
   "execution_count": 35,
   "metadata": {},
   "outputs": [
    {
     "name": "stdout",
     "output_type": "stream",
     "text": [
      "VALIDATION ACCURACY = 0.7859\n"
     ]
    }
   ],
   "source": [
    "SVM_model_type_5_valid1_acc = (SVM_model_type_5.predict(x_valid1) == y_valid1).mean()\n",
    "print(\"VALIDATION ACCURACY =\",SVM_model_type_5_valid1_acc)"
   ]
  },
  {
   "cell_type": "code",
   "execution_count": 36,
   "metadata": {},
   "outputs": [
    {
     "data": {
      "text/plain": [
       "{'TRAIN_ACC': 0.79315, 'VALID_ACC': 0.7859}"
      ]
     },
     "execution_count": 36,
     "metadata": {},
     "output_type": "execute_result"
    }
   ],
   "source": [
    "{\"TRAIN_ACC\" : SVM_model_type_5_train_acc , \"VALID_ACC\" : SVM_model_type_5_valid1_acc}"
   ]
  },
  {
   "cell_type": "code",
   "execution_count": null,
   "metadata": {},
   "outputs": [],
   "source": []
  },
  {
   "cell_type": "code",
   "execution_count": null,
   "metadata": {},
   "outputs": [],
   "source": []
  },
  {
   "cell_type": "markdown",
   "metadata": {},
   "source": [
    "### Fitting SVC with cost 1"
   ]
  },
  {
   "cell_type": "code",
   "execution_count": 37,
   "metadata": {},
   "outputs": [],
   "source": [
    "SVM_model_type_6 = SVC(C=1).fit(x_train, y_train)"
   ]
  },
  {
   "cell_type": "markdown",
   "metadata": {},
   "source": [
    "### Training Accuracy"
   ]
  },
  {
   "cell_type": "code",
   "execution_count": 38,
   "metadata": {},
   "outputs": [
    {
     "data": {
      "text/plain": [
       "array([[3407,   17,   53,  131,    7,    1,  793,    0,    4,    1],\n",
       "       [   7, 3798,    4,   19,    2,    0,    3,    0,    2,    1],\n",
       "       [  56,   37, 3061,   40,  307,    0,  451,    0,   26,    0],\n",
       "       [ 239,  122,   37, 3521,  167,    1,  143,    0,   28,    1],\n",
       "       [  11,    7,  544,  113, 3212,    0,  377,    0,   13,    0],\n",
       "       [   3,    0,    2,    0,    1, 3613,    0,  167,   19,   65],\n",
       "       [ 234,    5,  331,   90,  303,    0, 2179,    0,   58,    0],\n",
       "       [   0,    0,    0,    0,    0,  229,    0, 3734,   14,  170],\n",
       "       [  36,    4,   24,   15,   17,   11,   58,    6, 3781,    1],\n",
       "       [   1,    0,    0,    0,    0,   77,    1,  196,    1, 3790]],\n",
       "      dtype=int64)"
      ]
     },
     "execution_count": 38,
     "metadata": {},
     "output_type": "execute_result"
    }
   ],
   "source": [
    "confusion_matrix(SVM_model_type_6.predict(x_train),y_train)"
   ]
  },
  {
   "cell_type": "code",
   "execution_count": 39,
   "metadata": {},
   "outputs": [
    {
     "name": "stdout",
     "output_type": "stream",
     "text": [
      "TRAINING ACCURACY = 0.8524\n"
     ]
    }
   ],
   "source": [
    "SVM_model_type_6_train_acc = (SVM_model_type_6.predict(x_train) == y_train).mean()\n",
    "print(\"TRAINING ACCURACY =\",SVM_model_type_6_train_acc)"
   ]
  },
  {
   "cell_type": "markdown",
   "metadata": {},
   "source": [
    "### Validation Accuracy"
   ]
  },
  {
   "cell_type": "code",
   "execution_count": 40,
   "metadata": {
    "scrolled": true
   },
   "outputs": [
    {
     "data": {
      "text/plain": [
       "array([[869,   6,   8,  37,   4,   1, 198,   0,   4,   0],\n",
       "       [  1, 977,   0,   8,   2,   0,   2,   0,   1,   0],\n",
       "       [  7,  13, 719,   8,  73,   0, 123,   0,   6,   0],\n",
       "       [ 71,  25,  10, 904,  51,   1,  31,   0,   8,   0],\n",
       "       [  2,   1, 129,  33, 778,   0,  94,   0,   5,   0],\n",
       "       [  1,   0,   0,   0,   2, 957,   1,  31,   3,  23],\n",
       "       [ 57,   3,  73,  19,  78,   0, 515,   0,  20,   0],\n",
       "       [  0,   0,   0,   0,   0,  67,   0, 865,   5,  41],\n",
       "       [  7,   0,   6,   3,   7,   6,  23,   3, 981,   0],\n",
       "       [  0,   1,   0,   0,   0,  28,   0,  49,   1, 914]], dtype=int64)"
      ]
     },
     "execution_count": 40,
     "metadata": {},
     "output_type": "execute_result"
    }
   ],
   "source": [
    "confusion_matrix(SVM_model_type_6.predict(x_valid1),y_valid1)"
   ]
  },
  {
   "cell_type": "code",
   "execution_count": 41,
   "metadata": {},
   "outputs": [
    {
     "name": "stdout",
     "output_type": "stream",
     "text": [
      "VALIDATION ACCURACY = 0.8479\n"
     ]
    }
   ],
   "source": [
    "SVM_model_type_6_valid1_acc = (SVM_model_type_6.predict(x_valid1) == y_valid1).mean()\n",
    "print(\"VALIDATION ACCURACY =\",SVM_model_type_6_valid1_acc)"
   ]
  },
  {
   "cell_type": "code",
   "execution_count": 42,
   "metadata": {},
   "outputs": [
    {
     "data": {
      "text/plain": [
       "{'TRAIN_ACC': 0.8524, 'VALID_ACC': 0.8479}"
      ]
     },
     "execution_count": 42,
     "metadata": {},
     "output_type": "execute_result"
    }
   ],
   "source": [
    "{\"TRAIN_ACC\" : SVM_model_type_6_train_acc , \"VALID_ACC\" : SVM_model_type_6_valid1_acc}"
   ]
  },
  {
   "cell_type": "code",
   "execution_count": null,
   "metadata": {},
   "outputs": [],
   "source": []
  },
  {
   "cell_type": "markdown",
   "metadata": {},
   "source": [
    "### Fitting SVC with cost 10"
   ]
  },
  {
   "cell_type": "code",
   "execution_count": 43,
   "metadata": {},
   "outputs": [],
   "source": [
    "SVM_model_type_7 = SVC(C=10).fit(x_train, y_train)"
   ]
  },
  {
   "cell_type": "markdown",
   "metadata": {},
   "source": [
    "### Training Accuracy"
   ]
  },
  {
   "cell_type": "code",
   "execution_count": 44,
   "metadata": {},
   "outputs": [
    {
     "data": {
      "text/plain": [
       "array([[3492,   11,   57,   93,    5,    0,  527,    0,    6,    0],\n",
       "       [   6, 3868,    4,   18,    5,    0,    6,    0,    3,    0],\n",
       "       [  52,    7, 3337,   31,  268,    0,  357,    0,   20,    0],\n",
       "       [ 141,   92,   40, 3597,  121,    0,  111,    0,   16,    1],\n",
       "       [   9,    6,  372,  101, 3397,    0,  290,    0,    9,    0],\n",
       "       [   3,    0,    1,    0,    0, 3763,    0,   84,    5,   35],\n",
       "       [ 260,    4,  236,   80,  215,    0, 2691,    0,   28,    0],\n",
       "       [   0,    0,    0,    0,    0,  136,    0, 3908,    8,  108],\n",
       "       [  30,    2,    9,    9,    5,    7,   22,    4, 3851,    1],\n",
       "       [   1,    0,    0,    0,    0,   26,    1,  107,    0, 3884]],\n",
       "      dtype=int64)"
      ]
     },
     "execution_count": 44,
     "metadata": {},
     "output_type": "execute_result"
    }
   ],
   "source": [
    "confusion_matrix(SVM_model_type_7.predict(x_train),y_train)"
   ]
  },
  {
   "cell_type": "code",
   "execution_count": 45,
   "metadata": {},
   "outputs": [
    {
     "name": "stdout",
     "output_type": "stream",
     "text": [
      "TRAINING ACCURACY = 0.8947\n"
     ]
    }
   ],
   "source": [
    "SVM_model_type_7_train_acc = (SVM_model_type_7.predict(x_train) == y_train).mean()\n",
    "print(\"TRAINING ACCURACY =\",SVM_model_type_7_train_acc)"
   ]
  },
  {
   "cell_type": "markdown",
   "metadata": {},
   "source": [
    "### Validation Accuracy"
   ]
  },
  {
   "cell_type": "code",
   "execution_count": 46,
   "metadata": {
    "scrolled": true
   },
   "outputs": [
    {
     "data": {
      "text/plain": [
       "array([[869,   6,   9,  34,   3,   1, 153,   0,   4,   0],\n",
       "       [  1, 992,   1,   5,   3,   0,   3,   0,   1,   0],\n",
       "       [  7,   5, 747,   3,  77,   0, 109,   0,   4,   0],\n",
       "       [ 50,  19,  15, 913,  45,   0,  24,   0,   8,   0],\n",
       "       [  0,   0, 100,  35, 794,   0,  73,   0,   5,   0],\n",
       "       [  0,   0,   0,   0,   0, 995,   0,  17,   1,  17],\n",
       "       [ 83,   3,  71,  18,  68,   0, 612,   0,  16,   0],\n",
       "       [  0,   0,   0,   0,   0,  47,   0, 901,   4,  33],\n",
       "       [  5,   0,   2,   4,   5,   2,  13,   3, 990,   0],\n",
       "       [  0,   1,   0,   0,   0,  15,   0,  27,   1, 928]], dtype=int64)"
      ]
     },
     "execution_count": 46,
     "metadata": {},
     "output_type": "execute_result"
    }
   ],
   "source": [
    "confusion_matrix(SVM_model_type_7.predict(x_valid1),y_valid1)"
   ]
  },
  {
   "cell_type": "code",
   "execution_count": 47,
   "metadata": {},
   "outputs": [
    {
     "name": "stdout",
     "output_type": "stream",
     "text": [
      "VALIDATION ACCURACY = 0.8741\n"
     ]
    }
   ],
   "source": [
    "SVM_model_type_7_valid1_acc = (SVM_model_type_7.predict(x_valid1) == y_valid1).mean()\n",
    "print(\"VALIDATION ACCURACY =\",SVM_model_type_7_valid1_acc)"
   ]
  },
  {
   "cell_type": "code",
   "execution_count": 48,
   "metadata": {},
   "outputs": [
    {
     "data": {
      "text/plain": [
       "{'TRAIN_ACC': 0.8947, 'VALID_ACC': 0.8741}"
      ]
     },
     "execution_count": 48,
     "metadata": {},
     "output_type": "execute_result"
    }
   ],
   "source": [
    "{\"TRAIN_ACC\" : SVM_model_type_7_train_acc , \"VALID_ACC\" : SVM_model_type_7_valid1_acc}"
   ]
  },
  {
   "cell_type": "code",
   "execution_count": null,
   "metadata": {},
   "outputs": [],
   "source": []
  },
  {
   "cell_type": "markdown",
   "metadata": {},
   "source": [
    "### Fitting SVC with cost 100"
   ]
  },
  {
   "cell_type": "code",
   "execution_count": 49,
   "metadata": {},
   "outputs": [],
   "source": [
    "SVM_model_type_8 = SVC(C=100).fit(x_train, y_train)"
   ]
  },
  {
   "cell_type": "markdown",
   "metadata": {},
   "source": [
    "### Training Accuracy"
   ]
  },
  {
   "cell_type": "code",
   "execution_count": 50,
   "metadata": {},
   "outputs": [
    {
     "data": {
      "text/plain": [
       "array([[3693,    4,   45,   45,    9,    0,  337,    0,    4,    0],\n",
       "       [   1, 3945,    3,    7,    2,    0,    3,    0,    0,    0],\n",
       "       [  24,    0, 3596,   16,  181,    0,  209,    0,    4,    0],\n",
       "       [  68,   41,   24, 3755,   72,    0,   80,    0,    9,    0],\n",
       "       [   6,    0,  246,   67, 3641,    0,  168,    0,    1,    0],\n",
       "       [   0,    0,    0,    0,    0, 3857,    0,   32,    0,    9],\n",
       "       [ 198,    0,  141,   39,  109,    0, 3204,    0,    4,    0],\n",
       "       [   0,    0,    0,    0,    0,   68,    0, 4015,    3,   72],\n",
       "       [   4,    0,    1,    0,    2,    1,    4,    1, 3921,    0],\n",
       "       [   0,    0,    0,    0,    0,    6,    0,   55,    0, 3948]],\n",
       "      dtype=int64)"
      ]
     },
     "execution_count": 50,
     "metadata": {},
     "output_type": "execute_result"
    }
   ],
   "source": [
    "confusion_matrix(SVM_model_type_8.predict(x_train),y_train)"
   ]
  },
  {
   "cell_type": "code",
   "execution_count": 51,
   "metadata": {},
   "outputs": [
    {
     "name": "stdout",
     "output_type": "stream",
     "text": [
      "TRAINING ACCURACY = 0.939375\n"
     ]
    }
   ],
   "source": [
    "SVM_model_type_8_train_acc = (SVM_model_type_8.predict(x_train) == y_train).mean()\n",
    "print(\"TRAINING ACCURACY =\",SVM_model_type_8_train_acc)"
   ]
  },
  {
   "cell_type": "markdown",
   "metadata": {},
   "source": [
    "### Validation Accuracy"
   ]
  },
  {
   "cell_type": "code",
   "execution_count": 52,
   "metadata": {
    "scrolled": true
   },
   "outputs": [
    {
     "data": {
      "text/plain": [
       "array([[ 875,    6,   24,   36,    4,    1,  133,    0,   11,    0],\n",
       "       [   4, 1000,    1,    8,    3,    0,    2,    0,    0,    0],\n",
       "       [   7,    1,  769,    8,   77,    0,   98,    0,    5,    0],\n",
       "       [  34,   15,   12,  915,   39,    0,   23,    0,    9,    0],\n",
       "       [   1,    0,   83,   26,  799,    0,   73,    0,    6,    0],\n",
       "       [   0,    0,    0,    0,    0, 1008,    0,   15,    3,    9],\n",
       "       [  90,    2,   56,   17,   71,    0,  649,    0,   12,    0],\n",
       "       [   0,    0,    0,    0,    0,   36,    0,  905,    4,   32],\n",
       "       [   4,    2,    0,    2,    2,    3,    9,    1,  983,    0],\n",
       "       [   0,    0,    0,    0,    0,   12,    0,   27,    1,  937]],\n",
       "      dtype=int64)"
      ]
     },
     "execution_count": 52,
     "metadata": {},
     "output_type": "execute_result"
    }
   ],
   "source": [
    "confusion_matrix(SVM_model_type_8.predict(x_valid1),y_valid1)"
   ]
  },
  {
   "cell_type": "code",
   "execution_count": 53,
   "metadata": {},
   "outputs": [
    {
     "name": "stdout",
     "output_type": "stream",
     "text": [
      "VALIDATION ACCURACY = 0.884\n"
     ]
    }
   ],
   "source": [
    "SVM_model_type_8_valid1_acc = (SVM_model_type_8.predict(x_valid1) == y_valid1).mean()\n",
    "print(\"VALIDATION ACCURACY =\",SVM_model_type_8_valid1_acc)"
   ]
  },
  {
   "cell_type": "code",
   "execution_count": 54,
   "metadata": {},
   "outputs": [
    {
     "data": {
      "text/plain": [
       "{'TRAIN_ACC': 0.939375, 'VALID_ACC': 0.884}"
      ]
     },
     "execution_count": 54,
     "metadata": {},
     "output_type": "execute_result"
    }
   ],
   "source": [
    "{\"TRAIN_ACC\" : SVM_model_type_8_train_acc , \"VALID_ACC\" : SVM_model_type_8_valid1_acc}"
   ]
  },
  {
   "cell_type": "code",
   "execution_count": null,
   "metadata": {},
   "outputs": [],
   "source": []
  },
  {
   "cell_type": "markdown",
   "metadata": {},
   "source": [
    "### Fitting SVC with cost 1000"
   ]
  },
  {
   "cell_type": "code",
   "execution_count": 55,
   "metadata": {},
   "outputs": [],
   "source": [
    "SVM_model_type_9 = SVC(C=1000).fit(x_train, y_train)"
   ]
  },
  {
   "cell_type": "markdown",
   "metadata": {},
   "source": [
    "### Training Accuracy"
   ]
  },
  {
   "cell_type": "code",
   "execution_count": 56,
   "metadata": {},
   "outputs": [
    {
     "data": {
      "text/plain": [
       "array([[3938,    0,    8,    4,    1,    0,  103,    0,    0,    0],\n",
       "       [   0, 3988,    0,    0,    0,    0,    0,    0,    0,    0],\n",
       "       [   1,    0, 3949,    0,   57,    0,   54,    0,    0,    0],\n",
       "       [  12,    2,    4, 3905,   15,    0,   13,    0,    0,    0],\n",
       "       [   0,    0,   76,   16, 3919,    0,   32,    0,    0,    0],\n",
       "       [   0,    0,    0,    0,    0, 3924,    0,    0,    0,    0],\n",
       "       [  43,    0,   19,    4,   24,    0, 3803,    0,    0,    0],\n",
       "       [   0,    0,    0,    0,    0,    8,    0, 4095,    0,   18],\n",
       "       [   0,    0,    0,    0,    0,    0,    0,    0, 3946,    0],\n",
       "       [   0,    0,    0,    0,    0,    0,    0,    8,    0, 4011]],\n",
       "      dtype=int64)"
      ]
     },
     "execution_count": 56,
     "metadata": {},
     "output_type": "execute_result"
    }
   ],
   "source": [
    "confusion_matrix(SVM_model_type_9.predict(x_train),y_train)"
   ]
  },
  {
   "cell_type": "code",
   "execution_count": 57,
   "metadata": {},
   "outputs": [
    {
     "name": "stdout",
     "output_type": "stream",
     "text": [
      "TRAINING ACCURACY = 0.98695\n"
     ]
    }
   ],
   "source": [
    "SVM_model_type_9_train_acc = (SVM_model_type_9.predict(x_train) == y_train).mean()\n",
    "print(\"TRAINING ACCURACY =\",SVM_model_type_9_train_acc)"
   ]
  },
  {
   "cell_type": "markdown",
   "metadata": {},
   "source": [
    "### Validation Accuracy"
   ]
  },
  {
   "cell_type": "code",
   "execution_count": 58,
   "metadata": {
    "scrolled": true
   },
   "outputs": [
    {
     "data": {
      "text/plain": [
       "array([[ 868,    6,   34,   48,    7,    1,  119,    0,   12,    0],\n",
       "       [   5,  998,    1,   14,    3,    0,    3,    0,    0,    0],\n",
       "       [  11,    2,  768,   11,   91,    0,   90,    0,    7,    0],\n",
       "       [  25,   13,   10,  888,   42,    0,   21,    0,    9,    0],\n",
       "       [   3,    1,   84,   26,  783,    0,   59,    0,    6,    0],\n",
       "       [   0,    0,    0,    0,    0, 1017,    0,   25,    3,   11],\n",
       "       [  96,    5,   46,   22,   66,    0,  687,    0,   14,    0],\n",
       "       [   0,    0,    0,    0,    0,   27,    0,  896,    4,   33],\n",
       "       [   7,    1,    2,    3,    3,    3,    8,    1,  979,    0],\n",
       "       [   0,    0,    0,    0,    0,   12,    0,   26,    0,  934]],\n",
       "      dtype=int64)"
      ]
     },
     "execution_count": 58,
     "metadata": {},
     "output_type": "execute_result"
    }
   ],
   "source": [
    "confusion_matrix(SVM_model_type_9.predict(x_valid1),y_valid1)"
   ]
  },
  {
   "cell_type": "code",
   "execution_count": 59,
   "metadata": {},
   "outputs": [
    {
     "name": "stdout",
     "output_type": "stream",
     "text": [
      "VALIDATION ACCURACY = 0.8818\n"
     ]
    }
   ],
   "source": [
    "SVM_model_type_9_valid1_acc = (SVM_model_type_9.predict(x_valid1) == y_valid1).mean()\n",
    "print(\"VALIDATION ACCURACY =\",SVM_model_type_9_valid1_acc)"
   ]
  },
  {
   "cell_type": "code",
   "execution_count": 60,
   "metadata": {},
   "outputs": [
    {
     "data": {
      "text/plain": [
       "{'TRAIN_ACC': 0.98695, 'VALID_ACC': 0.8818}"
      ]
     },
     "execution_count": 60,
     "metadata": {},
     "output_type": "execute_result"
    }
   ],
   "source": [
    "{\"TRAIN_ACC\" : SVM_model_type_9_train_acc , \"VALID_ACC\" : SVM_model_type_9_valid1_acc}"
   ]
  },
  {
   "cell_type": "code",
   "execution_count": null,
   "metadata": {},
   "outputs": [],
   "source": []
  },
  {
   "cell_type": "markdown",
   "metadata": {},
   "source": [
    "### Fitting SVC with cost 10000"
   ]
  },
  {
   "cell_type": "code",
   "execution_count": 61,
   "metadata": {},
   "outputs": [],
   "source": [
    "SVM_model_type_10 = SVC(C=10000).fit(x_train, y_train)"
   ]
  },
  {
   "cell_type": "markdown",
   "metadata": {},
   "source": [
    "### Training Accuracy"
   ]
  },
  {
   "cell_type": "code",
   "execution_count": 62,
   "metadata": {},
   "outputs": [
    {
     "data": {
      "text/plain": [
       "array([[3994,    0,    0,    0,    0,    0,    0,    0,    0,    0],\n",
       "       [   0, 3990,    0,    0,    0,    0,    0,    0,    0,    0],\n",
       "       [   0,    0, 4056,    0,    0,    0,    0,    0,    0,    0],\n",
       "       [   0,    0,    0, 3929,    0,    0,    0,    0,    0,    0],\n",
       "       [   0,    0,    0,    0, 4016,    0,    0,    0,    0,    0],\n",
       "       [   0,    0,    0,    0,    0, 3932,    0,    0,    0,    0],\n",
       "       [   0,    0,    0,    0,    0,    0, 4005,    0,    0,    0],\n",
       "       [   0,    0,    0,    0,    0,    0,    0, 4103,    0,    0],\n",
       "       [   0,    0,    0,    0,    0,    0,    0,    0, 3946,    0],\n",
       "       [   0,    0,    0,    0,    0,    0,    0,    0,    0, 4029]],\n",
       "      dtype=int64)"
      ]
     },
     "execution_count": 62,
     "metadata": {},
     "output_type": "execute_result"
    }
   ],
   "source": [
    "confusion_matrix(SVM_model_type_10.predict(x_train),y_train)"
   ]
  },
  {
   "cell_type": "code",
   "execution_count": 63,
   "metadata": {},
   "outputs": [
    {
     "name": "stdout",
     "output_type": "stream",
     "text": [
      "TRAINING ACCURACY = 1.0\n"
     ]
    }
   ],
   "source": [
    "SVM_model_type_10_train_acc = (SVM_model_type_10.predict(x_train) == y_train).mean()\n",
    "print(\"TRAINING ACCURACY =\",SVM_model_type_10_train_acc)"
   ]
  },
  {
   "cell_type": "markdown",
   "metadata": {},
   "source": [
    "### Validation Accuracy"
   ]
  },
  {
   "cell_type": "code",
   "execution_count": 64,
   "metadata": {
    "scrolled": true
   },
   "outputs": [
    {
     "data": {
      "text/plain": [
       "array([[ 853,    5,   33,   50,    9,    1,  109,    0,   14,    0],\n",
       "       [   4, 1000,    1,   16,    3,    0,    3,    0,    0,    0],\n",
       "       [  11,    2,  759,   17,  107,    0,  101,    0,    7,    0],\n",
       "       [  28,   11,   13,  882,   43,    0,   23,    0,    9,    0],\n",
       "       [   3,    1,   90,   27,  769,    0,   58,    0,    7,    0],\n",
       "       [   0,    0,    0,    0,    0, 1022,    0,   26,    4,   11],\n",
       "       [ 109,    6,   47,   17,   61,    0,  685,    0,   11,    0],\n",
       "       [   0,    0,    0,    0,    0,   23,    0,  886,    3,   33],\n",
       "       [   7,    1,    2,    3,    3,    3,    8,    1,  979,    0],\n",
       "       [   0,    0,    0,    0,    0,   11,    0,   35,    0,  934]],\n",
       "      dtype=int64)"
      ]
     },
     "execution_count": 64,
     "metadata": {},
     "output_type": "execute_result"
    }
   ],
   "source": [
    "confusion_matrix(SVM_model_type_10.predict(x_valid1),y_valid1)"
   ]
  },
  {
   "cell_type": "code",
   "execution_count": 65,
   "metadata": {},
   "outputs": [
    {
     "name": "stdout",
     "output_type": "stream",
     "text": [
      "VALIDATION ACCURACY = 0.8769\n"
     ]
    }
   ],
   "source": [
    "SVM_model_type_10_valid1_acc = (SVM_model_type_10.predict(x_valid1) == y_valid1).mean()\n",
    "print(\"VALIDATION ACCURACY =\",SVM_model_type_10_valid1_acc)"
   ]
  },
  {
   "cell_type": "code",
   "execution_count": 66,
   "metadata": {},
   "outputs": [
    {
     "data": {
      "text/plain": [
       "{'TRAIN_ACC': 1.0, 'VALID_ACC': 0.8769}"
      ]
     },
     "execution_count": 66,
     "metadata": {},
     "output_type": "execute_result"
    }
   ],
   "source": [
    "{\"TRAIN_ACC\" : SVM_model_type_10_train_acc , \"VALID_ACC\" : SVM_model_type_10_valid1_acc}"
   ]
  },
  {
   "cell_type": "code",
   "execution_count": null,
   "metadata": {},
   "outputs": [],
   "source": []
  }
 ],
 "metadata": {
  "kernelspec": {
   "display_name": "Python 3",
   "language": "python",
   "name": "python3"
  },
  "language_info": {
   "codemirror_mode": {
    "name": "ipython",
    "version": 3
   },
   "file_extension": ".py",
   "mimetype": "text/x-python",
   "name": "python",
   "nbconvert_exporter": "python",
   "pygments_lexer": "ipython3",
   "version": "3.6.6"
  }
 },
 "nbformat": 4,
 "nbformat_minor": 2
}

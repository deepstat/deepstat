{
 "cells": [
  {
   "cell_type": "markdown",
   "metadata": {},
   "source": [
    "# FASHION MNIST with Python (DAY 3)\n",
    "\n",
    "DATA SOURCE : https://www.kaggle.com/zalando-research/fashionmnist (Kaggle, Fashion MNIST)\n",
    "\n",
    "FASHION MNIST with Python (DAY 1) : http://deepstat.tistory.com/35\n",
    "FASHION MNIST with Python (DAY 2) : http://deepstat.tistory.com/36"
   ]
  },
  {
   "cell_type": "markdown",
   "metadata": {},
   "source": [
    "## Datasets"
   ]
  },
  {
   "cell_type": "markdown",
   "metadata": {},
   "source": [
    "### Importing numpy, pandas, pyplot"
   ]
  },
  {
   "cell_type": "code",
   "execution_count": 1,
   "metadata": {},
   "outputs": [],
   "source": [
    "import numpy as np\n",
    "import pandas as pd\n",
    "import matplotlib.pyplot as plt"
   ]
  },
  {
   "cell_type": "markdown",
   "metadata": {},
   "source": [
    "### Loading datasets"
   ]
  },
  {
   "cell_type": "code",
   "execution_count": 2,
   "metadata": {},
   "outputs": [],
   "source": [
    "data_train = pd.read_csv(\"..\\\\datasets\\\\fashion-mnist_train.csv\")\n",
    "data_test = pd.read_csv(\"..\\\\datasets\\\\fashion-mnist_test.csv\")"
   ]
  },
  {
   "cell_type": "code",
   "execution_count": 3,
   "metadata": {
    "scrolled": true
   },
   "outputs": [],
   "source": [
    "data_train_y = data_train.label\n",
    "y_test = data_test.label"
   ]
  },
  {
   "cell_type": "code",
   "execution_count": 4,
   "metadata": {},
   "outputs": [],
   "source": [
    "data_train_x = data_train.drop(\"label\",axis=1)/256\n",
    "x_test = data_test.drop(\"label\",axis=1)/256"
   ]
  },
  {
   "cell_type": "markdown",
   "metadata": {},
   "source": [
    "### Spliting valid and training"
   ]
  },
  {
   "cell_type": "code",
   "execution_count": 5,
   "metadata": {},
   "outputs": [],
   "source": [
    "np.random.seed(0)\n",
    "valid2_idx = np.random.choice(60000,10000,replace = False)\n",
    "valid1_idx = np.random.choice(list(set(range(60000)) - set(valid2_idx)),10000,replace=False)\n",
    "train_idx = list(set(range(60000))-set(valid1_idx)-set(valid2_idx))\n",
    "\n",
    "x_train = data_train_x.iloc[train_idx,:]\n",
    "y_train = data_train_y.iloc[train_idx]\n",
    "\n",
    "x_valid1 = data_train_x.iloc[valid1_idx,:]\n",
    "y_valid1 = data_train_y.iloc[valid1_idx]\n",
    "\n",
    "x_valid2 = data_train_x.iloc[valid2_idx,:]\n",
    "y_valid2 = data_train_y.iloc[valid2_idx]"
   ]
  },
  {
   "cell_type": "markdown",
   "metadata": {},
   "source": [
    "## Gradient Boosting"
   ]
  },
  {
   "cell_type": "markdown",
   "metadata": {},
   "source": [
    "### Importing GradientBoostingClassifier"
   ]
  },
  {
   "cell_type": "code",
   "execution_count": 6,
   "metadata": {},
   "outputs": [
    {
     "name": "stderr",
     "output_type": "stream",
     "text": [
      "c:\\users\\stat413server1\\appdata\\local\\programs\\python\\python36\\lib\\site-packages\\sklearn\\ensemble\\weight_boosting.py:29: DeprecationWarning: numpy.core.umath_tests is an internal NumPy module and should not be imported. It will be removed in a future NumPy release.\n",
      "  from numpy.core.umath_tests import inner1d\n"
     ]
    }
   ],
   "source": [
    "from sklearn.ensemble import GradientBoostingClassifier\n",
    "from sklearn.metrics import confusion_matrix"
   ]
  },
  {
   "cell_type": "markdown",
   "metadata": {},
   "source": [
    "### Fitting Gradient Boosting"
   ]
  },
  {
   "cell_type": "code",
   "execution_count": 7,
   "metadata": {},
   "outputs": [],
   "source": [
    "GBST_model = GradientBoostingClassifier(n_estimators=1000,learning_rate=0.5).fit(x_train, y_train)"
   ]
  },
  {
   "cell_type": "markdown",
   "metadata": {},
   "source": [
    "### Training Accuracy"
   ]
  },
  {
   "cell_type": "code",
   "execution_count": 8,
   "metadata": {},
   "outputs": [
    {
     "data": {
      "text/plain": [
       "array([[3992,    0,    0,    0,    0,    0,    0,    0,    0,    0],\n",
       "       [   0, 3990,    1,    0,    0,    0,    0,    0,    0,    0],\n",
       "       [   0,    0, 3905,    0,   47,    0,   46,    0,    1,    0],\n",
       "       [   0,    0,    8, 3924,    6,    0,    8,    0,    4,    0],\n",
       "       [   0,    0,   72,    1, 3920,    0,   45,    0,    5,    0],\n",
       "       [   0,    0,    0,    0,    0, 3921,    0,    2,    4,    0],\n",
       "       [   1,    0,   54,    2,   32,   10, 3886,    0,  108,   99],\n",
       "       [   0,    0,    0,    0,    0,    1,    0, 4100,    3,    0],\n",
       "       [   1,    0,   16,    2,   11,    0,   20,    0, 3821,    0],\n",
       "       [   0,    0,    0,    0,    0,    0,    0,    1,    0, 3930]],\n",
       "      dtype=int64)"
      ]
     },
     "execution_count": 8,
     "metadata": {},
     "output_type": "execute_result"
    }
   ],
   "source": [
    "confusion_matrix(GBST_model.predict(x_train),y_train)"
   ]
  },
  {
   "cell_type": "code",
   "execution_count": 9,
   "metadata": {},
   "outputs": [
    {
     "name": "stdout",
     "output_type": "stream",
     "text": [
      "TRAINING ACCURACY = 0.984725\n"
     ]
    }
   ],
   "source": [
    "GBST_model_train_acc = (GBST_model.predict(x_train) == y_train).mean()\n",
    "print(\"TRAINING ACCURACY =\",GBST_model_train_acc)"
   ]
  },
  {
   "cell_type": "markdown",
   "metadata": {},
   "source": [
    "### Validation Accuracy"
   ]
  },
  {
   "cell_type": "code",
   "execution_count": 10,
   "metadata": {
    "scrolled": true
   },
   "outputs": [
    {
     "data": {
      "text/plain": [
       "array([[ 851,    7,   14,   29,    2,    0,  116,    0,    9,    2],\n",
       "       [   4, 1000,    0,    4,    1,    1,    3,    0,    4,    0],\n",
       "       [   6,    1,  745,   10,   95,    0,  100,    0,    5,    0],\n",
       "       [  35,   11,    9,  912,   39,    1,   27,    0,    9,    0],\n",
       "       [   3,    1,   99,   28,  788,    0,   84,    0,    7,    0],\n",
       "       [   0,    0,    1,    1,    1, 1002,    1,   11,    7,    9],\n",
       "       [ 111,    5,   72,   25,   62,    8,  640,    0,   41,   26],\n",
       "       [   0,    0,    0,    0,    0,   15,    0,  899,    9,   38],\n",
       "       [   5,    1,    5,    3,    7,    5,   16,    1,  943,    4],\n",
       "       [   0,    0,    0,    0,    0,   28,    0,   37,    0,  899]],\n",
       "      dtype=int64)"
      ]
     },
     "execution_count": 10,
     "metadata": {},
     "output_type": "execute_result"
    }
   ],
   "source": [
    "confusion_matrix(GBST_model.predict(x_valid1),y_valid1)"
   ]
  },
  {
   "cell_type": "code",
   "execution_count": 11,
   "metadata": {},
   "outputs": [
    {
     "name": "stdout",
     "output_type": "stream",
     "text": [
      "VALIDATION ACCURACY = 0.8679\n"
     ]
    }
   ],
   "source": [
    "GBST_model_valid1_acc = (GBST_model.predict(x_valid1) == y_valid1).mean()\n",
    "print(\"VALIDATION ACCURACY =\",GBST_model_valid1_acc)"
   ]
  },
  {
   "cell_type": "code",
   "execution_count": 12,
   "metadata": {},
   "outputs": [
    {
     "data": {
      "text/plain": [
       "{'TRAIN_ACC': 0.984725, 'VALID_ACC': 0.8679}"
      ]
     },
     "execution_count": 12,
     "metadata": {},
     "output_type": "execute_result"
    }
   ],
   "source": [
    "{\"TRAIN_ACC\" : GBST_model_train_acc , \"VALID_ACC\" : GBST_model_valid1_acc}"
   ]
  },
  {
   "cell_type": "code",
   "execution_count": null,
   "metadata": {},
   "outputs": [],
   "source": []
  },
  {
   "cell_type": "markdown",
   "metadata": {},
   "source": [
    "## AdaBoost"
   ]
  },
  {
   "cell_type": "markdown",
   "metadata": {},
   "source": [
    "### Importing AdaBoostClassifier"
   ]
  },
  {
   "cell_type": "code",
   "execution_count": 13,
   "metadata": {},
   "outputs": [],
   "source": [
    "from sklearn.ensemble import AdaBoostClassifier\n",
    "from sklearn.metrics import confusion_matrix"
   ]
  },
  {
   "cell_type": "markdown",
   "metadata": {},
   "source": [
    "### Fitting AdaBoost"
   ]
  },
  {
   "cell_type": "code",
   "execution_count": 14,
   "metadata": {},
   "outputs": [],
   "source": [
    "ABST_model = AdaBoostClassifier(n_estimators=1000,learning_rate=0.5).fit(x_train, y_train)"
   ]
  },
  {
   "cell_type": "markdown",
   "metadata": {},
   "source": [
    "### Training Accuracy"
   ]
  },
  {
   "cell_type": "code",
   "execution_count": 15,
   "metadata": {},
   "outputs": [
    {
     "data": {
      "text/plain": [
       "array([[ 384,   14,   51,   17,   24,    1,  285,    0,  437,    2],\n",
       "       [ 176, 2876,   11,  770,   59,    1,   99,    0,    4,    0],\n",
       "       [2903,  885, 3767, 1315, 3095,    0, 2533,    0,  219,    1],\n",
       "       [ 496,  207,   85, 1764,  319,    0,  680,    0,   15,    0],\n",
       "       [   4,    3,  127,   45,  504,    0,  359,    0,    2,    0],\n",
       "       [   2,    0,    0,    0,    0, 3500,    1,  901,   38,  789],\n",
       "       [  14,    1,    7,   14,    9,    0,   37,    0,  112,    0],\n",
       "       [   1,    0,    0,    0,    0,  195,    0, 3144,   66,  834],\n",
       "       [  14,    4,    8,    4,    6,  220,   11,    8, 3052,    3],\n",
       "       [   0,    0,    0,    0,    0,   15,    0,   50,    1, 2400]],\n",
       "      dtype=int64)"
      ]
     },
     "execution_count": 15,
     "metadata": {},
     "output_type": "execute_result"
    }
   ],
   "source": [
    "confusion_matrix(ABST_model.predict(x_train),y_train)"
   ]
  },
  {
   "cell_type": "code",
   "execution_count": 16,
   "metadata": {},
   "outputs": [
    {
     "name": "stdout",
     "output_type": "stream",
     "text": [
      "TRAINING ACCURACY = 0.5357\n"
     ]
    }
   ],
   "source": [
    "ABST_model_train_acc = (ABST_model.predict(x_train) == y_train).mean()\n",
    "print(\"TRAINING ACCURACY =\",ABST_model_train_acc)"
   ]
  },
  {
   "cell_type": "markdown",
   "metadata": {},
   "source": [
    "### Validation Accuracy"
   ]
  },
  {
   "cell_type": "code",
   "execution_count": 17,
   "metadata": {
    "scrolled": true
   },
   "outputs": [
    {
     "data": {
      "text/plain": [
       "array([[ 82,   2,  15,   3,   7,   1,  64,   0, 100,   1],\n",
       "       [ 45, 738,   1, 190,  21,   0,  16,   0,   4,   0],\n",
       "       [737, 216, 872, 321, 760,   0, 652,   0,  59,   0],\n",
       "       [140,  67,  23, 479,  86,   0, 150,   0,   4,   0],\n",
       "       [  1,   2,  28,  13, 114,   0,  92,   0,   0,   0],\n",
       "       [  0,   0,   0,   0,   0, 921,   1, 195,  12, 181],\n",
       "       [  6,   0,   3,   2,   2,   0,  10,   0,  32,   0],\n",
       "       [  0,   0,   0,   0,   0,  63,   0, 741,  17, 203],\n",
       "       [  4,   1,   3,   4,   5,  63,   2,   4, 806,   7],\n",
       "       [  0,   0,   0,   0,   0,  12,   0,   8,   0, 586]], dtype=int64)"
      ]
     },
     "execution_count": 17,
     "metadata": {},
     "output_type": "execute_result"
    }
   ],
   "source": [
    "confusion_matrix(ABST_model.predict(x_valid1),y_valid1)"
   ]
  },
  {
   "cell_type": "code",
   "execution_count": 18,
   "metadata": {},
   "outputs": [
    {
     "name": "stdout",
     "output_type": "stream",
     "text": [
      "VALIDATION ACCURACY = 0.5349\n"
     ]
    }
   ],
   "source": [
    "ABST_model_valid1_acc = (ABST_model.predict(x_valid1) == y_valid1).mean()\n",
    "print(\"VALIDATION ACCURACY =\",ABST_model_valid1_acc)"
   ]
  },
  {
   "cell_type": "code",
   "execution_count": 19,
   "metadata": {},
   "outputs": [
    {
     "data": {
      "text/plain": [
       "{'TRAIN_ACC': 0.5357, 'VALID_ACC': 0.5349}"
      ]
     },
     "execution_count": 19,
     "metadata": {},
     "output_type": "execute_result"
    }
   ],
   "source": [
    "{\"TRAIN_ACC\" : ABST_model_train_acc , \"VALID_ACC\" : ABST_model_valid1_acc}"
   ]
  }
 ],
 "metadata": {
  "kernelspec": {
   "display_name": "Python 3",
   "language": "python",
   "name": "python3"
  },
  "language_info": {
   "codemirror_mode": {
    "name": "ipython",
    "version": 3
   },
   "file_extension": ".py",
   "mimetype": "text/x-python",
   "name": "python",
   "nbconvert_exporter": "python",
   "pygments_lexer": "ipython3",
   "version": "3.6.6"
  }
 },
 "nbformat": 4,
 "nbformat_minor": 2
}

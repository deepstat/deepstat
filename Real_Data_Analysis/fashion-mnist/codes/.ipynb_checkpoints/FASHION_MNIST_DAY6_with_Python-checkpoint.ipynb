{
 "cells": [
  {
   "cell_type": "markdown",
   "metadata": {},
   "source": [
    "# FASHION MNIST with Python (DAY 6)\n",
    "\n",
    "DATA SOURCE : https://www.kaggle.com/zalando-research/fashionmnist (Kaggle, Fashion MNIST)\n",
    "\n",
    "FASHION MNIST with Python (DAY 1) : http://deepstat.tistory.com/35\n",
    "\n",
    "FASHION MNIST with Python (DAY 2) : http://deepstat.tistory.com/36\n",
    "\n",
    "FASHION MNIST with Python (DAY 3) : http://deepstat.tistory.com/37\n",
    "\n",
    "FASHION MNIST with Python (DAY 4) : http://deepstat.tistory.com/38\n",
    "\n",
    "FASHION MNIST with Python (DAY 5) : http://deepstat.tistory.com/39"
   ]
  },
  {
   "cell_type": "markdown",
   "metadata": {},
   "source": [
    "## Datasets"
   ]
  },
  {
   "cell_type": "markdown",
   "metadata": {},
   "source": [
    "### Importing numpy, pandas, pyplot"
   ]
  },
  {
   "cell_type": "code",
   "execution_count": 1,
   "metadata": {},
   "outputs": [],
   "source": [
    "import numpy as np\n",
    "import pandas as pd\n",
    "import matplotlib.pyplot as plt"
   ]
  },
  {
   "cell_type": "markdown",
   "metadata": {},
   "source": [
    "### Loading datasets"
   ]
  },
  {
   "cell_type": "code",
   "execution_count": 2,
   "metadata": {},
   "outputs": [],
   "source": [
    "data_train = pd.read_csv(\"..\\\\datasets\\\\fashion-mnist_train.csv\")\n",
    "data_test = pd.read_csv(\"..\\\\datasets\\\\fashion-mnist_test.csv\")"
   ]
  },
  {
   "cell_type": "code",
   "execution_count": 3,
   "metadata": {
    "scrolled": true
   },
   "outputs": [],
   "source": [
    "data_train_y = data_train.label\n",
    "y_test = data_test.label"
   ]
  },
  {
   "cell_type": "code",
   "execution_count": 4,
   "metadata": {},
   "outputs": [],
   "source": [
    "data_train_x = data_train.drop(\"label\",axis=1)/256\n",
    "x_test = data_test.drop(\"label\",axis=1)/256"
   ]
  },
  {
   "cell_type": "markdown",
   "metadata": {},
   "source": [
    "### Spliting valid and training"
   ]
  },
  {
   "cell_type": "code",
   "execution_count": 5,
   "metadata": {},
   "outputs": [],
   "source": [
    "np.random.seed(0)\n",
    "valid2_idx = np.random.choice(60000,10000,replace = False)\n",
    "valid1_idx = np.random.choice(list(set(range(60000)) - set(valid2_idx)),10000,replace=False)\n",
    "train_idx = list(set(range(60000))-set(valid1_idx)-set(valid2_idx))\n",
    "\n",
    "x_train = data_train_x.iloc[train_idx,:]\n",
    "y_train = data_train_y.iloc[train_idx]\n",
    "\n",
    "x_valid1 = data_train_x.iloc[valid1_idx,:]\n",
    "y_valid1 = data_train_y.iloc[valid1_idx]\n",
    "\n",
    "x_valid2 = data_train_x.iloc[valid2_idx,:]\n",
    "y_valid2 = data_train_y.iloc[valid2_idx]"
   ]
  },
  {
   "cell_type": "markdown",
   "metadata": {},
   "source": [
    "## Linear Discriminant Analysis (LDA)"
   ]
  },
  {
   "cell_type": "markdown",
   "metadata": {},
   "source": [
    "### Importing LinearDiscriminantAnalysis"
   ]
  },
  {
   "cell_type": "code",
   "execution_count": 6,
   "metadata": {},
   "outputs": [],
   "source": [
    "from sklearn.discriminant_analysis import LinearDiscriminantAnalysis\n",
    "from sklearn.metrics import confusion_matrix"
   ]
  },
  {
   "cell_type": "markdown",
   "metadata": {},
   "source": [
    "### Fitting LinearDiscriminantAnalysis"
   ]
  },
  {
   "cell_type": "code",
   "execution_count": 7,
   "metadata": {},
   "outputs": [
    {
     "name": "stderr",
     "output_type": "stream",
     "text": [
      "c:\\users\\stat413server1\\appdata\\local\\programs\\python\\python36\\lib\\site-packages\\sklearn\\discriminant_analysis.py:442: UserWarning: The priors do not sum to 1. Renormalizing\n",
      "  UserWarning)\n"
     ]
    }
   ],
   "source": [
    "LDA_model = LinearDiscriminantAnalysis().fit(x_train, y_train)"
   ]
  },
  {
   "cell_type": "markdown",
   "metadata": {},
   "source": [
    "### Training Accuracy"
   ]
  },
  {
   "cell_type": "code",
   "execution_count": 8,
   "metadata": {},
   "outputs": [
    {
     "data": {
      "text/plain": [
       "array([[3131,    8,   68,   92,    4,    0,  510,    0,    6,    0],\n",
       "       [   1, 3741,    0,    8,    4,    0,    4,    0,    0,    0],\n",
       "       [  61,   27, 2938,   51,  325,    0,  448,    0,   33,    1],\n",
       "       [ 258,  171,   27, 3406,  118,    0,  150,    0,   43,    0],\n",
       "       [  23,   10,  600,  109, 3124,    0,  385,    0,   22,    0],\n",
       "       [  12,    2,    7,    4,    0, 3580,    9,  262,   56,  134],\n",
       "       [ 467,   27,  403,  251,  437,    4, 2437,    0,   99,    1],\n",
       "       [   0,    0,    0,    0,    0,  238,    1, 3634,   14,  184],\n",
       "       [  40,    4,   13,    8,    4,   25,   61,   12, 3671,    0],\n",
       "       [   1,    0,    0,    0,    0,   85,    0,  195,    2, 3709]],\n",
       "      dtype=int64)"
      ]
     },
     "execution_count": 8,
     "metadata": {},
     "output_type": "execute_result"
    }
   ],
   "source": [
    "confusion_matrix(LDA_model.predict(x_train),y_train)"
   ]
  },
  {
   "cell_type": "code",
   "execution_count": 9,
   "metadata": {},
   "outputs": [
    {
     "name": "stdout",
     "output_type": "stream",
     "text": [
      "TRAINING ACCURACY = 0.834275\n"
     ]
    }
   ],
   "source": [
    "LDA_model_train_acc = (LDA_model.predict(x_train) == y_train).mean()\n",
    "print(\"TRAINING ACCURACY =\",LDA_model_train_acc)"
   ]
  },
  {
   "cell_type": "markdown",
   "metadata": {},
   "source": [
    "### Validation Accuracy"
   ]
  },
  {
   "cell_type": "code",
   "execution_count": 10,
   "metadata": {
    "scrolled": true
   },
   "outputs": [
    {
     "data": {
      "text/plain": [
       "array([[795,   4,  17,  32,   2,   0, 143,   0,   3,   0],\n",
       "       [  1, 953,   0,   1,   1,   0,   0,   0,   0,   0],\n",
       "       [ 12,  11, 666,  10,  90,   0, 130,   0,   6,   0],\n",
       "       [ 72,  42,   8, 879,  40,   0,  37,   0,  10,   0],\n",
       "       [  3,   4, 141,  22, 728,   0, 104,   0,   8,   0],\n",
       "       [  0,   1,   2,   4,   0, 935,   4,  56,  20,  32],\n",
       "       [122,  11, 110,  62, 126,   3, 551,   1,  33,   0],\n",
       "       [  0,   0,   0,   0,   0,  74,   1, 834,   4,  48],\n",
       "       [ 10,   0,   1,   2,   8,  15,  17,   4, 950,   1],\n",
       "       [  0,   0,   0,   0,   0,  33,   0,  53,   0, 897]], dtype=int64)"
      ]
     },
     "execution_count": 10,
     "metadata": {},
     "output_type": "execute_result"
    }
   ],
   "source": [
    "confusion_matrix(LDA_model.predict(x_valid1),y_valid1)"
   ]
  },
  {
   "cell_type": "code",
   "execution_count": 11,
   "metadata": {},
   "outputs": [
    {
     "name": "stdout",
     "output_type": "stream",
     "text": [
      "VALIDATION ACCURACY = 0.8188\n"
     ]
    }
   ],
   "source": [
    "LDA_model_valid1_acc = (LDA_model.predict(x_valid1) == y_valid1).mean()\n",
    "print(\"VALIDATION ACCURACY =\",LDA_model_valid1_acc)"
   ]
  },
  {
   "cell_type": "code",
   "execution_count": 12,
   "metadata": {},
   "outputs": [
    {
     "data": {
      "text/plain": [
       "{'TRAIN_ACC': 0.834275, 'VALID_ACC': 0.8188}"
      ]
     },
     "execution_count": 12,
     "metadata": {},
     "output_type": "execute_result"
    }
   ],
   "source": [
    "{\"TRAIN_ACC\" : LDA_model_train_acc , \"VALID_ACC\" : LDA_model_valid1_acc}"
   ]
  },
  {
   "cell_type": "code",
   "execution_count": null,
   "metadata": {},
   "outputs": [],
   "source": []
  },
  {
   "cell_type": "markdown",
   "metadata": {},
   "source": [
    "### Fitting LinearDiscriminantAnalysis with shrinkage and solver 'lsqr'"
   ]
  },
  {
   "cell_type": "code",
   "execution_count": 13,
   "metadata": {},
   "outputs": [
    {
     "name": "stderr",
     "output_type": "stream",
     "text": [
      "c:\\users\\stat413server1\\appdata\\local\\programs\\python\\python36\\lib\\site-packages\\sklearn\\discriminant_analysis.py:442: UserWarning: The priors do not sum to 1. Renormalizing\n",
      "  UserWarning)\n"
     ]
    }
   ],
   "source": [
    "LDA_model_with_shrinkage_lsqr = LinearDiscriminantAnalysis(solver='lsqr',shrinkage=\"auto\").fit(x_train, y_train)"
   ]
  },
  {
   "cell_type": "markdown",
   "metadata": {},
   "source": [
    "### Training Accuracy"
   ]
  },
  {
   "cell_type": "code",
   "execution_count": 14,
   "metadata": {},
   "outputs": [
    {
     "data": {
      "text/plain": [
       "array([[3126,    9,   64,  108,    4,    0,  528,    0,    6,    0],\n",
       "       [   1, 3704,    0,    7,    3,    0,    2,    0,    0,    0],\n",
       "       [  60,   40, 2911,   54,  325,    0,  445,    0,   28,    1],\n",
       "       [ 251,  192,   26, 3352,  117,    0,  144,    0,   42,    0],\n",
       "       [  22,   12,  615,  121, 3111,    0,  389,    0,   19,    0],\n",
       "       [  14,    2,    8,    1,    0, 3566,    7,  285,   58,  140],\n",
       "       [ 479,   27,  417,  276,  450,    5, 2421,    0,  111,    1],\n",
       "       [   0,    0,    0,    0,    0,  236,    1, 3571,   13,  178],\n",
       "       [  40,    4,   15,   10,    6,   27,   68,   12, 3668,    0],\n",
       "       [   1,    0,    0,    0,    0,   98,    0,  235,    1, 3709]],\n",
       "      dtype=int64)"
      ]
     },
     "execution_count": 14,
     "metadata": {},
     "output_type": "execute_result"
    }
   ],
   "source": [
    "confusion_matrix(LDA_model_with_shrinkage_lsqr.predict(x_train),y_train)"
   ]
  },
  {
   "cell_type": "code",
   "execution_count": 15,
   "metadata": {},
   "outputs": [
    {
     "name": "stdout",
     "output_type": "stream",
     "text": [
      "TRAINING ACCURACY = 0.828475\n"
     ]
    }
   ],
   "source": [
    "LDA_model_with_shrinkage_lsqr_train_acc = (LDA_model_with_shrinkage_lsqr.predict(x_train) == y_train).mean()\n",
    "print(\"TRAINING ACCURACY =\",LDA_model_with_shrinkage_lsqr_train_acc)"
   ]
  },
  {
   "cell_type": "markdown",
   "metadata": {},
   "source": [
    "### Validation Accuracy"
   ]
  },
  {
   "cell_type": "code",
   "execution_count": 16,
   "metadata": {
    "scrolled": true
   },
   "outputs": [
    {
     "data": {
      "text/plain": [
       "array([[794,   5,  16,  35,   2,   0, 144,   0,   2,   0],\n",
       "       [  1, 947,   0,   2,   1,   0,   0,   0,   0,   0],\n",
       "       [ 12,  13, 661,  13,  89,   0, 129,   0,   5,   0],\n",
       "       [ 67,  45,   7, 874,  38,   0,  36,   0,  11,   0],\n",
       "       [  5,   3, 142,  26, 733,   0, 108,   0,   7,   0],\n",
       "       [  0,   1,   2,   2,   0, 942,   2,  59,  20,  34],\n",
       "       [126,  12, 116,  58, 125,   3, 549,   1,  33,   0],\n",
       "       [  0,   0,   0,   0,   0,  65,   1, 822,   3,  44],\n",
       "       [ 10,   0,   1,   2,   7,  16,  18,   4, 953,   1],\n",
       "       [  0,   0,   0,   0,   0,  34,   0,  62,   0, 899]], dtype=int64)"
      ]
     },
     "execution_count": 16,
     "metadata": {},
     "output_type": "execute_result"
    }
   ],
   "source": [
    "confusion_matrix(LDA_model_with_shrinkage_lsqr.predict(x_valid1),y_valid1)"
   ]
  },
  {
   "cell_type": "code",
   "execution_count": 17,
   "metadata": {},
   "outputs": [
    {
     "name": "stdout",
     "output_type": "stream",
     "text": [
      "VALIDATION ACCURACY = 0.8174\n"
     ]
    }
   ],
   "source": [
    "LDA_model_with_shrinkage_lsqr_valid1_acc = (LDA_model_with_shrinkage_lsqr.predict(x_valid1) == y_valid1).mean()\n",
    "print(\"VALIDATION ACCURACY =\",LDA_model_with_shrinkage_lsqr_valid1_acc)"
   ]
  },
  {
   "cell_type": "code",
   "execution_count": 18,
   "metadata": {},
   "outputs": [
    {
     "data": {
      "text/plain": [
       "{'TRAIN_ACC': 0.828475, 'VALID_ACC': 0.8174}"
      ]
     },
     "execution_count": 18,
     "metadata": {},
     "output_type": "execute_result"
    }
   ],
   "source": [
    "{\"TRAIN_ACC\" : LDA_model_with_shrinkage_lsqr_train_acc , \"VALID_ACC\" : LDA_model_with_shrinkage_lsqr_valid1_acc}"
   ]
  },
  {
   "cell_type": "code",
   "execution_count": null,
   "metadata": {},
   "outputs": [],
   "source": []
  },
  {
   "cell_type": "markdown",
   "metadata": {},
   "source": [
    "### Fitting LinearDiscriminantAnalysis with shrinkage and solver 'eigen'"
   ]
  },
  {
   "cell_type": "code",
   "execution_count": 19,
   "metadata": {},
   "outputs": [
    {
     "name": "stderr",
     "output_type": "stream",
     "text": [
      "c:\\users\\stat413server1\\appdata\\local\\programs\\python\\python36\\lib\\site-packages\\sklearn\\discriminant_analysis.py:442: UserWarning: The priors do not sum to 1. Renormalizing\n",
      "  UserWarning)\n"
     ]
    }
   ],
   "source": [
    "LDA_model_with_shrinkage_eigen = LinearDiscriminantAnalysis(solver='eigen',shrinkage=\"auto\").fit(x_train, y_train)"
   ]
  },
  {
   "cell_type": "markdown",
   "metadata": {},
   "source": [
    "### Training Accuracy"
   ]
  },
  {
   "cell_type": "code",
   "execution_count": 20,
   "metadata": {},
   "outputs": [
    {
     "data": {
      "text/plain": [
       "array([[3134,    7,   79,  112,    3,    0,  610,    0,   11,    0],\n",
       "       [   1, 3706,    0,    5,    2,    0,    2,    0,    0,    0],\n",
       "       [  58,   47, 2930,   47,  358,    0,  485,    0,   28,    1],\n",
       "       [ 237,  177,   24, 3310,  114,    0,  125,    0,   42,    0],\n",
       "       [  15,   11,  584,  106, 3124,    0,  468,    0,   16,    0],\n",
       "       [  11,    0,    7,    2,    0, 3538,    5,  311,   48,  149],\n",
       "       [ 499,   37,  417,  337,  411,    4, 2245,    0,  110,    1],\n",
       "       [   0,    0,    0,    0,    0,  258,    1, 3551,   12,  181],\n",
       "       [  39,    5,   14,   10,    4,   30,   63,   11, 3678,    0],\n",
       "       [   0,    0,    1,    0,    0,  102,    1,  230,    1, 3697]],\n",
       "      dtype=int64)"
      ]
     },
     "execution_count": 20,
     "metadata": {},
     "output_type": "execute_result"
    }
   ],
   "source": [
    "confusion_matrix(LDA_model_with_shrinkage_eigen.predict(x_train),y_train)"
   ]
  },
  {
   "cell_type": "code",
   "execution_count": 21,
   "metadata": {},
   "outputs": [
    {
     "name": "stdout",
     "output_type": "stream",
     "text": [
      "TRAINING ACCURACY = 0.822825\n"
     ]
    }
   ],
   "source": [
    "LDA_model_with_shrinkage_eigen_train_acc = (LDA_model_with_shrinkage_eigen.predict(x_train) == y_train).mean()\n",
    "print(\"TRAINING ACCURACY =\",LDA_model_with_shrinkage_eigen_train_acc)"
   ]
  },
  {
   "cell_type": "markdown",
   "metadata": {},
   "source": [
    "### Validation Accuracy"
   ]
  },
  {
   "cell_type": "code",
   "execution_count": 22,
   "metadata": {
    "scrolled": true
   },
   "outputs": [
    {
     "data": {
      "text/plain": [
       "array([[802,   2,  22,  40,   2,   0, 160,   0,   3,   0],\n",
       "       [  1, 950,   0,   2,   1,   0,   0,   0,   0,   0],\n",
       "       [ 12,  12, 669,  12,  94,   0, 134,   0,   3,   0],\n",
       "       [ 65,  42,   7, 864,  37,   0,  33,   0,   9,   0],\n",
       "       [  0,   3, 139,  20, 739,   0, 135,   0,   4,   0],\n",
       "       [  0,   1,   2,   2,   0, 928,   2,  60,  15,  37],\n",
       "       [127,  16, 105,  70, 116,   2, 506,   1,  44,   0],\n",
       "       [  0,   0,   0,   0,   0,  77,   0, 821,   3,  46],\n",
       "       [  8,   0,   1,   2,   6,  14,  17,   4, 953,   1],\n",
       "       [  0,   0,   0,   0,   0,  39,   0,  62,   0, 894]], dtype=int64)"
      ]
     },
     "execution_count": 22,
     "metadata": {},
     "output_type": "execute_result"
    }
   ],
   "source": [
    "confusion_matrix(LDA_model_with_shrinkage_eigen.predict(x_valid1),y_valid1)"
   ]
  },
  {
   "cell_type": "code",
   "execution_count": 23,
   "metadata": {},
   "outputs": [
    {
     "name": "stdout",
     "output_type": "stream",
     "text": [
      "VALIDATION ACCURACY = 0.8126\n"
     ]
    }
   ],
   "source": [
    "LDA_model_with_shrinkage_eigen_valid1_acc = (LDA_model_with_shrinkage_eigen.predict(x_valid1) == y_valid1).mean()\n",
    "print(\"VALIDATION ACCURACY =\",LDA_model_with_shrinkage_eigen_valid1_acc)"
   ]
  },
  {
   "cell_type": "code",
   "execution_count": 24,
   "metadata": {},
   "outputs": [
    {
     "data": {
      "text/plain": [
       "{'TRAIN_ACC': 0.822825, 'VALID_ACC': 0.8126}"
      ]
     },
     "execution_count": 24,
     "metadata": {},
     "output_type": "execute_result"
    }
   ],
   "source": [
    "{\"TRAIN_ACC\" : LDA_model_with_shrinkage_eigen_train_acc , \"VALID_ACC\" : LDA_model_with_shrinkage_eigen_valid1_acc}"
   ]
  },
  {
   "cell_type": "code",
   "execution_count": null,
   "metadata": {},
   "outputs": [],
   "source": []
  },
  {
   "cell_type": "markdown",
   "metadata": {},
   "source": [
    "## Quadratic Discriminant Analysis (QDA)"
   ]
  },
  {
   "cell_type": "markdown",
   "metadata": {},
   "source": [
    "### Importing QuadraticDiscriminantAnalysis"
   ]
  },
  {
   "cell_type": "code",
   "execution_count": 25,
   "metadata": {},
   "outputs": [],
   "source": [
    "from sklearn.discriminant_analysis import QuadraticDiscriminantAnalysis\n",
    "from sklearn.metrics import confusion_matrix"
   ]
  },
  {
   "cell_type": "markdown",
   "metadata": {},
   "source": [
    "### Fitting QDA"
   ]
  },
  {
   "cell_type": "code",
   "execution_count": 26,
   "metadata": {},
   "outputs": [
    {
     "name": "stderr",
     "output_type": "stream",
     "text": [
      "c:\\users\\stat413server1\\appdata\\local\\programs\\python\\python36\\lib\\site-packages\\sklearn\\discriminant_analysis.py:682: UserWarning: Variables are collinear\n",
      "  warnings.warn(\"Variables are collinear\")\n"
     ]
    }
   ],
   "source": [
    "QDA_model = QuadraticDiscriminantAnalysis().fit(x_train, y_train)"
   ]
  },
  {
   "cell_type": "markdown",
   "metadata": {},
   "source": [
    "### Training Accuracy"
   ]
  },
  {
   "cell_type": "code",
   "execution_count": 27,
   "metadata": {},
   "outputs": [
    {
     "data": {
      "text/plain": [
       "array([[2639,    0,    6,    1,    1,    0,  325,    0,    1,    0],\n",
       "       [ 200, 3990,   11, 1637,   70,    0,   78,    0,   58,    0],\n",
       "       [  28,    0,  980,    0,    9,    0,   69,    0,    0,    0],\n",
       "       [ 668,    0, 1181, 2290, 1571,    6, 1236,    0,  429,    4],\n",
       "       [ 304,    0, 1777,    0, 2344,    0, 1280,    0,  186,    0],\n",
       "       [   0,    0,    0,    0,    0,  894,    0,    0,    9,    1],\n",
       "       [ 108,    0,   57,    0,   18,    2,  945,    0,    9,    3],\n",
       "       [   0,    0,    0,    0,    0, 2415,    0, 4098,    9, 1016],\n",
       "       [  47,    0,   44,    1,    3,    9,   72,    0, 3241,    0],\n",
       "       [   0,    0,    0,    0,    0,  606,    0,    5,    4, 3005]],\n",
       "      dtype=int64)"
      ]
     },
     "execution_count": 27,
     "metadata": {},
     "output_type": "execute_result"
    }
   ],
   "source": [
    "confusion_matrix(QDA_model.predict(x_train),y_train)"
   ]
  },
  {
   "cell_type": "code",
   "execution_count": 28,
   "metadata": {},
   "outputs": [
    {
     "name": "stdout",
     "output_type": "stream",
     "text": [
      "TRAINING ACCURACY = 0.61065\n"
     ]
    }
   ],
   "source": [
    "QDA_model_train_acc = (QDA_model.predict(x_train) == y_train).mean()\n",
    "print(\"TRAINING ACCURACY =\",QDA_model_train_acc)"
   ]
  },
  {
   "cell_type": "markdown",
   "metadata": {},
   "source": [
    "### Validation Accuracy"
   ]
  },
  {
   "cell_type": "code",
   "execution_count": 29,
   "metadata": {
    "scrolled": true
   },
   "outputs": [
    {
     "data": {
      "text/plain": [
       "array([[601,   0,   1,   8,   1,   0,  92,   0,   1,   0],\n",
       "       [ 63, 974,   3, 478,  17,   0,  17,   0,  11,   0],\n",
       "       [  7,   0, 120,   1,  19,   0,  27,   0,   1,   0],\n",
       "       [175,  39, 283, 499, 406,   2, 310,   0, 111,   1],\n",
       "       [ 73,   0, 441,  10, 519,   0, 339,   0,  61,   0],\n",
       "       [  0,   0,   0,   0,   0, 143,   0,   6,   1,   3],\n",
       "       [ 59,  12,  78,  12,  23,   1, 138,   0,   6,   0],\n",
       "       [  0,   0,   0,   0,   0, 660,   0, 919,   2, 249],\n",
       "       [ 37,   1,  19,   4,  10,  22,  64,   5, 840,   9],\n",
       "       [  0,   0,   0,   0,   0, 232,   0,  18,   0, 716]], dtype=int64)"
      ]
     },
     "execution_count": 29,
     "metadata": {},
     "output_type": "execute_result"
    }
   ],
   "source": [
    "confusion_matrix(QDA_model.predict(x_valid1),y_valid1)"
   ]
  },
  {
   "cell_type": "code",
   "execution_count": 30,
   "metadata": {},
   "outputs": [
    {
     "name": "stdout",
     "output_type": "stream",
     "text": [
      "VALIDATION ACCURACY = 0.5469\n"
     ]
    }
   ],
   "source": [
    "QDA_model_valid1_acc = (QDA_model.predict(x_valid1) == y_valid1).mean()\n",
    "print(\"VALIDATION ACCURACY =\",QDA_model_valid1_acc)"
   ]
  },
  {
   "cell_type": "code",
   "execution_count": 31,
   "metadata": {},
   "outputs": [
    {
     "data": {
      "text/plain": [
       "{'TRAIN_ACC': 0.61065, 'VALID_ACC': 0.5469}"
      ]
     },
     "execution_count": 31,
     "metadata": {},
     "output_type": "execute_result"
    }
   ],
   "source": [
    "{\"TRAIN_ACC\" : QDA_model_train_acc , \"VALID_ACC\" : QDA_model_valid1_acc}"
   ]
  },
  {
   "cell_type": "code",
   "execution_count": null,
   "metadata": {},
   "outputs": [],
   "source": []
  }
 ],
 "metadata": {
  "kernelspec": {
   "display_name": "Python 3",
   "language": "python",
   "name": "python3"
  },
  "language_info": {
   "codemirror_mode": {
    "name": "ipython",
    "version": 3
   },
   "file_extension": ".py",
   "mimetype": "text/x-python",
   "name": "python",
   "nbconvert_exporter": "python",
   "pygments_lexer": "ipython3",
   "version": "3.6.6"
  }
 },
 "nbformat": 4,
 "nbformat_minor": 2
}

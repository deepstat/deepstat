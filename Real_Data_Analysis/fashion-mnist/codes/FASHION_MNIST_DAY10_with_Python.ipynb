{
 "cells": [
  {
   "cell_type": "markdown",
   "metadata": {},
   "source": [
    "# FASHION MNIST with Python (DAY 10)\n",
    "\n",
    "DATA SOURCE : https://www.kaggle.com/zalando-research/fashionmnist (Kaggle, Fashion MNIST)\n",
    "\n",
    "FASHION MNIST with Python (DAY 1) : http://deepstat.tistory.com/35\n",
    "\n",
    "FASHION MNIST with Python (DAY 2) : http://deepstat.tistory.com/36\n",
    "\n",
    "FASHION MNIST with Python (DAY 3) : http://deepstat.tistory.com/37\n",
    "\n",
    "FASHION MNIST with Python (DAY 4) : http://deepstat.tistory.com/38\n",
    "\n",
    "FASHION MNIST with Python (DAY 5) : http://deepstat.tistory.com/39\n",
    "\n",
    "FASHION MNIST with Python (DAY 6) : http://deepstat.tistory.com/40\n",
    "\n",
    "FASHION MNIST with Python (DAY 7) : http://deepstat.tistory.com/41\n",
    "\n",
    "FASHION MNIST with Python (DAY 8) : http://deepstat.tistory.com/42\n",
    "\n",
    "FASHION MNIST with Python (DAY 9) : http://deepstat.tistory.com/43"
   ]
  },
  {
   "cell_type": "markdown",
   "metadata": {},
   "source": [
    "## Datasets"
   ]
  },
  {
   "cell_type": "markdown",
   "metadata": {},
   "source": [
    "### Importing numpy, pandas, pyplot"
   ]
  },
  {
   "cell_type": "code",
   "execution_count": 1,
   "metadata": {},
   "outputs": [],
   "source": [
    "import numpy as np\n",
    "import pandas as pd\n",
    "import matplotlib.pyplot as plt"
   ]
  },
  {
   "cell_type": "markdown",
   "metadata": {},
   "source": [
    "### Loading datasets"
   ]
  },
  {
   "cell_type": "code",
   "execution_count": 2,
   "metadata": {},
   "outputs": [],
   "source": [
    "data_train = pd.read_csv(\"../datasets/fashion-mnist_train.csv\")\n",
    "data_test = pd.read_csv(\"../datasets/fashion-mnist_test.csv\")"
   ]
  },
  {
   "cell_type": "code",
   "execution_count": 3,
   "metadata": {
    "scrolled": true
   },
   "outputs": [],
   "source": [
    "data_train_y = data_train.label\n",
    "y_test = data_test.label"
   ]
  },
  {
   "cell_type": "code",
   "execution_count": 4,
   "metadata": {},
   "outputs": [],
   "source": [
    "data_train_x = data_train.drop(\"label\",axis=1)/256\n",
    "x_test = data_test.drop(\"label\",axis=1)/256"
   ]
  },
  {
   "cell_type": "markdown",
   "metadata": {},
   "source": [
    "### Spliting valid and training"
   ]
  },
  {
   "cell_type": "code",
   "execution_count": 5,
   "metadata": {},
   "outputs": [],
   "source": [
    "np.random.seed(0)\n",
    "valid2_idx = np.random.choice(60000,10000,replace = False)\n",
    "valid1_idx = np.random.choice(list(set(range(60000)) - set(valid2_idx)),10000,replace=False)\n",
    "train_idx = list(set(range(60000))-set(valid1_idx)-set(valid2_idx))\n",
    "\n",
    "x_train = data_train_x.iloc[train_idx,:]\n",
    "y_train = data_train_y.iloc[train_idx]\n",
    "\n",
    "x_valid1 = data_train_x.iloc[valid1_idx,:]\n",
    "y_valid1 = data_train_y.iloc[valid1_idx]\n",
    "\n",
    "x_valid2 = data_train_x.iloc[valid2_idx,:]\n",
    "y_valid2 = data_train_y.iloc[valid2_idx]"
   ]
  },
  {
   "cell_type": "code",
   "execution_count": null,
   "metadata": {},
   "outputs": [],
   "source": []
  },
  {
   "cell_type": "markdown",
   "metadata": {},
   "source": [
    "## Multinomial Logistic Regression"
   ]
  },
  {
   "cell_type": "markdown",
   "metadata": {},
   "source": [
    "### Importing LogisticRegression"
   ]
  },
  {
   "cell_type": "code",
   "execution_count": 6,
   "metadata": {},
   "outputs": [],
   "source": [
    "from sklearn.linear_model import LogisticRegression\n",
    "from sklearn.metrics import confusion_matrix"
   ]
  },
  {
   "cell_type": "markdown",
   "metadata": {},
   "source": [
    "### Fitting Logistic Regression"
   ]
  },
  {
   "cell_type": "code",
   "execution_count": 7,
   "metadata": {},
   "outputs": [],
   "source": [
    "LR_model = LogisticRegression().fit(x_train, y_train)"
   ]
  },
  {
   "cell_type": "code",
   "execution_count": 8,
   "metadata": {},
   "outputs": [],
   "source": [
    "LR_model_pred_valid1 = LR_model.predict(x_valid1)\n",
    "LR_model_pred_valid2 = LR_model.predict(x_valid2)"
   ]
  },
  {
   "cell_type": "markdown",
   "metadata": {},
   "source": [
    "### Validation Accuracy"
   ]
  },
  {
   "cell_type": "code",
   "execution_count": 9,
   "metadata": {},
   "outputs": [
    {
     "name": "stdout",
     "output_type": "stream",
     "text": [
      "VALIDATION ACCURACY = 0.8501\n",
      "VALIDATION ACCURACY = 0.8487\n"
     ]
    }
   ],
   "source": [
    "LR_model_valid1_acc = (LR_model_pred_valid1 == y_valid1).mean()\n",
    "print(\"VALIDATION ACCURACY =\",LR_model_valid1_acc)\n",
    "\n",
    "LR_model_valid2_acc = (LR_model_pred_valid2 == y_valid2).mean()\n",
    "print(\"VALIDATION ACCURACY =\",LR_model_valid2_acc)"
   ]
  },
  {
   "cell_type": "markdown",
   "metadata": {},
   "source": [
    "## Decision Tree"
   ]
  },
  {
   "cell_type": "markdown",
   "metadata": {},
   "source": [
    "### Importing DecisionTreeClassifier"
   ]
  },
  {
   "cell_type": "code",
   "execution_count": 10,
   "metadata": {},
   "outputs": [],
   "source": [
    "from sklearn.tree import DecisionTreeClassifier"
   ]
  },
  {
   "cell_type": "markdown",
   "metadata": {},
   "source": [
    "### Smaller Tree (to avoid overfitting)"
   ]
  },
  {
   "cell_type": "code",
   "execution_count": 11,
   "metadata": {},
   "outputs": [],
   "source": [
    "TR_model2 = DecisionTreeClassifier(min_samples_leaf = 5, max_depth = 12).fit(x_train, y_train)"
   ]
  },
  {
   "cell_type": "code",
   "execution_count": 12,
   "metadata": {},
   "outputs": [],
   "source": [
    "TR_model2_pred_valid1 = TR_model2.predict(x_valid1)\n",
    "TR_model2_pred_valid2 = TR_model2.predict(x_valid2)"
   ]
  },
  {
   "cell_type": "markdown",
   "metadata": {},
   "source": [
    "### Validation Accuracy"
   ]
  },
  {
   "cell_type": "code",
   "execution_count": 13,
   "metadata": {},
   "outputs": [
    {
     "name": "stdout",
     "output_type": "stream",
     "text": [
      "VALIDATION ACCURACY = 0.8172\n",
      "VALIDATION ACCURACY = 0.8163\n"
     ]
    }
   ],
   "source": [
    "TR_model2_valid1_acc = (TR_model2_pred_valid1 == y_valid1).mean()\n",
    "print(\"VALIDATION ACCURACY =\",TR_model2_valid1_acc)\n",
    "\n",
    "TR_model_valid2_acc = (TR_model2_pred_valid2 == y_valid2).mean()\n",
    "print(\"VALIDATION ACCURACY =\",TR_model_valid2_acc)"
   ]
  },
  {
   "cell_type": "markdown",
   "metadata": {},
   "source": [
    "## Bagging"
   ]
  },
  {
   "cell_type": "markdown",
   "metadata": {},
   "source": [
    "### Importing BaggingClassifier"
   ]
  },
  {
   "cell_type": "code",
   "execution_count": 14,
   "metadata": {},
   "outputs": [],
   "source": [
    "from sklearn.ensemble import BaggingClassifier"
   ]
  },
  {
   "cell_type": "markdown",
   "metadata": {},
   "source": [
    "### Fitting Bagging"
   ]
  },
  {
   "cell_type": "code",
   "execution_count": 15,
   "metadata": {},
   "outputs": [],
   "source": [
    "BG_model = BaggingClassifier(n_estimators=2000,n_jobs=-1).fit(x_train, y_train)"
   ]
  },
  {
   "cell_type": "code",
   "execution_count": 16,
   "metadata": {},
   "outputs": [],
   "source": [
    "BG_model_pred_valid1 = BG_model.predict(x_valid1)\n",
    "BG_model_pred_valid2 = BG_model.predict(x_valid2)"
   ]
  },
  {
   "cell_type": "markdown",
   "metadata": {},
   "source": [
    "### Validation Accuracy"
   ]
  },
  {
   "cell_type": "code",
   "execution_count": 17,
   "metadata": {},
   "outputs": [
    {
     "name": "stdout",
     "output_type": "stream",
     "text": [
      "VALIDATION ACCURACY = 0.8779\n",
      "VALIDATION ACCURACY = 0.8777\n"
     ]
    }
   ],
   "source": [
    "BG_model_valid1_acc = (BG_model_pred_valid1 == y_valid1).mean()\n",
    "print(\"VALIDATION ACCURACY =\",BG_model_valid1_acc)\n",
    "\n",
    "BG_model_valid2_acc = (BG_model_pred_valid2 == y_valid2).mean()\n",
    "print(\"VALIDATION ACCURACY =\",BG_model_valid2_acc)"
   ]
  },
  {
   "cell_type": "markdown",
   "metadata": {},
   "source": [
    "## Random Forest"
   ]
  },
  {
   "cell_type": "markdown",
   "metadata": {},
   "source": [
    "### Importing RandomForestClassifier"
   ]
  },
  {
   "cell_type": "code",
   "execution_count": 18,
   "metadata": {},
   "outputs": [],
   "source": [
    "from sklearn.ensemble import RandomForestClassifier"
   ]
  },
  {
   "cell_type": "markdown",
   "metadata": {},
   "source": [
    "### Fitting Random Forest"
   ]
  },
  {
   "cell_type": "code",
   "execution_count": 19,
   "metadata": {},
   "outputs": [],
   "source": [
    "RF_model = RandomForestClassifier(n_estimators=2000,n_jobs=-1).fit(x_train, y_train)"
   ]
  },
  {
   "cell_type": "code",
   "execution_count": 20,
   "metadata": {},
   "outputs": [],
   "source": [
    "RF_model_predict_valid1 = RF_model.predict(x_valid1)\n",
    "RF_model_predict_valid2 = RF_model.predict(x_valid2)"
   ]
  },
  {
   "cell_type": "markdown",
   "metadata": {},
   "source": [
    "### Validation Accuracy"
   ]
  },
  {
   "cell_type": "code",
   "execution_count": 21,
   "metadata": {},
   "outputs": [
    {
     "name": "stdout",
     "output_type": "stream",
     "text": [
      "VALIDATION ACCURACY = 0.883\n",
      "VALIDATION ACCURACY = 0.8806\n"
     ]
    }
   ],
   "source": [
    "RF_model_valid1_acc = (RF_model_predict_valid1 == y_valid1).mean()\n",
    "print(\"VALIDATION ACCURACY =\",RF_model_valid1_acc)\n",
    "\n",
    "RF_model_valid2_acc = (RF_model_predict_valid2 == y_valid2).mean()\n",
    "print(\"VALIDATION ACCURACY =\",RF_model_valid2_acc)"
   ]
  },
  {
   "cell_type": "markdown",
   "metadata": {},
   "source": [
    "## Gradient Boosting"
   ]
  },
  {
   "cell_type": "markdown",
   "metadata": {},
   "source": [
    "### Importing GradientBoostingClassifier"
   ]
  },
  {
   "cell_type": "code",
   "execution_count": 22,
   "metadata": {},
   "outputs": [],
   "source": [
    "from sklearn.ensemble import GradientBoostingClassifier"
   ]
  },
  {
   "cell_type": "markdown",
   "metadata": {},
   "source": [
    "### Fitting Gradient Boosting"
   ]
  },
  {
   "cell_type": "code",
   "execution_count": 23,
   "metadata": {},
   "outputs": [],
   "source": [
    "GBST_model = GradientBoostingClassifier(n_estimators=2000,learning_rate=0.5).fit(x_train, y_train)"
   ]
  },
  {
   "cell_type": "code",
   "execution_count": 24,
   "metadata": {},
   "outputs": [],
   "source": [
    "GBST_model_predict_valid1 = GBST_model.predict(x_valid1)\n",
    "GBST_model_predict_valid2 = GBST_model.predict(x_valid2)"
   ]
  },
  {
   "cell_type": "markdown",
   "metadata": {},
   "source": [
    "### Validation Accuracy"
   ]
  },
  {
   "cell_type": "code",
   "execution_count": 25,
   "metadata": {},
   "outputs": [
    {
     "name": "stdout",
     "output_type": "stream",
     "text": [
      "VALIDATION ACCURACY = 0.8667\n",
      "VALIDATION ACCURACY = 0.8676\n"
     ]
    }
   ],
   "source": [
    "GBST_model_valid1_acc = (GBST_model.predict(x_valid1) == y_valid1).mean()\n",
    "print(\"VALIDATION ACCURACY =\",GBST_model_valid1_acc)\n",
    "\n",
    "GBST_model_valid2_acc = (GBST_model_predict_valid2 == y_valid2).mean()\n",
    "print(\"VALIDATION ACCURACY =\",GBST_model_valid2_acc)"
   ]
  },
  {
   "cell_type": "markdown",
   "metadata": {},
   "source": [
    "## AdaBoost"
   ]
  },
  {
   "cell_type": "markdown",
   "metadata": {},
   "source": [
    "### Importing AdaBoostClassifier"
   ]
  },
  {
   "cell_type": "code",
   "execution_count": 26,
   "metadata": {},
   "outputs": [],
   "source": [
    "from sklearn.ensemble import AdaBoostClassifier"
   ]
  },
  {
   "cell_type": "markdown",
   "metadata": {},
   "source": [
    "### Fitting AdaBoost"
   ]
  },
  {
   "cell_type": "code",
   "execution_count": 27,
   "metadata": {},
   "outputs": [],
   "source": [
    "ABST_model = AdaBoostClassifier(n_estimators=2000,learning_rate=0.5).fit(x_train, y_train)"
   ]
  },
  {
   "cell_type": "code",
   "execution_count": 28,
   "metadata": {},
   "outputs": [],
   "source": [
    "ABST_model_predict_valid1 = ABST_model.predict(x_valid1)\n",
    "ABST_model_predict_valid2 = ABST_model.predict(x_valid2)"
   ]
  },
  {
   "cell_type": "markdown",
   "metadata": {},
   "source": [
    "### Validation Accuracy"
   ]
  },
  {
   "cell_type": "code",
   "execution_count": 29,
   "metadata": {},
   "outputs": [
    {
     "name": "stdout",
     "output_type": "stream",
     "text": [
      "VALIDATION ACCURACY = 0.5567\n",
      "VALIDATION ACCURACY = 0.5525\n"
     ]
    }
   ],
   "source": [
    "ABST_model_valid1_acc = (ABST_model_predict_valid1 == y_valid1).mean()\n",
    "print(\"VALIDATION ACCURACY =\",ABST_model_valid1_acc)\n",
    "\n",
    "ABST_model_valid2_acc = (ABST_model_predict_valid2 == y_valid2).mean()\n",
    "print(\"VALIDATION ACCURACY =\",ABST_model_valid2_acc)"
   ]
  },
  {
   "cell_type": "markdown",
   "metadata": {},
   "source": [
    "# Support Vector Machine"
   ]
  },
  {
   "cell_type": "markdown",
   "metadata": {},
   "source": [
    "### Importing SVC"
   ]
  },
  {
   "cell_type": "code",
   "execution_count": 30,
   "metadata": {},
   "outputs": [],
   "source": [
    "from sklearn.svm import SVC"
   ]
  },
  {
   "cell_type": "markdown",
   "metadata": {},
   "source": [
    "### Fitting SVC with cost 100"
   ]
  },
  {
   "cell_type": "code",
   "execution_count": 31,
   "metadata": {},
   "outputs": [],
   "source": [
    "SVM_model = SVC(C=100).fit(x_train, y_train)"
   ]
  },
  {
   "cell_type": "code",
   "execution_count": 32,
   "metadata": {},
   "outputs": [],
   "source": [
    "SVM_model_predict_valid1 = SVM_model.predict(x_valid1)\n",
    "SVM_model_predict_valid2 = SVM_model.predict(x_valid2)"
   ]
  },
  {
   "cell_type": "markdown",
   "metadata": {},
   "source": [
    "### Validation Accuracy"
   ]
  },
  {
   "cell_type": "code",
   "execution_count": 33,
   "metadata": {},
   "outputs": [
    {
     "name": "stdout",
     "output_type": "stream",
     "text": [
      "VALIDATION ACCURACY = 0.884\n",
      "VALIDATION ACCURACY = 0.8821\n"
     ]
    }
   ],
   "source": [
    "SVM_model_valid1_acc = (SVM_model_predict_valid1 == y_valid1).mean()\n",
    "print(\"VALIDATION ACCURACY =\",SVM_model_valid1_acc)\n",
    "\n",
    "SVM_model_valid2_acc = (SVM_model_predict_valid2 == y_valid2).mean()\n",
    "print(\"VALIDATION ACCURACY =\",SVM_model_valid2_acc)"
   ]
  },
  {
   "cell_type": "markdown",
   "metadata": {},
   "source": [
    "## K-Nearest Neighbors"
   ]
  },
  {
   "cell_type": "markdown",
   "metadata": {},
   "source": [
    "### Importing KNeighborsClassifier"
   ]
  },
  {
   "cell_type": "code",
   "execution_count": 34,
   "metadata": {},
   "outputs": [],
   "source": [
    "from sklearn.neighbors import KNeighborsClassifier"
   ]
  },
  {
   "cell_type": "markdown",
   "metadata": {},
   "source": [
    "### Fitting KNN with  k=8"
   ]
  },
  {
   "cell_type": "code",
   "execution_count": 35,
   "metadata": {},
   "outputs": [],
   "source": [
    "KNN_model = KNeighborsClassifier(n_neighbors=8).fit(x_train, y_train)"
   ]
  },
  {
   "cell_type": "code",
   "execution_count": 36,
   "metadata": {},
   "outputs": [],
   "source": [
    "KNN_model_predict_valid1 = KNN_model.predict(x_valid1)\n",
    "KNN_model_predict_valid2 = KNN_model.predict(x_valid2)"
   ]
  },
  {
   "cell_type": "markdown",
   "metadata": {},
   "source": [
    "### Validation Accuracy"
   ]
  },
  {
   "cell_type": "code",
   "execution_count": 37,
   "metadata": {},
   "outputs": [
    {
     "name": "stdout",
     "output_type": "stream",
     "text": [
      "VALIDATION ACCURACY = 0.8519\n",
      "VALIDATION ACCURACY = 0.851\n"
     ]
    }
   ],
   "source": [
    "KNN_model_valid1_acc = (KNN_model_predict_valid1 == y_valid1).mean()\n",
    "print(\"VALIDATION ACCURACY =\",KNN_model_valid1_acc)\n",
    "\n",
    "KNN_model_valid2_acc = (KNN_model_predict_valid2 == y_valid2).mean()\n",
    "print(\"VALIDATION ACCURACY =\",KNN_model_valid2_acc)"
   ]
  },
  {
   "cell_type": "markdown",
   "metadata": {},
   "source": [
    "## Linear Discriminant Analysis (LDA)"
   ]
  },
  {
   "cell_type": "markdown",
   "metadata": {},
   "source": [
    "### Importing LinearDiscriminantAnalysis"
   ]
  },
  {
   "cell_type": "code",
   "execution_count": 38,
   "metadata": {},
   "outputs": [],
   "source": [
    "from sklearn.discriminant_analysis import LinearDiscriminantAnalysis"
   ]
  },
  {
   "cell_type": "markdown",
   "metadata": {},
   "source": [
    "### Fitting LinearDiscriminantAnalysis"
   ]
  },
  {
   "cell_type": "code",
   "execution_count": 39,
   "metadata": {},
   "outputs": [
    {
     "name": "stderr",
     "output_type": "stream",
     "text": [
      "/usr/local/lib/python3.6/dist-packages/sklearn/discriminant_analysis.py:442: UserWarning: The priors do not sum to 1. Renormalizing\n",
      "  UserWarning)\n"
     ]
    }
   ],
   "source": [
    "LDA_model = LinearDiscriminantAnalysis().fit(x_train, y_train)"
   ]
  },
  {
   "cell_type": "code",
   "execution_count": 40,
   "metadata": {},
   "outputs": [],
   "source": [
    "LDA_model_predict_valid1 = LDA_model.predict(x_valid1)\n",
    "LDA_model_predict_valid2 = LDA_model.predict(x_valid2)"
   ]
  },
  {
   "cell_type": "markdown",
   "metadata": {},
   "source": [
    "### Validation Accuracy"
   ]
  },
  {
   "cell_type": "code",
   "execution_count": 41,
   "metadata": {},
   "outputs": [
    {
     "name": "stdout",
     "output_type": "stream",
     "text": [
      "VALIDATION ACCURACY = 0.8188\n",
      "VALIDATION ACCURACY = 0.8207\n"
     ]
    }
   ],
   "source": [
    "LDA_model_valid1_acc = (LDA_model_predict_valid1 == y_valid1).mean()\n",
    "print(\"VALIDATION ACCURACY =\",LDA_model_valid1_acc)\n",
    "\n",
    "LDA_model_valid2_acc = (LDA_model_predict_valid2 == y_valid2).mean()\n",
    "print(\"VALIDATION ACCURACY =\",LDA_model_valid2_acc)"
   ]
  },
  {
   "cell_type": "markdown",
   "metadata": {},
   "source": [
    "## Multilayer Perceptron (MLP)"
   ]
  },
  {
   "cell_type": "markdown",
   "metadata": {},
   "source": [
    "### Importing TensorFlow"
   ]
  },
  {
   "cell_type": "code",
   "execution_count": 42,
   "metadata": {},
   "outputs": [],
   "source": [
    "import tensorflow as tf"
   ]
  },
  {
   "cell_type": "markdown",
   "metadata": {},
   "source": [
    "### Restoring MLP structure"
   ]
  },
  {
   "cell_type": "code",
   "execution_count": 43,
   "metadata": {},
   "outputs": [],
   "source": [
    "def weight_variables(shape):\n",
    "    initial = tf.truncated_normal(shape)\n",
    "    return tf.Variable(initial)\n",
    "\n",
    "def bias_variables(shape):\n",
    "    initial = tf.truncated_normal(shape)\n",
    "    return tf.Variable(initial)    "
   ]
  },
  {
   "cell_type": "code",
   "execution_count": 44,
   "metadata": {},
   "outputs": [
    {
     "name": "stdout",
     "output_type": "stream",
     "text": [
      "INFO:tensorflow:Restoring parameters from ./MLP/model.ckpt\n",
      "MLP restored.\n"
     ]
    }
   ],
   "source": [
    "x = tf.placeholder(\"float\", [None,784])\n",
    "y = tf.placeholder(\"int64\", [None,])\n",
    "y_dummies = tf.one_hot(y,depth = 10)\n",
    "\n",
    "drop_prob = tf.placeholder(\"float\")\n",
    "training = tf.placeholder(\"bool\")\n",
    "\n",
    "l1_w = weight_variables([784,640])\n",
    "l1_b = bias_variables([640])\n",
    "l1_inner_product = tf.matmul(x, l1_w) + l1_b\n",
    "l1_leaky_relu = tf.nn.leaky_relu(l1_inner_product)\n",
    "l1_dropout = tf.layers.dropout(l1_leaky_relu,rate = drop_prob, training = training)\n",
    "\n",
    "l2_w = weight_variables([640,640])\n",
    "l2_b = bias_variables([640])\n",
    "l2_batch_normalization = tf.layers.batch_normalization(l1_dropout, training = training)\n",
    "l2_inner_product = tf.matmul(l2_batch_normalization, l2_w) + l2_b\n",
    "l2_reshape = tf.reshape(l2_inner_product,[-1,80,8])\n",
    "l2_maxout = tf.reshape(\n",
    "    tf.contrib.layers.maxout(l2_reshape,num_units=1),\n",
    "    [-1,80])\n",
    "l2_dropout = tf.layers.dropout(l2_maxout,rate = drop_prob, training = training)\n",
    "\n",
    "l3_w = weight_variables([80,80])\n",
    "l3_b = bias_variables([80])\n",
    "l3_inner_product = tf.matmul(l2_dropout, l3_w) + l3_b\n",
    "l3_leaky_relu = tf.nn.leaky_relu(l3_inner_product)\n",
    "l3_dropout = tf.layers.dropout(l3_leaky_relu,rate = drop_prob, training = training)\n",
    "\n",
    "l4_w = weight_variables([80,80])\n",
    "l4_b = bias_variables([80])\n",
    "l4_batch_normalization = tf.layers.batch_normalization(l3_dropout, training = training)\n",
    "l4_inner_product = tf.matmul(l4_batch_normalization, l4_w) + l4_b\n",
    "l4_reshape = tf.reshape(l4_inner_product,[-1,10,8])\n",
    "l4_maxout = tf.reshape(\n",
    "    tf.contrib.layers.maxout(l4_reshape,num_units=1),\n",
    "    [-1,10])\n",
    "l4_log_softmax = tf.nn.log_softmax(l4_maxout)\n",
    "\n",
    "xent_loss = -tf.reduce_sum( tf.multiply(y_dummies,l4_log_softmax) )\n",
    "\n",
    "pred_labels = tf.argmax(l4_log_softmax,axis=1)\n",
    "acc = tf.reduce_mean(tf.cast(tf.equal(y, pred_labels),\"float\"))\n",
    "\n",
    "saver = tf.train.Saver()\n",
    "sess = tf.Session()\n",
    "saver.restore(sess, \"./MLP/model.ckpt\")\n",
    "print(\"MLP restored.\")"
   ]
  },
  {
   "cell_type": "code",
   "execution_count": 45,
   "metadata": {},
   "outputs": [],
   "source": [
    "feed_dict = {x : x_valid1, y : y_valid1, drop_prob : .15, training : False}\n",
    "MLP_predict_valid1, MLP_valid1_acc = sess.run([pred_labels,acc], feed_dict = feed_dict)\n",
    "\n",
    "feed_dict = {x : x_valid2, y : y_valid2, drop_prob : .15, training : False}\n",
    "MLP_predict_valid2, MLP_valid2_acc = sess.run([pred_labels,acc], feed_dict = feed_dict)"
   ]
  },
  {
   "cell_type": "markdown",
   "metadata": {},
   "source": [
    "### Validation Accuracy"
   ]
  },
  {
   "cell_type": "code",
   "execution_count": 46,
   "metadata": {},
   "outputs": [
    {
     "name": "stdout",
     "output_type": "stream",
     "text": [
      "VALIDATION ACCURACY = 0.8823\n",
      "VALIDATION ACCURACY = 0.8784\n"
     ]
    }
   ],
   "source": [
    "print(\"VALIDATION ACCURACY =\",MLP_valid1_acc)\n",
    "print(\"VALIDATION ACCURACY =\",MLP_valid2_acc)"
   ]
  },
  {
   "cell_type": "code",
   "execution_count": null,
   "metadata": {},
   "outputs": [],
   "source": []
  },
  {
   "cell_type": "markdown",
   "metadata": {},
   "source": [
    "## STACKING"
   ]
  },
  {
   "cell_type": "code",
   "execution_count": 47,
   "metadata": {
    "scrolled": true
   },
   "outputs": [],
   "source": [
    "x_stck_valid1 = pd.concat([\n",
    "    pd.get_dummies(LR_model_pred_valid1),\n",
    "    pd.get_dummies(TR_model2_pred_valid1),\n",
    "    pd.get_dummies(BG_model_pred_valid1),\n",
    "    pd.get_dummies(RF_model_predict_valid1),\n",
    "    pd.get_dummies(GBST_model_predict_valid1),\n",
    "    pd.get_dummies(ABST_model_predict_valid1),\n",
    "    pd.get_dummies(SVM_model_predict_valid1),\n",
    "    pd.get_dummies(KNN_model_predict_valid1),\n",
    "    pd.get_dummies(LDA_model_predict_valid1),\n",
    "    pd.get_dummies(MLP_predict_valid1)\n",
    "],axis=1)"
   ]
  },
  {
   "cell_type": "code",
   "execution_count": 48,
   "metadata": {},
   "outputs": [],
   "source": [
    "x_stck_valid2 = pd.concat([\n",
    "    pd.get_dummies(LR_model_pred_valid2),\n",
    "    pd.get_dummies(TR_model2_pred_valid2),\n",
    "    pd.get_dummies(BG_model_pred_valid2),\n",
    "    pd.get_dummies(RF_model_predict_valid2),\n",
    "    pd.get_dummies(GBST_model_predict_valid2),\n",
    "    pd.get_dummies(ABST_model_predict_valid2),\n",
    "    pd.get_dummies(SVM_model_predict_valid2),\n",
    "    pd.get_dummies(KNN_model_predict_valid2),\n",
    "    pd.get_dummies(LDA_model_predict_valid2),\n",
    "    pd.get_dummies(MLP_predict_valid2)\n",
    "],axis=1)"
   ]
  },
  {
   "cell_type": "code",
   "execution_count": null,
   "metadata": {},
   "outputs": [],
   "source": []
  },
  {
   "cell_type": "markdown",
   "metadata": {},
   "source": [
    "## STACKING(Multinomial Logistic Regression)"
   ]
  },
  {
   "cell_type": "markdown",
   "metadata": {},
   "source": [
    "### Importing LogisticRegression"
   ]
  },
  {
   "cell_type": "code",
   "execution_count": 49,
   "metadata": {},
   "outputs": [],
   "source": [
    "from sklearn.linear_model import LogisticRegression\n",
    "from sklearn.metrics import confusion_matrix"
   ]
  },
  {
   "cell_type": "markdown",
   "metadata": {},
   "source": [
    "### Fitting Logistic Regression"
   ]
  },
  {
   "cell_type": "code",
   "execution_count": 50,
   "metadata": {},
   "outputs": [],
   "source": [
    "stck_LR_model = LogisticRegression().fit(x_stck_valid1, y_valid1)"
   ]
  },
  {
   "cell_type": "code",
   "execution_count": 51,
   "metadata": {},
   "outputs": [],
   "source": [
    "stck_LR_model_pred_valid1 = stck_LR_model.predict(x_stck_valid1)\n",
    "stck_LR_model_pred_valid2 = stck_LR_model.predict(x_stck_valid2)"
   ]
  },
  {
   "cell_type": "markdown",
   "metadata": {},
   "source": [
    "### Training Accuracy"
   ]
  },
  {
   "cell_type": "code",
   "execution_count": 52,
   "metadata": {},
   "outputs": [
    {
     "name": "stdout",
     "output_type": "stream",
     "text": [
      "VALIDATION ACCURACY = 0.9081\n"
     ]
    }
   ],
   "source": [
    "stck_LR_model_valid1_acc = (stck_LR_model_pred_valid1 == y_valid1).mean()\n",
    "print(\"VALIDATION ACCURACY =\",stck_LR_model_valid1_acc)"
   ]
  },
  {
   "cell_type": "markdown",
   "metadata": {},
   "source": [
    "### Validation Accuracy"
   ]
  },
  {
   "cell_type": "code",
   "execution_count": 53,
   "metadata": {},
   "outputs": [
    {
     "name": "stdout",
     "output_type": "stream",
     "text": [
      "VALIDATION ACCURACY = 0.8993\n"
     ]
    }
   ],
   "source": [
    "stck_LR_model_valid2_acc = (stck_LR_model_pred_valid2 == y_valid2).mean()\n",
    "print(\"VALIDATION ACCURACY =\",stck_LR_model_valid2_acc)"
   ]
  },
  {
   "cell_type": "code",
   "execution_count": null,
   "metadata": {},
   "outputs": [],
   "source": []
  },
  {
   "cell_type": "markdown",
   "metadata": {},
   "source": [
    "## STACKING(Ramdom Forest)"
   ]
  },
  {
   "cell_type": "markdown",
   "metadata": {},
   "source": [
    "### Importing RandomForestClassifier"
   ]
  },
  {
   "cell_type": "code",
   "execution_count": 54,
   "metadata": {},
   "outputs": [],
   "source": [
    "from sklearn.ensemble import RandomForestClassifier"
   ]
  },
  {
   "cell_type": "markdown",
   "metadata": {},
   "source": [
    "### Fitting Random Forest"
   ]
  },
  {
   "cell_type": "code",
   "execution_count": 55,
   "metadata": {},
   "outputs": [],
   "source": [
    "stck_RF_model = RandomForestClassifier(n_estimators=2000,n_jobs=-1).fit(x_stck_valid1, y_valid1)"
   ]
  },
  {
   "cell_type": "code",
   "execution_count": 56,
   "metadata": {},
   "outputs": [],
   "source": [
    "stck_RF_model_pred_valid1 = stck_RF_model.predict(x_stck_valid1)\n",
    "stck_RF_model_pred_valid2 = stck_RF_model.predict(x_stck_valid2)"
   ]
  },
  {
   "cell_type": "markdown",
   "metadata": {},
   "source": [
    "### Training Accuracy"
   ]
  },
  {
   "cell_type": "code",
   "execution_count": 57,
   "metadata": {},
   "outputs": [
    {
     "name": "stdout",
     "output_type": "stream",
     "text": [
      "VALIDATION ACCURACY = 0.9618\n"
     ]
    }
   ],
   "source": [
    "stck_RF_model_valid1_acc = (stck_RF_model_pred_valid1 == y_valid1).mean()\n",
    "print(\"VALIDATION ACCURACY =\",stck_RF_model_valid1_acc)"
   ]
  },
  {
   "cell_type": "markdown",
   "metadata": {},
   "source": [
    "### Validation Accuracy"
   ]
  },
  {
   "cell_type": "code",
   "execution_count": 58,
   "metadata": {},
   "outputs": [
    {
     "name": "stdout",
     "output_type": "stream",
     "text": [
      "VALIDATION ACCURACY = 0.8949\n"
     ]
    }
   ],
   "source": [
    "stck_RF_model_valid2_acc = (stck_RF_model_pred_valid2 == y_valid2).mean()\n",
    "print(\"VALIDATION ACCURACY =\",stck_RF_model_valid2_acc)"
   ]
  },
  {
   "cell_type": "code",
   "execution_count": null,
   "metadata": {},
   "outputs": [],
   "source": []
  },
  {
   "cell_type": "markdown",
   "metadata": {},
   "source": [
    "## STACKING(LDA)"
   ]
  },
  {
   "cell_type": "markdown",
   "metadata": {},
   "source": [
    "### Importing LinearDiscriminantAnalysis"
   ]
  },
  {
   "cell_type": "code",
   "execution_count": 59,
   "metadata": {},
   "outputs": [],
   "source": [
    "from sklearn.discriminant_analysis import LinearDiscriminantAnalysis"
   ]
  },
  {
   "cell_type": "markdown",
   "metadata": {},
   "source": [
    "### Fitting LinearDiscriminantAnalysis"
   ]
  },
  {
   "cell_type": "code",
   "execution_count": 60,
   "metadata": {},
   "outputs": [
    {
     "name": "stderr",
     "output_type": "stream",
     "text": [
      "/usr/local/lib/python3.6/dist-packages/sklearn/discriminant_analysis.py:388: UserWarning: Variables are collinear.\n",
      "  warnings.warn(\"Variables are collinear.\")\n"
     ]
    }
   ],
   "source": [
    "stck_LDA_model = LinearDiscriminantAnalysis().fit(x_stck_valid1, y_valid1)"
   ]
  },
  {
   "cell_type": "code",
   "execution_count": 61,
   "metadata": {},
   "outputs": [],
   "source": [
    "stck_LDA_model_pred_valid1 = stck_LDA_model.predict(x_stck_valid1)\n",
    "stck_LDA_model_pred_valid2 = stck_LDA_model.predict(x_stck_valid2)"
   ]
  },
  {
   "cell_type": "markdown",
   "metadata": {},
   "source": [
    "### Training Accuracy"
   ]
  },
  {
   "cell_type": "code",
   "execution_count": 62,
   "metadata": {},
   "outputs": [
    {
     "name": "stdout",
     "output_type": "stream",
     "text": [
      "VALIDATION ACCURACY = 0.9065\n"
     ]
    }
   ],
   "source": [
    "stck_LDA_model_valid1_acc = (stck_LDA_model_pred_valid1 == y_valid1).mean()\n",
    "print(\"VALIDATION ACCURACY =\",stck_LDA_model_valid1_acc)"
   ]
  },
  {
   "cell_type": "markdown",
   "metadata": {},
   "source": [
    "### Validation Accuracy"
   ]
  },
  {
   "cell_type": "code",
   "execution_count": 63,
   "metadata": {},
   "outputs": [
    {
     "name": "stdout",
     "output_type": "stream",
     "text": [
      "VALIDATION ACCURACY = 0.897\n"
     ]
    }
   ],
   "source": [
    "stck_LDA_model_valid2_acc = (stck_LDA_model_pred_valid2 == y_valid2).mean()\n",
    "print(\"VALIDATION ACCURACY =\",stck_LDA_model_valid2_acc)"
   ]
  },
  {
   "cell_type": "code",
   "execution_count": null,
   "metadata": {},
   "outputs": [],
   "source": []
  },
  {
   "cell_type": "markdown",
   "metadata": {},
   "source": [
    "### Fitting LinearDiscriminantAnalysis with Shrinkage and Solver 'lsqr'"
   ]
  },
  {
   "cell_type": "code",
   "execution_count": 64,
   "metadata": {},
   "outputs": [
    {
     "name": "stderr",
     "output_type": "stream",
     "text": [
      "/usr/local/lib/python3.6/dist-packages/sklearn/utils/validation.py:475: DataConversionWarning: Data with input dtype uint8 was converted to float64 by StandardScaler.\n",
      "  warnings.warn(msg, DataConversionWarning)\n"
     ]
    }
   ],
   "source": [
    "stck_LDA_model_2 = LinearDiscriminantAnalysis(solver='lsqr',shrinkage='auto').fit(x_stck_valid1, y_valid1)"
   ]
  },
  {
   "cell_type": "code",
   "execution_count": 65,
   "metadata": {},
   "outputs": [],
   "source": [
    "stck_LDA_model_2_pred_valid1 = stck_LDA_model_2.predict(x_stck_valid1)\n",
    "stck_LDA_model_2_pred_valid2 = stck_LDA_model_2.predict(x_stck_valid2)"
   ]
  },
  {
   "cell_type": "markdown",
   "metadata": {},
   "source": [
    "### Training Accuracy"
   ]
  },
  {
   "cell_type": "code",
   "execution_count": 66,
   "metadata": {},
   "outputs": [
    {
     "name": "stdout",
     "output_type": "stream",
     "text": [
      "VALIDATION ACCURACY = 0.8948\n"
     ]
    }
   ],
   "source": [
    "stck_LDA_model_2_valid1_acc = (stck_LDA_model_2_pred_valid1 == y_valid1).mean()\n",
    "print(\"VALIDATION ACCURACY =\",stck_LDA_model_2_valid1_acc)"
   ]
  },
  {
   "cell_type": "markdown",
   "metadata": {},
   "source": [
    "### Validation Accuracy"
   ]
  },
  {
   "cell_type": "code",
   "execution_count": 67,
   "metadata": {},
   "outputs": [
    {
     "name": "stdout",
     "output_type": "stream",
     "text": [
      "VALIDATION ACCURACY = 0.8926\n"
     ]
    }
   ],
   "source": [
    "stck_LDA_model_2_valid2_acc = (stck_LDA_model_2_pred_valid2 == y_valid2).mean()\n",
    "print(\"VALIDATION ACCURACY =\",stck_LDA_model_2_valid2_acc)"
   ]
  },
  {
   "cell_type": "code",
   "execution_count": null,
   "metadata": {},
   "outputs": [],
   "source": []
  },
  {
   "cell_type": "markdown",
   "metadata": {},
   "source": [
    "### Fitting LinearDiscriminantAnalysis with Shrinkage and Solver 'eigen'"
   ]
  },
  {
   "cell_type": "code",
   "execution_count": 68,
   "metadata": {},
   "outputs": [
    {
     "name": "stderr",
     "output_type": "stream",
     "text": [
      "/usr/local/lib/python3.6/dist-packages/sklearn/utils/validation.py:475: DataConversionWarning: Data with input dtype uint8 was converted to float64 by StandardScaler.\n",
      "  warnings.warn(msg, DataConversionWarning)\n"
     ]
    }
   ],
   "source": [
    "stck_LDA_model_3 = LinearDiscriminantAnalysis(solver='eigen',shrinkage='auto').fit(x_stck_valid1, y_valid1)"
   ]
  },
  {
   "cell_type": "code",
   "execution_count": 69,
   "metadata": {},
   "outputs": [],
   "source": [
    "stck_LDA_model_3_pred_valid1 = stck_LDA_model_3.predict(x_stck_valid1)\n",
    "stck_LDA_model_3_pred_valid2 = stck_LDA_model_3.predict(x_stck_valid2)"
   ]
  },
  {
   "cell_type": "markdown",
   "metadata": {},
   "source": [
    "### Training Accuracy"
   ]
  },
  {
   "cell_type": "code",
   "execution_count": 70,
   "metadata": {},
   "outputs": [
    {
     "name": "stdout",
     "output_type": "stream",
     "text": [
      "VALIDATION ACCURACY = 0.8932\n"
     ]
    }
   ],
   "source": [
    "stck_LDA_model_3_valid1_acc = (stck_LDA_model_3_pred_valid1 == y_valid1).mean()\n",
    "print(\"VALIDATION ACCURACY =\",stck_LDA_model_3_valid1_acc)"
   ]
  },
  {
   "cell_type": "markdown",
   "metadata": {},
   "source": [
    "### Validation Accuracy"
   ]
  },
  {
   "cell_type": "code",
   "execution_count": 71,
   "metadata": {},
   "outputs": [
    {
     "name": "stdout",
     "output_type": "stream",
     "text": [
      "VALIDATION ACCURACY = 0.8909\n"
     ]
    }
   ],
   "source": [
    "stck_LDA_model_3_valid2_acc = (stck_LDA_model_3_pred_valid2 == y_valid2).mean()\n",
    "print(\"VALIDATION ACCURACY =\",stck_LDA_model_3_valid2_acc)"
   ]
  },
  {
   "cell_type": "code",
   "execution_count": null,
   "metadata": {},
   "outputs": [],
   "source": []
  },
  {
   "cell_type": "markdown",
   "metadata": {},
   "source": [
    "# BETTER MODEL"
   ]
  },
  {
   "cell_type": "markdown",
   "metadata": {},
   "source": [
    "## STACKING(Multinomial Logistic Regression)"
   ]
  },
  {
   "cell_type": "markdown",
   "metadata": {},
   "source": [
    "### Validation Accuracy"
   ]
  },
  {
   "cell_type": "code",
   "execution_count": 72,
   "metadata": {},
   "outputs": [
    {
     "name": "stdout",
     "output_type": "stream",
     "text": [
      "VALIDATION ACCURACY = 0.8993\n"
     ]
    }
   ],
   "source": [
    "stck_LR_model_valid2_acc = (stck_LR_model_pred_valid2 == y_valid2).mean()\n",
    "print(\"VALIDATION ACCURACY =\",stck_LR_model_valid2_acc)"
   ]
  },
  {
   "cell_type": "code",
   "execution_count": 73,
   "metadata": {},
   "outputs": [],
   "source": [
    "LR_model_pred_test = LR_model.predict(x_test)\n",
    "TR_model2_pred_test = TR_model2.predict(x_test)\n",
    "BG_model_pred_test = BG_model.predict(x_test)\n",
    "RF_model_predict_test = RF_model.predict(x_test)\n",
    "GBST_model_predict_test = GBST_model.predict(x_test)\n",
    "ABST_model_predict_test = ABST_model.predict(x_test)\n",
    "SVM_model_predict_test = SVM_model.predict(x_test)\n",
    "KNN_model_predict_test = KNN_model.predict(x_test)\n",
    "LDA_model_predict_test = LDA_model.predict(x_test)\n",
    "feed_dict = {x : x_test, y : y_test, drop_prob : .15, training : False}\n",
    "MLP_predict_test = sess.run(pred_labels, feed_dict = feed_dict)"
   ]
  },
  {
   "cell_type": "code",
   "execution_count": 74,
   "metadata": {
    "scrolled": true
   },
   "outputs": [],
   "source": [
    "x_stck_test = pd.concat([\n",
    "    pd.get_dummies(LR_model_pred_test),\n",
    "    pd.get_dummies(TR_model2_pred_test),\n",
    "    pd.get_dummies(BG_model_pred_test),\n",
    "    pd.get_dummies(RF_model_predict_test),\n",
    "    pd.get_dummies(GBST_model_predict_test),\n",
    "    pd.get_dummies(ABST_model_predict_test),\n",
    "    pd.get_dummies(SVM_model_predict_test),\n",
    "    pd.get_dummies(KNN_model_predict_test),\n",
    "    pd.get_dummies(LDA_model_predict_test),\n",
    "    pd.get_dummies(MLP_predict_test)\n",
    "],axis=1)\n",
    "\n",
    "stck_LR_model_pred_test = stck_LR_model.predict(x_stck_test)"
   ]
  },
  {
   "cell_type": "markdown",
   "metadata": {},
   "source": [
    "# TEST ACCURACY (FINAL)"
   ]
  },
  {
   "cell_type": "code",
   "execution_count": 75,
   "metadata": {},
   "outputs": [
    {
     "name": "stdout",
     "output_type": "stream",
     "text": [
      "TEST ACCURACY = 0.9002\n"
     ]
    }
   ],
   "source": [
    "stck_LR_model_test_acc = (stck_LR_model_pred_test == y_test).mean()\n",
    "print(\"TEST ACCURACY =\",stck_LR_model_test_acc)"
   ]
  },
  {
   "cell_type": "code",
   "execution_count": null,
   "metadata": {},
   "outputs": [],
   "source": []
  }
 ],
 "metadata": {
  "kernelspec": {
   "display_name": "Python 3",
   "language": "python",
   "name": "python3"
  },
  "language_info": {
   "codemirror_mode": {
    "name": "ipython",
    "version": 3
   },
   "file_extension": ".py",
   "mimetype": "text/x-python",
   "name": "python",
   "nbconvert_exporter": "python",
   "pygments_lexer": "ipython3",
   "version": "3.6.5"
  }
 },
 "nbformat": 4,
 "nbformat_minor": 2
}

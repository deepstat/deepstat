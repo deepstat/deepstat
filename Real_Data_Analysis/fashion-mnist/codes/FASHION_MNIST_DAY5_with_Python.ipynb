{
 "cells": [
  {
   "cell_type": "markdown",
   "metadata": {},
   "source": [
    "# FASHION MNIST with Python (DAY 5)\n",
    "\n",
    "DATA SOURCE : https://www.kaggle.com/zalando-research/fashionmnist (Kaggle, Fashion MNIST)\n",
    "\n",
    "FASHION MNIST with Python (DAY 1) : http://deepstat.tistory.com/35\n",
    "\n",
    "FASHION MNIST with Python (DAY 2) : http://deepstat.tistory.com/36\n",
    "\n",
    "FASHION MNIST with Python (DAY 3) : http://deepstat.tistory.com/37\n",
    "\n",
    "FASHION MNIST with Python (DAY 4) : http://deepstat.tistory.com/38"
   ]
  },
  {
   "cell_type": "markdown",
   "metadata": {},
   "source": [
    "## Datasets"
   ]
  },
  {
   "cell_type": "markdown",
   "metadata": {},
   "source": [
    "### Importing numpy, pandas, pyplot"
   ]
  },
  {
   "cell_type": "code",
   "execution_count": 1,
   "metadata": {},
   "outputs": [],
   "source": [
    "import numpy as np\n",
    "import pandas as pd\n",
    "import matplotlib.pyplot as plt"
   ]
  },
  {
   "cell_type": "markdown",
   "metadata": {},
   "source": [
    "### Loading datasets"
   ]
  },
  {
   "cell_type": "code",
   "execution_count": 2,
   "metadata": {},
   "outputs": [],
   "source": [
    "data_train = pd.read_csv(\"..\\\\datasets\\\\fashion-mnist_train.csv\")\n",
    "data_test = pd.read_csv(\"..\\\\datasets\\\\fashion-mnist_test.csv\")"
   ]
  },
  {
   "cell_type": "code",
   "execution_count": 3,
   "metadata": {
    "scrolled": true
   },
   "outputs": [],
   "source": [
    "data_train_y = data_train.label\n",
    "y_test = data_test.label"
   ]
  },
  {
   "cell_type": "code",
   "execution_count": 4,
   "metadata": {},
   "outputs": [],
   "source": [
    "data_train_x = data_train.drop(\"label\",axis=1)/256\n",
    "x_test = data_test.drop(\"label\",axis=1)/256"
   ]
  },
  {
   "cell_type": "markdown",
   "metadata": {},
   "source": [
    "### Spliting valid and training"
   ]
  },
  {
   "cell_type": "code",
   "execution_count": 5,
   "metadata": {},
   "outputs": [],
   "source": [
    "np.random.seed(0)\n",
    "valid2_idx = np.random.choice(60000,10000,replace = False)\n",
    "valid1_idx = np.random.choice(list(set(range(60000)) - set(valid2_idx)),10000,replace=False)\n",
    "train_idx = list(set(range(60000))-set(valid1_idx)-set(valid2_idx))\n",
    "\n",
    "x_train = data_train_x.iloc[train_idx,:]\n",
    "y_train = data_train_y.iloc[train_idx]\n",
    "\n",
    "x_valid1 = data_train_x.iloc[valid1_idx,:]\n",
    "y_valid1 = data_train_y.iloc[valid1_idx]\n",
    "\n",
    "x_valid2 = data_train_x.iloc[valid2_idx,:]\n",
    "y_valid2 = data_train_y.iloc[valid2_idx]"
   ]
  },
  {
   "cell_type": "markdown",
   "metadata": {},
   "source": [
    "## K-Nearest Neighbors"
   ]
  },
  {
   "cell_type": "markdown",
   "metadata": {},
   "source": [
    "### Importing KNeighborsClassifier"
   ]
  },
  {
   "cell_type": "code",
   "execution_count": 6,
   "metadata": {},
   "outputs": [],
   "source": [
    "from sklearn.neighbors import KNeighborsClassifier\n",
    "from sklearn.metrics import confusion_matrix"
   ]
  },
  {
   "cell_type": "markdown",
   "metadata": {},
   "source": [
    "### Fitting SVC with $k=1$"
   ]
  },
  {
   "cell_type": "code",
   "execution_count": 7,
   "metadata": {},
   "outputs": [],
   "source": [
    "KNN_model_type_1 = KNeighborsClassifier(n_neighbors=1).fit(x_train, y_train)"
   ]
  },
  {
   "cell_type": "markdown",
   "metadata": {},
   "source": [
    "### Training Accuracy"
   ]
  },
  {
   "cell_type": "code",
   "execution_count": 8,
   "metadata": {},
   "outputs": [
    {
     "data": {
      "text/plain": [
       "array([[3994,    0,    0,    0,    0,    0,    0,    0,    0,    0],\n",
       "       [   0, 3990,    0,    0,    0,    0,    0,    0,    0,    0],\n",
       "       [   0,    0, 4056,    0,    0,    0,    0,    0,    0,    0],\n",
       "       [   0,    0,    0, 3929,    0,    0,    0,    0,    0,    0],\n",
       "       [   0,    0,    0,    0, 4016,    0,    0,    0,    0,    0],\n",
       "       [   0,    0,    0,    0,    0, 3932,    0,    0,    0,    0],\n",
       "       [   0,    0,    0,    0,    0,    0, 4005,    0,    0,    0],\n",
       "       [   0,    0,    0,    0,    0,    0,    0, 4103,    0,    0],\n",
       "       [   0,    0,    0,    0,    0,    0,    0,    0, 3946,    0],\n",
       "       [   0,    0,    0,    0,    0,    0,    0,    0,    0, 4029]],\n",
       "      dtype=int64)"
      ]
     },
     "execution_count": 8,
     "metadata": {},
     "output_type": "execute_result"
    }
   ],
   "source": [
    "confusion_matrix(KNN_model_type_1.predict(x_train),y_train)"
   ]
  },
  {
   "cell_type": "code",
   "execution_count": 9,
   "metadata": {},
   "outputs": [
    {
     "name": "stdout",
     "output_type": "stream",
     "text": [
      "TRAINING ACCURACY = 1.0\n"
     ]
    }
   ],
   "source": [
    "KNN_model_type_1_train_acc = (KNN_model_type_1.predict(x_train) == y_train).mean()\n",
    "print(\"TRAINING ACCURACY =\",KNN_model_type_1_train_acc)"
   ]
  },
  {
   "cell_type": "markdown",
   "metadata": {},
   "source": [
    "### Validation Accuracy"
   ]
  },
  {
   "cell_type": "code",
   "execution_count": 10,
   "metadata": {
    "scrolled": true
   },
   "outputs": [
    {
     "data": {
      "text/plain": [
       "array([[ 829,    6,   10,   40,    7,    0,  144,    0,    9,    0],\n",
       "       [   3, 1007,    0,    8,    1,    0,    1,    0,    0,    0],\n",
       "       [  18,    1,  730,   12,  140,    0,  117,    0,   11,    0],\n",
       "       [  22,    7,   11,  863,   40,    0,   18,    0,    6,    0],\n",
       "       [   4,    0,   98,   40,  710,    0,   77,    0,    6,    0],\n",
       "       [   0,    0,    0,    0,    0,  896,    0,    3,    0,    7],\n",
       "       [ 134,    4,   96,   45,   93,    1,  622,    0,    8,    1],\n",
       "       [   0,    0,    0,    0,    0,   80,    0,  892,    4,   39],\n",
       "       [   5,    0,    0,    4,    4,    3,    8,    2,  987,    1],\n",
       "       [   0,    1,    0,    0,    0,   80,    0,   51,    3,  930]],\n",
       "      dtype=int64)"
      ]
     },
     "execution_count": 10,
     "metadata": {},
     "output_type": "execute_result"
    }
   ],
   "source": [
    "confusion_matrix(KNN_model_type_1.predict(x_valid1),y_valid1)"
   ]
  },
  {
   "cell_type": "code",
   "execution_count": 11,
   "metadata": {},
   "outputs": [
    {
     "name": "stdout",
     "output_type": "stream",
     "text": [
      "VALIDATION ACCURACY = 0.8466\n"
     ]
    }
   ],
   "source": [
    "KNN_model_type_1_valid1_acc = (KNN_model_type_1.predict(x_valid1) == y_valid1).mean()\n",
    "print(\"VALIDATION ACCURACY =\",KNN_model_type_1_valid1_acc)"
   ]
  },
  {
   "cell_type": "code",
   "execution_count": 12,
   "metadata": {},
   "outputs": [
    {
     "data": {
      "text/plain": [
       "{'TRAIN_ACC': 1.0, 'VALID_ACC': 0.8466}"
      ]
     },
     "execution_count": 12,
     "metadata": {},
     "output_type": "execute_result"
    }
   ],
   "source": [
    "{\"TRAIN_ACC\" : KNN_model_type_1_train_acc , \"VALID_ACC\" : KNN_model_type_1_valid1_acc}"
   ]
  },
  {
   "cell_type": "code",
   "execution_count": null,
   "metadata": {},
   "outputs": [],
   "source": []
  },
  {
   "cell_type": "markdown",
   "metadata": {},
   "source": [
    "### Fitting SVC with $k=2$"
   ]
  },
  {
   "cell_type": "code",
   "execution_count": 13,
   "metadata": {},
   "outputs": [],
   "source": [
    "KNN_model_type_2 = KNeighborsClassifier(n_neighbors=2).fit(x_train, y_train)"
   ]
  },
  {
   "cell_type": "markdown",
   "metadata": {},
   "source": [
    "### Training Accuracy"
   ]
  },
  {
   "cell_type": "code",
   "execution_count": 14,
   "metadata": {},
   "outputs": [
    {
     "data": {
      "text/plain": [
       "array([[3994,   10,   71,  199,   17,    3,  640,    0,   25,    1],\n",
       "       [   0, 3980,    3,   43,    5,    0,    4,    0,    2,    0],\n",
       "       [   0,    0, 3982,   52,  501,    0,  470,    0,   38,    0],\n",
       "       [   0,    0,    0, 3635,  134,    2,   99,    0,   26,    0],\n",
       "       [   0,    0,    0,    0, 3359,    0,  301,    0,   19,    0],\n",
       "       [   0,    0,    0,    0,    0, 3927,    0,   18,    3,   11],\n",
       "       [   0,    0,    0,    0,    0,    0, 2491,    1,   49,    1],\n",
       "       [   0,    0,    0,    0,    0,    0,    0, 4084,   13,  155],\n",
       "       [   0,    0,    0,    0,    0,    0,    0,    0, 3771,    0],\n",
       "       [   0,    0,    0,    0,    0,    0,    0,    0,    0, 3861]],\n",
       "      dtype=int64)"
      ]
     },
     "execution_count": 14,
     "metadata": {},
     "output_type": "execute_result"
    }
   ],
   "source": [
    "confusion_matrix(KNN_model_type_2.predict(x_train),y_train)"
   ]
  },
  {
   "cell_type": "code",
   "execution_count": 15,
   "metadata": {},
   "outputs": [
    {
     "name": "stdout",
     "output_type": "stream",
     "text": [
      "TRAINING ACCURACY = 0.9271\n"
     ]
    }
   ],
   "source": [
    "KNN_model_type_2_train_acc = (KNN_model_type_2.predict(x_train) == y_train).mean()\n",
    "print(\"TRAINING ACCURACY =\",KNN_model_type_2_train_acc)"
   ]
  },
  {
   "cell_type": "markdown",
   "metadata": {},
   "source": [
    "### Validation Accuracy"
   ]
  },
  {
   "cell_type": "code",
   "execution_count": 16,
   "metadata": {
    "scrolled": true
   },
   "outputs": [
    {
     "data": {
      "text/plain": [
       "array([[ 922,   11,   28,   65,   11,    2,  223,    0,   15,    0],\n",
       "       [   4, 1006,    0,   17,    2,    0,    5,    0,    0,    0],\n",
       "       [  22,    2,  803,   19,  224,    3,  184,    0,   23,    0],\n",
       "       [  17,    5,   13,  865,   60,    0,   28,    1,    6,    1],\n",
       "       [   2,    0,   71,   22,  656,    0,   94,    0,    7,    0],\n",
       "       [   0,    0,    0,    0,    0,  951,    0,    8,    1,   11],\n",
       "       [  44,    1,   30,   21,   40,    1,  448,    0,   20,    1],\n",
       "       [   0,    0,    0,    0,    0,   54,    0,  910,    8,   58],\n",
       "       [   4,    0,    0,    3,    2,    2,    5,    0,  952,    1],\n",
       "       [   0,    1,    0,    0,    0,   47,    0,   29,    2,  906]],\n",
       "      dtype=int64)"
      ]
     },
     "execution_count": 16,
     "metadata": {},
     "output_type": "execute_result"
    }
   ],
   "source": [
    "confusion_matrix(KNN_model_type_2.predict(x_valid1),y_valid1)"
   ]
  },
  {
   "cell_type": "code",
   "execution_count": 17,
   "metadata": {},
   "outputs": [
    {
     "name": "stdout",
     "output_type": "stream",
     "text": [
      "VALIDATION ACCURACY = 0.8419\n"
     ]
    }
   ],
   "source": [
    "KNN_model_type_2_valid1_acc = (KNN_model_type_2.predict(x_valid1) == y_valid1).mean()\n",
    "print(\"VALIDATION ACCURACY =\",KNN_model_type_2_valid1_acc)"
   ]
  },
  {
   "cell_type": "code",
   "execution_count": 18,
   "metadata": {},
   "outputs": [
    {
     "data": {
      "text/plain": [
       "{'TRAIN_ACC': 0.9271, 'VALID_ACC': 0.8419}"
      ]
     },
     "execution_count": 18,
     "metadata": {},
     "output_type": "execute_result"
    }
   ],
   "source": [
    "{\"TRAIN_ACC\" : KNN_model_type_2_train_acc , \"VALID_ACC\" : KNN_model_type_2_valid1_acc}"
   ]
  },
  {
   "cell_type": "code",
   "execution_count": null,
   "metadata": {},
   "outputs": [],
   "source": []
  },
  {
   "cell_type": "markdown",
   "metadata": {},
   "source": [
    "### Fitting SVC with $k=3$"
   ]
  },
  {
   "cell_type": "code",
   "execution_count": 19,
   "metadata": {},
   "outputs": [],
   "source": [
    "KNN_model_type_3 = KNeighborsClassifier(n_neighbors=3).fit(x_train, y_train)"
   ]
  },
  {
   "cell_type": "markdown",
   "metadata": {},
   "source": [
    "### Training Accuracy"
   ]
  },
  {
   "cell_type": "code",
   "execution_count": 20,
   "metadata": {},
   "outputs": [
    {
     "data": {
      "text/plain": [
       "array([[3726,   18,   72,  158,   23,    4,  444,    0,   28,    1],\n",
       "       [   2, 3918,    2,   15,    5,    0,    4,    0,    3,    0],\n",
       "       [  28,    6, 3619,   39,  344,    0,  376,    0,   44,    0],\n",
       "       [  38,   36,    9, 3585,   74,    2,   59,    0,   13,    0],\n",
       "       [   8,    3,  195,   86, 3391,    1,  139,    0,   16,    0],\n",
       "       [   0,    0,    0,    0,    0, 3587,    0,   10,    2,    8],\n",
       "       [ 171,    8,  154,   45,  176,    6, 2969,    0,   13,    0],\n",
       "       [   1,    0,    1,    0,    0,  183,    0, 3992,   11,   65],\n",
       "       [  20,    1,    4,    1,    3,    7,   13,    1, 3813,    0],\n",
       "       [   0,    0,    0,    0,    0,  142,    1,  100,    3, 3955]],\n",
       "      dtype=int64)"
      ]
     },
     "execution_count": 20,
     "metadata": {},
     "output_type": "execute_result"
    }
   ],
   "source": [
    "confusion_matrix(KNN_model_type_3.predict(x_train),y_train)"
   ]
  },
  {
   "cell_type": "code",
   "execution_count": 21,
   "metadata": {},
   "outputs": [
    {
     "name": "stdout",
     "output_type": "stream",
     "text": [
      "TRAINING ACCURACY = 0.913875\n"
     ]
    }
   ],
   "source": [
    "KNN_model_type_3_train_acc = (KNN_model_type_3.predict(x_train) == y_train).mean()\n",
    "print(\"TRAINING ACCURACY =\",KNN_model_type_3_train_acc)"
   ]
  },
  {
   "cell_type": "markdown",
   "metadata": {},
   "source": [
    "### Validation Accuracy"
   ]
  },
  {
   "cell_type": "code",
   "execution_count": 22,
   "metadata": {
    "scrolled": true
   },
   "outputs": [
    {
     "data": {
      "text/plain": [
       "array([[ 873,   11,   26,   56,   12,    3,  176,    0,   13,    0],\n",
       "       [   3, 1003,    1,    8,    3,    0,    4,    0,    2,    0],\n",
       "       [  18,    1,  754,   12,  154,    2,  148,    0,   21,    0],\n",
       "       [  17,    8,   11,  861,   40,    0,   15,    1,    7,    1],\n",
       "       [   2,    0,   82,   43,  701,    0,   56,    0,    6,    0],\n",
       "       [   0,    0,    0,    0,    0,  882,    0,    1,    0,    4],\n",
       "       [  98,    2,   71,   29,   81,    2,  580,    0,    9,    1],\n",
       "       [   0,    0,    0,    0,    0,   90,    0,  901,    6,   32],\n",
       "       [   4,    0,    0,    3,    4,    3,    8,    0,  967,    1],\n",
       "       [   0,    1,    0,    0,    0,   78,    0,   45,    3,  939]],\n",
       "      dtype=int64)"
      ]
     },
     "execution_count": 22,
     "metadata": {},
     "output_type": "execute_result"
    }
   ],
   "source": [
    "confusion_matrix(KNN_model_type_3.predict(x_valid1),y_valid1)"
   ]
  },
  {
   "cell_type": "code",
   "execution_count": 23,
   "metadata": {},
   "outputs": [
    {
     "name": "stdout",
     "output_type": "stream",
     "text": [
      "VALIDATION ACCURACY = 0.8461\n"
     ]
    }
   ],
   "source": [
    "KNN_model_type_3_valid1_acc = (KNN_model_type_3.predict(x_valid1) == y_valid1).mean()\n",
    "print(\"VALIDATION ACCURACY =\",KNN_model_type_3_valid1_acc)"
   ]
  },
  {
   "cell_type": "code",
   "execution_count": 24,
   "metadata": {},
   "outputs": [
    {
     "data": {
      "text/plain": [
       "{'TRAIN_ACC': 0.913875, 'VALID_ACC': 0.8461}"
      ]
     },
     "execution_count": 24,
     "metadata": {},
     "output_type": "execute_result"
    }
   ],
   "source": [
    "{\"TRAIN_ACC\" : KNN_model_type_3_train_acc , \"VALID_ACC\" : KNN_model_type_3_valid1_acc}"
   ]
  },
  {
   "cell_type": "code",
   "execution_count": null,
   "metadata": {},
   "outputs": [],
   "source": []
  },
  {
   "cell_type": "markdown",
   "metadata": {},
   "source": [
    "### Fitting SVC with $k=5$"
   ]
  },
  {
   "cell_type": "code",
   "execution_count": 25,
   "metadata": {},
   "outputs": [],
   "source": [
    "KNN_model_type_4 = KNeighborsClassifier(n_neighbors=5).fit(x_train, y_train)"
   ]
  },
  {
   "cell_type": "markdown",
   "metadata": {},
   "source": [
    "### Training Accuracy"
   ]
  },
  {
   "cell_type": "code",
   "execution_count": 26,
   "metadata": {},
   "outputs": [
    {
     "data": {
      "text/plain": [
       "array([[3650,   14,   54,  145,   15,    1,  562,    0,   19,    1],\n",
       "       [   2, 3890,    2,   17,    3,    0,    2,    0,    0,    0],\n",
       "       [  46,   17, 3504,   35,  326,    2,  436,    0,   51,    1],\n",
       "       [  62,   48,   24, 3554,   87,    2,   60,    0,   20,    0],\n",
       "       [  16,    5,  272,  109, 3336,    0,  243,    0,   21,    0],\n",
       "       [   0,    0,    0,    0,    0, 3435,    0,    9,    2,    3],\n",
       "       [ 193,   15,  194,   64,  245,   15, 2685,    1,   36,    2],\n",
       "       [   1,    0,    1,    0,    0,  276,    0, 3953,   12,   97],\n",
       "       [  24,    1,    5,    5,    4,    8,   16,    0, 3782,    0],\n",
       "       [   0,    0,    0,    0,    0,  193,    1,  140,    3, 3925]],\n",
       "      dtype=int64)"
      ]
     },
     "execution_count": 26,
     "metadata": {},
     "output_type": "execute_result"
    }
   ],
   "source": [
    "confusion_matrix(KNN_model_type_4.predict(x_train),y_train)"
   ]
  },
  {
   "cell_type": "code",
   "execution_count": 27,
   "metadata": {},
   "outputs": [
    {
     "name": "stdout",
     "output_type": "stream",
     "text": [
      "TRAINING ACCURACY = 0.89285\n"
     ]
    }
   ],
   "source": [
    "KNN_model_type_4_train_acc = (KNN_model_type_4.predict(x_train) == y_train).mean()\n",
    "print(\"TRAINING ACCURACY =\",KNN_model_type_4_train_acc)"
   ]
  },
  {
   "cell_type": "markdown",
   "metadata": {},
   "source": [
    "### Validation Accuracy"
   ]
  },
  {
   "cell_type": "code",
   "execution_count": 28,
   "metadata": {
    "scrolled": true
   },
   "outputs": [
    {
     "data": {
      "text/plain": [
       "array([[ 886,    7,   15,   58,    7,    2,  181,    0,    9,    0],\n",
       "       [   3, 1000,    1,    4,    3,    0,    3,    0,    0,    0],\n",
       "       [  17,    4,  772,   12,  124,    1,  147,    0,   22,    0],\n",
       "       [  18,   11,   13,  872,   36,    0,   18,    0,    8,    1],\n",
       "       [   3,    0,   92,   41,  732,    0,   67,    0,   10,    0],\n",
       "       [   0,    0,    0,    0,    0,  868,    0,    1,    1,    1],\n",
       "       [  82,    3,   52,   22,   88,    5,  562,    0,    7,    1],\n",
       "       [   0,    0,    0,    0,    0,  102,    0,  891,    5,   32],\n",
       "       [   6,    0,    0,    3,    5,    4,    9,    1,  971,    1],\n",
       "       [   0,    1,    0,    0,    0,   78,    0,   55,    1,  942]],\n",
       "      dtype=int64)"
      ]
     },
     "execution_count": 28,
     "metadata": {},
     "output_type": "execute_result"
    }
   ],
   "source": [
    "confusion_matrix(KNN_model_type_4.predict(x_valid1),y_valid1)"
   ]
  },
  {
   "cell_type": "code",
   "execution_count": 29,
   "metadata": {},
   "outputs": [
    {
     "name": "stdout",
     "output_type": "stream",
     "text": [
      "VALIDATION ACCURACY = 0.8496\n"
     ]
    }
   ],
   "source": [
    "KNN_model_type_4_valid1_acc = (KNN_model_type_4.predict(x_valid1) == y_valid1).mean()\n",
    "print(\"VALIDATION ACCURACY =\",KNN_model_type_4_valid1_acc)"
   ]
  },
  {
   "cell_type": "code",
   "execution_count": 30,
   "metadata": {},
   "outputs": [
    {
     "data": {
      "text/plain": [
       "{'TRAIN_ACC': 0.89285, 'VALID_ACC': 0.8496}"
      ]
     },
     "execution_count": 30,
     "metadata": {},
     "output_type": "execute_result"
    }
   ],
   "source": [
    "{\"TRAIN_ACC\" : KNN_model_type_4_train_acc , \"VALID_ACC\" : KNN_model_type_4_valid1_acc}"
   ]
  },
  {
   "cell_type": "code",
   "execution_count": null,
   "metadata": {},
   "outputs": [],
   "source": []
  },
  {
   "cell_type": "markdown",
   "metadata": {},
   "source": [
    "### Fitting SVC with $k=8$"
   ]
  },
  {
   "cell_type": "code",
   "execution_count": 31,
   "metadata": {},
   "outputs": [],
   "source": [
    "KNN_model_type_5 = KNeighborsClassifier(n_neighbors=8).fit(x_train, y_train)"
   ]
  },
  {
   "cell_type": "markdown",
   "metadata": {},
   "source": [
    "### Training Accuracy"
   ]
  },
  {
   "cell_type": "code",
   "execution_count": 32,
   "metadata": {},
   "outputs": [
    {
     "data": {
      "text/plain": [
       "array([[3628,   14,   55,  149,   22,    2,  713,    0,   15,    0],\n",
       "       [   2, 3870,    3,   22,    4,    0,    3,    0,    0,    0],\n",
       "       [  62,   19, 3455,   38,  383,    2,  458,    0,   64,    1],\n",
       "       [  64,   60,   22, 3527,   99,    1,   70,    0,   17,    1],\n",
       "       [  16,    6,  299,  108, 3217,    0,  273,    0,   28,    0],\n",
       "       [   0,    0,    0,    0,    0, 3353,    0,   10,    2,    3],\n",
       "       [ 191,   19,  215,   81,  285,   23, 2466,    1,   44,    4],\n",
       "       [   1,    0,    1,    0,    0,  321,    1, 3969,   20,  128],\n",
       "       [  30,    2,    6,    3,    6,   12,   20,    0, 3752,    0],\n",
       "       [   0,    0,    0,    1,    0,  218,    1,  123,    4, 3892]],\n",
       "      dtype=int64)"
      ]
     },
     "execution_count": 32,
     "metadata": {},
     "output_type": "execute_result"
    }
   ],
   "source": [
    "confusion_matrix(KNN_model_type_5.predict(x_train),y_train)"
   ]
  },
  {
   "cell_type": "code",
   "execution_count": 33,
   "metadata": {},
   "outputs": [
    {
     "name": "stdout",
     "output_type": "stream",
     "text": [
      "TRAINING ACCURACY = 0.878225\n"
     ]
    }
   ],
   "source": [
    "KNN_model_type_5_train_acc = (KNN_model_type_5.predict(x_train) == y_train).mean()\n",
    "print(\"TRAINING ACCURACY =\",KNN_model_type_5_train_acc)"
   ]
  },
  {
   "cell_type": "markdown",
   "metadata": {},
   "source": [
    "### Validation Accuracy"
   ]
  },
  {
   "cell_type": "code",
   "execution_count": 34,
   "metadata": {
    "scrolled": true
   },
   "outputs": [
    {
     "data": {
      "text/plain": [
       "array([[907,  10,  13,  52,   8,   1, 195,   0,   6,   0],\n",
       "       [  1, 996,   0,   7,   3,   0,   3,   0,   0,   0],\n",
       "       [ 13,   5, 771,  10, 120,   0, 149,   0,  22,   0],\n",
       "       [ 21,   9,  12, 890,  37,   1,  17,   0,   7,   1],\n",
       "       [  5,   0,  88,  28, 729,   0,  64,   0,  12,   0],\n",
       "       [  0,   0,   0,   0,   0, 865,   0,   0,   1,   0],\n",
       "       [ 62,   5,  57,  22,  93,   6, 547,   1,   8,   1],\n",
       "       [  0,   0,   0,   0,   0, 106,   0, 905,   6,  37],\n",
       "       [  6,   0,   4,   3,   5,   4,  12,   0, 971,   1],\n",
       "       [  0,   1,   0,   0,   0,  77,   0,  42,   1, 938]], dtype=int64)"
      ]
     },
     "execution_count": 34,
     "metadata": {},
     "output_type": "execute_result"
    }
   ],
   "source": [
    "confusion_matrix(KNN_model_type_5.predict(x_valid1),y_valid1)"
   ]
  },
  {
   "cell_type": "code",
   "execution_count": 35,
   "metadata": {},
   "outputs": [
    {
     "name": "stdout",
     "output_type": "stream",
     "text": [
      "VALIDATION ACCURACY = 0.8519\n"
     ]
    }
   ],
   "source": [
    "KNN_model_type_5_valid1_acc = (KNN_model_type_5.predict(x_valid1) == y_valid1).mean()\n",
    "print(\"VALIDATION ACCURACY =\",KNN_model_type_5_valid1_acc)"
   ]
  },
  {
   "cell_type": "code",
   "execution_count": 36,
   "metadata": {},
   "outputs": [
    {
     "data": {
      "text/plain": [
       "{'TRAIN_ACC': 0.878225, 'VALID_ACC': 0.8519}"
      ]
     },
     "execution_count": 36,
     "metadata": {},
     "output_type": "execute_result"
    }
   ],
   "source": [
    "{\"TRAIN_ACC\" : KNN_model_type_5_train_acc , \"VALID_ACC\" : KNN_model_type_5_valid1_acc}"
   ]
  },
  {
   "cell_type": "code",
   "execution_count": null,
   "metadata": {},
   "outputs": [],
   "source": []
  },
  {
   "cell_type": "markdown",
   "metadata": {},
   "source": [
    "### Fitting SVC with $k=12$"
   ]
  },
  {
   "cell_type": "code",
   "execution_count": 37,
   "metadata": {},
   "outputs": [],
   "source": [
    "KNN_model_type_6 = KNeighborsClassifier(n_neighbors=12).fit(x_train, y_train)"
   ]
  },
  {
   "cell_type": "markdown",
   "metadata": {},
   "source": [
    "### Training Accuracy"
   ]
  },
  {
   "cell_type": "code",
   "execution_count": 38,
   "metadata": {},
   "outputs": [
    {
     "data": {
      "text/plain": [
       "array([[3601,   20,   57,  150,   15,    1,  736,    0,   14,    1],\n",
       "       [   1, 3841,    3,   24,    5,    0,    3,    0,    0,    0],\n",
       "       [  62,   28, 3361,   37,  369,    1,  475,    0,   65,    1],\n",
       "       [  76,   70,   27, 3484,  101,    3,   78,    0,   22,    1],\n",
       "       [  23,    9,  322,  139, 3191,    0,  298,    0,   33,    0],\n",
       "       [   0,    0,    0,    0,    0, 3244,    0,   11,    1,    4],\n",
       "       [ 196,   20,  277,   91,  325,   27, 2386,    1,   34,    2],\n",
       "       [   1,    0,    1,    0,    0,  389,    1, 3927,   24,  129],\n",
       "       [  34,    2,    8,    4,   10,   14,   27,    0, 3749,    0],\n",
       "       [   0,    0,    0,    0,    0,  253,    1,  164,    4, 3891]],\n",
       "      dtype=int64)"
      ]
     },
     "execution_count": 38,
     "metadata": {},
     "output_type": "execute_result"
    }
   ],
   "source": [
    "confusion_matrix(KNN_model_type_6.predict(x_train),y_train)"
   ]
  },
  {
   "cell_type": "code",
   "execution_count": 39,
   "metadata": {},
   "outputs": [
    {
     "name": "stdout",
     "output_type": "stream",
     "text": [
      "TRAINING ACCURACY = 0.866875\n"
     ]
    }
   ],
   "source": [
    "KNN_model_type_6_train_acc = (KNN_model_type_6.predict(x_train) == y_train).mean()\n",
    "print(\"TRAINING ACCURACY =\",KNN_model_type_6_train_acc)"
   ]
  },
  {
   "cell_type": "markdown",
   "metadata": {},
   "source": [
    "### Validation Accuracy"
   ]
  },
  {
   "cell_type": "code",
   "execution_count": 40,
   "metadata": {
    "scrolled": true
   },
   "outputs": [
    {
     "data": {
      "text/plain": [
       "array([[891,   8,   9,  42,   6,   0, 197,   0,   4,   0],\n",
       "       [  1, 992,   0,   8,   2,   0,   2,   0,   0,   0],\n",
       "       [ 18,   7, 754,   9, 120,   0, 148,   0,  16,   0],\n",
       "       [ 25,  12,  14, 893,  38,   1,  19,   0,   9,   0],\n",
       "       [  5,   1,  96,  30, 717,   0,  62,   0,  10,   0],\n",
       "       [  0,   0,   0,   0,   0, 851,   0,   1,   1,   1],\n",
       "       [ 69,   5,  68,  27, 107,  10, 547,   1,  17,   1],\n",
       "       [  0,   0,   0,   0,   0, 109,   0, 898,   8,  34],\n",
       "       [  6,   0,   4,   3,   5,   4,  12,   1, 968,   1],\n",
       "       [  0,   1,   0,   0,   0,  85,   0,  47,   1, 941]], dtype=int64)"
      ]
     },
     "execution_count": 40,
     "metadata": {},
     "output_type": "execute_result"
    }
   ],
   "source": [
    "confusion_matrix(KNN_model_type_6.predict(x_valid1),y_valid1)"
   ]
  },
  {
   "cell_type": "code",
   "execution_count": 41,
   "metadata": {},
   "outputs": [
    {
     "name": "stdout",
     "output_type": "stream",
     "text": [
      "VALIDATION ACCURACY = 0.8452\n"
     ]
    }
   ],
   "source": [
    "KNN_model_type_6_valid1_acc = (KNN_model_type_6.predict(x_valid1) == y_valid1).mean()\n",
    "print(\"VALIDATION ACCURACY =\",KNN_model_type_6_valid1_acc)"
   ]
  },
  {
   "cell_type": "code",
   "execution_count": 42,
   "metadata": {},
   "outputs": [
    {
     "data": {
      "text/plain": [
       "{'TRAIN_ACC': 0.866875, 'VALID_ACC': 0.8452}"
      ]
     },
     "execution_count": 42,
     "metadata": {},
     "output_type": "execute_result"
    }
   ],
   "source": [
    "{\"TRAIN_ACC\" : KNN_model_type_6_train_acc , \"VALID_ACC\" : KNN_model_type_6_valid1_acc}"
   ]
  },
  {
   "cell_type": "code",
   "execution_count": null,
   "metadata": {},
   "outputs": [],
   "source": []
  },
  {
   "cell_type": "markdown",
   "metadata": {},
   "source": [
    "### Fitting SVC with $k=17$"
   ]
  },
  {
   "cell_type": "code",
   "execution_count": 43,
   "metadata": {},
   "outputs": [],
   "source": [
    "KNN_model_type_7 = KNeighborsClassifier(n_neighbors=17).fit(x_train, y_train)"
   ]
  },
  {
   "cell_type": "markdown",
   "metadata": {},
   "source": [
    "### Training Accuracy"
   ]
  },
  {
   "cell_type": "code",
   "execution_count": 44,
   "metadata": {},
   "outputs": [
    {
     "data": {
      "text/plain": [
       "array([[3562,   12,   55,  160,   20,    1,  753,    0,   16,    1],\n",
       "       [   1, 3815,    2,   24,    5,    0,    2,    0,    0,    0],\n",
       "       [  71,   29, 3292,   32,  351,    2,  480,    0,   64,    1],\n",
       "       [  81,   98,   26, 3444,   94,    4,   74,    0,   22,    1],\n",
       "       [  28,    9,  362,  159, 3171,    0,  304,    0,   36,    0],\n",
       "       [   0,    0,    0,    0,    0, 3129,    0,   12,    2,    4],\n",
       "       [ 215,   26,  309,  104,  366,   32, 2357,    1,   46,    4],\n",
       "       [   1,    0,    1,    0,    0,  454,    1, 3885,   28,  114],\n",
       "       [  35,    1,    9,    6,    9,   16,   33,    0, 3727,    0],\n",
       "       [   0,    0,    0,    0,    0,  294,    1,  205,    5, 3904]],\n",
       "      dtype=int64)"
      ]
     },
     "execution_count": 44,
     "metadata": {},
     "output_type": "execute_result"
    }
   ],
   "source": [
    "confusion_matrix(KNN_model_type_7.predict(x_train),y_train)"
   ]
  },
  {
   "cell_type": "code",
   "execution_count": 45,
   "metadata": {},
   "outputs": [
    {
     "name": "stdout",
     "output_type": "stream",
     "text": [
      "TRAINING ACCURACY = 0.85715\n"
     ]
    }
   ],
   "source": [
    "KNN_model_type_7_train_acc = (KNN_model_type_7.predict(x_train) == y_train).mean()\n",
    "print(\"TRAINING ACCURACY =\",KNN_model_type_7_train_acc)"
   ]
  },
  {
   "cell_type": "markdown",
   "metadata": {},
   "source": [
    "### Validation Accuracy"
   ]
  },
  {
   "cell_type": "code",
   "execution_count": 46,
   "metadata": {
    "scrolled": true
   },
   "outputs": [
    {
     "data": {
      "text/plain": [
       "array([[893,   6,  12,  48,   8,   0, 198,   0,   4,   0],\n",
       "       [  1, 987,   0,  10,   3,   0,   2,   0,   0,   0],\n",
       "       [ 12,  12, 745,   8, 108,   0, 154,   0,  17,   0],\n",
       "       [ 27,  14,  12, 884,  35,   1,  17,   0,   9,   1],\n",
       "       [  4,   1,  98,  32, 725,   0,  61,   0,  11,   0],\n",
       "       [  0,   0,   0,   0,   0, 828,   0,   1,   1,   0],\n",
       "       [ 72,   5,  74,  27, 111,  10, 543,   1,  17,   2],\n",
       "       [  0,   0,   0,   0,   0, 128,   0, 888,   7,  30],\n",
       "       [  6,   0,   4,   2,   5,   4,  12,   0, 967,   1],\n",
       "       [  0,   1,   0,   1,   0,  89,   0,  58,   1, 944]], dtype=int64)"
      ]
     },
     "execution_count": 46,
     "metadata": {},
     "output_type": "execute_result"
    }
   ],
   "source": [
    "confusion_matrix(KNN_model_type_7.predict(x_valid1),y_valid1)"
   ]
  },
  {
   "cell_type": "code",
   "execution_count": 47,
   "metadata": {},
   "outputs": [
    {
     "name": "stdout",
     "output_type": "stream",
     "text": [
      "VALIDATION ACCURACY = 0.8404\n"
     ]
    }
   ],
   "source": [
    "KNN_model_type_7_valid1_acc = (KNN_model_type_7.predict(x_valid1) == y_valid1).mean()\n",
    "print(\"VALIDATION ACCURACY =\",KNN_model_type_7_valid1_acc)"
   ]
  },
  {
   "cell_type": "code",
   "execution_count": 48,
   "metadata": {},
   "outputs": [
    {
     "data": {
      "text/plain": [
       "{'TRAIN_ACC': 0.85715, 'VALID_ACC': 0.8404}"
      ]
     },
     "execution_count": 48,
     "metadata": {},
     "output_type": "execute_result"
    }
   ],
   "source": [
    "{\"TRAIN_ACC\" : KNN_model_type_7_train_acc , \"VALID_ACC\" : KNN_model_type_7_valid1_acc}"
   ]
  },
  {
   "cell_type": "code",
   "execution_count": null,
   "metadata": {},
   "outputs": [],
   "source": []
  },
  {
   "cell_type": "markdown",
   "metadata": {},
   "source": [
    "### Fitting SVC with $k=23$"
   ]
  },
  {
   "cell_type": "code",
   "execution_count": 49,
   "metadata": {},
   "outputs": [],
   "source": [
    "KNN_model_type_8 = KNeighborsClassifier(n_neighbors=23).fit(x_train, y_train)"
   ]
  },
  {
   "cell_type": "markdown",
   "metadata": {},
   "source": [
    "### Training Accuracy"
   ]
  },
  {
   "cell_type": "code",
   "execution_count": 50,
   "metadata": {},
   "outputs": [
    {
     "data": {
      "text/plain": [
       "array([[3556,   15,   60,  165,   16,    1,  775,    0,   13,    1],\n",
       "       [   1, 3800,    2,   24,    4,    0,    3,    0,    0,    0],\n",
       "       [  76,   29, 3215,   34,  367,    1,  499,    0,   72,    1],\n",
       "       [  88,  107,   27, 3431,   93,    4,   71,    0,   26,    1],\n",
       "       [  27,   11,  388,  162, 3116,    0,  311,    0,   39,    0],\n",
       "       [   0,    0,    0,    0,    0, 3065,    0,   13,    1,    6],\n",
       "       [ 206,   27,  354,  107,  411,   35, 2307,    1,   53,    5],\n",
       "       [   1,    0,    1,    0,    0,  506,    1, 3864,   36,  116],\n",
       "       [  39,    1,    9,    6,    9,   17,   37,    0, 3701,    0],\n",
       "       [   0,    0,    0,    0,    0,  303,    1,  225,    5, 3899]],\n",
       "      dtype=int64)"
      ]
     },
     "execution_count": 50,
     "metadata": {},
     "output_type": "execute_result"
    }
   ],
   "source": [
    "confusion_matrix(KNN_model_type_8.predict(x_train),y_train)"
   ]
  },
  {
   "cell_type": "code",
   "execution_count": 51,
   "metadata": {},
   "outputs": [
    {
     "name": "stdout",
     "output_type": "stream",
     "text": [
      "TRAINING ACCURACY = 0.84885\n"
     ]
    }
   ],
   "source": [
    "KNN_model_type_8_train_acc = (KNN_model_type_8.predict(x_train) == y_train).mean()\n",
    "print(\"TRAINING ACCURACY =\",KNN_model_type_8_train_acc)"
   ]
  },
  {
   "cell_type": "markdown",
   "metadata": {},
   "source": [
    "### Validation Accuracy"
   ]
  },
  {
   "cell_type": "code",
   "execution_count": 52,
   "metadata": {
    "scrolled": true
   },
   "outputs": [
    {
     "data": {
      "text/plain": [
       "array([[888,   6,   9,  47,   4,   0, 205,   0,   4,   0],\n",
       "       [  1, 982,   0,  10,   3,   0,   2,   0,   0,   0],\n",
       "       [ 14,  13, 729,   6, 107,   0, 154,   0,  16,   0],\n",
       "       [ 23,  17,   9, 890,  39,   1,  17,   0,   9,   1],\n",
       "       [  6,   0, 107,  34, 720,   0,  67,   0,  12,   0],\n",
       "       [  0,   0,   0,   0,   0, 809,   0,   1,   1,   1],\n",
       "       [ 77,   7,  87,  22, 116,  11, 530,   1,  19,   2],\n",
       "       [  0,   0,   0,   0,   0, 142,   0, 884,   9,  30],\n",
       "       [  6,   0,   4,   2,   6,   4,  11,   2, 963,   1],\n",
       "       [  0,   1,   0,   1,   0,  93,   1,  60,   1, 943]], dtype=int64)"
      ]
     },
     "execution_count": 52,
     "metadata": {},
     "output_type": "execute_result"
    }
   ],
   "source": [
    "confusion_matrix(KNN_model_type_8.predict(x_valid1),y_valid1)"
   ]
  },
  {
   "cell_type": "code",
   "execution_count": 53,
   "metadata": {},
   "outputs": [
    {
     "name": "stdout",
     "output_type": "stream",
     "text": [
      "VALIDATION ACCURACY = 0.8338\n"
     ]
    }
   ],
   "source": [
    "KNN_model_type_8_valid1_acc = (KNN_model_type_8.predict(x_valid1) == y_valid1).mean()\n",
    "print(\"VALIDATION ACCURACY =\",KNN_model_type_8_valid1_acc)"
   ]
  },
  {
   "cell_type": "code",
   "execution_count": 54,
   "metadata": {},
   "outputs": [
    {
     "data": {
      "text/plain": [
       "{'TRAIN_ACC': 0.84885, 'VALID_ACC': 0.8338}"
      ]
     },
     "execution_count": 54,
     "metadata": {},
     "output_type": "execute_result"
    }
   ],
   "source": [
    "{\"TRAIN_ACC\" : KNN_model_type_8_train_acc , \"VALID_ACC\" : KNN_model_type_8_valid1_acc}"
   ]
  },
  {
   "cell_type": "code",
   "execution_count": null,
   "metadata": {},
   "outputs": [],
   "source": []
  }
 ],
 "metadata": {
  "kernelspec": {
   "display_name": "Python 3",
   "language": "python",
   "name": "python3"
  },
  "language_info": {
   "codemirror_mode": {
    "name": "ipython",
    "version": 3
   },
   "file_extension": ".py",
   "mimetype": "text/x-python",
   "name": "python",
   "nbconvert_exporter": "python",
   "pygments_lexer": "ipython3",
   "version": "3.6.6"
  }
 },
 "nbformat": 4,
 "nbformat_minor": 2
}

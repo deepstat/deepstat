{
 "cells": [
  {
   "cell_type": "markdown",
   "metadata": {},
   "source": [
    "## DATA SET 출처"
   ]
  },
  {
   "cell_type": "markdown",
   "metadata": {},
   "source": [
    "http://archive.ics.uci.edu/ml/datasets/Iris (UCI, Iris Data Set)\n",
    "\n",
    "https://gist.githubusercontent.com/netj/8836201/raw/6f9306ad21398ea43cba4f7d537619d0e07d5ae3/iris.csv (Github, Iris Data Set)"
   ]
  },
  {
   "cell_type": "markdown",
   "metadata": {},
   "source": [
    "## 참고자료"
   ]
  },
  {
   "cell_type": "markdown",
   "metadata": {},
   "source": [
    "https://deepstat.tistory.com/15 (Autoencoder ver.R)\n",
    "\n",
    "https://deepstat.tistory.com/31 (Autoencoder ver.Python)\n",
    "\n",
    "https://juliadata.github.io/CSV.jl/ (CSV in Julia)\n",
    "\n",
    "http://fluxml.ai/ (Flux in Julia)"
   ]
  },
  {
   "cell_type": "markdown",
   "metadata": {},
   "source": [
    "## Autoencoder (ver. Flux in Julia)"
   ]
  },
  {
   "cell_type": "markdown",
   "metadata": {},
   "source": [
    "## Iris"
   ]
  },
  {
   "cell_type": "code",
   "execution_count": 1,
   "metadata": {},
   "outputs": [
    {
     "data": {
      "text/html": [
       "<table class=\"data-frame\"><thead><tr><th></th><th>SepalLength</th><th>SepalWidth</th><th>PetalLength</th><th>PetalWidth</th><th>Species</th></tr><tr><th></th><th>Float64</th><th>Float64</th><th>Float64</th><th>Float64</th><th>Categorical…</th></tr></thead><tbody><p>6 rows × 5 columns</p><tr><th>1</th><td>5.1</td><td>3.5</td><td>1.4</td><td>0.2</td><td>setosa</td></tr><tr><th>2</th><td>4.9</td><td>3.0</td><td>1.4</td><td>0.2</td><td>setosa</td></tr><tr><th>3</th><td>4.7</td><td>3.2</td><td>1.3</td><td>0.2</td><td>setosa</td></tr><tr><th>4</th><td>4.6</td><td>3.1</td><td>1.5</td><td>0.2</td><td>setosa</td></tr><tr><th>5</th><td>5.0</td><td>3.6</td><td>1.4</td><td>0.2</td><td>setosa</td></tr><tr><th>6</th><td>5.4</td><td>3.9</td><td>1.7</td><td>0.4</td><td>setosa</td></tr></tbody></table>"
      ],
      "text/latex": [
       "\\begin{tabular}{r|ccccc}\n",
       "\t& SepalLength & SepalWidth & PetalLength & PetalWidth & Species\\\\\n",
       "\t\\hline\n",
       "\t1 & 5.1 & 3.5 & 1.4 & 0.2 & setosa \\\\\n",
       "\t2 & 4.9 & 3.0 & 1.4 & 0.2 & setosa \\\\\n",
       "\t3 & 4.7 & 3.2 & 1.3 & 0.2 & setosa \\\\\n",
       "\t4 & 4.6 & 3.1 & 1.5 & 0.2 & setosa \\\\\n",
       "\t5 & 5.0 & 3.6 & 1.4 & 0.2 & setosa \\\\\n",
       "\t6 & 5.4 & 3.9 & 1.7 & 0.4 & setosa \\\\\n",
       "\\end{tabular}\n"
      ],
      "text/plain": [
       "6×5 DataFrame\n",
       "│ Row │ SepalLength │ SepalWidth │ PetalLength │ PetalWidth │ Species      │\n",
       "│     │ \u001b[90mFloat64\u001b[39m     │ \u001b[90mFloat64\u001b[39m    │ \u001b[90mFloat64\u001b[39m     │ \u001b[90mFloat64\u001b[39m    │ \u001b[90mCategorical…\u001b[39m │\n",
       "├─────┼─────────────┼────────────┼─────────────┼────────────┼──────────────┤\n",
       "│ 1   │ 5.1         │ 3.5        │ 1.4         │ 0.2        │ setosa       │\n",
       "│ 2   │ 4.9         │ 3.0        │ 1.4         │ 0.2        │ setosa       │\n",
       "│ 3   │ 4.7         │ 3.2        │ 1.3         │ 0.2        │ setosa       │\n",
       "│ 4   │ 4.6         │ 3.1        │ 1.5         │ 0.2        │ setosa       │\n",
       "│ 5   │ 5.0         │ 3.6        │ 1.4         │ 0.2        │ setosa       │\n",
       "│ 6   │ 5.4         │ 3.9        │ 1.7         │ 0.4        │ setosa       │"
      ]
     },
     "execution_count": 1,
     "metadata": {},
     "output_type": "execute_result"
    },
    {
     "name": "stderr",
     "output_type": "stream",
     "text": [
      "┌ Warning: In the future eachcol will have names argument set to false by default\n",
      "│   caller = getmaxwidths(::DataFrame, ::UnitRange{Int64}, ::UnitRange{Int64}, ::Symbol) at show.jl:105\n",
      "└ @ DataFrames /home/yt/.julia/packages/DataFrames/5Rg4Y/src/abstractdataframe/show.jl:105\n"
     ]
    }
   ],
   "source": [
    "using RDatasets\n",
    "\n",
    "iris = dataset(\"datasets\", \"iris\")\n",
    "first(iris, 6)"
   ]
  },
  {
   "cell_type": "code",
   "execution_count": 2,
   "metadata": {},
   "outputs": [
    {
     "data": {
      "text/html": [
       "<table class=\"data-frame\"><thead><tr><th></th><th>variable</th><th>mean</th><th>min</th><th>median</th><th>max</th><th>nunique</th><th>nmissing</th><th>eltype</th></tr><tr><th></th><th>Symbol</th><th>Union…</th><th>Any</th><th>Union…</th><th>Any</th><th>Union…</th><th>Nothing</th><th>DataType</th></tr></thead><tbody><p>5 rows × 8 columns</p><tr><th>1</th><td>SepalLength</td><td>5.84333</td><td>4.3</td><td>5.8</td><td>7.9</td><td></td><td></td><td>Float64</td></tr><tr><th>2</th><td>SepalWidth</td><td>3.05733</td><td>2.0</td><td>3.0</td><td>4.4</td><td></td><td></td><td>Float64</td></tr><tr><th>3</th><td>PetalLength</td><td>3.758</td><td>1.0</td><td>4.35</td><td>6.9</td><td></td><td></td><td>Float64</td></tr><tr><th>4</th><td>PetalWidth</td><td>1.19933</td><td>0.1</td><td>1.3</td><td>2.5</td><td></td><td></td><td>Float64</td></tr><tr><th>5</th><td>Species</td><td></td><td>setosa</td><td></td><td>virginica</td><td>3</td><td></td><td>CategoricalString{UInt8}</td></tr></tbody></table>"
      ],
      "text/latex": [
       "\\begin{tabular}{r|cccccccc}\n",
       "\t& variable & mean & min & median & max & nunique & nmissing & eltype\\\\\n",
       "\t\\hline\n",
       "\t1 & SepalLength & 5.84333 & 4.3 & 5.8 & 7.9 &  &  & Float64 \\\\\n",
       "\t2 & SepalWidth & 3.05733 & 2.0 & 3.0 & 4.4 &  &  & Float64 \\\\\n",
       "\t3 & PetalLength & 3.758 & 1.0 & 4.35 & 6.9 &  &  & Float64 \\\\\n",
       "\t4 & PetalWidth & 1.19933 & 0.1 & 1.3 & 2.5 &  &  & Float64 \\\\\n",
       "\t5 & Species &  & setosa &  & virginica & 3 &  & CategoricalString\\{UInt8\\} \\\\\n",
       "\\end{tabular}\n"
      ],
      "text/plain": [
       "5×8 DataFrame. Omitted printing of 2 columns\n",
       "│ Row │ variable    │ mean    │ min    │ median │ max       │ nunique │\n",
       "│     │ \u001b[90mSymbol\u001b[39m      │ \u001b[90mUnion…\u001b[39m  │ \u001b[90mAny\u001b[39m    │ \u001b[90mUnion…\u001b[39m │ \u001b[90mAny\u001b[39m       │ \u001b[90mUnion…\u001b[39m  │\n",
       "├─────┼─────────────┼─────────┼────────┼────────┼───────────┼─────────┤\n",
       "│ 1   │ SepalLength │ 5.84333 │ 4.3    │ 5.8    │ 7.9       │         │\n",
       "│ 2   │ SepalWidth  │ 3.05733 │ 2.0    │ 3.0    │ 4.4       │         │\n",
       "│ 3   │ PetalLength │ 3.758   │ 1.0    │ 4.35   │ 6.9       │         │\n",
       "│ 4   │ PetalWidth  │ 1.19933 │ 0.1    │ 1.3    │ 2.5       │         │\n",
       "│ 5   │ Species     │         │ setosa │        │ virginica │ 3       │"
      ]
     },
     "execution_count": 2,
     "metadata": {},
     "output_type": "execute_result"
    }
   ],
   "source": [
    "describe(iris)"
   ]
  },
  {
   "cell_type": "markdown",
   "metadata": {},
   "source": [
    "## Handling the data set"
   ]
  },
  {
   "cell_type": "code",
   "execution_count": 3,
   "metadata": {},
   "outputs": [
    {
     "name": "stderr",
     "output_type": "stream",
     "text": [
      "┌ Warning: Indexing with colon as row will create a copy in the future. Use `df[col_inds]` to get the columns without copying\n",
      "│   caller = top-level scope at In[3]:8\n",
      "└ @ Core In[3]:8\n",
      "┌ Warning: Indexing with colon as row will create a copy in the future. Use `df[col_inds]` to get the columns without copying\n",
      "│   caller = top-level scope at In[3]:10\n",
      "└ @ Core In[3]:10\n"
     ]
    },
    {
     "data": {
      "text/html": [
       "<table class=\"data-frame\"><thead><tr><th></th><th>variable</th><th>mean</th><th>min</th><th>median</th><th>max</th><th>nunique</th><th>nmissing</th><th>eltype</th></tr><tr><th></th><th>Symbol</th><th>Float64</th><th>Float64</th><th>Float64</th><th>Float64</th><th>Nothing</th><th>Nothing</th><th>DataType</th></tr></thead><tbody><p>4 rows × 8 columns</p><tr><th>1</th><td>SepalLength</td><td>5.797</td><td>4.3</td><td>5.7</td><td>7.7</td><td></td><td></td><td>Float64</td></tr><tr><th>2</th><td>SepalWidth</td><td>3.038</td><td>2.0</td><td>3.0</td><td>4.4</td><td></td><td></td><td>Float64</td></tr><tr><th>3</th><td>PetalLength</td><td>3.637</td><td>1.0</td><td>4.15</td><td>6.9</td><td></td><td></td><td>Float64</td></tr><tr><th>4</th><td>PetalWidth</td><td>1.14</td><td>0.1</td><td>1.3</td><td>2.5</td><td></td><td></td><td>Float64</td></tr></tbody></table>"
      ],
      "text/latex": [
       "\\begin{tabular}{r|cccccccc}\n",
       "\t& variable & mean & min & median & max & nunique & nmissing & eltype\\\\\n",
       "\t\\hline\n",
       "\t1 & SepalLength & 5.797 & 4.3 & 5.7 & 7.7 &  &  & Float64 \\\\\n",
       "\t2 & SepalWidth & 3.038 & 2.0 & 3.0 & 4.4 &  &  & Float64 \\\\\n",
       "\t3 & PetalLength & 3.637 & 1.0 & 4.15 & 6.9 &  &  & Float64 \\\\\n",
       "\t4 & PetalWidth & 1.14 & 0.1 & 1.3 & 2.5 &  &  & Float64 \\\\\n",
       "\\end{tabular}\n"
      ],
      "text/plain": [
       "4×8 DataFrame. Omitted printing of 2 columns\n",
       "│ Row │ variable    │ mean    │ min     │ median  │ max     │ nunique │\n",
       "│     │ \u001b[90mSymbol\u001b[39m      │ \u001b[90mFloat64\u001b[39m │ \u001b[90mFloat64\u001b[39m │ \u001b[90mFloat64\u001b[39m │ \u001b[90mFloat64\u001b[39m │ \u001b[90mNothing\u001b[39m │\n",
       "├─────┼─────────────┼─────────┼─────────┼─────────┼─────────┼─────────┤\n",
       "│ 1   │ SepalLength │ 5.797   │ 4.3     │ 5.7     │ 7.7     │         │\n",
       "│ 2   │ SepalWidth  │ 3.038   │ 2.0     │ 3.0     │ 4.4     │         │\n",
       "│ 3   │ PetalLength │ 3.637   │ 1.0     │ 4.15    │ 6.9     │         │\n",
       "│ 4   │ PetalWidth  │ 1.14    │ 0.1     │ 1.3     │ 2.5     │         │"
      ]
     },
     "execution_count": 3,
     "metadata": {},
     "output_type": "execute_result"
    }
   ],
   "source": [
    "using DataFrames, Random, StatsBase\n",
    "\n",
    "Random.seed!(1)\n",
    "test_obs = sample(vcat(repeat([false],100), repeat([true],50)),150;replace = false)\n",
    "\n",
    "training_set = iris[.!test_obs,:]\n",
    "testing_set = iris[test_obs,:]\n",
    "\n",
    "training_X = training_set[:,1:(end-1)]\n",
    "testing_X = testing_set[:,1:(end-1)]\n",
    "\n",
    "describe(training_X)"
   ]
  },
  {
   "cell_type": "code",
   "execution_count": 4,
   "metadata": {},
   "outputs": [
    {
     "data": {
      "text/html": [
       "<table class=\"data-frame\"><thead><tr><th></th><th>variable</th><th>mean</th><th>min</th><th>median</th><th>max</th><th>nunique</th><th>nmissing</th><th>eltype</th></tr><tr><th></th><th>Symbol</th><th>Float64</th><th>Float64</th><th>Float64</th><th>Float64</th><th>Nothing</th><th>Nothing</th><th>DataType</th></tr></thead><tbody><p>4 rows × 8 columns</p><tr><th>1</th><td>SepalLength</td><td>5.936</td><td>4.4</td><td>6.0</td><td>7.9</td><td></td><td></td><td>Float64</td></tr><tr><th>2</th><td>SepalWidth</td><td>3.096</td><td>2.3</td><td>3.1</td><td>4.1</td><td></td><td></td><td>Float64</td></tr><tr><th>3</th><td>PetalLength</td><td>4.0</td><td>1.2</td><td>4.5</td><td>6.7</td><td></td><td></td><td>Float64</td></tr><tr><th>4</th><td>PetalWidth</td><td>1.318</td><td>0.1</td><td>1.5</td><td>2.5</td><td></td><td></td><td>Float64</td></tr></tbody></table>"
      ],
      "text/latex": [
       "\\begin{tabular}{r|cccccccc}\n",
       "\t& variable & mean & min & median & max & nunique & nmissing & eltype\\\\\n",
       "\t\\hline\n",
       "\t1 & SepalLength & 5.936 & 4.4 & 6.0 & 7.9 &  &  & Float64 \\\\\n",
       "\t2 & SepalWidth & 3.096 & 2.3 & 3.1 & 4.1 &  &  & Float64 \\\\\n",
       "\t3 & PetalLength & 4.0 & 1.2 & 4.5 & 6.7 &  &  & Float64 \\\\\n",
       "\t4 & PetalWidth & 1.318 & 0.1 & 1.5 & 2.5 &  &  & Float64 \\\\\n",
       "\\end{tabular}\n"
      ],
      "text/plain": [
       "4×8 DataFrame. Omitted printing of 2 columns\n",
       "│ Row │ variable    │ mean    │ min     │ median  │ max     │ nunique │\n",
       "│     │ \u001b[90mSymbol\u001b[39m      │ \u001b[90mFloat64\u001b[39m │ \u001b[90mFloat64\u001b[39m │ \u001b[90mFloat64\u001b[39m │ \u001b[90mFloat64\u001b[39m │ \u001b[90mNothing\u001b[39m │\n",
       "├─────┼─────────────┼─────────┼─────────┼─────────┼─────────┼─────────┤\n",
       "│ 1   │ SepalLength │ 5.936   │ 4.4     │ 6.0     │ 7.9     │         │\n",
       "│ 2   │ SepalWidth  │ 3.096   │ 2.3     │ 3.1     │ 4.1     │         │\n",
       "│ 3   │ PetalLength │ 4.0     │ 1.2     │ 4.5     │ 6.7     │         │\n",
       "│ 4   │ PetalWidth  │ 1.318   │ 0.1     │ 1.5     │ 2.5     │         │"
      ]
     },
     "execution_count": 4,
     "metadata": {},
     "output_type": "execute_result"
    }
   ],
   "source": [
    "describe(testing_X)"
   ]
  },
  {
   "cell_type": "code",
   "execution_count": 5,
   "metadata": {},
   "outputs": [],
   "source": [
    "t_train_X = transpose(Matrix(training_X))\n",
    "t_test_X = transpose(Matrix(testing_X));"
   ]
  },
  {
   "cell_type": "markdown",
   "metadata": {},
   "source": [
    "## Autoencoder"
   ]
  },
  {
   "cell_type": "code",
   "execution_count": 6,
   "metadata": {},
   "outputs": [
    {
     "name": "stdout",
     "output_type": "stream",
     "text": [
      "loaded\n"
     ]
    }
   ],
   "source": [
    "using Flux"
   ]
  },
  {
   "cell_type": "code",
   "execution_count": 7,
   "metadata": {},
   "outputs": [],
   "source": [
    "Encoder = Chain(\n",
    "    BatchNorm(4), Dense(4,8,relu),\n",
    "    BatchNorm(8), Dense(8,8,relu),\n",
    "    Dense(8,3),softmax);"
   ]
  },
  {
   "cell_type": "code",
   "execution_count": 8,
   "metadata": {},
   "outputs": [],
   "source": [
    "Decoder = Chain(\n",
    "    BatchNorm(3), Dense(3,8,relu),\n",
    "    BatchNorm(8), Dense(8,8,relu),\n",
    "    Dense(8,4));"
   ]
  },
  {
   "cell_type": "markdown",
   "metadata": {},
   "source": [
    "## Loss function : cross-entropy"
   ]
  },
  {
   "cell_type": "code",
   "execution_count": 9,
   "metadata": {
    "scrolled": true
   },
   "outputs": [
    {
     "data": {
      "text/plain": [
       "loss (generic function with 1 method)"
      ]
     },
     "execution_count": 9,
     "metadata": {},
     "output_type": "execute_result"
    }
   ],
   "source": [
    "loss(x,y) = Flux.mse(Decoder(Encoder(x)),y)"
   ]
  },
  {
   "cell_type": "code",
   "execution_count": 10,
   "metadata": {},
   "outputs": [
    {
     "data": {
      "text/plain": [
       "Tracked 4×100 Array{Float64,2}:\n",
       " -0.162099   -0.372377  -0.454352  …  -0.232662   -0.251359   -0.0967168\n",
       "  0.251919    0.58286    0.068945      0.260969   -0.168124   -0.0112085\n",
       "  1.75081     2.89218    1.41309       0.0518009   0.375284    0.153732 \n",
       "  0.0789694   0.472873   0.294052      0.208443   -0.0506767  -0.0204917"
      ]
     },
     "execution_count": 10,
     "metadata": {},
     "output_type": "execute_result"
    }
   ],
   "source": [
    "Decoder(Encoder(t_train_X))"
   ]
  },
  {
   "cell_type": "code",
   "execution_count": 11,
   "metadata": {},
   "outputs": [
    {
     "data": {
      "text/plain": [
       "15.332198141583635 (tracked)"
      ]
     },
     "execution_count": 11,
     "metadata": {},
     "output_type": "execute_result"
    }
   ],
   "source": [
    "loss(t_train_X,t_train_X)"
   ]
  },
  {
   "cell_type": "markdown",
   "metadata": {},
   "source": [
    "## Optimizer : ADAM"
   ]
  },
  {
   "cell_type": "code",
   "execution_count": 12,
   "metadata": {},
   "outputs": [
    {
     "data": {
      "text/plain": [
       "my_opt (generic function with 1 method)"
      ]
     },
     "execution_count": 12,
     "metadata": {},
     "output_type": "execute_result"
    }
   ],
   "source": [
    "PARS = params(Encoder, Decoder)\n",
    "\n",
    "function my_opt(n, lr)\n",
    "    train_mse_vec = repeat([Inf],3)\n",
    "    for i = 0:n\n",
    "        Flux.testmode!(Encoder, false)\n",
    "        Flux.testmode!(Decoder, false)\n",
    "        Flux.train!(loss, [(t_train_X,t_train_X)], ADAM(PARS, lr))\n",
    "        Flux.testmode!(Encoder)\n",
    "        Flux.testmode!(Decoder)\n",
    "        train_mse_vec = vcat(train_mse_vec[2:3],loss(t_train_X,t_train_X).data)\n",
    "        \n",
    "        if minimum(train_mse_vec) == train_mse_vec[1]\n",
    "            lr = lr*7/8\n",
    "        end\n",
    "        \n",
    "        if i % 100 == 0\n",
    "            train_mse = train_mse_vec[3]\n",
    "            test_mse = loss(t_test_X,t_test_X).data\n",
    "            println(\"step:\",i,\"  train_mse:\" ,train_mse,\"  test_mse:\" ,test_mse)\n",
    "        end\n",
    "    end\n",
    "end"
   ]
  },
  {
   "cell_type": "code",
   "execution_count": 13,
   "metadata": {},
   "outputs": [
    {
     "name": "stdout",
     "output_type": "stream",
     "text": [
      "step:0  train_mse:13.796226442073687  test_mse:14.961258597556458\n"
     ]
    }
   ],
   "source": [
    "my_opt(0,0.1)"
   ]
  },
  {
   "cell_type": "code",
   "execution_count": 14,
   "metadata": {},
   "outputs": [
    {
     "name": "stdout",
     "output_type": "stream",
     "text": [
      "step:0  train_mse:8.40278102746566  test_mse:8.990449973517801\n",
      "step:100  train_mse:0.10336679399328083  test_mse:0.12418334456307464\n",
      "step:200  train_mse:0.06439854270562317  test_mse:0.07924742245307638\n",
      "step:300  train_mse:0.04932304110081396  test_mse:0.06359110517905284\n",
      "step:400  train_mse:0.046078532170465356  test_mse:0.06042383663352165\n",
      "step:500  train_mse:0.04317289761957186  test_mse:0.057873533114553705\n",
      "step:600  train_mse:0.04189446208133944  test_mse:0.05678281717037904\n",
      "step:700  train_mse:0.04182211592346098  test_mse:0.05672693205736499\n",
      "step:800  train_mse:0.04181875954114598  test_mse:0.056724347017934044\n",
      "step:900  train_mse:0.041818615590076845  test_mse:0.056724244811515376\n",
      "step:1000  train_mse:0.041818607228812345  test_mse:0.05672423855979516\n",
      "step:1100  train_mse:0.041818606905030586  test_mse:0.0567242383105123\n",
      "step:1200  train_mse:0.04181860689034915  test_mse:0.056724238299333186\n",
      "step:1300  train_mse:0.04181860688970179  test_mse:0.056724238298832864\n",
      "step:1400  train_mse:0.04181860688966948  test_mse:0.05672423829880755\n",
      "step:1500  train_mse:0.0418186068896679  test_mse:0.05672423829880658\n",
      "step:1600  train_mse:0.04181860688966787  test_mse:0.05672423829880649\n",
      "step:1700  train_mse:0.04181860688966787  test_mse:0.05672423829880649\n",
      "step:1800  train_mse:0.04181860688966787  test_mse:0.05672423829880649\n",
      "step:1900  train_mse:0.04181860688966787  test_mse:0.05672423829880649\n",
      "step:2000  train_mse:0.04181860688966787  test_mse:0.05672423829880649\n"
     ]
    }
   ],
   "source": [
    "my_opt(2000,0.1)"
   ]
  },
  {
   "cell_type": "markdown",
   "metadata": {},
   "source": [
    "## comparing the values"
   ]
  },
  {
   "cell_type": "code",
   "execution_count": 15,
   "metadata": {},
   "outputs": [
    {
     "data": {
      "text/plain": [
       "4×5 Array{Float64,2}:\n",
       " 4.7  4.6  5.0  4.6  5.0\n",
       " 3.2  3.1  3.6  3.4  3.4\n",
       " 1.3  1.5  1.4  1.4  1.5\n",
       " 0.2  0.2  0.2  0.3  0.2"
      ]
     },
     "execution_count": 15,
     "metadata": {},
     "output_type": "execute_result"
    }
   ],
   "source": [
    "t_train_X[:,1:5]"
   ]
  },
  {
   "cell_type": "code",
   "execution_count": 16,
   "metadata": {},
   "outputs": [
    {
     "data": {
      "text/plain": [
       "Tracked 4×5 Array{Float64,2}:\n",
       " 4.73134   4.53522   5.06883   4.74072   4.92413 \n",
       " 3.19971   3.03111   3.48908   3.20775   3.36502 \n",
       " 1.36919   1.32415   1.44573   1.37132   1.41294 \n",
       " 0.270484  0.287205  0.241016  0.269669  0.253668"
      ]
     },
     "execution_count": 16,
     "metadata": {},
     "output_type": "execute_result"
    }
   ],
   "source": [
    "Decoder(Encoder(t_train_X[:,1:5]))"
   ]
  },
  {
   "cell_type": "code",
   "execution_count": 17,
   "metadata": {},
   "outputs": [
    {
     "data": {
      "text/plain": [
       "4×5 Array{Float64,2}:\n",
       " 5.1  4.9  5.4  4.4  5.4\n",
       " 3.5  3.0  3.9  2.9  3.7\n",
       " 1.4  1.4  1.7  1.4  1.5\n",
       " 0.2  0.2  0.4  0.2  0.2"
      ]
     },
     "execution_count": 17,
     "metadata": {},
     "output_type": "execute_result"
    }
   ],
   "source": [
    "t_test_X[:,1:5]"
   ]
  },
  {
   "cell_type": "code",
   "execution_count": 18,
   "metadata": {},
   "outputs": [
    {
     "data": {
      "text/plain": [
       "Tracked 4×5 Array{Float64,2}:\n",
       " 5.04881   4.64263   5.33464   4.44048   5.30766 \n",
       " 3.47192   3.1235    3.71694   2.94921   3.69381 \n",
       " 1.4412    1.34889   1.50596   1.3018    1.49985 \n",
       " 0.242767  0.278101  0.217763  0.294856  0.220123"
      ]
     },
     "execution_count": 18,
     "metadata": {},
     "output_type": "execute_result"
    }
   ],
   "source": [
    "Decoder(Encoder(t_test_X[:,1:5]))"
   ]
  },
  {
   "cell_type": "markdown",
   "metadata": {},
   "source": [
    "## About the encoder"
   ]
  },
  {
   "cell_type": "code",
   "execution_count": 19,
   "metadata": {},
   "outputs": [
    {
     "data": {
      "text/plain": [
       "Tracked 3×100 Array{Float64,2}:\n",
       " 3.59821e-5  0.00030409  7.04934e-7  …  0.204828  0.186202  0.201288\n",
       " 0.251023    0.293336    0.177192       0.674414  0.64017   0.675401\n",
       " 0.748941    0.70636     0.822807       0.120758  0.173628  0.123311"
      ]
     },
     "execution_count": 19,
     "metadata": {},
     "output_type": "execute_result"
    }
   ],
   "source": [
    "Encoder(t_train_X)"
   ]
  },
  {
   "cell_type": "code",
   "execution_count": 20,
   "metadata": {},
   "outputs": [
    {
     "name": "stderr",
     "output_type": "stream",
     "text": [
      "┌ Warning: Indexing with colon as row will create a copy in the future. Use `df[col_inds]` to get the columns without copying\n",
      "│   caller = top-level scope at In[20]:1\n",
      "└ @ Core In[20]:1\n"
     ]
    },
    {
     "data": {
      "text/html": [
       "<table class=\"data-frame\"><thead><tr><th></th><th>Enc</th><th>spe</th><th>x1</th></tr><tr><th></th><th>Int64</th><th>Categorical…</th><th>Int64</th></tr></thead><tbody><p>4 rows × 3 columns</p><tr><th>1</th><td>3</td><td>setosa</td><td>36</td></tr><tr><th>2</th><td>2</td><td>versicolor</td><td>33</td></tr><tr><th>3</th><td>2</td><td>virginica</td><td>29</td></tr><tr><th>4</th><td>1</td><td>virginica</td><td>2</td></tr></tbody></table>"
      ],
      "text/latex": [
       "\\begin{tabular}{r|ccc}\n",
       "\t& Enc & spe & x1\\\\\n",
       "\t\\hline\n",
       "\t1 & 3 & setosa & 36 \\\\\n",
       "\t2 & 2 & versicolor & 33 \\\\\n",
       "\t3 & 2 & virginica & 29 \\\\\n",
       "\t4 & 1 & virginica & 2 \\\\\n",
       "\\end{tabular}\n"
      ],
      "text/plain": [
       "4×3 DataFrame\n",
       "│ Row │ Enc   │ spe          │ x1    │\n",
       "│     │ \u001b[90mInt64\u001b[39m │ \u001b[90mCategorical…\u001b[39m │ \u001b[90mInt64\u001b[39m │\n",
       "├─────┼───────┼──────────────┼───────┤\n",
       "│ 1   │ 3     │ setosa       │ 36    │\n",
       "│ 2   │ 2     │ versicolor   │ 33    │\n",
       "│ 3   │ 2     │ virginica    │ 29    │\n",
       "│ 4   │ 1     │ virginica    │ 2     │"
      ]
     },
     "execution_count": 20,
     "metadata": {},
     "output_type": "execute_result"
    },
    {
     "name": "stderr",
     "output_type": "stream",
     "text": [
      "┌ Warning: In the future eachcol will have names argument set to false by default\n",
      "│   caller = getmaxwidths(::DataFrame, ::UnitRange{Int64}, ::UnitRange{Int64}, ::Symbol) at show.jl:105\n",
      "└ @ DataFrames /home/yt/.julia/packages/DataFrames/5Rg4Y/src/abstractdataframe/show.jl:105\n"
     ]
    }
   ],
   "source": [
    "tmp = DataFrame(Enc = Flux.onecold(Encoder(t_train_X)), spe = training_set[:,5])\n",
    "\n",
    "by(tmp, [:Enc, :spe], nrow)"
   ]
  },
  {
   "cell_type": "code",
   "execution_count": 21,
   "metadata": {},
   "outputs": [
    {
     "name": "stderr",
     "output_type": "stream",
     "text": [
      "┌ Warning: Indexing with colon as row will create a copy in the future. Use `df[col_inds]` to get the columns without copying\n",
      "│   caller = top-level scope at In[21]:1\n",
      "└ @ Core In[21]:1\n"
     ]
    },
    {
     "data": {
      "text/html": [
       "<table class=\"data-frame\"><thead><tr><th></th><th>Enc</th><th>spe</th><th>x1</th></tr><tr><th></th><th>Int64</th><th>Categorical…</th><th>Int64</th></tr></thead><tbody><p>4 rows × 3 columns</p><tr><th>1</th><td>3</td><td>setosa</td><td>14</td></tr><tr><th>2</th><td>2</td><td>versicolor</td><td>17</td></tr><tr><th>3</th><td>2</td><td>virginica</td><td>17</td></tr><tr><th>4</th><td>1</td><td>virginica</td><td>2</td></tr></tbody></table>"
      ],
      "text/latex": [
       "\\begin{tabular}{r|ccc}\n",
       "\t& Enc & spe & x1\\\\\n",
       "\t\\hline\n",
       "\t1 & 3 & setosa & 14 \\\\\n",
       "\t2 & 2 & versicolor & 17 \\\\\n",
       "\t3 & 2 & virginica & 17 \\\\\n",
       "\t4 & 1 & virginica & 2 \\\\\n",
       "\\end{tabular}\n"
      ],
      "text/plain": [
       "4×3 DataFrame\n",
       "│ Row │ Enc   │ spe          │ x1    │\n",
       "│     │ \u001b[90mInt64\u001b[39m │ \u001b[90mCategorical…\u001b[39m │ \u001b[90mInt64\u001b[39m │\n",
       "├─────┼───────┼──────────────┼───────┤\n",
       "│ 1   │ 3     │ setosa       │ 14    │\n",
       "│ 2   │ 2     │ versicolor   │ 17    │\n",
       "│ 3   │ 2     │ virginica    │ 17    │\n",
       "│ 4   │ 1     │ virginica    │ 2     │"
      ]
     },
     "execution_count": 21,
     "metadata": {},
     "output_type": "execute_result"
    }
   ],
   "source": [
    "tmp2 = DataFrame(Enc = Flux.onecold(Encoder(t_test_X)), spe = testing_set[:,5])\n",
    "\n",
    "by(tmp2, [:Enc, :spe], nrow)"
   ]
  },
  {
   "cell_type": "code",
   "execution_count": null,
   "metadata": {},
   "outputs": [],
   "source": []
  }
 ],
 "metadata": {
  "kernelspec": {
   "display_name": "Julia 1.0.2",
   "language": "julia",
   "name": "julia-1.0"
  },
  "language_info": {
   "file_extension": ".jl",
   "mimetype": "application/julia",
   "name": "julia",
   "version": "1.0.2"
  }
 },
 "nbformat": 4,
 "nbformat_minor": 2
}

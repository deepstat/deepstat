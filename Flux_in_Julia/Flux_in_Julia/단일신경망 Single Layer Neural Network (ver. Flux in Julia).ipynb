{
 "cells": [
  {
   "cell_type": "markdown",
   "metadata": {},
   "source": [
    "# 참고자료\n",
    "\n",
    "http://jorditorres.org/first-contact-with-tnesorflow/#cap4 (First Contact with tensorflow)\n",
    "\n",
    "https://deepstat.tistory.com/9 (단일신경망 Single Layer Neural Network (ver. Tensorflow for Python)\n",
    "\n",
    "https://deepstat.tistory.com/10 (단일신경망 Single Layer Neural Network (ver. Tensorflow for R)\n",
    "\n",
    "http://fluxml.ai/ (flux: The Elegant Machine Learning Stack)"
   ]
  },
  {
   "cell_type": "markdown",
   "metadata": {},
   "source": [
    "# 단일신경망 Single Layer Neural Network (ver. Flux in Julia)"
   ]
  },
  {
   "cell_type": "markdown",
   "metadata": {},
   "source": [
    "## The MNIST data-set"
   ]
  },
  {
   "cell_type": "code",
   "execution_count": 1,
   "metadata": {},
   "outputs": [],
   "source": [
    "using PyCall\n",
    "@pyimport tensorflow.keras.datasets.mnist as MNIST"
   ]
  },
  {
   "cell_type": "code",
   "execution_count": 2,
   "metadata": {},
   "outputs": [
    {
     "name": "stdout",
     "output_type": "stream",
     "text": [
      "Tuple{Array{UInt8,3},Array{UInt8,1}}\n",
      "Tuple{Array{UInt8,3},Array{UInt8,1}}\n"
     ]
    }
   ],
   "source": [
    "mnist_train, mnist_test = MNIST.load_data()\n",
    "println(typeof(mnist_train))\n",
    "println(typeof(mnist_test))"
   ]
  },
  {
   "cell_type": "code",
   "execution_count": 3,
   "metadata": {},
   "outputs": [
    {
     "data": {
      "text/plain": [
       "28×28 Array{UInt8,2}:\n",
       " 0x00  0x00  0x00  0x00  0x00  0x00  …  0x00  0x00  0x00  0x00  0x00  0x00\n",
       " 0x00  0x00  0x00  0x00  0x00  0x00     0x00  0x00  0x00  0x00  0x00  0x00\n",
       " 0x00  0x00  0x00  0x00  0x00  0x00     0x00  0x00  0x00  0x00  0x00  0x00\n",
       " 0x00  0x00  0x00  0x00  0x00  0x00     0x00  0x00  0x00  0x00  0x00  0x00\n",
       " 0x00  0x00  0x00  0x00  0x00  0x00     0x00  0x00  0x00  0x00  0x00  0x00\n",
       " 0x00  0x00  0x00  0x00  0x00  0x00  …  0xf7  0x7f  0x00  0x00  0x00  0x00\n",
       " 0x00  0x00  0x00  0x00  0x00  0x00     0xc3  0x40  0x00  0x00  0x00  0x00\n",
       " 0x00  0x00  0x00  0x00  0x00  0x00     0x27  0x00  0x00  0x00  0x00  0x00\n",
       " 0x00  0x00  0x00  0x00  0x00  0x00     0x00  0x00  0x00  0x00  0x00  0x00\n",
       " 0x00  0x00  0x00  0x00  0x00  0x00     0x00  0x00  0x00  0x00  0x00  0x00\n",
       " 0x00  0x00  0x00  0x00  0x00  0x00  …  0x00  0x00  0x00  0x00  0x00  0x00\n",
       " 0x00  0x00  0x00  0x00  0x00  0x00     0x00  0x00  0x00  0x00  0x00  0x00\n",
       " 0x00  0x00  0x00  0x00  0x00  0x00     0x00  0x00  0x00  0x00  0x00  0x00\n",
       "    ⋮                             ⋮  ⋱                       ⋮            \n",
       " 0x00  0x00  0x00  0x00  0x00  0x00     0x00  0x00  0x00  0x00  0x00  0x00\n",
       " 0x00  0x00  0x00  0x00  0x00  0x00     0x00  0x00  0x00  0x00  0x00  0x00\n",
       " 0x00  0x00  0x00  0x00  0x00  0x00     0x00  0x00  0x00  0x00  0x00  0x00\n",
       " 0x00  0x00  0x00  0x00  0x00  0x00     0x00  0x00  0x00  0x00  0x00  0x00\n",
       " 0x00  0x00  0x00  0x00  0x00  0x00  …  0x00  0x00  0x00  0x00  0x00  0x00\n",
       " 0x00  0x00  0x00  0x00  0x00  0x00     0x00  0x00  0x00  0x00  0x00  0x00\n",
       " 0x00  0x00  0x00  0x00  0x00  0x00     0x00  0x00  0x00  0x00  0x00  0x00\n",
       " 0x00  0x00  0x00  0x00  0x37  0xac     0x00  0x00  0x00  0x00  0x00  0x00\n",
       " 0x00  0x00  0x00  0x00  0x88  0xfd     0x00  0x00  0x00  0x00  0x00  0x00\n",
       " 0x00  0x00  0x00  0x00  0x00  0x00  …  0x00  0x00  0x00  0x00  0x00  0x00\n",
       " 0x00  0x00  0x00  0x00  0x00  0x00     0x00  0x00  0x00  0x00  0x00  0x00\n",
       " 0x00  0x00  0x00  0x00  0x00  0x00     0x00  0x00  0x00  0x00  0x00  0x00"
      ]
     },
     "execution_count": 3,
     "metadata": {},
     "output_type": "execute_result"
    }
   ],
   "source": [
    "mnist_train[1][1,:,:]"
   ]
  },
  {
   "cell_type": "code",
   "execution_count": 4,
   "metadata": {},
   "outputs": [
    {
     "data": {
      "text/plain": [
       "0x00"
      ]
     },
     "execution_count": 4,
     "metadata": {},
     "output_type": "execute_result"
    }
   ],
   "source": [
    "mnist_test[1][1]"
   ]
  },
  {
   "cell_type": "markdown",
   "metadata": {},
   "source": [
    "### `next_batch`라는 함수 만들기."
   ]
  },
  {
   "cell_type": "code",
   "execution_count": 5,
   "metadata": {},
   "outputs": [],
   "source": [
    "mutable struct My_data\n",
    "    data::Tuple\n",
    "    start_n::Int\n",
    "end"
   ]
  },
  {
   "cell_type": "code",
   "execution_count": 6,
   "metadata": {},
   "outputs": [
    {
     "data": {
      "text/plain": [
       "next_batch (generic function with 1 method)"
      ]
     },
     "execution_count": 6,
     "metadata": {},
     "output_type": "execute_result"
    }
   ],
   "source": [
    "function next_batch(data::My_data, n::Int)\n",
    "    start_n = data.start_n\n",
    "    end_n = data.start_n + n - 1\n",
    "    batch_X = data.data[1][start_n:end_n,:,:]\n",
    "    batch_Y = data.data[2][start_n:end_n]\n",
    "    data.start_n = (end_n+1) % (size(data.data[1])[1])\n",
    "    return float(reshape(batch_X,:,784)), float(batch_Y)\n",
    "end"
   ]
  },
  {
   "cell_type": "code",
   "execution_count": 7,
   "metadata": {},
   "outputs": [],
   "source": [
    "train_dat = My_data(mnist_train,1)\n",
    "test_dat = My_data(mnist_test,1);"
   ]
  },
  {
   "cell_type": "markdown",
   "metadata": {},
   "source": [
    "## Single layer neural network"
   ]
  },
  {
   "cell_type": "code",
   "execution_count": 8,
   "metadata": {},
   "outputs": [],
   "source": [
    "using Flux"
   ]
  },
  {
   "cell_type": "markdown",
   "metadata": {},
   "source": [
    "#### 변수 지정"
   ]
  },
  {
   "cell_type": "code",
   "execution_count": 9,
   "metadata": {},
   "outputs": [],
   "source": [
    "W = param(rand(10,784)./20 .- 1/40)\n",
    "b = param(rand(10)./20 .- 1/40);"
   ]
  },
  {
   "cell_type": "markdown",
   "metadata": {},
   "source": [
    "#### 모형 설정 Activation function : softmax"
   ]
  },
  {
   "cell_type": "code",
   "execution_count": 10,
   "metadata": {},
   "outputs": [
    {
     "data": {
      "text/plain": [
       "model (generic function with 1 method)"
      ]
     },
     "execution_count": 10,
     "metadata": {},
     "output_type": "execute_result"
    }
   ],
   "source": [
    "function model(X)\n",
    "    tX = transpose(X)\n",
    "    yhat = softmax(W * tX .+ b)\n",
    "    return yhat\n",
    "end"
   ]
  },
  {
   "cell_type": "markdown",
   "metadata": {},
   "source": [
    "#### Loss function : cross-entropy"
   ]
  },
  {
   "cell_type": "code",
   "execution_count": 11,
   "metadata": {},
   "outputs": [
    {
     "data": {
      "text/plain": [
       "cross_entropy (generic function with 1 method)"
      ]
     },
     "execution_count": 11,
     "metadata": {},
     "output_type": "execute_result"
    }
   ],
   "source": [
    "function cross_entropy(X,Y)\n",
    "    y_onehot = Flux.onehotbatch(Y,sort(unique(Y)))\n",
    "    yhat = model(X)\n",
    "    loss = sum(-y_onehot .* log.(yhat))./length(Y)\n",
    "    return loss\n",
    "end"
   ]
  },
  {
   "cell_type": "markdown",
   "metadata": {},
   "source": [
    "#### Optimizer : ADAM (learning_rate = 0.0001)"
   ]
  },
  {
   "cell_type": "code",
   "execution_count": 12,
   "metadata": {},
   "outputs": [
    {
     "name": "stdout",
     "output_type": "stream",
     "text": [
      "step:0  train_loss:45.543004320972074 (tracked)  test_acc:0.0763\n",
      "step:100  train_loss:2.3352842586852973 (tracked)  test_acc:0.8282\n",
      "step:200  train_loss:1.4340617268439977 (tracked)  test_acc:0.8699\n",
      "step:300  train_loss:1.1800125983237264 (tracked)  test_acc:0.8748\n",
      "step:400  train_loss:1.0417229208694117 (tracked)  test_acc:0.8797\n",
      "step:500  train_loss:0.9979665354074723 (tracked)  test_acc:0.8807\n",
      "step:600  train_loss:0.9151358522120402 (tracked)  test_acc:0.8831\n",
      "step:700  train_loss:0.8710594189458134 (tracked)  test_acc:0.8849\n",
      "step:800  train_loss:0.8412712660027076 (tracked)  test_acc:0.8837\n",
      "step:900  train_loss:0.8236128599447577 (tracked)  test_acc:0.8814\n",
      "step:1000  train_loss:0.8132467373551305 (tracked)  test_acc:0.8824\n"
     ]
    }
   ],
   "source": [
    "PARS = params(W,b)\n",
    "\n",
    "for i = 0:1000\n",
    "    train_X, train_Y = next_batch(train_dat,6000)\n",
    "    Flux.train!(cross_entropy, [(train_X, train_Y)], ADAM((PARS), 0.0001))\n",
    "    if i % 100 == 0\n",
    "        train_loss = cross_entropy(train_X,train_Y)\n",
    "        \n",
    "        test_X, test_Y = next_batch(test_dat,10000)\n",
    "        tmp_test = findmax(model(test_X).data, dims=1)\n",
    "        test_acc = sum([tmp_test[2][j][1] for j in 1:10000] .== (test_Y .+ 1))/10000\n",
    "        \n",
    "        println(\"step:\",i,\"  train_loss:\" ,train_loss,\"  test_acc:\" ,test_acc)\n",
    "    end\n",
    "end"
   ]
  },
  {
   "cell_type": "code",
   "execution_count": null,
   "metadata": {},
   "outputs": [],
   "source": []
  }
 ],
 "metadata": {
  "kernelspec": {
   "display_name": "Julia 1.0.2",
   "language": "julia",
   "name": "julia-1.0"
  },
  "language_info": {
   "file_extension": ".jl",
   "mimetype": "application/julia",
   "name": "julia",
   "version": "1.0.2"
  }
 },
 "nbformat": 4,
 "nbformat_minor": 2
}

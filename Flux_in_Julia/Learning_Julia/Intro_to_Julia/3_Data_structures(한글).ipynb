{
 "cells": [
  {
   "cell_type": "markdown",
   "metadata": {},
   "source": [
    "# Data structures\n",
    "\n",
    "## 출처\n",
    "\n",
    "https://github.com/JuliaComputing/JuliaBoxTutorials/tree/master/intro-to-julia (github : JuliaComputing/JuliaBoxTutorials/intro-to-julia)\n",
    "\n",
    "Topics:\n",
    "\n",
    "1. [Tuples](#1)\n",
    "2. [Dictionaries](#2)\n",
    "3. [Arrays](#3)\n",
    "4. [연습문제](#4)\n",
    "\n",
    "### 함께보기\n",
    "\n",
    "- http://deepstat.tistory.com/45 (01. Getting started)(in English)\n",
    "- http://deepstat.tistory.com/46 (01. Getting started(한글))\n",
    "- http://deepstat.tistory.com/47 (02. Strings)(in English)\n",
    "- http://deepstat.tistory.com/48 (02. Strings(한글))\n",
    "- http://deepstat.tistory.com/49 (03. Data structures)(in English)"
   ]
  },
  {
   "cell_type": "markdown",
   "metadata": {},
   "source": [
    "## Tuples <a id='1'></a>"
   ]
  },
  {
   "cell_type": "markdown",
   "metadata": {},
   "source": [
    "구성요소를 순서대로 적고 ( ) 로 감싸서 tuple 을 만들 수 있다.\n",
    "\n",
    "구문:\n",
    "\n",
    "    (값1, 값2, ...)"
   ]
  },
  {
   "cell_type": "code",
   "execution_count": 1,
   "metadata": {},
   "outputs": [
    {
     "data": {
      "text/plain": [
       "(\"펭귄\", \"고양이\", \"다람쥐\")"
      ]
     },
     "execution_count": 1,
     "metadata": {},
     "output_type": "execute_result"
    }
   ],
   "source": [
    "좋아하는동물 = (\"펭귄\",\"고양이\",\"다람쥐\")"
   ]
  },
  {
   "cell_type": "markdown",
   "metadata": {},
   "source": [
    "index를 이용해서 값을 가져올 수 있다."
   ]
  },
  {
   "cell_type": "code",
   "execution_count": 2,
   "metadata": {},
   "outputs": [
    {
     "data": {
      "text/plain": [
       "\"펭귄\""
      ]
     },
     "execution_count": 2,
     "metadata": {},
     "output_type": "execute_result"
    }
   ],
   "source": [
    "좋아하는동물[1]"
   ]
  },
  {
   "cell_type": "markdown",
   "metadata": {},
   "source": [
    "그러나 튜플은 변경 불가능 하기 때문에 업데이트가 안 된다."
   ]
  },
  {
   "cell_type": "code",
   "execution_count": 3,
   "metadata": {},
   "outputs": [
    {
     "ename": "MethodError",
     "evalue": "MethodError: no method matching setindex!(::Tuple{String,String,String}, ::String, ::Int64)",
     "output_type": "error",
     "traceback": [
      "MethodError: no method matching setindex!(::Tuple{String,String,String}, ::String, ::Int64)",
      "",
      "Stacktrace:",
      " [1] top-level scope at In[3]:1"
     ]
    }
   ],
   "source": [
    "좋아하는동물[1] = \"수달\""
   ]
  },
  {
   "cell_type": "markdown",
   "metadata": {},
   "source": [
    "### NamedTuples"
   ]
  },
  {
   "cell_type": "markdown",
   "metadata": {},
   "source": [
    "이름을 보고 생각한 것 처럼, NamedTuple은 구성요소에 이름이 있다는 점을 제외하면 Tuple이다. NamedTuple은 Tuple안에 =를 이용하는 구문을 가진다:\n",
    "\n",
    "    (이름1 = 값1, 이름2 = 값2, ...)"
   ]
  },
  {
   "cell_type": "code",
   "execution_count": 4,
   "metadata": {},
   "outputs": [
    {
     "data": {
      "text/plain": [
       "(조류 = \"펭귄\", 포유류 = \"고양이\", 유대류 = \"다람쥐\")"
      ]
     },
     "execution_count": 4,
     "metadata": {},
     "output_type": "execute_result"
    }
   ],
   "source": [
    "좋아하는동물 = (조류 = \"펭귄\", 포유류 = \"고양이\", 유대류 = \"다람쥐\")"
   ]
  },
  {
   "cell_type": "markdown",
   "metadata": {},
   "source": [
    "보통의 Tuple 처럼, NamedTuple은 순서가 있어서 index를 이용해서 값을 가져올 수 있다:"
   ]
  },
  {
   "cell_type": "code",
   "execution_count": 5,
   "metadata": {
    "scrolled": true
   },
   "outputs": [
    {
     "data": {
      "text/plain": [
       "\"펭귄\""
      ]
     },
     "execution_count": 5,
     "metadata": {},
     "output_type": "execute_result"
    }
   ],
   "source": [
    "좋아하는동물[1]"
   ]
  },
  {
   "cell_type": "markdown",
   "metadata": {},
   "source": [
    "또한 이름을 이용해서 값을 불러올 수도 있다:"
   ]
  },
  {
   "cell_type": "code",
   "execution_count": 6,
   "metadata": {},
   "outputs": [
    {
     "data": {
      "text/plain": [
       "\"펭귄\""
      ]
     },
     "execution_count": 6,
     "metadata": {},
     "output_type": "execute_result"
    }
   ],
   "source": [
    "좋아하는동물.조류"
   ]
  },
  {
   "cell_type": "markdown",
   "metadata": {},
   "source": [
    "아래처럼 쓰면 오류난다."
   ]
  },
  {
   "cell_type": "code",
   "execution_count": 7,
   "metadata": {},
   "outputs": [
    {
     "ename": "MethodError",
     "evalue": "MethodError: no method matching getindex(::NamedTuple{(:조류, :포유류, :유대류),Tuple{String,String,String}}, ::String)\nClosest candidates are:\n  getindex(::NamedTuple, !Matched::Int64) at namedtuple.jl:101\n  getindex(::NamedTuple, !Matched::Symbol) at namedtuple.jl:102",
     "output_type": "error",
     "traceback": [
      "MethodError: no method matching getindex(::NamedTuple{(:조류, :포유류, :유대류),Tuple{String,String,String}}, ::String)\nClosest candidates are:\n  getindex(::NamedTuple, !Matched::Int64) at namedtuple.jl:101\n  getindex(::NamedTuple, !Matched::Symbol) at namedtuple.jl:102",
      "",
      "Stacktrace:",
      " [1] top-level scope at In[7]:1"
     ]
    }
   ],
   "source": [
    "좋아하는동물[\"조류\"]"
   ]
  },
  {
   "cell_type": "markdown",
   "metadata": {},
   "source": [
    "이거는 된다."
   ]
  },
  {
   "cell_type": "code",
   "execution_count": 8,
   "metadata": {},
   "outputs": [
    {
     "data": {
      "text/plain": [
       "\"펭귄\""
      ]
     },
     "execution_count": 8,
     "metadata": {},
     "output_type": "execute_result"
    }
   ],
   "source": [
    "좋아하는동물[:조류]"
   ]
  },
  {
   "cell_type": "markdown",
   "metadata": {},
   "source": [
    "## Dictionaries <a id='2'></a>"
   ]
  },
  {
   "cell_type": "markdown",
   "metadata": {},
   "source": [
    "어떤 데이터가 서로서로 관련되어 있을 때, Dictionary를 써서 자료를 저장할 수도 있다. **Dict()** 를 써서 dictionary를 만들 수 있는데, 초기화 하려면 빈 dictionary를 만들거나 1개의 key, value 쌍을 이용하면 된다.\n",
    "\n",
    "구문:\n",
    "\n",
    "    Dict(key1 => value1, key2 => value2, ...)"
   ]
  },
  {
   "cell_type": "code",
   "execution_count": 9,
   "metadata": {},
   "outputs": [
    {
     "data": {
      "text/plain": [
       "Dict{String,String} with 2 entries:\n",
       "  \"퇴마…  => \"555-2368\"\n",
       "  \"영희…  => \"867-5309\""
      ]
     },
     "execution_count": 9,
     "metadata": {},
     "output_type": "execute_result"
    }
   ],
   "source": [
    "연락처 = Dict(\"영희\" => \"867-5309\", \"퇴마사\" => \"555-2368\")"
   ]
  },
  {
   "cell_type": "markdown",
   "metadata": {},
   "source": [
    "이 예시에서, 이름과 번호는 각각 key와 value 쌍이다. 영희의 전화번호를 끄집어 낼 때, 연관된 key를 이용하면 된다."
   ]
  },
  {
   "cell_type": "code",
   "execution_count": 10,
   "metadata": {},
   "outputs": [
    {
     "data": {
      "text/plain": [
       "\"867-5309\""
      ]
     },
     "execution_count": 10,
     "metadata": {},
     "output_type": "execute_result"
    }
   ],
   "source": [
    "연락처[\"영희\"]"
   ]
  },
  {
   "cell_type": "markdown",
   "metadata": {},
   "source": [
    "아래와 같이 하면 이 dictionary에 다른 값도 추가할 수 있다."
   ]
  },
  {
   "cell_type": "code",
   "execution_count": 11,
   "metadata": {},
   "outputs": [
    {
     "data": {
      "text/plain": [
       "\"555-달려\""
      ]
     },
     "execution_count": 11,
     "metadata": {},
     "output_type": "execute_result"
    }
   ],
   "source": [
    "연락처[\"철수\"] = \"555-달려\""
   ]
  },
  {
   "cell_type": "code",
   "execution_count": 12,
   "metadata": {},
   "outputs": [
    {
     "data": {
      "text/plain": [
       "Dict{String,String} with 3 entries:\n",
       "  \"퇴마…  => \"555-2368\"\n",
       "  \"영희…  => \"867-5309\"\n",
       "  \"철수…  => \"555-달려\""
      ]
     },
     "execution_count": 12,
     "metadata": {},
     "output_type": "execute_result"
    }
   ],
   "source": [
    "연락처"
   ]
  },
  {
   "cell_type": "markdown",
   "metadata": {},
   "source": [
    "**pop!** 을 이용해서 철수의 번호를 끄집어내면서 동시에 *연락처*에서 지울 수 있다."
   ]
  },
  {
   "cell_type": "code",
   "execution_count": 13,
   "metadata": {},
   "outputs": [
    {
     "data": {
      "text/plain": [
       "\"555-달려\""
      ]
     },
     "execution_count": 13,
     "metadata": {},
     "output_type": "execute_result"
    }
   ],
   "source": [
    "pop!(연락처, \"철수\")"
   ]
  },
  {
   "cell_type": "code",
   "execution_count": 14,
   "metadata": {},
   "outputs": [
    {
     "data": {
      "text/plain": [
       "Dict{String,String} with 2 entries:\n",
       "  \"퇴마…  => \"555-2368\"\n",
       "  \"영희…  => \"867-5309\""
      ]
     },
     "execution_count": 14,
     "metadata": {},
     "output_type": "execute_result"
    }
   ],
   "source": [
    "연락처"
   ]
  },
  {
   "cell_type": "markdown",
   "metadata": {},
   "source": [
    "Tuple과 Array와는 다르게, dictionary는 순서가 없다. 그래서 index를 이용할 수 없다."
   ]
  },
  {
   "cell_type": "code",
   "execution_count": 15,
   "metadata": {},
   "outputs": [
    {
     "ename": "KeyError",
     "evalue": "KeyError: key 1 not found",
     "output_type": "error",
     "traceback": [
      "KeyError: key 1 not found",
      "",
      "Stacktrace:",
      " [1] getindex(::Dict{String,String}, ::Int64) at ./dict.jl:478",
      " [2] top-level scope at In[15]:1"
     ]
    }
   ],
   "source": [
    "연락처[1]"
   ]
  },
  {
   "cell_type": "markdown",
   "metadata": {},
   "source": [
    "위의 예시처럼, julia는 key 1과 연관된 값을 불러오려고 하는지 아닌지 판단할 수 없다.\n",
    "\n",
    "참고로, 아래처럼 쓰면 오류난다."
   ]
  },
  {
   "cell_type": "code",
   "execution_count": 16,
   "metadata": {},
   "outputs": [
    {
     "ename": "ErrorException",
     "evalue": "type Dict has no field 영희",
     "output_type": "error",
     "traceback": [
      "type Dict has no field 영희",
      "",
      "Stacktrace:",
      " [1] getproperty(::Any, ::Symbol) at ./sysimg.jl:18",
      " [2] top-level scope at In[16]:1"
     ]
    }
   ],
   "source": [
    "연락처.영희"
   ]
  },
  {
   "cell_type": "markdown",
   "metadata": {},
   "source": [
    "## Arrays <a id='3'></a>"
   ]
  },
  {
   "cell_type": "markdown",
   "metadata": {},
   "source": [
    "Tuple과는 다르게, Array는 변할 수 있다. Dictionary와는 다르게, Array는 순서가 있다. Array를 만드려면, [ ] 로 값을 감싸면 된다.\n",
    "\n",
    "구문: \n",
    "\n",
    "    [값1, 값2, ...]\n",
    "    \n",
    "예를 들어, 친구 목록을 만들 수 있다."
   ]
  },
  {
   "cell_type": "code",
   "execution_count": 17,
   "metadata": {},
   "outputs": [
    {
     "data": {
      "text/plain": [
       "5-element Array{String,1}:\n",
       " \"균우\"\n",
       " \"상완\"\n",
       " \"동훈\"\n",
       " \"진\" \n",
       " \"재현\""
      ]
     },
     "execution_count": 17,
     "metadata": {},
     "output_type": "execute_result"
    }
   ],
   "source": [
    "친구목록 = [\"균우\", \"상완\", \"동훈\", \"진\", \"재현\"]"
   ]
  },
  {
   "cell_type": "markdown",
   "metadata": {},
   "source": [
    "Array{String,1}에서 1이 의미하는 바는, 만들어진 Array가 1차원 벡터라는 것이다. Array{String,2}는 2차원 행렬, Array{String,3}은 3차원 tensor 같은 식이다. String은 값들의 형식이다.\n",
    "\n",
    "Array에 수열을 저장할 수도 있다."
   ]
  },
  {
   "cell_type": "code",
   "execution_count": 18,
   "metadata": {
    "scrolled": true
   },
   "outputs": [
    {
     "data": {
      "text/plain": [
       "7-element Array{Int64,1}:\n",
       "  1\n",
       "  1\n",
       "  2\n",
       "  3\n",
       "  5\n",
       "  8\n",
       " 13"
      ]
     },
     "execution_count": 18,
     "metadata": {},
     "output_type": "execute_result"
    }
   ],
   "source": [
    "피보나치 = [1, 1, 2, 3, 5, 8, 13]"
   ]
  },
  {
   "cell_type": "code",
   "execution_count": 19,
   "metadata": {},
   "outputs": [
    {
     "data": {
      "text/plain": [
       "6-element Array{Any,1}:\n",
       " 1       \n",
       " 1       \n",
       " 2       \n",
       " 3       \n",
       "  \"Ted\"  \n",
       "  \"Robyn\""
      ]
     },
     "execution_count": 19,
     "metadata": {},
     "output_type": "execute_result"
    }
   ],
   "source": [
    "섞인거 = [1, 1, 2, 3, \"Ted\", \"Robyn\"]"
   ]
  },
  {
   "cell_type": "markdown",
   "metadata": {},
   "source": [
    "Array는 Index를 이용해서 일부 값을 불러낼 수 있다."
   ]
  },
  {
   "cell_type": "code",
   "execution_count": 20,
   "metadata": {},
   "outputs": [
    {
     "data": {
      "text/plain": [
       "\"동훈\""
      ]
     },
     "execution_count": 20,
     "metadata": {},
     "output_type": "execute_result"
    }
   ],
   "source": [
    "친구목록[3]"
   ]
  },
  {
   "cell_type": "markdown",
   "metadata": {},
   "source": [
    "Index를 이용해서 값을 덮어쓸 수도 있다."
   ]
  },
  {
   "cell_type": "code",
   "execution_count": 21,
   "metadata": {},
   "outputs": [
    {
     "data": {
      "text/plain": [
       "\"아기 새\""
      ]
     },
     "execution_count": 21,
     "metadata": {},
     "output_type": "execute_result"
    }
   ],
   "source": [
    "친구목록[3] = \"아기 새\""
   ]
  },
  {
   "cell_type": "code",
   "execution_count": 22,
   "metadata": {},
   "outputs": [
    {
     "data": {
      "text/plain": [
       "5-element Array{String,1}:\n",
       " \"균우\"  \n",
       " \"상완\"  \n",
       " \"아기 새\"\n",
       " \"진\"   \n",
       " \"재현\"  "
      ]
     },
     "execution_count": 22,
     "metadata": {},
     "output_type": "execute_result"
    }
   ],
   "source": [
    "친구목록"
   ]
  },
  {
   "cell_type": "markdown",
   "metadata": {},
   "source": [
    "Python의 Index는 0부터 시작하지만, Julia의 Index는 1부터 시작한다. (뒷 문장의 영어 해석은 0에서 시작할지 1에서 시작할지 의견이 분분하다느니의 얘기인데, 개발자의 고충을 알아달라는 것 같다.)\n",
    "\n",
    "**push!**와 **pop!**을 이용해서 수정할 수 있다. **push!**를 이용하면 마지막 값을 추가할 수 있고, **pop!**을 이용하면 마지막 값을 제거할 수 있다.\n",
    "\n",
    "예를 들면, *피보나치*에 값을 하나 더 추가하거나 제거할 수 있다."
   ]
  },
  {
   "cell_type": "code",
   "execution_count": 23,
   "metadata": {},
   "outputs": [
    {
     "data": {
      "text/plain": [
       "8-element Array{Int64,1}:\n",
       "  1\n",
       "  1\n",
       "  2\n",
       "  3\n",
       "  5\n",
       "  8\n",
       " 13\n",
       " 21"
      ]
     },
     "execution_count": 23,
     "metadata": {},
     "output_type": "execute_result"
    }
   ],
   "source": [
    "push!(피보나치, 21)"
   ]
  },
  {
   "cell_type": "code",
   "execution_count": 24,
   "metadata": {},
   "outputs": [
    {
     "data": {
      "text/plain": [
       "8-element Array{Int64,1}:\n",
       "  1\n",
       "  1\n",
       "  2\n",
       "  3\n",
       "  5\n",
       "  8\n",
       " 13\n",
       " 21"
      ]
     },
     "execution_count": 24,
     "metadata": {},
     "output_type": "execute_result"
    }
   ],
   "source": [
    "피보나치"
   ]
  },
  {
   "cell_type": "code",
   "execution_count": 25,
   "metadata": {},
   "outputs": [
    {
     "data": {
      "text/plain": [
       "21"
      ]
     },
     "execution_count": 25,
     "metadata": {},
     "output_type": "execute_result"
    }
   ],
   "source": [
    "pop!(피보나치)"
   ]
  },
  {
   "cell_type": "code",
   "execution_count": 26,
   "metadata": {},
   "outputs": [
    {
     "data": {
      "text/plain": [
       "7-element Array{Int64,1}:\n",
       "  1\n",
       "  1\n",
       "  2\n",
       "  3\n",
       "  5\n",
       "  8\n",
       " 13"
      ]
     },
     "execution_count": 26,
     "metadata": {},
     "output_type": "execute_result"
    }
   ],
   "source": [
    "피보나치"
   ]
  },
  {
   "cell_type": "markdown",
   "metadata": {},
   "source": [
    "이때까지 scalar값의 1D array 만 고려했지만, Array는 모든 차원을 가질 수 있고, 다른 Array 또한 포함 할 수 있다.\n",
    "\n",
    "예를 들어, 아래는 Array를 포함하는 Array이다."
   ]
  },
  {
   "cell_type": "code",
   "execution_count": 27,
   "metadata": {},
   "outputs": [
    {
     "data": {
      "text/plain": [
       "2-element Array{Array{String,1},1}:\n",
       " [\"꼬치\", \"초콜릿\", \"계란\"] \n",
       " [\"폥귄\", \"고양이\", \"다람쥐\"]"
      ]
     },
     "execution_count": 27,
     "metadata": {},
     "output_type": "execute_result"
    }
   ],
   "source": [
    "좋아하는것 = [[\"꼬치\", \"초콜릿\", \"계란\"],[\"폥귄\", \"고양이\", \"다람쥐\"]]"
   ]
  },
  {
   "cell_type": "code",
   "execution_count": 28,
   "metadata": {},
   "outputs": [
    {
     "data": {
      "text/plain": [
       "3-element Array{Array{Int64,1},1}:\n",
       " [1, 2, 3]   \n",
       " [4, 5]      \n",
       " [6, 7, 8, 9]"
      ]
     },
     "execution_count": 28,
     "metadata": {},
     "output_type": "execute_result"
    }
   ],
   "source": [
    "숫자 = [[1, 2, 3], [4, 5], [6, 7, 8, 9]]"
   ]
  },
  {
   "cell_type": "markdown",
   "metadata": {},
   "source": [
    "아래는 2D Array의 예이다."
   ]
  },
  {
   "cell_type": "code",
   "execution_count": 29,
   "metadata": {},
   "outputs": [
    {
     "data": {
      "text/plain": [
       "3×2 Array{String,2}:\n",
       " \"꼬치\"   \"폥귄\" \n",
       " \"초콜릿\"  \"고양이\"\n",
       " \"계란\"   \"다람쥐\""
      ]
     },
     "execution_count": 29,
     "metadata": {},
     "output_type": "execute_result"
    }
   ],
   "source": [
    "좋아하는것 = [[\"꼬치\", \"초콜릿\", \"계란\"] [\"폥귄\", \"고양이\", \"다람쥐\"]]"
   ]
  },
  {
   "cell_type": "markdown",
   "metadata": {},
   "source": [
    "아래는 난수로 이루어진 2D 와 3D Array 의 예다."
   ]
  },
  {
   "cell_type": "code",
   "execution_count": 30,
   "metadata": {},
   "outputs": [
    {
     "data": {
      "text/plain": [
       "4×3 Array{Float64,2}:\n",
       " 0.155066  0.895017  0.344896 \n",
       " 0.961225  0.250571  0.0275144\n",
       " 0.962236  0.517302  0.512453 \n",
       " 0.670154  0.910416  0.461275 "
      ]
     },
     "execution_count": 30,
     "metadata": {},
     "output_type": "execute_result"
    }
   ],
   "source": [
    "rand(4, 3)"
   ]
  },
  {
   "cell_type": "code",
   "execution_count": 31,
   "metadata": {},
   "outputs": [
    {
     "data": {
      "text/plain": [
       "4×3×2 Array{Float64,3}:\n",
       "[:, :, 1] =\n",
       " 0.473565  0.952828  0.992356  \n",
       " 0.215875  0.68861   0.571616  \n",
       " 0.93695   0.857364  0.00280746\n",
       " 0.250034  0.613547  0.971052  \n",
       "\n",
       "[:, :, 2] =\n",
       " 0.186974  0.0946618  0.290266\n",
       " 0.513068  0.632347   0.437898\n",
       " 0.378373  0.817551   0.444273\n",
       " 0.356178  0.053548   0.313712"
      ]
     },
     "execution_count": 31,
     "metadata": {},
     "output_type": "execute_result"
    }
   ],
   "source": [
    "rand(4, 3, 2)"
   ]
  },
  {
   "cell_type": "markdown",
   "metadata": {},
   "source": [
    "Array를 복사할 때는 항상 주의해야한다!"
   ]
  },
  {
   "cell_type": "code",
   "execution_count": 32,
   "metadata": {},
   "outputs": [
    {
     "data": {
      "text/plain": [
       "7-element Array{Int64,1}:\n",
       "  1\n",
       "  1\n",
       "  2\n",
       "  3\n",
       "  5\n",
       "  8\n",
       " 13"
      ]
     },
     "execution_count": 32,
     "metadata": {},
     "output_type": "execute_result"
    }
   ],
   "source": [
    "피보나치"
   ]
  },
  {
   "cell_type": "code",
   "execution_count": 33,
   "metadata": {},
   "outputs": [
    {
     "data": {
      "text/plain": [
       "7-element Array{Int64,1}:\n",
       "  1\n",
       "  1\n",
       "  2\n",
       "  3\n",
       "  5\n",
       "  8\n",
       " 13"
      ]
     },
     "execution_count": 33,
     "metadata": {},
     "output_type": "execute_result"
    }
   ],
   "source": [
    "수열 = 피보나치"
   ]
  },
  {
   "cell_type": "code",
   "execution_count": 34,
   "metadata": {},
   "outputs": [
    {
     "data": {
      "text/plain": [
       "404"
      ]
     },
     "execution_count": 34,
     "metadata": {},
     "output_type": "execute_result"
    }
   ],
   "source": [
    "수열[1] = 404"
   ]
  },
  {
   "cell_type": "code",
   "execution_count": 35,
   "metadata": {},
   "outputs": [
    {
     "data": {
      "text/plain": [
       "7-element Array{Int64,1}:\n",
       " 404\n",
       "   1\n",
       "   2\n",
       "   3\n",
       "   5\n",
       "   8\n",
       "  13"
      ]
     },
     "execution_count": 35,
     "metadata": {},
     "output_type": "execute_result"
    }
   ],
   "source": [
    "피보나치"
   ]
  },
  {
   "cell_type": "markdown",
   "metadata": {},
   "source": [
    "*수열*을 수정했는데 *피보나치*도 수정됐다!\n",
    "\n",
    "위의 예시에서 *수열*은 사실 *피보나치*의 복사본이 아니다. 그저 *피보나치*의 별칭을 만들어줬을 뿐이다.\n",
    "\n",
    "*피보나치*의 복사본을 만들고 싶을 때는, **copy** 함수를 사용한다.\n",
    "\n",
    "일단, *피보나치*를 복구하자."
   ]
  },
  {
   "cell_type": "code",
   "execution_count": 36,
   "metadata": {},
   "outputs": [
    {
     "data": {
      "text/plain": [
       "7-element Array{Int64,1}:\n",
       "  1\n",
       "  1\n",
       "  2\n",
       "  3\n",
       "  5\n",
       "  8\n",
       " 13"
      ]
     },
     "execution_count": 36,
     "metadata": {},
     "output_type": "execute_result"
    }
   ],
   "source": [
    "피보나치[1] = 1\n",
    "피보나치"
   ]
  },
  {
   "cell_type": "code",
   "execution_count": 37,
   "metadata": {},
   "outputs": [
    {
     "data": {
      "text/plain": [
       "7-element Array{Int64,1}:\n",
       "  1\n",
       "  1\n",
       "  2\n",
       "  3\n",
       "  5\n",
       "  8\n",
       " 13"
      ]
     },
     "execution_count": 37,
     "metadata": {},
     "output_type": "execute_result"
    }
   ],
   "source": [
    "수열 = copy(피보나치)"
   ]
  },
  {
   "cell_type": "code",
   "execution_count": 38,
   "metadata": {},
   "outputs": [
    {
     "data": {
      "text/plain": [
       "404"
      ]
     },
     "execution_count": 38,
     "metadata": {},
     "output_type": "execute_result"
    }
   ],
   "source": [
    "수열[1] = 404"
   ]
  },
  {
   "cell_type": "code",
   "execution_count": 39,
   "metadata": {},
   "outputs": [
    {
     "data": {
      "text/plain": [
       "7-element Array{Int64,1}:\n",
       "  1\n",
       "  1\n",
       "  2\n",
       "  3\n",
       "  5\n",
       "  8\n",
       " 13"
      ]
     },
     "execution_count": 39,
     "metadata": {},
     "output_type": "execute_result"
    }
   ],
   "source": [
    "피보나치"
   ]
  },
  {
   "cell_type": "markdown",
   "metadata": {},
   "source": [
    "마지막 결과에서, *피보나치*는 수정되지 않았다. *수열*과 *피보나치*가 전혀 별개의 변수가 되었음을 볼 수 있다."
   ]
  },
  {
   "cell_type": "markdown",
   "metadata": {},
   "source": [
    "## 연습문제 <a id='4'></a>"
   ]
  },
  {
   "cell_type": "markdown",
   "metadata": {},
   "source": [
    "### 3.1"
   ]
  },
  {
   "cell_type": "markdown",
   "metadata": {},
   "source": [
    "아래 코드를 사용해서 *a_ray*라는 Array를 만들자:\n",
    "\n",
    "    a_ray = [1, 2, 3]\n",
    "\n",
    "4를 추가했다가 삭제해보자."
   ]
  },
  {
   "cell_type": "code",
   "execution_count": 40,
   "metadata": {},
   "outputs": [
    {
     "data": {
      "text/plain": [
       "3-element Array{Int64,1}:\n",
       " 1\n",
       " 2\n",
       " 3"
      ]
     },
     "execution_count": 40,
     "metadata": {},
     "output_type": "execute_result"
    }
   ],
   "source": [
    "a_ray = [1, 2, 3]"
   ]
  },
  {
   "cell_type": "code",
   "execution_count": 41,
   "metadata": {},
   "outputs": [
    {
     "data": {
      "text/plain": [
       "4-element Array{Int64,1}:\n",
       " 1\n",
       " 2\n",
       " 3\n",
       " 4"
      ]
     },
     "execution_count": 41,
     "metadata": {},
     "output_type": "execute_result"
    }
   ],
   "source": [
    "push!(a_ray,4)"
   ]
  },
  {
   "cell_type": "code",
   "execution_count": 42,
   "metadata": {},
   "outputs": [
    {
     "data": {
      "text/plain": [
       "4"
      ]
     },
     "execution_count": 42,
     "metadata": {},
     "output_type": "execute_result"
    }
   ],
   "source": [
    "pop!(a_ray)"
   ]
  },
  {
   "cell_type": "code",
   "execution_count": 43,
   "metadata": {},
   "outputs": [
    {
     "data": {
      "text/plain": [
       "3-element Array{Int64,1}:\n",
       " 1\n",
       " 2\n",
       " 3"
      ]
     },
     "execution_count": 43,
     "metadata": {},
     "output_type": "execute_result"
    }
   ],
   "source": [
    "a_ray"
   ]
  },
  {
   "cell_type": "code",
   "execution_count": 44,
   "metadata": {},
   "outputs": [],
   "source": [
    "@assert a_ray == [1, 2, 3]"
   ]
  },
  {
   "cell_type": "code",
   "execution_count": 45,
   "metadata": {},
   "outputs": [
    {
     "data": {
      "text/markdown": [
       "```\n",
       "@assert cond [text]\n",
       "```\n",
       "\n",
       "Throw an [`AssertionError`](@ref) if `cond` is `false`. Preferred syntax for writing assertions. Message `text` is optionally displayed upon assertion failure.\n",
       "\n",
       "!!! warning\n",
       "    An assert might be disabled at various optimization levels. Assert should therefore only be used as a debugging tool and not used for authentication verification (e.g., verifying passwords), nor should side effects needed for the function to work correctly be used inside of asserts.\n",
       "\n",
       "\n",
       "# Examples\n",
       "\n",
       "```jldoctest\n",
       "julia> @assert iseven(3) \"3 is an odd number!\"\n",
       "ERROR: AssertionError: 3 is an odd number!\n",
       "\n",
       "julia> @assert isodd(3) \"What even are numbers?\"\n",
       "```\n"
      ],
      "text/plain": [
       "\u001b[36m  @assert cond [text]\u001b[39m\n",
       "\n",
       "  Throw an \u001b[36mAssertionError\u001b[39m if \u001b[36mcond\u001b[39m is \u001b[36mfalse\u001b[39m. Preferred syntax for writing\n",
       "  assertions. Message \u001b[36mtext\u001b[39m is optionally displayed upon assertion failure.\n",
       "\n",
       "\u001b[33m\u001b[1m  │ \u001b[22m\u001b[39m\u001b[33m\u001b[1mWarning\u001b[22m\u001b[39m\n",
       "\u001b[33m\u001b[1m  │\u001b[22m\u001b[39m\n",
       "\u001b[33m\u001b[1m  │\u001b[22m\u001b[39m  An assert might be disabled at various optimization levels. Assert\n",
       "\u001b[33m\u001b[1m  │\u001b[22m\u001b[39m  should therefore only be used as a debugging tool and not used for\n",
       "\u001b[33m\u001b[1m  │\u001b[22m\u001b[39m  authentication verification (e.g., verifying passwords), nor\n",
       "\u001b[33m\u001b[1m  │\u001b[22m\u001b[39m  should side effects needed for the function to work correctly be\n",
       "\u001b[33m\u001b[1m  │\u001b[22m\u001b[39m  used inside of asserts.\n",
       "\n",
       "\u001b[1m  Examples\u001b[22m\n",
       "\u001b[1m  ≡≡≡≡≡≡≡≡≡≡\u001b[22m\n",
       "\n",
       "\u001b[36m  julia> @assert iseven(3) \"3 is an odd number!\"\u001b[39m\n",
       "\u001b[36m  ERROR: AssertionError: 3 is an odd number!\u001b[39m\n",
       "\u001b[36m  \u001b[39m\n",
       "\u001b[36m  julia> @assert isodd(3) \"What even are numbers?\"\u001b[39m"
      ]
     },
     "execution_count": 45,
     "metadata": {},
     "output_type": "execute_result"
    }
   ],
   "source": [
    "?@assert"
   ]
  },
  {
   "cell_type": "markdown",
   "metadata": {},
   "source": [
    "### 3.2"
   ]
  },
  {
   "cell_type": "markdown",
   "metadata": {},
   "source": [
    "아래 코드를 이용해서 *연락처*에 \"응급시\" 라는 key와 **string**(119) 이라는 value를 추가하자.\n",
    "\n",
    "    연락처[\"응급시\"] = 119\n",
    "\n",
    "왜 오류가 날까?"
   ]
  },
  {
   "cell_type": "code",
   "execution_count": 46,
   "metadata": {},
   "outputs": [
    {
     "data": {
      "text/plain": [
       "Dict{String,String} with 2 entries:\n",
       "  \"퇴마…  => \"555-2368\"\n",
       "  \"영희…  => \"867-5309\""
      ]
     },
     "execution_count": 46,
     "metadata": {},
     "output_type": "execute_result"
    }
   ],
   "source": [
    "연락처"
   ]
  },
  {
   "cell_type": "code",
   "execution_count": 47,
   "metadata": {},
   "outputs": [
    {
     "ename": "MethodError",
     "evalue": "MethodError: Cannot `convert` an object of type Int64 to an object of type String\nClosest candidates are:\n  convert(::Type{T<:AbstractString}, !Matched::T<:AbstractString) where T<:AbstractString at strings/basic.jl:207\n  convert(::Type{T<:AbstractString}, !Matched::AbstractString) where T<:AbstractString at strings/basic.jl:208\n  convert(::Type{T}, !Matched::T) where T at essentials.jl:154",
     "output_type": "error",
     "traceback": [
      "MethodError: Cannot `convert` an object of type Int64 to an object of type String\nClosest candidates are:\n  convert(::Type{T<:AbstractString}, !Matched::T<:AbstractString) where T<:AbstractString at strings/basic.jl:207\n  convert(::Type{T<:AbstractString}, !Matched::AbstractString) where T<:AbstractString at strings/basic.jl:208\n  convert(::Type{T}, !Matched::T) where T at essentials.jl:154",
      "",
      "Stacktrace:",
      " [1] setindex!(::Dict{String,String}, ::Int64, ::String) at ./dict.jl:381",
      " [2] top-level scope at In[47]:1"
     ]
    }
   ],
   "source": [
    "연락처[\"응급시\"] = 119"
   ]
  },
  {
   "cell_type": "code",
   "execution_count": 48,
   "metadata": {},
   "outputs": [
    {
     "data": {
      "text/plain": [
       "\"119\""
      ]
     },
     "execution_count": 48,
     "metadata": {},
     "output_type": "execute_result"
    }
   ],
   "source": [
    "연락처[\"응급시\"] = string(119)"
   ]
  },
  {
   "cell_type": "markdown",
   "metadata": {},
   "source": [
    "### 3.3"
   ]
  },
  {
   "cell_type": "markdown",
   "metadata": {},
   "source": [
    "아래 코드를 이용해서 *유연한연락처*라는 새로운 Dictionary를 만들자. 영희 전화번호는 정수로 저장하고 퇴마사 전화번호는 문자로 저장한다.\n",
    "\n",
    "    유연한연락처 = Dict(\"영희\" => 8675309, \"퇴마사\" => \"555-2368\")"
   ]
  },
  {
   "cell_type": "code",
   "execution_count": 49,
   "metadata": {
    "scrolled": true
   },
   "outputs": [
    {
     "data": {
      "text/plain": [
       "Dict{String,Any} with 2 entries:\n",
       "  \"퇴마…  => \"555-2368\"\n",
       "  \"영희…  => 8675309"
      ]
     },
     "execution_count": 49,
     "metadata": {},
     "output_type": "execute_result"
    }
   ],
   "source": [
    "유연한연락처 = Dict(\"영희\" => 8675309, \"퇴마사\" => \"555-2368\")"
   ]
  },
  {
   "cell_type": "code",
   "execution_count": 50,
   "metadata": {},
   "outputs": [],
   "source": [
    "@assert 유연한연락처 == Dict(\"영희\" => 8675309, \"퇴마사\" => \"555-2368\")"
   ]
  },
  {
   "cell_type": "markdown",
   "metadata": {},
   "source": [
    "### 3.4"
   ]
  },
  {
   "cell_type": "markdown",
   "metadata": {},
   "source": [
    "어떤 정수 값을 *유연한연락처*에는 넣을 수 있는데, 왜 *연락처*에는 못 넣을까? 그럼, *연락처*를 어떻게 선언해야 정수값을 넣을 수 있게 될까?"
   ]
  },
  {
   "cell_type": "code",
   "execution_count": 51,
   "metadata": {},
   "outputs": [
    {
     "data": {
      "text/plain": [
       "911"
      ]
     },
     "execution_count": 51,
     "metadata": {},
     "output_type": "execute_result"
    }
   ],
   "source": [
    "유연한연락처[\"응급시\"] = 911"
   ]
  },
  {
   "cell_type": "code",
   "execution_count": 52,
   "metadata": {},
   "outputs": [
    {
     "data": {
      "text/plain": [
       "Dict{String,Any} with 3 entries:\n",
       "  \"퇴마…  => \"555-2368\"\n",
       "  \"영희…  => 8675309\n",
       "  \"응급…  => 911"
      ]
     },
     "execution_count": 52,
     "metadata": {},
     "output_type": "execute_result"
    }
   ],
   "source": [
    "유연한연락처"
   ]
  },
  {
   "cell_type": "code",
   "execution_count": 53,
   "metadata": {},
   "outputs": [
    {
     "data": {
      "text/plain": [
       "Dict{String,Any}"
      ]
     },
     "execution_count": 53,
     "metadata": {},
     "output_type": "execute_result"
    }
   ],
   "source": [
    "typeof(유연한연락처)"
   ]
  },
  {
   "cell_type": "code",
   "execution_count": 54,
   "metadata": {},
   "outputs": [
    {
     "data": {
      "text/plain": [
       "Dict{String,String}"
      ]
     },
     "execution_count": 54,
     "metadata": {},
     "output_type": "execute_result"
    }
   ],
   "source": [
    "typeof(연락처)"
   ]
  },
  {
   "cell_type": "code",
   "execution_count": 55,
   "metadata": {},
   "outputs": [
    {
     "data": {
      "text/plain": [
       "Dict{Any,Any} with 3 entries:\n",
       "  \"퇴마…  => \"555-2368\"\n",
       "  \"영희…  => \"867-5309\"\n",
       "  \"응급…  => \"119\""
      ]
     },
     "execution_count": 55,
     "metadata": {},
     "output_type": "execute_result"
    }
   ],
   "source": [
    "연락처 = convert(Dict{Any,Any},연락처)"
   ]
  },
  {
   "cell_type": "code",
   "execution_count": 56,
   "metadata": {},
   "outputs": [
    {
     "data": {
      "text/plain": [
       "Dict{Any,Any}"
      ]
     },
     "execution_count": 56,
     "metadata": {},
     "output_type": "execute_result"
    }
   ],
   "source": [
    "typeof(연락처)"
   ]
  },
  {
   "cell_type": "code",
   "execution_count": 57,
   "metadata": {},
   "outputs": [
    {
     "data": {
      "text/plain": [
       "119"
      ]
     },
     "execution_count": 57,
     "metadata": {},
     "output_type": "execute_result"
    }
   ],
   "source": [
    "연락처[\"응급시\"] = 119"
   ]
  },
  {
   "cell_type": "code",
   "execution_count": 58,
   "metadata": {
    "scrolled": true
   },
   "outputs": [
    {
     "data": {
      "text/plain": [
       "Dict{Any,Any} with 3 entries:\n",
       "  \"퇴마…  => \"555-2368\"\n",
       "  \"영희…  => \"867-5309\"\n",
       "  \"응급…  => 119"
      ]
     },
     "execution_count": 58,
     "metadata": {},
     "output_type": "execute_result"
    }
   ],
   "source": [
    "연락처"
   ]
  },
  {
   "cell_type": "code",
   "execution_count": null,
   "metadata": {},
   "outputs": [],
   "source": []
  }
 ],
 "metadata": {
  "kernelspec": {
   "display_name": "Julia 1.0.0",
   "language": "julia",
   "name": "julia-1.0"
  },
  "language_info": {
   "file_extension": ".jl",
   "mimetype": "application/julia",
   "name": "julia",
   "version": "1.0.0"
  }
 },
 "nbformat": 4,
 "nbformat_minor": 2
}

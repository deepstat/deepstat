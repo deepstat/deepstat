{
 "cells": [
  {
   "cell_type": "markdown",
   "metadata": {},
   "source": [
    "# Basic linear algebra in Julia\n",
    "원저자: Andreas Noack Jensen (MIT) (http://www.econ.ku.dk/phdstudent/noack/)\n",
    "(with edits from Jane Herriman)\n",
    "\n",
    "## 출처\n",
    "\n",
    "https://github.com/JuliaComputing/JuliaBoxTutorials/tree/master/introductory-tutorials/intro-to-julia (github : JuliaComputing/JuliaBoxTutorials/introductory-tutorials/intro-to-julia/)\n",
    "\n",
    "Topics:\n",
    "\n",
    "1. [기본 연산](#1)\n",
    "2. [라이브러리 LinearAlgebra](#2)\n",
    "3. [연습문제](#3)\n",
    "\n",
    "### 함께보기\n",
    "\n",
    "- http://deepstat.tistory.com/45 (01. Getting started)(in English)\n",
    "- http://deepstat.tistory.com/46 (01. Getting started(한글))\n",
    "- http://deepstat.tistory.com/47 (02. Strings)(in English)\n",
    "- http://deepstat.tistory.com/48 (02. Strings(한글))\n",
    "- http://deepstat.tistory.com/49 (03. Data structures)(in English)\n",
    "- http://deepstat.tistory.com/50 (03. Data structures(한글))\n",
    "- http://deepstat.tistory.com/51 (04. Loops)(in English)\n",
    "- http://deepstat.tistory.com/52 (04. Loops(한글))\n",
    "- http://deepstat.tistory.com/53 (05. Conditionals)(in English)\n",
    "- http://deepstat.tistory.com/54 (05. Conditionals(한글))\n",
    "- http://deepstat.tistory.com/55 (06. Functions)(in English)\n",
    "- http://deepstat.tistory.com/56 (06. Functions(한글))\n",
    "- http://deepstat.tistory.com/57 (07. Packages)(in English)\n",
    "- http://deepstat.tistory.com/58 (07. Packages(한글))\n",
    "- http://deepstat.tistory.com/59 (08. Plotting)(in English)\n",
    "- http://deepstat.tistory.com/60 (08. Plotting(한글))\n",
    "- http://deepstat.tistory.com/61 (09. Julia is fast)(in English)\n",
    "- http://deepstat.tistory.com/62 (09. Julia is fast(한글))\n",
    "- http://deepstat.tistory.com/63 (10. Multiple dispatch)(in English)\n",
    "- http://deepstat.tistory.com/64 (10. Multiple dispatch(한글))\n",
    "- http://deepstat.tistory.com/65 (11. Basic linear algebra in Julia)(in English)"
   ]
  },
  {
   "cell_type": "markdown",
   "metadata": {},
   "source": [
    "먼저, 랜덤 행렬을 정의해보자."
   ]
  },
  {
   "cell_type": "code",
   "execution_count": 1,
   "metadata": {},
   "outputs": [
    {
     "data": {
      "text/plain": [
       "4×4 Array{Int64,2}:\n",
       " 4  4  1  1\n",
       " 1  4  3  3\n",
       " 4  4  4  4\n",
       " 3  4  4  2"
      ]
     },
     "execution_count": 1,
     "metadata": {},
     "output_type": "execute_result"
    }
   ],
   "source": [
    "A = rand(1:4,4,4)"
   ]
  },
  {
   "cell_type": "markdown",
   "metadata": {},
   "source": [
    "1로 이루어진 벡터도 정의하자."
   ]
  },
  {
   "cell_type": "code",
   "execution_count": 2,
   "metadata": {},
   "outputs": [
    {
     "data": {
      "text/plain": [
       "4-element Array{Float64,1}:\n",
       " 1.0\n",
       " 1.0\n",
       " 1.0\n",
       " 1.0"
      ]
     },
     "execution_count": 2,
     "metadata": {},
     "output_type": "execute_result"
    }
   ],
   "source": [
    "x = fill(1.0, (4,)) # = fill(1.0, 4)"
   ]
  },
  {
   "cell_type": "markdown",
   "metadata": {},
   "source": [
    "A는 type이 Array{Int64,2}이고, x는 type이 Array{Float64,1} 라는 것을 볼 수 있다. Julia는 Vector{Type}=Array{Type,1}, Matrix{Type}=Array{Type,2} 로 별명(alias)을 정의하고있다.\n",
    "\n",
    "많은 기본 연산은 다른 언어와 같다. <a id=1></a>\n",
    "\n",
    "#### 행렬곱(Multiplication)"
   ]
  },
  {
   "cell_type": "code",
   "execution_count": 3,
   "metadata": {},
   "outputs": [
    {
     "data": {
      "text/plain": [
       "4-element Array{Float64,1}:\n",
       " 10.0\n",
       " 11.0\n",
       " 16.0\n",
       " 13.0"
      ]
     },
     "execution_count": 3,
     "metadata": {},
     "output_type": "execute_result"
    }
   ],
   "source": [
    "b = A*x"
   ]
  },
  {
   "cell_type": "markdown",
   "metadata": {},
   "source": [
    "#### 전치(Transpose)\n",
    "\n",
    "다른 언어들처럼, `A'` 는 켤레전치(conjugate transpose)행렬이다."
   ]
  },
  {
   "cell_type": "code",
   "execution_count": 4,
   "metadata": {},
   "outputs": [
    {
     "data": {
      "text/plain": [
       "4×4 LinearAlgebra.Adjoint{Int64,Array{Int64,2}}:\n",
       " 4  1  4  3\n",
       " 4  4  4  4\n",
       " 1  3  4  4\n",
       " 1  3  4  2"
      ]
     },
     "execution_count": 4,
     "metadata": {},
     "output_type": "execute_result"
    }
   ],
   "source": [
    "A'"
   ]
  },
  {
   "cell_type": "markdown",
   "metadata": {},
   "source": [
    "또는 아래처럼 전치(transpose)행렬을 구할 수 있다."
   ]
  },
  {
   "cell_type": "code",
   "execution_count": 5,
   "metadata": {},
   "outputs": [
    {
     "data": {
      "text/plain": [
       "4×4 LinearAlgebra.Transpose{Int64,Array{Int64,2}}:\n",
       " 4  1  4  3\n",
       " 4  4  4  4\n",
       " 1  3  4  4\n",
       " 1  3  4  2"
      ]
     },
     "execution_count": 5,
     "metadata": {},
     "output_type": "execute_result"
    }
   ],
   "source": [
    "transpose(A)"
   ]
  },
  {
   "cell_type": "markdown",
   "metadata": {},
   "source": [
    "#### 전치 후 곱셈\n",
    "\n",
    "Julia는 *를 쓰지 않아도 된다."
   ]
  },
  {
   "cell_type": "code",
   "execution_count": 6,
   "metadata": {},
   "outputs": [
    {
     "data": {
      "text/plain": [
       "4×4 Array{Int64,2}:\n",
       " 42  48  35  29\n",
       " 48  64  48  40\n",
       " 35  48  42  34\n",
       " 29  40  34  30"
      ]
     },
     "execution_count": 6,
     "metadata": {},
     "output_type": "execute_result"
    }
   ],
   "source": [
    "A'A"
   ]
  },
  {
   "cell_type": "markdown",
   "metadata": {},
   "source": [
    "#### 선형계(linear systems) 풀기\n",
    "\n",
    "$A$가 ***정방(square)행렬*** 일 때, $Ax=b$ 는 함수 \\ 로 풀 수 있다."
   ]
  },
  {
   "cell_type": "code",
   "execution_count": 7,
   "metadata": {},
   "outputs": [
    {
     "data": {
      "text/plain": [
       "4-element Array{Float64,1}:\n",
       " 1.0\n",
       " 1.0\n",
       " 1.0\n",
       " 1.0"
      ]
     },
     "execution_count": 7,
     "metadata": {},
     "output_type": "execute_result"
    }
   ],
   "source": [
    "A\\b"
   ]
  },
  {
   "cell_type": "code",
   "execution_count": 8,
   "metadata": {},
   "outputs": [
    {
     "data": {
      "text/plain": [
       "4-element Array{Float64,1}:\n",
       " 0.9999999999999996\n",
       " 1.0000000000000004\n",
       " 1.0               \n",
       " 0.9999999999999991"
      ]
     },
     "execution_count": 8,
     "metadata": {},
     "output_type": "execute_result"
    }
   ],
   "source": [
    "A^-1 * b"
   ]
  },
  {
   "cell_type": "markdown",
   "metadata": {},
   "source": [
    "만약 과결정선형계(overdetermined linear system) (A 가 아래로 긴 행렬)일 때,  `A\\b` 는 *최소 제곱 해(least squares solution)*를 도출한다."
   ]
  },
  {
   "cell_type": "code",
   "execution_count": 9,
   "metadata": {},
   "outputs": [
    {
     "data": {
      "text/plain": [
       "4×2 Array{Float64,2}:\n",
       " 0.620125  0.964271\n",
       " 0.435129  0.392623\n",
       " 0.352525  0.846371\n",
       " 0.888477  0.154265"
      ]
     },
     "execution_count": 9,
     "metadata": {},
     "output_type": "execute_result"
    }
   ],
   "source": [
    "Atall = rand(4, 2)"
   ]
  },
  {
   "cell_type": "code",
   "execution_count": 10,
   "metadata": {},
   "outputs": [
    {
     "data": {
      "text/plain": [
       "2-element Array{Float64,1}:\n",
       " 12.558191782805045\n",
       "  7.886509151359657"
      ]
     },
     "execution_count": 10,
     "metadata": {},
     "output_type": "execute_result"
    }
   ],
   "source": [
    "Atall\\b"
   ]
  },
  {
   "cell_type": "code",
   "execution_count": 11,
   "metadata": {},
   "outputs": [
    {
     "data": {
      "text/plain": [
       "2-element Array{Float64,1}:\n",
       " 12.55819178280504 \n",
       "  7.886509151359654"
      ]
     },
     "execution_count": 11,
     "metadata": {},
     "output_type": "execute_result"
    }
   ],
   "source": [
    "(Atall'Atall)^-1 * Atall'b"
   ]
  },
  {
   "cell_type": "markdown",
   "metadata": {},
   "source": [
    "만일 계수 부족 최소제곱 문제(rank-deficient least squares problem)인 경우는, *최소 노름 최소 제곱 해(minimum norm least squares solution)*를 도출한다."
   ]
  },
  {
   "cell_type": "code",
   "execution_count": 12,
   "metadata": {},
   "outputs": [
    {
     "data": {
      "text/plain": [
       "4×3 Array{Float64,2}:\n",
       " 0.791797  0.791797  0.631865\n",
       " 0.132592  0.132592  0.468963\n",
       " 0.421476  0.421476  0.177085\n",
       " 0.967094  0.967094  0.202275"
      ]
     },
     "execution_count": 12,
     "metadata": {},
     "output_type": "execute_result"
    }
   ],
   "source": [
    "v1 = rand(4)\n",
    "v2 = rand(4)\n",
    "rankdef = hcat(v1, v1, v2)"
   ]
  },
  {
   "cell_type": "code",
   "execution_count": 13,
   "metadata": {},
   "outputs": [
    {
     "data": {
      "text/plain": [
       "3-element Array{Float64,1}:\n",
       "  5.49389774957956 \n",
       "  5.493897749579558\n",
       " 11.26631347260693 "
      ]
     },
     "execution_count": 13,
     "metadata": {},
     "output_type": "execute_result"
    }
   ],
   "source": [
    "rankdef\\b"
   ]
  },
  {
   "cell_type": "markdown",
   "metadata": {},
   "source": [
    "또한, 결정미달계(underdetermined system)(A가 아래로 짧은 행렬) 인 경우, Julia는 *최소 노름 해(minimum norm solution)*를 도출한다."
   ]
  },
  {
   "cell_type": "code",
   "execution_count": 14,
   "metadata": {},
   "outputs": [
    {
     "data": {
      "text/plain": [
       "2×3 Array{Float64,2}:\n",
       " 0.913861   0.382365  0.542242\n",
       " 0.0607539  0.420378  0.750087"
      ]
     },
     "execution_count": 14,
     "metadata": {},
     "output_type": "execute_result"
    }
   ],
   "source": [
    "bshort = rand(2)\n",
    "Ashort = rand(2, 3)"
   ]
  },
  {
   "cell_type": "code",
   "execution_count": 15,
   "metadata": {},
   "outputs": [
    {
     "data": {
      "text/plain": [
       "3-element Array{Float64,1}:\n",
       " 0.279885521561581  \n",
       " 0.37741831223794353\n",
       " 0.6366857785894317 "
      ]
     },
     "execution_count": 15,
     "metadata": {},
     "output_type": "execute_result"
    }
   ],
   "source": [
    "Ashort\\bshort"
   ]
  },
  {
   "cell_type": "markdown",
   "metadata": {},
   "source": [
    "# 라이브러리 LinearAlgebra\n",
    "\n",
    "선형 대수학의 대부분은 기본적으로 Julia에서 사용할 수 있지만 (위에서 본 것 처럼), `LinearAlgebra`라는 표준 라이브러리가 있으며, 더 많은 관련된 이름과 함수를 제공한다. 특히, 인수 분해(factorization) 및 일부 구조화된 행렬(structured matrix) type을 제공한다. 다른 패키지와 마찬가지로, `using LinearAlgebra`로 session에 이러한 추가 기능을 가져올 수 있다."
   ]
  },
  {
   "cell_type": "markdown",
   "metadata": {},
   "source": [
    "### 연습문제 <a id=3></a>\n",
    "\n",
    "#### 10.1 \n",
    "\n",
    "`v`와 자신의 내적(inner product or \"dot\" product)를 구하자. 그리고 그 값을 `dot_v`에 저장하자."
   ]
  },
  {
   "cell_type": "code",
   "execution_count": 16,
   "metadata": {},
   "outputs": [
    {
     "data": {
      "text/plain": [
       "3-element Array{Int64,1}:\n",
       " 1\n",
       " 2\n",
       " 3"
      ]
     },
     "execution_count": 16,
     "metadata": {},
     "output_type": "execute_result"
    }
   ],
   "source": [
    "v = [1,2,3]"
   ]
  },
  {
   "cell_type": "code",
   "execution_count": 17,
   "metadata": {},
   "outputs": [
    {
     "data": {
      "text/plain": [
       "14"
      ]
     },
     "execution_count": 17,
     "metadata": {},
     "output_type": "execute_result"
    }
   ],
   "source": [
    "dot_v = v'v"
   ]
  },
  {
   "cell_type": "code",
   "execution_count": 18,
   "metadata": {},
   "outputs": [],
   "source": [
    "using LinearAlgebra"
   ]
  },
  {
   "cell_type": "code",
   "execution_count": 19,
   "metadata": {},
   "outputs": [
    {
     "data": {
      "text/plain": [
       "14"
      ]
     },
     "execution_count": 19,
     "metadata": {},
     "output_type": "execute_result"
    }
   ],
   "source": [
    "dot_v = dot(v,v)"
   ]
  },
  {
   "cell_type": "code",
   "execution_count": 20,
   "metadata": {},
   "outputs": [
    {
     "data": {
      "text/plain": [
       "14"
      ]
     },
     "execution_count": 20,
     "metadata": {},
     "output_type": "execute_result"
    }
   ],
   "source": [
    "dot_v = v⋅v # \\cdot<tab>"
   ]
  },
  {
   "cell_type": "code",
   "execution_count": 21,
   "metadata": {},
   "outputs": [
    {
     "data": {
      "text/plain": [
       "14"
      ]
     },
     "execution_count": 21,
     "metadata": {},
     "output_type": "execute_result"
    }
   ],
   "source": [
    "dot_v = ⋅(v,v) # \\cdot<tab>"
   ]
  },
  {
   "cell_type": "code",
   "execution_count": 22,
   "metadata": {
    "deletable": false,
    "editable": false,
    "hide_input": true,
    "nbgrader": {
     "checksum": "b93dad361f66498eb2460d708f674220",
     "grade": true,
     "grade_id": "cell-913fef9b0d19cd52",
     "locked": true,
     "points": 1,
     "schema_version": 1,
     "solution": false
    }
   },
   "outputs": [],
   "source": [
    "@assert dot_v == 14"
   ]
  },
  {
   "cell_type": "markdown",
   "metadata": {},
   "source": [
    "#### 10.2 \n",
    "\n",
    "`v`와 자신의 외적(outer product)를 구하자. 그리고 그 값을 `cross_v`에 저장하자."
   ]
  },
  {
   "cell_type": "code",
   "execution_count": 23,
   "metadata": {},
   "outputs": [],
   "source": [
    "using LinearAlgebra"
   ]
  },
  {
   "cell_type": "code",
   "execution_count": 24,
   "metadata": {},
   "outputs": [
    {
     "data": {
      "text/plain": [
       "3-element Array{Int64,1}:\n",
       " 0\n",
       " 0\n",
       " 0"
      ]
     },
     "execution_count": 24,
     "metadata": {},
     "output_type": "execute_result"
    }
   ],
   "source": [
    "cross_v = cross(v,v)"
   ]
  },
  {
   "cell_type": "code",
   "execution_count": 25,
   "metadata": {},
   "outputs": [
    {
     "data": {
      "text/plain": [
       "3-element Array{Int64,1}:\n",
       " 0\n",
       " 0\n",
       " 0"
      ]
     },
     "execution_count": 25,
     "metadata": {},
     "output_type": "execute_result"
    }
   ],
   "source": [
    "cross_v = v×v # \\times<tab>"
   ]
  },
  {
   "cell_type": "code",
   "execution_count": 26,
   "metadata": {},
   "outputs": [
    {
     "data": {
      "text/plain": [
       "3-element Array{Int64,1}:\n",
       " 0\n",
       " 0\n",
       " 0"
      ]
     },
     "execution_count": 26,
     "metadata": {},
     "output_type": "execute_result"
    }
   ],
   "source": [
    "cross_v = ×(v,v) # \\times<tab>"
   ]
  },
  {
   "cell_type": "code",
   "execution_count": 27,
   "metadata": {
    "deletable": false,
    "editable": false,
    "hide_input": true,
    "nbgrader": {
     "checksum": "01642581e27c0ac19752cd90d11ac2ae",
     "grade": true,
     "grade_id": "cell-e6b6970ffe104df5",
     "locked": true,
     "points": 1,
     "schema_version": 1,
     "solution": false
    }
   },
   "outputs": [],
   "source": [
    "@assert cross_v == [0, 0, 0]"
   ]
  }
 ],
 "metadata": {
  "kernelspec": {
   "display_name": "Julia 1.0.0",
   "language": "julia",
   "name": "julia-1.0"
  },
  "language": "Julia",
  "language_info": {
   "file_extension": ".jl",
   "mimetype": "application/julia",
   "name": "julia",
   "version": "1.0.0"
  }
 },
 "nbformat": 4,
 "nbformat_minor": 1
}

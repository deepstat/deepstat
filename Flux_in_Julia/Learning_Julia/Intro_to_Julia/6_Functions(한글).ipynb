{
 "cells": [
  {
   "cell_type": "markdown",
   "metadata": {},
   "source": [
    "# Functions\n",
    "\n",
    "## 출처\n",
    "\n",
    "https://github.com/JuliaComputing/JuliaBoxTutorials/tree/master/introductory-tutorials/intro-to-julia (github : JuliaComputing/JuliaBoxTutorials/introductory-tutorials/intro-to-julia/)\n",
    "\n",
    "Topics:\n",
    "\n",
    "1. [함수 선언](#1)\n",
    "2. [줄리아에서 Duck-typing](#2)\n",
    "3. [Mutating 과 non-mutating 함수](#3)\n",
    "4. [몇 가지 higher order functions](#4)\n",
    "5. [연습문제](#5)\n",
    "\n",
    "### 함께보기\n",
    "\n",
    "- http://deepstat.tistory.com/45 (01. Getting started)(in English)\n",
    "- http://deepstat.tistory.com/46 (01. Getting started(한글))\n",
    "- http://deepstat.tistory.com/47 (02. Strings)(in English)\n",
    "- http://deepstat.tistory.com/48 (02. Strings(한글))\n",
    "- http://deepstat.tistory.com/49 (03. Data structures)(in English)\n",
    "- http://deepstat.tistory.com/50 (03. Data structures(한글))\n",
    "- http://deepstat.tistory.com/51 (04. Loops)(in English)\n",
    "- http://deepstat.tistory.com/52 (04. Loops(한글))\n",
    "- http://deepstat.tistory.com/53 (05. Conditionals)(in English)\n",
    "- http://deepstat.tistory.com/54 (05. Conditionals(한글))\n",
    "- http://deepstat.tistory.com/55 (06. Functions)(in English)"
   ]
  },
  {
   "cell_type": "markdown",
   "metadata": {},
   "source": [
    "## 함수 선언 <a id=1></a>"
   ]
  },
  {
   "cell_type": "markdown",
   "metadata": {},
   "source": [
    "줄리아에는 함수를 선언하는 몇 가지 방법이 있다.\n",
    "\n",
    "첫번째는 **function**, **end** 문을 이용하는 방법이다."
   ]
  },
  {
   "cell_type": "code",
   "execution_count": 1,
   "metadata": {
    "scrolled": true
   },
   "outputs": [
    {
     "data": {
      "text/plain": [
       "안녕 (generic function with 1 method)"
      ]
     },
     "execution_count": 1,
     "metadata": {},
     "output_type": "execute_result"
    }
   ],
   "source": [
    "function 안녕(이름)\n",
    "    println(\"안녕 $이름, 만나서 반가워!\")\n",
    "end"
   ]
  },
  {
   "cell_type": "code",
   "execution_count": 2,
   "metadata": {},
   "outputs": [
    {
     "data": {
      "text/plain": [
       "f (generic function with 1 method)"
      ]
     },
     "execution_count": 2,
     "metadata": {},
     "output_type": "execute_result"
    }
   ],
   "source": [
    "function f(ㅁ)\n",
    "    ㅁ^2\n",
    "end"
   ]
  },
  {
   "cell_type": "markdown",
   "metadata": {},
   "source": [
    "이 함수를 사용할 때는 아래와 같이 한다."
   ]
  },
  {
   "cell_type": "code",
   "execution_count": 3,
   "metadata": {},
   "outputs": [
    {
     "name": "stdout",
     "output_type": "stream",
     "text": [
      "안녕 C-3PO, 만나서 반가워!\n"
     ]
    }
   ],
   "source": [
    "안녕(\"C-3PO\")"
   ]
  },
  {
   "cell_type": "code",
   "execution_count": 4,
   "metadata": {},
   "outputs": [
    {
     "data": {
      "text/plain": [
       "1764"
      ]
     },
     "execution_count": 4,
     "metadata": {},
     "output_type": "execute_result"
    }
   ],
   "source": [
    "f(42)"
   ]
  },
  {
   "cell_type": "markdown",
   "metadata": {},
   "source": [
    "이 함수들을 한 줄로 쓰는 방법도 있다."
   ]
  },
  {
   "cell_type": "code",
   "execution_count": 5,
   "metadata": {},
   "outputs": [
    {
     "data": {
      "text/plain": [
       "안녕2 (generic function with 1 method)"
      ]
     },
     "execution_count": 5,
     "metadata": {},
     "output_type": "execute_result"
    }
   ],
   "source": [
    "안녕2(이름) = println(\"안녕 $이름, 만나서 반가워!\")"
   ]
  },
  {
   "cell_type": "code",
   "execution_count": 6,
   "metadata": {},
   "outputs": [
    {
     "data": {
      "text/plain": [
       "f2 (generic function with 1 method)"
      ]
     },
     "execution_count": 6,
     "metadata": {},
     "output_type": "execute_result"
    }
   ],
   "source": [
    "f2(ㅁ) = ㅁ^2"
   ]
  },
  {
   "cell_type": "code",
   "execution_count": 7,
   "metadata": {},
   "outputs": [
    {
     "name": "stdout",
     "output_type": "stream",
     "text": [
      "안녕 R2D2, 만나서 반가워!\n"
     ]
    }
   ],
   "source": [
    "안녕2(\"R2D2\")"
   ]
  },
  {
   "cell_type": "code",
   "execution_count": 8,
   "metadata": {},
   "outputs": [
    {
     "data": {
      "text/plain": [
       "1764"
      ]
     },
     "execution_count": 8,
     "metadata": {},
     "output_type": "execute_result"
    }
   ],
   "source": [
    "f2(42)"
   ]
  },
  {
   "cell_type": "markdown",
   "metadata": {
    "scrolled": true
   },
   "source": [
    "마지막으로 \"anonymous\" 함수로 쓰는 방법이 있다."
   ]
  },
  {
   "cell_type": "code",
   "execution_count": 9,
   "metadata": {
    "scrolled": true
   },
   "outputs": [
    {
     "data": {
      "text/plain": [
       "#3 (generic function with 1 method)"
      ]
     },
     "execution_count": 9,
     "metadata": {},
     "output_type": "execute_result"
    }
   ],
   "source": [
    "안녕3 = 이름 -> println(\"안녕 $이름, 만나서 반가워!\")"
   ]
  },
  {
   "cell_type": "code",
   "execution_count": 10,
   "metadata": {},
   "outputs": [
    {
     "data": {
      "text/plain": [
       "#5 (generic function with 1 method)"
      ]
     },
     "execution_count": 10,
     "metadata": {},
     "output_type": "execute_result"
    }
   ],
   "source": [
    "f3 = ㅁ -> ㅁ^2"
   ]
  },
  {
   "cell_type": "code",
   "execution_count": 11,
   "metadata": {},
   "outputs": [
    {
     "name": "stdout",
     "output_type": "stream",
     "text": [
      "안녕 츄바카, 만나서 반가워!\n"
     ]
    }
   ],
   "source": [
    "안녕3(\"츄바카\")"
   ]
  },
  {
   "cell_type": "code",
   "execution_count": 12,
   "metadata": {},
   "outputs": [
    {
     "data": {
      "text/plain": [
       "1764"
      ]
     },
     "execution_count": 12,
     "metadata": {},
     "output_type": "execute_result"
    }
   ],
   "source": [
    "f3(42)"
   ]
  },
  {
   "cell_type": "markdown",
   "metadata": {},
   "source": [
    "## 줄리아에서 Duck-typing <a id=2></a>"
   ]
  },
  {
   "cell_type": "markdown",
   "metadata": {},
   "source": [
    "*\"오리처럼 꽥꽥대면, 오리다.\"* \n",
    "\n",
    "줄리아 함수는 input으로 동작할법한 형태로 넣어주기만 하면 작동한다.\n",
    "\n",
    "예를 들어서 *안녕* 함수에 input으로 character 대신에 integer 타입을 넣는다면,"
   ]
  },
  {
   "cell_type": "code",
   "execution_count": 13,
   "metadata": {},
   "outputs": [
    {
     "name": "stdout",
     "output_type": "stream",
     "text": [
      "안녕 55595472, 만나서 반가워!\n"
     ]
    }
   ],
   "source": [
    "안녕(55595472)"
   ]
  },
  {
   "cell_type": "markdown",
   "metadata": {},
   "source": [
    "함수 *f*도 input으로 matrix를 넣을 수 있다."
   ]
  },
  {
   "cell_type": "code",
   "execution_count": 14,
   "metadata": {},
   "outputs": [
    {
     "data": {
      "text/plain": [
       "3×3 Array{Float64,2}:\n",
       " 0.740961  0.369792  0.597127 \n",
       " 0.699034  0.741633  0.492968 \n",
       " 0.417486  0.989789  0.0903989"
      ]
     },
     "execution_count": 14,
     "metadata": {},
     "output_type": "execute_result"
    }
   ],
   "source": [
    "A = rand(3, 3)"
   ]
  },
  {
   "cell_type": "code",
   "execution_count": 15,
   "metadata": {},
   "outputs": [
    {
     "data": {
      "text/plain": [
       "3×3 Array{Float64,2}:\n",
       " 1.05681  1.13928   0.678724\n",
       " 1.24219  1.29645   0.827577\n",
       " 1.03898  0.977919  0.745399"
      ]
     },
     "execution_count": 15,
     "metadata": {},
     "output_type": "execute_result"
    }
   ],
   "source": [
    "f(A)"
   ]
  },
  {
   "cell_type": "markdown",
   "metadata": {},
   "source": [
    "*f* 는 string 을 input으로 넣어도 작동한다. 이유는 * operator가 문자를 합치는 역할을 하기 때문이다. 예를 들어, \"안녕\"을 넣으면,"
   ]
  },
  {
   "cell_type": "code",
   "execution_count": 16,
   "metadata": {},
   "outputs": [
    {
     "data": {
      "text/plain": [
       "\"안녕안녕\""
      ]
     },
     "execution_count": 16,
     "metadata": {},
     "output_type": "execute_result"
    }
   ],
   "source": [
    "f(\"안녕\")"
   ]
  },
  {
   "cell_type": "markdown",
   "metadata": {},
   "source": [
    "반면에, *f*는 벡터에는 오류나는데, 정방행렬과는 다르게 벡터의 제곱은 정의되지 않았기 때문이다."
   ]
  },
  {
   "cell_type": "code",
   "execution_count": 17,
   "metadata": {},
   "outputs": [
    {
     "data": {
      "text/plain": [
       "3-element Array{Float64,1}:\n",
       " 0.42053378869891533\n",
       " 0.83185728430284   \n",
       " 0.8853302310561109 "
      ]
     },
     "execution_count": 17,
     "metadata": {},
     "output_type": "execute_result"
    }
   ],
   "source": [
    "v = rand(3)"
   ]
  },
  {
   "cell_type": "code",
   "execution_count": 18,
   "metadata": {},
   "outputs": [
    {
     "ename": "MethodError",
     "evalue": "MethodError: no method matching ^(::Array{Float64,1}, ::Int64)\nClosest candidates are:\n  ^(!Matched::Float16, ::Integer) at math.jl:782\n  ^(!Matched::Missing, ::Integer) at missing.jl:120\n  ^(!Matched::Missing, ::Number) at missing.jl:93\n  ...",
     "output_type": "error",
     "traceback": [
      "MethodError: no method matching ^(::Array{Float64,1}, ::Int64)\nClosest candidates are:\n  ^(!Matched::Float16, ::Integer) at math.jl:782\n  ^(!Matched::Missing, ::Integer) at missing.jl:120\n  ^(!Matched::Missing, ::Number) at missing.jl:93\n  ...",
      "",
      "Stacktrace:",
      " [1] macro expansion at ./none:0 [inlined]",
      " [2] literal_pow at ./none:0 [inlined]",
      " [3] f(::Array{Float64,1}) at ./In[2]:2",
      " [4] top-level scope at In[18]:1"
     ]
    }
   ],
   "source": [
    "f(v)"
   ]
  },
  {
   "cell_type": "markdown",
   "metadata": {},
   "source": [
    "## Mutating 과 non-mutating 함수 <a id=3></a>"
   ]
  },
  {
   "cell_type": "markdown",
   "metadata": {},
   "source": [
    "규칙에 의해서, (무조건 적용되는 문법은 아님) 함수에 **!** 가 붙으면 input object를 변경하고, ! 가 안 붙으면 input object를 변경하지 않는다.\n",
    "\n",
    "아래에서 *sort* 와 *sort!* 의 차이를 보자."
   ]
  },
  {
   "cell_type": "code",
   "execution_count": 19,
   "metadata": {},
   "outputs": [
    {
     "data": {
      "text/plain": [
       "3-element Array{Int64,1}:\n",
       " 3\n",
       " 5\n",
       " 2"
      ]
     },
     "execution_count": 19,
     "metadata": {},
     "output_type": "execute_result"
    }
   ],
   "source": [
    "v = [3, 5, 2]"
   ]
  },
  {
   "cell_type": "code",
   "execution_count": 20,
   "metadata": {
    "scrolled": true
   },
   "outputs": [
    {
     "data": {
      "text/plain": [
       "3-element Array{Int64,1}:\n",
       " 2\n",
       " 3\n",
       " 5"
      ]
     },
     "execution_count": 20,
     "metadata": {},
     "output_type": "execute_result"
    }
   ],
   "source": [
    "sort(v)"
   ]
  },
  {
   "cell_type": "code",
   "execution_count": 21,
   "metadata": {},
   "outputs": [
    {
     "data": {
      "text/plain": [
       "3-element Array{Int64,1}:\n",
       " 3\n",
       " 5\n",
       " 2"
      ]
     },
     "execution_count": 21,
     "metadata": {},
     "output_type": "execute_result"
    }
   ],
   "source": [
    "v"
   ]
  },
  {
   "cell_type": "markdown",
   "metadata": {},
   "source": [
    "*sort(v)* 는 v 를 정렬했지만, v 자체를 바꾸지는 않는다.\n",
    "\n",
    "반면, *sort!(v)* 를 실행하면 v 또한 바뀐다."
   ]
  },
  {
   "cell_type": "code",
   "execution_count": 22,
   "metadata": {},
   "outputs": [
    {
     "data": {
      "text/plain": [
       "3-element Array{Int64,1}:\n",
       " 2\n",
       " 3\n",
       " 5"
      ]
     },
     "execution_count": 22,
     "metadata": {},
     "output_type": "execute_result"
    }
   ],
   "source": [
    "sort!(v)"
   ]
  },
  {
   "cell_type": "code",
   "execution_count": 23,
   "metadata": {},
   "outputs": [
    {
     "data": {
      "text/plain": [
       "3-element Array{Int64,1}:\n",
       " 2\n",
       " 3\n",
       " 5"
      ]
     },
     "execution_count": 23,
     "metadata": {},
     "output_type": "execute_result"
    }
   ],
   "source": [
    "v"
   ]
  },
  {
   "cell_type": "code",
   "execution_count": 24,
   "metadata": {},
   "outputs": [
    {
     "name": "stdout",
     "output_type": "stream",
     "text": [
      "16\n"
     ]
    },
    {
     "data": {
      "text/plain": [
       "4"
      ]
     },
     "execution_count": 24,
     "metadata": {},
     "output_type": "execute_result"
    }
   ],
   "source": [
    "수 = 4\n",
    "println(f(수))\n",
    "수"
   ]
  },
  {
   "cell_type": "code",
   "execution_count": 25,
   "metadata": {},
   "outputs": [
    {
     "ename": "UndefVarError",
     "evalue": "UndefVarError: f! not defined",
     "output_type": "error",
     "traceback": [
      "UndefVarError: f! not defined",
      "",
      "Stacktrace:",
      " [1] top-level scope at In[25]:2"
     ]
    }
   ],
   "source": [
    "수 = 4\n",
    "println(f!(수))\n",
    "수"
   ]
  },
  {
   "cell_type": "markdown",
   "metadata": {},
   "source": [
    "## 몇 가지 Higher order functions <a id=4></a>"
   ]
  },
  {
   "cell_type": "markdown",
   "metadata": {},
   "source": [
    "**Higher-order-function** 이란, 아래 두 가지 중 하나 이상을 만족하는 함수다.\n",
    "\n",
    "* 함수를 파라미터로 전달받는 함수\n",
    "* 함수를 리턴하는 함수"
   ]
  },
  {
   "cell_type": "markdown",
   "metadata": {},
   "source": [
    "### map"
   ]
  },
  {
   "cell_type": "markdown",
   "metadata": {},
   "source": [
    "*map* 은 input 중 하나를 함수로 받는 \"higher-order\" 함수다. *map* 은 함수를 받아서 data structure에 있는 모든 element에 적용시킨다. 예를 들어서,\n",
    "\n",
    "    map(f, [1, 2, 3])\n",
    "\n",
    "는 모든 elements [1, 2, 3]에 함수 *f* 를 적용시킨 array를 출력한다.\n",
    "\n",
    "    [f(1), f(2), f(3)]"
   ]
  },
  {
   "cell_type": "code",
   "execution_count": 26,
   "metadata": {},
   "outputs": [
    {
     "data": {
      "text/plain": [
       "3-element Array{Int64,1}:\n",
       " 1\n",
       " 4\n",
       " 9"
      ]
     },
     "execution_count": 26,
     "metadata": {},
     "output_type": "execute_result"
    }
   ],
   "source": [
    "map(f, [1, 2, 3])"
   ]
  },
  {
   "cell_type": "markdown",
   "metadata": {},
   "source": [
    "vector [1, 2, 3]을 제곱한게 아니고, [1, 2, 3] elements 들을 제곱한 결과가 나온다.\n",
    "\n",
    "아래는 named 함수 대신에 anonymous 함수를 써서 하는 코드다."
   ]
  },
  {
   "cell_type": "code",
   "execution_count": 27,
   "metadata": {},
   "outputs": [
    {
     "data": {
      "text/plain": [
       "#7 (generic function with 1 method)"
      ]
     },
     "execution_count": 27,
     "metadata": {},
     "output_type": "execute_result"
    }
   ],
   "source": [
    "ㅁ -> ㅁ^3"
   ]
  },
  {
   "cell_type": "markdown",
   "metadata": {},
   "source": [
    "via"
   ]
  },
  {
   "cell_type": "code",
   "execution_count": 28,
   "metadata": {},
   "outputs": [
    {
     "data": {
      "text/plain": [
       "3-element Array{Int64,1}:\n",
       "  1\n",
       "  8\n",
       " 27"
      ]
     },
     "execution_count": 28,
     "metadata": {},
     "output_type": "execute_result"
    }
   ],
   "source": [
    "map(ㅁ -> ㅁ^3, [1, 2, 3])"
   ]
  },
  {
   "cell_type": "markdown",
   "metadata": {},
   "source": [
    "[1, 2, 3] 의 모든 element를 세제곱했다!"
   ]
  },
  {
   "cell_type": "markdown",
   "metadata": {},
   "source": [
    "### broadcast"
   ]
  },
  {
   "cell_type": "markdown",
   "metadata": {},
   "source": [
    "*broadcast*는 다른 higher-order 함수다. *broadcast*는 *map*의 일반화된 함수라서 *map*이 할 수 있는 것은 다 할 수 있고, 거기에 더해서 다른 것도 더 할 수 있다. *broadcast*를 사용하는 구문은 *map*을 사용하는 것과 같다."
   ]
  },
  {
   "cell_type": "code",
   "execution_count": 29,
   "metadata": {},
   "outputs": [
    {
     "data": {
      "text/plain": [
       "3-element Array{Int64,1}:\n",
       " 1\n",
       " 4\n",
       " 9"
      ]
     },
     "execution_count": 29,
     "metadata": {},
     "output_type": "execute_result"
    }
   ],
   "source": [
    "broadcast(f, [1, 2, 3])"
   ]
  },
  {
   "cell_type": "markdown",
   "metadata": {},
   "source": [
    "*broadcasting*을 이용해서 [1, 2, 3]의 모든 원소에 함수 *f*를 적용했다.\n",
    "\n",
    "*broadcasting*을 사용하는 다른 방법은, 함수명 옆에 . 을 찍고 input 을 적는 것이다. 예를 들어,\n",
    "\n",
    "    broadcast(f, [1, 2, 3])\n",
    "    \n",
    "는 아래와 같다.\n",
    "\n",
    "    f.([1, 2, 3])"
   ]
  },
  {
   "cell_type": "code",
   "execution_count": 30,
   "metadata": {},
   "outputs": [
    {
     "data": {
      "text/plain": [
       "3-element Array{Int64,1}:\n",
       " 1\n",
       " 4\n",
       " 9"
      ]
     },
     "execution_count": 30,
     "metadata": {},
     "output_type": "execute_result"
    }
   ],
   "source": [
    "f.([1, 2, 3])"
   ]
  },
  {
   "cell_type": "markdown",
   "metadata": {},
   "source": [
    "이게 \n",
    "\n",
    "    f([1, 2, 3])\n",
    "\n",
    "랑 어떻게 다른지 다시 한 번 설명하자면, 우리는 vector를 제곱할 수는 없지만, vector의 element들을 제곱할 수는 있다.\n",
    "\n",
    "*f(A)* 와 *f.(A)* 의 연산이 어떻게 다른지 보기 위해서 아래와 같은 matrix A를 뒀다."
   ]
  },
  {
   "cell_type": "code",
   "execution_count": 31,
   "metadata": {},
   "outputs": [
    {
     "data": {
      "text/plain": [
       "3×3 Array{Int64,2}:\n",
       " 1  2  3\n",
       " 4  5  6\n",
       " 7  8  9"
      ]
     },
     "execution_count": 31,
     "metadata": {},
     "output_type": "execute_result"
    }
   ],
   "source": [
    "A = [i + 3*j for j in 0:2, i in 1:3]"
   ]
  },
  {
   "cell_type": "code",
   "execution_count": 32,
   "metadata": {},
   "outputs": [
    {
     "data": {
      "text/plain": [
       "3×3 Array{Int64,2}:\n",
       "  30   36   42\n",
       "  66   81   96\n",
       " 102  126  150"
      ]
     },
     "execution_count": 32,
     "metadata": {},
     "output_type": "execute_result"
    }
   ],
   "source": [
    "f(A)"
   ]
  },
  {
   "cell_type": "markdown",
   "metadata": {},
   "source": [
    "    f(A) = A^2 = A * A\n",
    "\n",
    "이다. 반면에,"
   ]
  },
  {
   "cell_type": "code",
   "execution_count": 33,
   "metadata": {},
   "outputs": [
    {
     "data": {
      "text/plain": [
       "3×3 Array{Int64,2}:\n",
       "  1   4   9\n",
       " 16  25  36\n",
       " 49  64  81"
      ]
     },
     "execution_count": 33,
     "metadata": {},
     "output_type": "execute_result"
    }
   ],
   "source": [
    "B = f.(A)"
   ]
  },
  {
   "cell_type": "markdown",
   "metadata": {},
   "source": [
    "는 A의 element들을 제곱했다.\n",
    "\n",
    "*broadcasting*을 위한 점 구문은 비교적 복잡한 elementwise 구문을 더 수학적 표현방법에 더 가깝거나 자연스러워 보이도록 한다. 예를 들어,"
   ]
  },
  {
   "cell_type": "code",
   "execution_count": 34,
   "metadata": {},
   "outputs": [
    {
     "data": {
      "text/plain": [
       "3×3 Array{Float64,2}:\n",
       "  3.0   6.0   9.0\n",
       " 12.0  15.0  18.0\n",
       " 21.0  24.0  27.0"
      ]
     },
     "execution_count": 34,
     "metadata": {},
     "output_type": "execute_result"
    }
   ],
   "source": [
    "broadcast(ㅁ -> ㅁ + 2 * f(ㅁ) / ㅁ, A)"
   ]
  },
  {
   "cell_type": "markdown",
   "metadata": {},
   "source": [
    "대신에"
   ]
  },
  {
   "cell_type": "code",
   "execution_count": 35,
   "metadata": {},
   "outputs": [
    {
     "data": {
      "text/plain": [
       "3×3 Array{Float64,2}:\n",
       "  3.0   6.0   9.0\n",
       " 12.0  15.0  18.0\n",
       " 21.0  24.0  27.0"
      ]
     },
     "execution_count": 35,
     "metadata": {},
     "output_type": "execute_result"
    }
   ],
   "source": [
    "A .+ 2 .* f.(A) ./ A"
   ]
  },
  {
   "cell_type": "markdown",
   "metadata": {},
   "source": [
    "를 쓸 수 있다. 그리고 두 개가 정확하게 같은 결과를 낸다."
   ]
  },
  {
   "cell_type": "markdown",
   "metadata": {},
   "source": [
    "## 연습문제 <a id=5></a>"
   ]
  },
  {
   "cell_type": "markdown",
   "metadata": {},
   "source": [
    "### 6.1"
   ]
  },
  {
   "cell_type": "markdown",
   "metadata": {},
   "source": [
    "input 값에 1을 더하는 함수로 *더하기_일*이라는 함수를 만들어보자."
   ]
  },
  {
   "cell_type": "code",
   "execution_count": 36,
   "metadata": {},
   "outputs": [
    {
     "data": {
      "text/plain": [
       "더하기_일1 (generic function with 1 method)"
      ]
     },
     "execution_count": 36,
     "metadata": {},
     "output_type": "execute_result"
    }
   ],
   "source": [
    "function 더하기_일1(수)\n",
    "    수+1\n",
    "end"
   ]
  },
  {
   "cell_type": "code",
   "execution_count": 37,
   "metadata": {},
   "outputs": [
    {
     "data": {
      "text/plain": [
       "2"
      ]
     },
     "execution_count": 37,
     "metadata": {},
     "output_type": "execute_result"
    }
   ],
   "source": [
    "더하기_일1(1)"
   ]
  },
  {
   "cell_type": "code",
   "execution_count": 38,
   "metadata": {},
   "outputs": [
    {
     "data": {
      "text/plain": [
       "더하기_일2 (generic function with 1 method)"
      ]
     },
     "execution_count": 38,
     "metadata": {},
     "output_type": "execute_result"
    }
   ],
   "source": [
    "더하기_일2(수) = 수+1"
   ]
  },
  {
   "cell_type": "code",
   "execution_count": 39,
   "metadata": {},
   "outputs": [
    {
     "data": {
      "text/plain": [
       "2"
      ]
     },
     "execution_count": 39,
     "metadata": {},
     "output_type": "execute_result"
    }
   ],
   "source": [
    "더하기_일2(1)"
   ]
  },
  {
   "cell_type": "code",
   "execution_count": 40,
   "metadata": {},
   "outputs": [
    {
     "data": {
      "text/plain": [
       "#15 (generic function with 1 method)"
      ]
     },
     "execution_count": 40,
     "metadata": {},
     "output_type": "execute_result"
    }
   ],
   "source": [
    "더하기_일3 = 수 -> 수+1"
   ]
  },
  {
   "cell_type": "code",
   "execution_count": 41,
   "metadata": {},
   "outputs": [
    {
     "data": {
      "text/plain": [
       "2"
      ]
     },
     "execution_count": 41,
     "metadata": {},
     "output_type": "execute_result"
    }
   ],
   "source": [
    "더하기_일3(1)"
   ]
  },
  {
   "cell_type": "markdown",
   "metadata": {},
   "source": [
    "### 6.2"
   ]
  },
  {
   "cell_type": "markdown",
   "metadata": {},
   "source": [
    "*map* 또는 *broadcast* 함수를 사용하여 행렬 A의 모든 요소를 1 씩 증가시키고 변수 *A1*에 할당해보자."
   ]
  },
  {
   "cell_type": "code",
   "execution_count": 42,
   "metadata": {},
   "outputs": [
    {
     "data": {
      "text/plain": [
       "3×3 Array{Int64,2}:\n",
       " 2  3   4\n",
       " 5  6   7\n",
       " 8  9  10"
      ]
     },
     "execution_count": 42,
     "metadata": {},
     "output_type": "execute_result"
    }
   ],
   "source": [
    "A1 = map(더하기_일1, A)"
   ]
  },
  {
   "cell_type": "code",
   "execution_count": 43,
   "metadata": {},
   "outputs": [
    {
     "data": {
      "text/plain": [
       "3×3 Array{Int64,2}:\n",
       " 2  3   4\n",
       " 5  6   7\n",
       " 8  9  10"
      ]
     },
     "execution_count": 43,
     "metadata": {},
     "output_type": "execute_result"
    }
   ],
   "source": [
    "A1 = broadcast(더하기_일2, A)"
   ]
  },
  {
   "cell_type": "markdown",
   "metadata": {},
   "source": [
    "### 6.3"
   ]
  },
  {
   "cell_type": "markdown",
   "metadata": {},
   "source": [
    "*broadcast dot* 구문을 사용하여 행렬 *A1*의 모든 요소를 1 씩 증가시키고 변수 *A2*에 저장해보자."
   ]
  },
  {
   "cell_type": "code",
   "execution_count": 44,
   "metadata": {},
   "outputs": [
    {
     "data": {
      "text/plain": [
       "3×3 Array{Int64,2}:\n",
       " 3   4   5\n",
       " 6   7   8\n",
       " 9  10  11"
      ]
     },
     "execution_count": 44,
     "metadata": {},
     "output_type": "execute_result"
    }
   ],
   "source": [
    "A2 = 더하기_일3.(A1)"
   ]
  },
  {
   "cell_type": "code",
   "execution_count": 45,
   "metadata": {},
   "outputs": [
    {
     "data": {
      "text/plain": [
       "3×3 Array{Int64,2}:\n",
       " 3   4   5\n",
       " 6   7   8\n",
       " 9  10  11"
      ]
     },
     "execution_count": 45,
     "metadata": {},
     "output_type": "execute_result"
    }
   ],
   "source": [
    "A2 = A1 .+ 1"
   ]
  }
 ],
 "metadata": {
  "kernelspec": {
   "display_name": "Julia 1.0.0",
   "language": "julia",
   "name": "julia-1.0"
  },
  "language_info": {
   "file_extension": ".jl",
   "mimetype": "application/julia",
   "name": "julia",
   "version": "1.0.0"
  }
 },
 "nbformat": 4,
 "nbformat_minor": 2
}

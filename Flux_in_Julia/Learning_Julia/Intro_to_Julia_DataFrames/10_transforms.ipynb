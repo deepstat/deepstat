{
 "cells": [
  {
   "cell_type": "markdown",
   "metadata": {},
   "source": [
    "# Introduction to DataFrames\n",
    "**[Bogumił Kamiński](http://bogumilkaminski.pl/about/), Apr 21, 2018**\n",
    "\n",
    "### Reference\n",
    "\n",
    "* https://github.com/JuliaComputing/JuliaBoxTutorials/tree/master/introductory-tutorials/broader-topics-and-ecosystem/intro-to-julia-DataFrames\n",
    "\n",
    "### Series\n",
    "\n",
    "* https://deepstat.tistory.com/69 (01. constructors)(in English)\n",
    "* https://deepstat.tistory.com/70 (01. constructors)(한글)\n",
    "* https://deepstat.tistory.com/71 (02. basicinfo)(in English)\n",
    "* https://deepstat.tistory.com/72 (02. basicinfo)(한글)\n",
    "* https://deepstat.tistory.com/73 (03. missingvalues)(in English)\n",
    "* https://deepstat.tistory.com/74 (03. missingvalues)(한글)\n",
    "* https://deepstat.tistory.com/75 (04. loadsave)(in English)\n",
    "* https://deepstat.tistory.com/76 (04. loadsave)(한글)\n",
    "* https://deepstat.tistory.com/77 (05. columns)(in English)\n",
    "* https://deepstat.tistory.com/78 (05. columns)(한글)\n",
    "* https://deepstat.tistory.com/79 (06. rows)(in English)\n",
    "* https://deepstat.tistory.com/80 (06. rows)(한글)\n",
    "* https://deepstat.tistory.com/81 (07. factors)(in English)\n",
    "* https://deepstat.tistory.com/82 (07. factors)(한글)\n",
    "* https://deepstat.tistory.com/83 (08. joins)(in English)\n",
    "* https://deepstat.tistory.com/84 (08. joins)(한글)\n",
    "* https://deepstat.tistory.com/85 (09. reshaping)(in English)\n",
    "* https://deepstat.tistory.com/86 (09. reshaping)(한글)\n",
    "* https://deepstat.tistory.com/87 (10. transforms)(in English)\n",
    "* https://deepstat.tistory.com/88 (10. transforms)(한글)"
   ]
  },
  {
   "cell_type": "code",
   "execution_count": 1,
   "metadata": {},
   "outputs": [],
   "source": [
    "using DataFrames # load package"
   ]
  },
  {
   "cell_type": "markdown",
   "metadata": {},
   "source": [
    "## Split-apply-combine"
   ]
  },
  {
   "cell_type": "code",
   "execution_count": 2,
   "metadata": {},
   "outputs": [
    {
     "data": {
      "text/html": [
       "<table class=\"data-frame\"><thead><tr><th></th><th>id</th><th>id2</th><th>v</th></tr><tr><th></th><th>Int64</th><th>Int64</th><th>Float64</th></tr></thead><tbody><tr><th>1</th><td>1</td><td>1</td><td>0.398172</td></tr><tr><th>2</th><td>2</td><td>2</td><td>0.688774</td></tr><tr><th>3</th><td>3</td><td>1</td><td>0.0905459</td></tr><tr><th>4</th><td>4</td><td>2</td><td>0.241164</td></tr><tr><th>5</th><td>1</td><td>1</td><td>0.899705</td></tr><tr><th>6</th><td>2</td><td>2</td><td>0.329597</td></tr><tr><th>7</th><td>3</td><td>1</td><td>0.470818</td></tr><tr><th>8</th><td>4</td><td>2</td><td>0.745005</td></tr></tbody></table>"
      ],
      "text/plain": [
       "8×3 DataFrame\n",
       "│ Row │ id    │ id2   │ v         │\n",
       "│     │ \u001b[90mInt64\u001b[39m │ \u001b[90mInt64\u001b[39m │ \u001b[90mFloat64\u001b[39m   │\n",
       "├─────┼───────┼───────┼───────────┤\n",
       "│ 1   │ 1     │ 1     │ 0.398172  │\n",
       "│ 2   │ 2     │ 2     │ 0.688774  │\n",
       "│ 3   │ 3     │ 1     │ 0.0905459 │\n",
       "│ 4   │ 4     │ 2     │ 0.241164  │\n",
       "│ 5   │ 1     │ 1     │ 0.899705  │\n",
       "│ 6   │ 2     │ 2     │ 0.329597  │\n",
       "│ 7   │ 3     │ 1     │ 0.470818  │\n",
       "│ 8   │ 4     │ 2     │ 0.745005  │"
      ]
     },
     "execution_count": 2,
     "metadata": {},
     "output_type": "execute_result"
    }
   ],
   "source": [
    "x = DataFrame(id=[1,2,3,4,1,2,3,4], id2=[1,2,1,2,1,2,1,2], v=rand(8))"
   ]
  },
  {
   "cell_type": "code",
   "execution_count": 3,
   "metadata": {},
   "outputs": [
    {
     "data": {
      "text/plain": [
       "GroupedDataFrame with 4 groups based on key: :id\n",
       "First Group: 2 rows\n",
       "│ Row │ id    │ id2   │ v        │\n",
       "│     │ \u001b[90mInt64\u001b[39m │ \u001b[90mInt64\u001b[39m │ \u001b[90mFloat64\u001b[39m  │\n",
       "├─────┼───────┼───────┼──────────┤\n",
       "│ 1   │ 1     │ 1     │ 0.398172 │\n",
       "│ 2   │ 1     │ 1     │ 0.899705 │\n",
       "⋮\n",
       "Last Group: 2 rows\n",
       "│ Row │ id    │ id2   │ v        │\n",
       "│     │ \u001b[90mInt64\u001b[39m │ \u001b[90mInt64\u001b[39m │ \u001b[90mFloat64\u001b[39m  │\n",
       "├─────┼───────┼───────┼──────────┤\n",
       "│ 1   │ 4     │ 2     │ 0.241164 │\n",
       "│ 2   │ 4     │ 2     │ 0.745005 │"
      ]
     },
     "execution_count": 3,
     "metadata": {},
     "output_type": "execute_result"
    }
   ],
   "source": [
    "gx1 = groupby(x, :id)"
   ]
  },
  {
   "cell_type": "code",
   "execution_count": 4,
   "metadata": {},
   "outputs": [
    {
     "data": {
      "text/plain": [
       "GroupedDataFrame with 4 groups based on keys: :id, :id2\n",
       "First Group: 2 rows\n",
       "│ Row │ id    │ id2   │ v        │\n",
       "│     │ \u001b[90mInt64\u001b[39m │ \u001b[90mInt64\u001b[39m │ \u001b[90mFloat64\u001b[39m  │\n",
       "├─────┼───────┼───────┼──────────┤\n",
       "│ 1   │ 1     │ 1     │ 0.398172 │\n",
       "│ 2   │ 1     │ 1     │ 0.899705 │\n",
       "⋮\n",
       "Last Group: 2 rows\n",
       "│ Row │ id    │ id2   │ v        │\n",
       "│     │ \u001b[90mInt64\u001b[39m │ \u001b[90mInt64\u001b[39m │ \u001b[90mFloat64\u001b[39m  │\n",
       "├─────┼───────┼───────┼──────────┤\n",
       "│ 1   │ 4     │ 2     │ 0.241164 │\n",
       "│ 2   │ 4     │ 2     │ 0.745005 │"
      ]
     },
     "execution_count": 4,
     "metadata": {},
     "output_type": "execute_result"
    }
   ],
   "source": [
    "gx2 = groupby(x, [:id, :id2])"
   ]
  },
  {
   "cell_type": "code",
   "execution_count": 5,
   "metadata": {},
   "outputs": [
    {
     "data": {
      "text/html": [
       "<table class=\"data-frame\"><thead><tr><th></th><th>id</th><th>id2</th><th>v</th></tr><tr><th></th><th>Int64</th><th>Int64</th><th>Float64</th></tr></thead><tbody><tr><th>1</th><td>1</td><td>1</td><td>0.398172</td></tr><tr><th>2</th><td>1</td><td>1</td><td>0.899705</td></tr><tr><th>3</th><td>2</td><td>2</td><td>0.688774</td></tr><tr><th>4</th><td>2</td><td>2</td><td>0.329597</td></tr><tr><th>5</th><td>3</td><td>1</td><td>0.0905459</td></tr><tr><th>6</th><td>3</td><td>1</td><td>0.470818</td></tr><tr><th>7</th><td>4</td><td>2</td><td>0.241164</td></tr><tr><th>8</th><td>4</td><td>2</td><td>0.745005</td></tr></tbody></table>"
      ],
      "text/plain": [
       "8×3 DataFrame\n",
       "│ Row │ id    │ id2   │ v         │\n",
       "│     │ \u001b[90mInt64\u001b[39m │ \u001b[90mInt64\u001b[39m │ \u001b[90mFloat64\u001b[39m   │\n",
       "├─────┼───────┼───────┼───────────┤\n",
       "│ 1   │ 1     │ 1     │ 0.398172  │\n",
       "│ 2   │ 1     │ 1     │ 0.899705  │\n",
       "│ 3   │ 2     │ 2     │ 0.688774  │\n",
       "│ 4   │ 2     │ 2     │ 0.329597  │\n",
       "│ 5   │ 3     │ 1     │ 0.0905459 │\n",
       "│ 6   │ 3     │ 1     │ 0.470818  │\n",
       "│ 7   │ 4     │ 2     │ 0.241164  │\n",
       "│ 8   │ 4     │ 2     │ 0.745005  │"
      ]
     },
     "execution_count": 5,
     "metadata": {},
     "output_type": "execute_result"
    }
   ],
   "source": [
    "vcat(gx2...) # back to the original DataFrame"
   ]
  },
  {
   "cell_type": "code",
   "execution_count": 6,
   "metadata": {},
   "outputs": [
    {
     "data": {
      "text/html": [
       "<table class=\"data-frame\"><thead><tr><th></th><th>id</th><th>x</th></tr><tr><th></th><th>Int64⍰</th><th>Int64</th></tr></thead><tbody><tr><th>1</th><td>missing</td><td>1</td></tr><tr><th>2</th><td>5</td><td>2</td></tr><tr><th>3</th><td>1</td><td>3</td></tr><tr><th>4</th><td>3</td><td>4</td></tr><tr><th>5</th><td>missing</td><td>5</td></tr></tbody></table>"
      ],
      "text/plain": [
       "5×2 DataFrame\n",
       "│ Row │ id      │ x     │\n",
       "│     │ \u001b[90mInt64⍰\u001b[39m  │ \u001b[90mInt64\u001b[39m │\n",
       "├─────┼─────────┼───────┤\n",
       "│ 1   │ \u001b[90mmissing\u001b[39m │ 1     │\n",
       "│ 2   │ 5       │ 2     │\n",
       "│ 3   │ 1       │ 3     │\n",
       "│ 4   │ 3       │ 4     │\n",
       "│ 5   │ \u001b[90mmissing\u001b[39m │ 5     │"
      ]
     },
     "execution_count": 6,
     "metadata": {},
     "output_type": "execute_result"
    }
   ],
   "source": [
    "x = DataFrame(id = [missing, 5, 1, 3, missing], x = 1:5)"
   ]
  },
  {
   "cell_type": "code",
   "execution_count": 7,
   "metadata": {},
   "outputs": [
    {
     "name": "stdout",
     "output_type": "stream",
     "text": [
      "GroupedDataFrame with 4 groups based on key: :id\n",
      "Group 1: 2 rows\n",
      "│ Row │ id      │ x     │\n",
      "│     │ \u001b[90mInt64⍰\u001b[39m  │ \u001b[90mInt64\u001b[39m │\n",
      "├─────┼─────────┼───────┤\n",
      "│ 1   │ \u001b[90mmissing\u001b[39m │ 1     │\n",
      "│ 2   │ \u001b[90mmissing\u001b[39m │ 5     │\n",
      "Group 2: 1 row\n",
      "│ Row │ id     │ x     │\n",
      "│     │ \u001b[90mInt64⍰\u001b[39m │ \u001b[90mInt64\u001b[39m │\n",
      "├─────┼────────┼───────┤\n",
      "│ 1   │ 5      │ 2     │\n",
      "Group 3: 1 row\n",
      "│ Row │ id     │ x     │\n",
      "│     │ \u001b[90mInt64⍰\u001b[39m │ \u001b[90mInt64\u001b[39m │\n",
      "├─────┼────────┼───────┤\n",
      "│ 1   │ 1      │ 3     │\n",
      "Group 4: 1 row\n",
      "│ Row │ id     │ x     │\n",
      "│     │ \u001b[90mInt64⍰\u001b[39m │ \u001b[90mInt64\u001b[39m │\n",
      "├─────┼────────┼───────┤\n",
      "│ 1   │ 3      │ 4     │"
     ]
    }
   ],
   "source": [
    "show(groupby(x, :id), allgroups=true) # by default groups include mising values and are not sorted"
   ]
  },
  {
   "cell_type": "code",
   "execution_count": 8,
   "metadata": {},
   "outputs": [
    {
     "name": "stdout",
     "output_type": "stream",
     "text": [
      "GroupedDataFrame with 3 groups based on key: :id\n",
      "Group 1: 1 row\n",
      "│ Row │ id     │ x     │\n",
      "│     │ \u001b[90mInt64⍰\u001b[39m │ \u001b[90mInt64\u001b[39m │\n",
      "├─────┼────────┼───────┤\n",
      "│ 1   │ 1      │ 3     │\n",
      "Group 2: 1 row\n",
      "│ Row │ id     │ x     │\n",
      "│     │ \u001b[90mInt64⍰\u001b[39m │ \u001b[90mInt64\u001b[39m │\n",
      "├─────┼────────┼───────┤\n",
      "│ 1   │ 3      │ 4     │\n",
      "Group 3: 1 row\n",
      "│ Row │ id     │ x     │\n",
      "│     │ \u001b[90mInt64⍰\u001b[39m │ \u001b[90mInt64\u001b[39m │\n",
      "├─────┼────────┼───────┤\n",
      "│ 1   │ 5      │ 2     │"
     ]
    }
   ],
   "source": [
    "show(groupby(x, :id, sort=true, skipmissing=true), allgroups=true) # but we can change it :)"
   ]
  },
  {
   "cell_type": "code",
   "execution_count": 9,
   "metadata": {},
   "outputs": [
    {
     "data": {
      "text/html": [
       "<table class=\"data-frame\"><thead><tr><th></th><th>id</th><th>x1</th></tr><tr><th></th><th>Char</th><th>Float64</th></tr></thead><tbody><tr><th>1</th><td>'b'</td><td>0.451979</td></tr><tr><th>2</th><td>'a'</td><td>0.396662</td></tr><tr><th>3</th><td>'c'</td><td>0.471388</td></tr><tr><th>4</th><td>'d'</td><td>0.335608</td></tr></tbody></table>"
      ],
      "text/plain": [
       "4×2 DataFrame\n",
       "│ Row │ id   │ x1       │\n",
       "│     │ \u001b[90mChar\u001b[39m │ \u001b[90mFloat64\u001b[39m  │\n",
       "├─────┼──────┼──────────┤\n",
       "│ 1   │ 'b'  │ 0.451979 │\n",
       "│ 2   │ 'a'  │ 0.396662 │\n",
       "│ 3   │ 'c'  │ 0.471388 │\n",
       "│ 4   │ 'd'  │ 0.335608 │"
      ]
     },
     "execution_count": 9,
     "metadata": {},
     "output_type": "execute_result"
    }
   ],
   "source": [
    "x = DataFrame(id=rand('a':'d', 100), v=rand(100));\n",
    "using Statistics\n",
    "by(x, :id, y->mean(y[:v])) # apply a function to each group of a data frame"
   ]
  },
  {
   "cell_type": "code",
   "execution_count": 10,
   "metadata": {},
   "outputs": [
    {
     "data": {
      "text/html": [
       "<table class=\"data-frame\"><thead><tr><th></th><th>id</th><th>x1</th></tr><tr><th></th><th>Char</th><th>Float64</th></tr></thead><tbody><tr><th>1</th><td>'a'</td><td>0.396662</td></tr><tr><th>2</th><td>'b'</td><td>0.451979</td></tr><tr><th>3</th><td>'c'</td><td>0.471388</td></tr><tr><th>4</th><td>'d'</td><td>0.335608</td></tr></tbody></table>"
      ],
      "text/plain": [
       "4×2 DataFrame\n",
       "│ Row │ id   │ x1       │\n",
       "│     │ \u001b[90mChar\u001b[39m │ \u001b[90mFloat64\u001b[39m  │\n",
       "├─────┼──────┼──────────┤\n",
       "│ 1   │ 'a'  │ 0.396662 │\n",
       "│ 2   │ 'b'  │ 0.451979 │\n",
       "│ 3   │ 'c'  │ 0.471388 │\n",
       "│ 4   │ 'd'  │ 0.335608 │"
      ]
     },
     "execution_count": 10,
     "metadata": {},
     "output_type": "execute_result"
    }
   ],
   "source": [
    "by(x, :id, y->mean(y[:v]), sort=true) # we can sort the output"
   ]
  },
  {
   "cell_type": "code",
   "execution_count": 11,
   "metadata": {},
   "outputs": [
    {
     "data": {
      "text/html": [
       "<table class=\"data-frame\"><thead><tr><th></th><th>id</th><th>res</th></tr><tr><th></th><th>Char</th><th>Float64</th></tr></thead><tbody><tr><th>1</th><td>'b'</td><td>0.451979</td></tr><tr><th>2</th><td>'a'</td><td>0.396662</td></tr><tr><th>3</th><td>'c'</td><td>0.471388</td></tr><tr><th>4</th><td>'d'</td><td>0.335608</td></tr></tbody></table>"
      ],
      "text/plain": [
       "4×2 DataFrame\n",
       "│ Row │ id   │ res      │\n",
       "│     │ \u001b[90mChar\u001b[39m │ \u001b[90mFloat64\u001b[39m  │\n",
       "├─────┼──────┼──────────┤\n",
       "│ 1   │ 'b'  │ 0.451979 │\n",
       "│ 2   │ 'a'  │ 0.396662 │\n",
       "│ 3   │ 'c'  │ 0.471388 │\n",
       "│ 4   │ 'd'  │ 0.335608 │"
      ]
     },
     "execution_count": 11,
     "metadata": {},
     "output_type": "execute_result"
    }
   ],
   "source": [
    "by(x, :id, y->DataFrame(res=mean(y[:v]))) # this way we can set a name for a column - DataFramesMeta @by is better"
   ]
  },
  {
   "cell_type": "code",
   "execution_count": 12,
   "metadata": {},
   "outputs": [
    {
     "data": {
      "text/html": [
       "<table class=\"data-frame\"><thead><tr><th></th><th>id</th><th>x1_sum</th><th>x2_sum</th></tr><tr><th></th><th>Char</th><th>Float64</th><th>Float64</th></tr></thead><tbody><tr><th>1</th><td>'c'</td><td>9.56125</td><td>6.85763</td></tr><tr><th>2</th><td>'b'</td><td>13.1491</td><td>13.6665</td></tr><tr><th>3</th><td>'d'</td><td>13.9508</td><td>10.7499</td></tr><tr><th>4</th><td>'a'</td><td>12.0957</td><td>15.2495</td></tr></tbody></table>"
      ],
      "text/plain": [
       "4×3 DataFrame\n",
       "│ Row │ id   │ x1_sum  │ x2_sum  │\n",
       "│     │ \u001b[90mChar\u001b[39m │ \u001b[90mFloat64\u001b[39m │ \u001b[90mFloat64\u001b[39m │\n",
       "├─────┼──────┼─────────┼─────────┤\n",
       "│ 1   │ 'c'  │ 9.56125 │ 6.85763 │\n",
       "│ 2   │ 'b'  │ 13.1491 │ 13.6665 │\n",
       "│ 3   │ 'd'  │ 13.9508 │ 10.7499 │\n",
       "│ 4   │ 'a'  │ 12.0957 │ 15.2495 │"
      ]
     },
     "execution_count": 12,
     "metadata": {},
     "output_type": "execute_result"
    }
   ],
   "source": [
    "x = DataFrame(id=rand('a':'d', 100), x1=rand(100), x2=rand(100))\n",
    "aggregate(x, :id, sum) # apply a function over all columns of a data frame in groups given by id"
   ]
  },
  {
   "cell_type": "code",
   "execution_count": 13,
   "metadata": {},
   "outputs": [
    {
     "data": {
      "text/html": [
       "<table class=\"data-frame\"><thead><tr><th></th><th>id</th><th>x1_sum</th><th>x2_sum</th></tr><tr><th></th><th>Char</th><th>Float64</th><th>Float64</th></tr></thead><tbody><tr><th>1</th><td>'a'</td><td>12.0957</td><td>15.2495</td></tr><tr><th>2</th><td>'b'</td><td>13.1491</td><td>13.6665</td></tr><tr><th>3</th><td>'c'</td><td>9.56125</td><td>6.85763</td></tr><tr><th>4</th><td>'d'</td><td>13.9508</td><td>10.7499</td></tr></tbody></table>"
      ],
      "text/plain": [
       "4×3 DataFrame\n",
       "│ Row │ id   │ x1_sum  │ x2_sum  │\n",
       "│     │ \u001b[90mChar\u001b[39m │ \u001b[90mFloat64\u001b[39m │ \u001b[90mFloat64\u001b[39m │\n",
       "├─────┼──────┼─────────┼─────────┤\n",
       "│ 1   │ 'a'  │ 12.0957 │ 15.2495 │\n",
       "│ 2   │ 'b'  │ 13.1491 │ 13.6665 │\n",
       "│ 3   │ 'c'  │ 9.56125 │ 6.85763 │\n",
       "│ 4   │ 'd'  │ 13.9508 │ 10.7499 │"
      ]
     },
     "execution_count": 13,
     "metadata": {},
     "output_type": "execute_result"
    }
   ],
   "source": [
    "aggregate(x, :id, sum, sort=true) # also can be sorted"
   ]
  },
  {
   "cell_type": "markdown",
   "metadata": {},
   "source": [
    "*We omit the discussion of of map/combine as I do not find them very useful (better to use by)*"
   ]
  },
  {
   "cell_type": "code",
   "execution_count": 14,
   "metadata": {},
   "outputs": [
    {
     "data": {
      "text/html": [
       "<table class=\"data-frame\"><thead><tr><th></th><th>x1</th><th>x2</th><th>x3</th><th>x4</th><th>x5</th></tr><tr><th></th><th>Float64</th><th>Float64</th><th>Float64</th><th>Float64</th><th>Float64</th></tr></thead><tbody><tr><th>1</th><td>0.146424</td><td>0.565594</td><td>0.3102</td><td>0.153304</td><td>0.321919</td></tr><tr><th>2</th><td>0.995324</td><td>0.520312</td><td>0.011531</td><td>0.763883</td><td>0.945094</td></tr><tr><th>3</th><td>0.781198</td><td>0.0216644</td><td>0.00516414</td><td>0.209259</td><td>0.659995</td></tr></tbody></table>"
      ],
      "text/plain": [
       "3×5 DataFrame\n",
       "│ Row │ x1       │ x2        │ x3         │ x4       │ x5       │\n",
       "│     │ \u001b[90mFloat64\u001b[39m  │ \u001b[90mFloat64\u001b[39m   │ \u001b[90mFloat64\u001b[39m    │ \u001b[90mFloat64\u001b[39m  │ \u001b[90mFloat64\u001b[39m  │\n",
       "├─────┼──────────┼───────────┼────────────┼──────────┼──────────┤\n",
       "│ 1   │ 0.146424 │ 0.565594  │ 0.3102     │ 0.153304 │ 0.321919 │\n",
       "│ 2   │ 0.995324 │ 0.520312  │ 0.011531   │ 0.763883 │ 0.945094 │\n",
       "│ 3   │ 0.781198 │ 0.0216644 │ 0.00516414 │ 0.209259 │ 0.659995 │"
      ]
     },
     "execution_count": 14,
     "metadata": {},
     "output_type": "execute_result"
    }
   ],
   "source": [
    "x = DataFrame(rand(3, 5))"
   ]
  },
  {
   "cell_type": "code",
   "execution_count": 15,
   "metadata": {},
   "outputs": [
    {
     "data": {
      "text/html": [
       "<table class=\"data-frame\"><thead><tr><th></th><th>x1</th><th>x2</th><th>x3</th><th>x4</th><th>x5</th></tr><tr><th></th><th>Float64</th><th>Float64</th><th>Float64</th><th>Float64</th><th>Float64</th></tr></thead><tbody><tr><th>1</th><td>0.640982</td><td>0.36919</td><td>0.108965</td><td>0.375482</td><td>0.642336</td></tr></tbody></table>"
      ],
      "text/plain": [
       "1×5 DataFrame\n",
       "│ Row │ x1       │ x2      │ x3       │ x4       │ x5       │\n",
       "│     │ \u001b[90mFloat64\u001b[39m  │ \u001b[90mFloat64\u001b[39m │ \u001b[90mFloat64\u001b[39m  │ \u001b[90mFloat64\u001b[39m  │ \u001b[90mFloat64\u001b[39m  │\n",
       "├─────┼──────────┼─────────┼──────────┼──────────┼──────────┤\n",
       "│ 1   │ 0.640982 │ 0.36919 │ 0.108965 │ 0.375482 │ 0.642336 │"
      ]
     },
     "execution_count": 15,
     "metadata": {},
     "output_type": "execute_result"
    }
   ],
   "source": [
    "map(mean, eachcol(x)) # map a function over each column and return a data frame"
   ]
  },
  {
   "cell_type": "code",
   "execution_count": 16,
   "metadata": {},
   "outputs": [
    {
     "name": "stdout",
     "output_type": "stream",
     "text": [
      "x1: 0.6409819483419316\n",
      "x2: 0.3691902706497387\n",
      "x3: 0.10896519700388281\n",
      "x4: 0.3754821255946908\n",
      "x5: 0.6423361106326183\n"
     ]
    }
   ],
   "source": [
    "foreach(c -> println(c[1], \": \", mean(c[2])), eachcol(x)) # a raw iteration returns a tuple with column name and values"
   ]
  },
  {
   "cell_type": "code",
   "execution_count": 17,
   "metadata": {},
   "outputs": [
    {
     "data": {
      "text/plain": [
       "5-element Array{Float64,1}:\n",
       " 0.6409819483419316 \n",
       " 0.3691902706497387 \n",
       " 0.10896519700388281\n",
       " 0.3754821255946908 \n",
       " 0.6423361106326183 "
      ]
     },
     "execution_count": 17,
     "metadata": {},
     "output_type": "execute_result"
    }
   ],
   "source": [
    "colwise(mean, x) # colwise is similar, but produces a vector"
   ]
  },
  {
   "cell_type": "code",
   "execution_count": 18,
   "metadata": {},
   "outputs": [
    {
     "data": {
      "text/plain": [
       "2-element Array{Array{Float64,1},1}:\n",
       " [0.570874, 0.542953, 0.160866, 0.458594, 0.633507, 1.0]   \n",
       " [0.781198, 0.0216644, 0.00516414, 0.209259, 0.659995, 2.0]"
      ]
     },
     "execution_count": 18,
     "metadata": {},
     "output_type": "execute_result"
    }
   ],
   "source": [
    "x[:id] = [1,1,2]\n",
    "colwise(mean,groupby(x, :id)) # and works on GroupedDataFrame"
   ]
  },
  {
   "cell_type": "code",
   "execution_count": 19,
   "metadata": {},
   "outputs": [
    {
     "data": {
      "text/plain": [
       "3-element Array{Float64,1}:\n",
       "  0.2588859485275056\n",
       "  1.9129355971426416\n",
       " 36.05911887812408  "
      ]
     },
     "execution_count": 19,
     "metadata": {},
     "output_type": "execute_result"
    }
   ],
   "source": [
    "map(r -> r[:x1]/r[:x2], eachrow(x)) # now the returned value is DataFrameRow which works similarly to a one-row DataFrame"
   ]
  }
 ],
 "metadata": {
  "kernelspec": {
   "display_name": "Julia 1.0.0",
   "language": "julia",
   "name": "julia-1.0"
  },
  "language_info": {
   "file_extension": ".jl",
   "mimetype": "application/julia",
   "name": "julia",
   "version": "1.0.1"
  }
 },
 "nbformat": 4,
 "nbformat_minor": 1
}

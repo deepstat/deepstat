{
 "cells": [
  {
   "cell_type": "markdown",
   "metadata": {},
   "source": [
    "# Introduction to DataFrames\n",
    "**[Bogumił Kamiński](http://bogumilkaminski.pl/about/), Apr 21, 2018**\n",
    "\n",
    "### 출처\n",
    "\n",
    "* https://github.com/JuliaComputing/JuliaBoxTutorials/tree/master/introductory-tutorials/broader-topics-and-ecosystem/intro-to-julia-DataFrames\n",
    "\n",
    "### 함께보기\n",
    "\n",
    "* https://deepstat.tistory.com/69 (01. constructors)(in English)\n",
    "* https://deepstat.tistory.com/70 (01. constructors)(한글)\n",
    "* https://deepstat.tistory.com/71 (02. basicinfo)(in English)\n",
    "* https://deepstat.tistory.com/72 (02. basicinfo)(한글)\n",
    "* https://deepstat.tistory.com/73 (03. missingvalues)(in English)\n",
    "* https://deepstat.tistory.com/74 (03. missingvalues)(한글)\n",
    "* https://deepstat.tistory.com/75 (04. loadsave)(in English)\n",
    "* https://deepstat.tistory.com/76 (04. loadsave)(한글)\n",
    "* https://deepstat.tistory.com/77 (05. columns)(in English)\n",
    "* https://deepstat.tistory.com/78 (05. columns)(한글)\n",
    "* https://deepstat.tistory.com/79 (06. rows)(in English)\n",
    "* https://deepstat.tistory.com/80 (06. rows)(한글)\n",
    "* https://deepstat.tistory.com/81 (07. factors)(in English)\n",
    "* https://deepstat.tistory.com/82 (07. factors)(한글)\n",
    "* https://deepstat.tistory.com/83 (08. joins)(in English)\n",
    "* https://deepstat.tistory.com/84 (08. joins)(한글)\n",
    "* https://deepstat.tistory.com/85 (09. reshaping)(in English)\n",
    "* https://deepstat.tistory.com/86 (09. reshaping)(한글)\n",
    "* https://deepstat.tistory.com/87 (10. transforms)(in English)\n",
    "* https://deepstat.tistory.com/88 (10. transforms)(한글)\n",
    "* https://deepstat.tistory.com/89 (11. performance)(in English)\n",
    "* https://deepstat.tistory.com/90 (11. performance)(한글)"
   ]
  },
  {
   "cell_type": "code",
   "execution_count": 1,
   "metadata": {},
   "outputs": [],
   "source": [
    "using DataFrames\n",
    "using BenchmarkTools"
   ]
  },
  {
   "cell_type": "markdown",
   "metadata": {},
   "source": [
    "## 성능향상을 위한 팁"
   ]
  },
  {
   "cell_type": "markdown",
   "metadata": {},
   "source": [
    "### 행 숫자로 불러내는 것이 행 이름을 사용하는 것보다 빠르다."
   ]
  },
  {
   "cell_type": "code",
   "execution_count": 2,
   "metadata": {},
   "outputs": [
    {
     "name": "stdout",
     "output_type": "stream",
     "text": [
      "  13.653 ns (0 allocations: 0 bytes)\n",
      "  20.983 ns (0 allocations: 0 bytes)\n"
     ]
    }
   ],
   "source": [
    "x = DataFrame(rand(5, 1000))\n",
    "@btime x[500];\n",
    "@btime x[:x500];"
   ]
  },
  {
   "cell_type": "markdown",
   "metadata": {},
   "source": [
    "### `데이터프레임`을 다룰 때 장벽 함수(barrier function)이나 주석을 적는 것(typing annotation)이 좋다."
   ]
  },
  {
   "cell_type": "code",
   "execution_count": 3,
   "metadata": {},
   "outputs": [
    {
     "name": "stdout",
     "output_type": "stream",
     "text": [
      "  107.566 ms (5999022 allocations: 122.06 MiB)\n"
     ]
    }
   ],
   "source": [
    "using Random\n",
    "\n",
    "function f_bad() # this function will be slow\n",
    "    Random.seed!(1); x = DataFrame(rand(1000000,2))\n",
    "    y, z = x[1], x[2]\n",
    "    p = 0.0\n",
    "    for i in 1:nrow(x)\n",
    "        p += y[i]*z[i]\n",
    "    end\n",
    "    p\n",
    "end\n",
    "\n",
    "@btime f_bad();"
   ]
  },
  {
   "cell_type": "code",
   "execution_count": 4,
   "metadata": {},
   "outputs": [
    {
     "name": "stdout",
     "output_type": "stream",
     "text": [
      "Body\u001b[91m\u001b[1m::Any\u001b[22m\u001b[39m\n",
      "\u001b[90m\u001b[43G│╻            seed!\u001b[1G\u001b[39m\u001b[90m4  \u001b[39m1 ── %1  = Random.GLOBAL_RNG\u001b[36m::MersenneTwister\u001b[39m\n",
      "\u001b[90m\u001b[43G││╻╷╷╷         seed!\u001b[1G\u001b[39m\u001b[90m   \u001b[39m│    %2  = $(Expr(:foreigncall, :(:jl_alloc_array_1d), Array{UInt32,1}, svec(Any, Int64), :(:ccall), 2, Array{UInt32,1}, 0, 0))\u001b[36m::Array{UInt32,1}\u001b[39m\n",
      "\u001b[90m\u001b[43G│││╻╷╷╷╷╷╷╷     make_seed\u001b[1G\u001b[39m\u001b[90m   \u001b[39m│    %3  = (Core.lshr_int)(1, 63)\u001b[36m::Int64\u001b[39m\n",
      "\u001b[90m\u001b[43G││││┃│││││││     push!\u001b[1G\u001b[39m\u001b[90m   \u001b[39m│    %4  = (Core.trunc_int)(Core.UInt8, %3)\u001b[36m::UInt8\u001b[39m\n",
      "\u001b[90m\u001b[43G│││││┃││││││      _growend!\u001b[1G\u001b[39m\u001b[90m   \u001b[39m│    %5  = (Core.eq_int)(%4, 0x01)\u001b[36m::Bool\u001b[39m\n",
      "\u001b[90m\u001b[43G││││││┃││││        cconvert\u001b[1G\u001b[39m\u001b[90m   \u001b[39m└───       goto #3 if not %5\n",
      "\u001b[90m\u001b[43G│││││││┃│││         convert\u001b[1G\u001b[39m\u001b[90m   \u001b[39m2 ──       invoke Core.throw_inexacterror(:check_top_bit::Symbol, Int64::Any, 1::Int64)\n",
      "\u001b[90m\u001b[43G││││││││┃││          Type\u001b[1G\u001b[39m\u001b[90m   \u001b[39m└───       $(Expr(:unreachable))\n",
      "\u001b[90m\u001b[43G│││││││││┃│           toUInt64\u001b[1G\u001b[39m\u001b[90m   \u001b[39m3 ──       goto #4\n",
      "\u001b[90m\u001b[43G││││││││││   \u001b[1G\u001b[39m\u001b[90m   \u001b[39m4 ── %10 = (Core.bitcast)(Core.UInt64, 1)\u001b[36m::UInt64\u001b[39m\n",
      "\u001b[90m\u001b[43G││││││││││   \u001b[1G\u001b[39m\u001b[90m   \u001b[39m└───       goto #5\n",
      "\u001b[90m\u001b[43G│││││││││    \u001b[1G\u001b[39m\u001b[90m   \u001b[39m5 ──       goto #6\n",
      "\u001b[90m\u001b[43G││││││││     \u001b[1G\u001b[39m\u001b[90m   \u001b[39m6 ──       goto #7\n",
      "\u001b[90m\u001b[43G│││││││      \u001b[1G\u001b[39m\u001b[90m   \u001b[39m7 ──       goto #8\n",
      "\u001b[90m\u001b[43G││││││       \u001b[1G\u001b[39m\u001b[90m   \u001b[39m8 ──       $(Expr(:foreigncall, :(:jl_array_grow_end), Nothing, svec(Any, UInt64), :(:ccall), 2, :(%2), :(%10), :(%10)))\n",
      "\u001b[90m\u001b[43G││││││       \u001b[1G\u001b[39m\u001b[90m   \u001b[39m└───       goto #9\n",
      "\u001b[90m\u001b[43G│││││╻╷╷╷╷        lastindex\u001b[1G\u001b[39m\u001b[90m   \u001b[39m9 ── %17 = (Base.arraysize)(%2, 1)\u001b[36m::Int64\u001b[39m\n",
      "\u001b[90m\u001b[43G││││││╻╷╷╷         eachindex\u001b[1G\u001b[39m\u001b[90m   \u001b[39m│    %18 = (Base.slt_int)(%17, 0)\u001b[36m::Bool\u001b[39m\n",
      "\u001b[90m\u001b[43G│││││││┃│││││       axes1\u001b[1G\u001b[39m\u001b[90m   \u001b[39m│    %19 = (Base.ifelse)(%18, 0, %17)\u001b[36m::Int64\u001b[39m\n",
      "\u001b[90m\u001b[43G│││││╻            setindex!\u001b[1G\u001b[39m\u001b[90m   \u001b[39m│          (Base.arrayset)(true, %2, 0x00000001, %19)\n",
      "\u001b[90m\u001b[43G││││╻            push!\u001b[1G\u001b[39m\u001b[90m   \u001b[39m└───       goto #10\n",
      "\u001b[90m\u001b[43G││││╻            >>\u001b[1G\u001b[39m\u001b[90m   \u001b[39m10 ─       (Base.ifelse)(true, 0, 0)\n",
      "\u001b[90m\u001b[43G│││╻            make_seed\u001b[1G\u001b[39m\u001b[90m   \u001b[39m└───       goto #11\n",
      "\u001b[90m\u001b[43G│││          \u001b[1G\u001b[39m\u001b[90m   \u001b[39m11 ─       invoke Random.seed!(%1::MersenneTwister, %2::Array{UInt32,1})\n",
      "\u001b[90m\u001b[43G│││          \u001b[1G\u001b[39m\u001b[90m   \u001b[39m└───       goto #12\n",
      "\u001b[90m\u001b[43G││           \u001b[1G\u001b[39m\u001b[90m   \u001b[39m12 ─       goto #13\n",
      "\u001b[90m\u001b[43G│╻╷           rand\u001b[1G\u001b[39m\u001b[90m   \u001b[39m13 ─ %27 = Random.GLOBAL_RNG\u001b[36m::MersenneTwister\u001b[39m\n",
      "\u001b[90m\u001b[43G││┃│╷╷╷        rand\u001b[1G\u001b[39m\u001b[90m   \u001b[39m│    %28 = $(Expr(:foreigncall, :(:jl_alloc_array_2d), Array{Float64,2}, svec(Any, Int64, Int64), :(:ccall), 3, Array{Float64,2}, 1000000, 2, 2, 1000000))\u001b[36m::Array{Float64,2}\u001b[39m\n",
      "\u001b[90m\u001b[43G│││╻╷           rand\u001b[1G\u001b[39m\u001b[90m   \u001b[39m│    %29 = (Base.arraylen)(%28)\u001b[36m::Int64\u001b[39m\n",
      "\u001b[90m\u001b[43G││││╻            rand!\u001b[1G\u001b[39m\u001b[90m   \u001b[39m│    %30 = (Base.mul_int)(8, %29)\u001b[36m::Int64\u001b[39m\n",
      "\u001b[90m\u001b[43G│││││╻            rand!\u001b[1G\u001b[39m\u001b[90m   \u001b[39m│    %31 = (Base.arraylen)(%28)\u001b[36m::Int64\u001b[39m\n",
      "\u001b[90m\u001b[43G││││││╻            _rand!\u001b[1G\u001b[39m\u001b[90m   \u001b[39m│    %32 = (Base.mul_int)(8, %31)\u001b[36m::Int64\u001b[39m\n",
      "\u001b[90m\u001b[43G│││││││╻            <=\u001b[1G\u001b[39m\u001b[90m   \u001b[39m│    %33 = (Base.sle_int)(%30, %32)\u001b[36m::Bool\u001b[39m\n",
      "\u001b[90m\u001b[43G│││││││      \u001b[1G\u001b[39m\u001b[90m   \u001b[39m└───       goto #15 if not %33\n",
      "\u001b[90m\u001b[43G│││││││      \u001b[1G\u001b[39m\u001b[90m   \u001b[39m14 ─       goto #16\n",
      "\u001b[90m\u001b[43G│            \u001b[1G\u001b[39m\u001b[90m   \u001b[39m15 ─       nothing\n",
      "\u001b[90m\u001b[43G│││││││      \u001b[1G\u001b[39m\u001b[90m   \u001b[39m16 ┄ %37 = φ (#14 => true, #15 => false)\u001b[36m::Bool\u001b[39m\n",
      "\u001b[90m\u001b[43G│││││││      \u001b[1G\u001b[39m\u001b[90m   \u001b[39m└───       goto #18 if not %37\n",
      "\u001b[90m\u001b[43G│││││││╻            macro expansion\u001b[1G\u001b[39m\u001b[90m   \u001b[39m17 ─ %39 = $(Expr(:gc_preserve_begin, :(%28)))\n",
      "\u001b[90m\u001b[43G││││││││╻╷           pointer\u001b[1G\u001b[39m\u001b[90m   \u001b[39m│    %40 = $(Expr(:foreigncall, :(:jl_array_ptr), Ptr{Float64}, svec(Any), :(:ccall), 1, :(%28)))\u001b[36m::Ptr{Float64}\u001b[39m\n",
      "\u001b[90m\u001b[43G││││││││╻            Type\u001b[1G\u001b[39m\u001b[90m   \u001b[39m│    %41 = %new(Random.UnsafeView{Float64}, %40, %29)\u001b[36m::Random.UnsafeView{Float64}\u001b[39m\n",
      "\u001b[90m\u001b[43G││││││││     \u001b[1G\u001b[39m\u001b[90m   \u001b[39m│          invoke Random.rand!(%27::MersenneTwister, %41::Random.UnsafeView{Float64}, $(QuoteNode(Random.SamplerTrivial{Random.CloseOpen01{Float64},Float64}(Random.CloseOpen01{Float64}())))::Random.SamplerTrivial{Random.CloseOpen01{Float64},Float64})\n",
      "\u001b[90m\u001b[43G││││││││     \u001b[1G\u001b[39m\u001b[90m   \u001b[39m│          $(Expr(:gc_preserve_end, :(%39)))\n",
      "\u001b[90m\u001b[43G││││││││     \u001b[1G\u001b[39m\u001b[90m   \u001b[39m└───       goto #19\n",
      "\u001b[90m\u001b[43G│││││││╻            Type\u001b[1G\u001b[39m\u001b[90m   \u001b[39m18 ─ %45 = %new(Core.AssertionError, \"sizeof(Float64) * n64 <= sizeof(T) * length(A) && isbitstype(T)\")\u001b[36m::AssertionError\u001b[39m\n",
      "\u001b[90m\u001b[43G│││││││      \u001b[1G\u001b[39m\u001b[90m   \u001b[39m│          (Base.throw)(%45)\n",
      "\u001b[90m\u001b[43G│││││││      \u001b[1G\u001b[39m\u001b[90m   \u001b[39m└───       $(Expr(:unreachable))\n",
      "\u001b[90m\u001b[43G││││││       \u001b[1G\u001b[39m\u001b[90m   \u001b[39m19 ┄       goto #20\n",
      "\u001b[90m\u001b[43G│││││        \u001b[1G\u001b[39m\u001b[90m   \u001b[39m20 ─       goto #21\n",
      "\u001b[90m\u001b[43G││││         \u001b[1G\u001b[39m\u001b[90m   \u001b[39m21 ─       goto #22\n",
      "\u001b[90m\u001b[43G│││          \u001b[1G\u001b[39m\u001b[90m   \u001b[39m22 ─       goto #23\n",
      "\u001b[90m\u001b[43G││           \u001b[1G\u001b[39m\u001b[90m   \u001b[39m23 ─       goto #24\n",
      "\u001b[90m\u001b[43G│            \u001b[1G\u001b[39m\u001b[90m   \u001b[39m24 ─ %53 = Main.DataFrame\u001b[36m::Core.Compiler.Const(DataFrame, false)\u001b[39m\n",
      "\u001b[90m\u001b[43G││╻            size\u001b[1G\u001b[39m\u001b[90m   \u001b[39m│    %54 = (Base.arraysize)(%28, 2)\u001b[36m::Int64\u001b[39m\n",
      "\u001b[90m\u001b[43G││           \u001b[1G\u001b[39m\u001b[90m   \u001b[39m│    %55 = invoke DataFrames.gennames(%54::Int64)\u001b[36m::Array{Symbol,1}\u001b[39m\n",
      "\u001b[90m\u001b[43G││╻            Type\u001b[1G\u001b[39m\u001b[90m   \u001b[39m│    %56 = invoke DataFrames.:(#DataFrame#60)(false::Bool, %53::Type, %28::Array{Float64,2}, %55::Array{Symbol,1})\u001b[36m::DataFrame\u001b[39m\n",
      "\u001b[90m\u001b[43G│╻╷           getindex\u001b[1G\u001b[39m\u001b[90m5  \u001b[39m│    %57 = (DataFrames.getfield)(%56, :columns)\u001b[36m::Array{AbstractArray{T,1} where T,1}\u001b[39m\n",
      "\u001b[90m\u001b[43G││           \u001b[1G\u001b[39m\u001b[90m   \u001b[39m│    %58 = π (1, \u001b[36mInt64\u001b[39m)\n",
      "\u001b[90m\u001b[43G││╻            getindex\u001b[1G\u001b[39m\u001b[90m   \u001b[39m│    %59 = (Base.arrayref)(true, %57, %58)\u001b[91m\u001b[1m::AbstractArray{T,1} where T\u001b[22m\u001b[39m\n",
      "\u001b[90m\u001b[43G││╻            columns\u001b[1G\u001b[39m\u001b[90m   \u001b[39m│    %60 = (DataFrames.getfield)(%56, :columns)\u001b[36m::Array{AbstractArray{T,1} where T,1}\u001b[39m\n",
      "\u001b[90m\u001b[43G││           \u001b[1G\u001b[39m\u001b[90m   \u001b[39m│    %61 = π (2, \u001b[36mInt64\u001b[39m)\n",
      "\u001b[90m\u001b[43G││╻            getindex\u001b[1G\u001b[39m\u001b[90m   \u001b[39m│    %62 = (Base.arrayref)(true, %60, %61)\u001b[91m\u001b[1m::AbstractArray{T,1} where T\u001b[22m\u001b[39m\n",
      "\u001b[90m\u001b[43G│            \u001b[1G\u001b[39m\u001b[90m7  \u001b[39m│    %63 = invoke Main.nrow(%56::DataFrame)\u001b[36m::Int64\u001b[39m\n",
      "\u001b[90m\u001b[43G│╻╷╷╷         Colon\u001b[1G\u001b[39m\u001b[90m   \u001b[39m│    %64 = (Base.sle_int)(1, %63)\u001b[36m::Bool\u001b[39m\n",
      "\u001b[90m\u001b[43G││╻            Type\u001b[1G\u001b[39m\u001b[90m   \u001b[39m│          (Base.sub_int)(%63, 1)\n",
      "\u001b[90m\u001b[43G│││┃            unitrange_last\u001b[1G\u001b[39m\u001b[90m   \u001b[39m│    %66 = (Base.ifelse)(%64, %63, 0)\u001b[36m::Int64\u001b[39m\n",
      "\u001b[90m\u001b[43G││╻╷╷          isempty\u001b[1G\u001b[39m\u001b[90m   \u001b[39m│    %67 = (Base.slt_int)(%66, 1)\u001b[36m::Bool\u001b[39m\n",
      "\u001b[90m\u001b[43G││           \u001b[1G\u001b[39m\u001b[90m   \u001b[39m└───       goto #26 if not %67\n",
      "\u001b[90m\u001b[43G││           \u001b[1G\u001b[39m\u001b[90m   \u001b[39m25 ─       goto #27\n",
      "\u001b[90m\u001b[43G││           \u001b[1G\u001b[39m\u001b[90m   \u001b[39m26 ─       goto #27\n",
      "\u001b[90m\u001b[43G│            \u001b[1G\u001b[39m\u001b[90m   \u001b[39m27 ┄ %71 = φ (#25 => true, #26 => false)\u001b[36m::Bool\u001b[39m\n",
      "\u001b[90m\u001b[43G│            \u001b[1G\u001b[39m\u001b[90m   \u001b[39m│    %72 = φ (#26 => 1)\u001b[36m::Int64\u001b[39m\n",
      "\u001b[90m\u001b[43G│            \u001b[1G\u001b[39m\u001b[90m   \u001b[39m│    %73 = φ (#26 => 1)\u001b[36m::Int64\u001b[39m\n",
      "\u001b[90m\u001b[43G│            \u001b[1G\u001b[39m\u001b[90m   \u001b[39m│    %74 = (Base.not_int)(%71)\u001b[36m::Bool\u001b[39m\n",
      "\u001b[90m\u001b[43G│            \u001b[1G\u001b[39m\u001b[90m   \u001b[39m└───       goto #33 if not %74\n",
      "\u001b[90m\u001b[43G│            \u001b[1G\u001b[39m\u001b[90m   \u001b[39m28 ┄ %76 = φ (#27 => 0.0, #32 => %82)\u001b[91m\u001b[1m::Any\u001b[22m\u001b[39m\n",
      "\u001b[90m\u001b[43G│            \u001b[1G\u001b[39m\u001b[90m   \u001b[39m│    %77 = φ (#27 => %72, #32 => %88)\u001b[36m::Int64\u001b[39m\n",
      "\u001b[90m\u001b[43G│            \u001b[1G\u001b[39m\u001b[90m   \u001b[39m│    %78 = φ (#27 => %73, #32 => %89)\u001b[36m::Int64\u001b[39m\n",
      "\u001b[90m\u001b[43G│            \u001b[1G\u001b[39m\u001b[90m8  \u001b[39m│    %79 = (Base.getindex)(%59, %77)\u001b[91m\u001b[1m::Any\u001b[22m\u001b[39m\n",
      "\u001b[90m\u001b[43G│            \u001b[1G\u001b[39m\u001b[90m   \u001b[39m│    %80 = (Base.getindex)(%62, %77)\u001b[91m\u001b[1m::Any\u001b[22m\u001b[39m\n",
      "\u001b[90m\u001b[43G│            \u001b[1G\u001b[39m\u001b[90m   \u001b[39m│    %81 = (%79 * %80)\u001b[91m\u001b[1m::Any\u001b[22m\u001b[39m\n",
      "\u001b[90m\u001b[43G│            \u001b[1G\u001b[39m\u001b[90m   \u001b[39m│    %82 = (%76 + %81)\u001b[91m\u001b[1m::Any\u001b[22m\u001b[39m\n",
      "\u001b[90m\u001b[43G││╻            ==\u001b[1G\u001b[39m\u001b[90m   \u001b[39m│    %83 = (%78 === %66)\u001b[36m::Bool\u001b[39m\n",
      "\u001b[90m\u001b[43G││           \u001b[1G\u001b[39m\u001b[90m   \u001b[39m└───       goto #30 if not %83\n",
      "\u001b[90m\u001b[43G││           \u001b[1G\u001b[39m\u001b[90m   \u001b[39m29 ─       goto #31\n",
      "\u001b[90m\u001b[43G││╻            +\u001b[1G\u001b[39m\u001b[90m   \u001b[39m30 ─ %86 = (Base.add_int)(%78, 1)\u001b[36m::Int64\u001b[39m\n",
      "\u001b[90m\u001b[43G│╻            iterate\u001b[1G\u001b[39m\u001b[90m   \u001b[39m└───       goto #31\n",
      "\u001b[90m\u001b[43G│            \u001b[1G\u001b[39m\u001b[90m   \u001b[39m31 ┄ %88 = φ (#30 => %86)\u001b[36m::Int64\u001b[39m\n",
      "\u001b[90m\u001b[43G│            \u001b[1G\u001b[39m\u001b[90m   \u001b[39m│    %89 = φ (#30 => %86)\u001b[36m::Int64\u001b[39m\n",
      "\u001b[90m\u001b[43G│            \u001b[1G\u001b[39m\u001b[90m   \u001b[39m│    %90 = φ (#29 => true, #30 => false)\u001b[36m::Bool\u001b[39m\n",
      "\u001b[90m\u001b[43G│            \u001b[1G\u001b[39m\u001b[90m   \u001b[39m│    %91 = (Base.not_int)(%90)\u001b[36m::Bool\u001b[39m\n",
      "\u001b[90m\u001b[43G│            \u001b[1G\u001b[39m\u001b[90m   \u001b[39m└───       goto #33 if not %91\n",
      "\u001b[90m\u001b[43G│            \u001b[1G\u001b[39m\u001b[90m   \u001b[39m32 ─       goto #28\n",
      "\u001b[90m\u001b[43G│            \u001b[1G\u001b[39m\u001b[90m10 \u001b[39m33 ─ %94 = φ (#31 => %82, #27 => 0.0)\u001b[91m\u001b[1m::Any\u001b[22m\u001b[39m\n",
      "\u001b[90m\u001b[43G│            \u001b[1G\u001b[39m\u001b[90m   \u001b[39m└───       return %94\n"
     ]
    }
   ],
   "source": [
    "@code_warntype f_bad() # 느린 이유는 Julia가 데이터프레임의 행 타입을 모르기 때문이다."
   ]
  },
  {
   "cell_type": "code",
   "execution_count": 5,
   "metadata": {},
   "outputs": [
    {
     "name": "stdout",
     "output_type": "stream",
     "text": [
      "  8.388 ms (44 allocations: 30.52 MiB)\n",
      "  11.387 ms (44 allocations: 30.52 MiB)\n"
     ]
    }
   ],
   "source": [
    "# 솔루션 1은 장벽 함수 (barrier functiion)을 쓰는 것이다. (거의 모든 코드안에서 쓸 수 있다.)\n",
    "function f_inner(y,z)\n",
    "   p = 0.0\n",
    "   for i in 1:length(y)\n",
    "       p += y[i]*z[i]\n",
    "   end\n",
    "   p\n",
    "end\n",
    "\n",
    "function f_barrier() # 내부 함수(inner function)로 일을 보낸다.\n",
    "    Random.seed!(1); x = DataFrame(rand(1000000,2))\n",
    "    f_inner(x[1], x[2])\n",
    "end\n",
    "\n",
    "using LinearAlgebra\n",
    "\n",
    "function f_inbuilt() # 혹은 가능하다면 내장 함수(inbuilt function)을 사용한다.\n",
    "    Random.seed!(1); x = DataFrame(rand(1000000,2))\n",
    "    x[1] ⋅ x[2] #\\cdot<tab>\n",
    "end\n",
    "\n",
    "@btime f_barrier();\n",
    "@btime f_inbuilt();"
   ]
  },
  {
   "cell_type": "code",
   "execution_count": 6,
   "metadata": {},
   "outputs": [
    {
     "name": "stdout",
     "output_type": "stream",
     "text": [
      "  9.565 ms (44 allocations: 30.52 MiB)\n"
     ]
    }
   ],
   "source": [
    "# 솔루션 2는 추출된 열에 타입을 제공하는 것이다.\n",
    "# 이는 더 간단한 방법이지만 타입을 모르는 경우에는 사용할 수 없다.\n",
    "function f_typed()\n",
    "    Random.seed!(1); x = DataFrame(rand(1000000,2))\n",
    "    y::Vector{Float64}, z::Vector{Float64} = x[1], x[2]\n",
    "    p = 0.0\n",
    "    for i in 1:nrow(x)\n",
    "        p += y[i]*z[i]\n",
    "    end\n",
    "    p\n",
    "end\n",
    "\n",
    "@btime f_typed();"
   ]
  },
  {
   "cell_type": "markdown",
   "metadata": {},
   "source": [
    "### 지연된(delayed) `데이터프레임` 생성 테크닉 사용하기."
   ]
  },
  {
   "cell_type": "code",
   "execution_count": 7,
   "metadata": {},
   "outputs": [
    {
     "name": "stdout",
     "output_type": "stream",
     "text": [
      "  22.731 ms (1950037 allocations: 37.42 MiB)\n",
      "  2.109 ms (937 allocations: 7.69 MiB)\n"
     ]
    }
   ],
   "source": [
    "function f1()\n",
    "    x = DataFrame(Float64, 10^4, 100) # 바로 데이터프레임 만들어서 사용하기\n",
    "    for c in 1:ncol(x)\n",
    "        d = x[c]\n",
    "        for r in 1:nrow(x)\n",
    "            d[r] = rand()\n",
    "        end\n",
    "    end\n",
    "    x\n",
    "end\n",
    "\n",
    "function f2()\n",
    "    x = Vector{Any}(undef, 100)\n",
    "    for c in 1:length(x)\n",
    "        d = Vector{Float64}(undef,10^4)\n",
    "        for r in 1:length(d)\n",
    "            d[r] = rand()\n",
    "        end\n",
    "        x[c] = d\n",
    "    end\n",
    "    DataFrame(x) # 전부 다 계산하고 난 다음에 데이터프레임 만들기\n",
    "end\n",
    "\n",
    "@btime f1();\n",
    "@btime f2();"
   ]
  },
  {
   "cell_type": "markdown",
   "metadata": {},
   "source": [
    "### `데이터프레임`에 in place로 행을 추가하는 것이 더 빠르다.\n",
    "\n",
    "- 근데 크기(size)가 왜 변하는지 모르겠다. 원문에는 따로 설명이 없다."
   ]
  },
  {
   "cell_type": "code",
   "execution_count": 8,
   "metadata": {},
   "outputs": [
    {
     "name": "stdout",
     "output_type": "stream",
     "text": [
      "Size of original x = (1000000, 5)\n",
      "  6.474 ms (135 allocations: 38.15 MiB)\n",
      "Size of result after running vcat = (1000001, 5)\n",
      "  200.355 ns (5 allocations: 80 bytes)\n",
      "Size of x after running push! = (7610502, 5)\n",
      " \n",
      "Size of original x = (1000000, 5)\n",
      "  164.579 ns (1 allocation: 16 bytes)\n",
      "Size of x after running append! = (9220502, 5)\n"
     ]
    }
   ],
   "source": [
    "x = DataFrame(rand(10^6, 5))\n",
    "y = DataFrame(transpose(1.0:5.0))\n",
    "z = [1.0:5.0;]\n",
    "println(\"Size of original x = \",size(x))\n",
    "@btime vcat($x, $y); # creates a new DataFrame - slow\n",
    "println(\"Size of result after running vcat = \", size(vcat(x,y)))\n",
    "@btime push!($x, $z); # add a single row in place - fast\n",
    "println(\"Size of x after running push! = \", size(x))\n",
    "println(\" \")\n",
    "x = DataFrame(rand(10^6, 5)) # reset to the same starting point\n",
    "println(\"Size of original x = \", size(x))\n",
    "@btime append!($x, $y); # in place - fastest\n",
    "println(\"Size of x after running append! = \", size(x))"
   ]
  },
  {
   "cell_type": "markdown",
   "metadata": {},
   "source": [
    "### `범주형(categorical)` 타입이나 `결측(missing)` 타입을 허용하면 계산이 느려진다."
   ]
  },
  {
   "cell_type": "code",
   "execution_count": 9,
   "metadata": {},
   "outputs": [
    {
     "name": "stdout",
     "output_type": "stream",
     "text": [
      "Using test(1:10)\n",
      "Int64\n",
      " raw:\n",
      "  5.027 ms (8 allocations: 7.63 MiB)\n",
      " categorical:\n",
      "  20.860 ms (4 allocations: 608 bytes)\n",
      " \n",
      "Using test([randstring() for i in 1:10])\n",
      "String\n",
      " raw:\n",
      "  40.643 ms (4 allocations: 608 bytes)\n",
      " categorical:\n",
      "  42.940 ms (4 allocations: 608 bytes)\n",
      " \n",
      "Using test(allowmissing(1:10))\n",
      "Union{Missing, Int64}\n",
      " raw:\n",
      "  14.322 ms (4 allocations: 624 bytes)\n",
      " categorical:\n",
      "  21.466 ms (4 allocations: 608 bytes)\n",
      " \n",
      "Using test(allowmissing([randstring() for i in 1:10]))\n",
      "Union{Missing, String}\n",
      " raw:\n",
      "  24.033 ms (4 allocations: 608 bytes)\n",
      " categorical:\n",
      "  32.374 ms (4 allocations: 608 bytes)\n"
     ]
    }
   ],
   "source": [
    "using StatsBase\n",
    "\n",
    "function test(data) # uses countmap function to test performance\n",
    "    println(eltype(data))\n",
    "    x = rand(data, 10^6)\n",
    "    y = categorical(x)\n",
    "    println(\" raw:\")\n",
    "    @btime countmap($x)\n",
    "    println(\" categorical:\")\n",
    "    @btime countmap($y)\n",
    "    nothing\n",
    "end\n",
    "\n",
    "println(\"Using test(1:10)\")\n",
    "test(1:10)\n",
    "println(\" \")\n",
    "println(\"Using test([randstring() for i in 1:10])\")\n",
    "test([randstring() for i in 1:10])\n",
    "println(\" \")\n",
    "println(\"Using test(allowmissing(1:10))\")\n",
    "test(allowmissing(1:10))\n",
    "println(\" \")\n",
    "println(\"Using test(allowmissing([randstring() for i in 1:10]))\")\n",
    "test(allowmissing([randstring() for i in 1:10]))\n"
   ]
  }
 ],
 "metadata": {
  "kernelspec": {
   "display_name": "Julia 1.0.0",
   "language": "julia",
   "name": "julia-1.0"
  },
  "language_info": {
   "file_extension": ".jl",
   "mimetype": "application/julia",
   "name": "julia",
   "version": "1.0.1"
  }
 },
 "nbformat": 4,
 "nbformat_minor": 1
}

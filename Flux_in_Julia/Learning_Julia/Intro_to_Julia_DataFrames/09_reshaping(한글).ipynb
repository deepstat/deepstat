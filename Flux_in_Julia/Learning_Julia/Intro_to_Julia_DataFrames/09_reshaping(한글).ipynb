{
 "cells": [
  {
   "cell_type": "markdown",
   "metadata": {},
   "source": [
    "# Introduction to DataFrames\n",
    "**[Bogumił Kamiński](http://bogumilkaminski.pl/about/), Apr 21, 2018**\n",
    "\n",
    "### 출처\n",
    "\n",
    "* https://github.com/JuliaComputing/JuliaBoxTutorials/tree/master/introductory-tutorials/broader-topics-and-ecosystem/intro-to-julia-DataFrames\n",
    "\n",
    "### 함께보기\n",
    "\n",
    "* https://deepstat.tistory.com/69 (01. constructors)(in English)\n",
    "* https://deepstat.tistory.com/70 (01. constructors)(한글)\n",
    "* https://deepstat.tistory.com/71 (02. basicinfo)(in English)\n",
    "* https://deepstat.tistory.com/72 (02. basicinfo)(한글)\n",
    "* https://deepstat.tistory.com/73 (03. missingvalues)(in English)\n",
    "* https://deepstat.tistory.com/74 (03. missingvalues)(한글)\n",
    "* https://deepstat.tistory.com/75 (04. loadsave)(in English)\n",
    "* https://deepstat.tistory.com/76 (04. loadsave)(한글)\n",
    "* https://deepstat.tistory.com/77 (05. columns)(in English)\n",
    "* https://deepstat.tistory.com/78 (05. columns)(한글)\n",
    "* https://deepstat.tistory.com/79 (06. rows)(in English)\n",
    "* https://deepstat.tistory.com/80 (06. rows)(한글)\n",
    "* https://deepstat.tistory.com/81 (07. factors)(in English)\n",
    "* https://deepstat.tistory.com/82 (07. factors)(한글)\n",
    "* https://deepstat.tistory.com/83 (08. joins)(in English)\n",
    "* https://deepstat.tistory.com/84 (08. joins)(한글)\n",
    "* https://deepstat.tistory.com/85 (09. reshaping)(in English)\n",
    "* https://deepstat.tistory.com/86 (09. reshaping)(한글)"
   ]
  },
  {
   "cell_type": "code",
   "execution_count": 1,
   "metadata": {},
   "outputs": [],
   "source": [
    "using DataFrames # load package"
   ]
  },
  {
   "cell_type": "markdown",
   "metadata": {},
   "source": [
    "## 데이터프레임 모양 바꾸기 (Reshaping DataFrames)"
   ]
  },
  {
   "cell_type": "markdown",
   "metadata": {},
   "source": [
    "### 넓은 형태에서 긴 형태로 (Wide to long)"
   ]
  },
  {
   "cell_type": "code",
   "execution_count": 2,
   "metadata": {},
   "outputs": [
    {
     "data": {
      "text/html": [
       "<table class=\"data-frame\"><thead><tr><th></th><th>id</th><th>id2</th><th>M1</th><th>M2</th></tr><tr><th></th><th>Int64</th><th>Int64</th><th>Int64</th><th>Int64</th></tr></thead><tbody><tr><th>1</th><td>1</td><td>1</td><td>11</td><td>111</td></tr><tr><th>2</th><td>2</td><td>1</td><td>12</td><td>112</td></tr><tr><th>3</th><td>3</td><td>2</td><td>13</td><td>113</td></tr><tr><th>4</th><td>4</td><td>2</td><td>14</td><td>114</td></tr></tbody></table>"
      ],
      "text/plain": [
       "4×4 DataFrame\n",
       "│ Row │ id    │ id2   │ M1    │ M2    │\n",
       "│     │ \u001b[90mInt64\u001b[39m │ \u001b[90mInt64\u001b[39m │ \u001b[90mInt64\u001b[39m │ \u001b[90mInt64\u001b[39m │\n",
       "├─────┼───────┼───────┼───────┼───────┤\n",
       "│ 1   │ 1     │ 1     │ 11    │ 111   │\n",
       "│ 2   │ 2     │ 1     │ 12    │ 112   │\n",
       "│ 3   │ 3     │ 2     │ 13    │ 113   │\n",
       "│ 4   │ 4     │ 2     │ 14    │ 114   │"
      ]
     },
     "execution_count": 2,
     "metadata": {},
     "output_type": "execute_result"
    }
   ],
   "source": [
    "x = DataFrame(id=[1,2,3,4], id2=[1,1,2,2], M1=[11,12,13,14], M2=[111,112,113,114])"
   ]
  },
  {
   "cell_type": "code",
   "execution_count": 3,
   "metadata": {},
   "outputs": [
    {
     "data": {
      "text/html": [
       "<table class=\"data-frame\"><thead><tr><th></th><th>variable</th><th>value</th><th>id</th></tr><tr><th></th><th>Symbol</th><th>Int64</th><th>Int64</th></tr></thead><tbody><tr><th>1</th><td>M1</td><td>11</td><td>1</td></tr><tr><th>2</th><td>M1</td><td>12</td><td>2</td></tr><tr><th>3</th><td>M1</td><td>13</td><td>3</td></tr><tr><th>4</th><td>M1</td><td>14</td><td>4</td></tr><tr><th>5</th><td>M2</td><td>111</td><td>1</td></tr><tr><th>6</th><td>M2</td><td>112</td><td>2</td></tr><tr><th>7</th><td>M2</td><td>113</td><td>3</td></tr><tr><th>8</th><td>M2</td><td>114</td><td>4</td></tr></tbody></table>"
      ],
      "text/plain": [
       "8×3 DataFrame\n",
       "│ Row │ variable │ value │ id    │\n",
       "│     │ \u001b[90mSymbol\u001b[39m   │ \u001b[90mInt64\u001b[39m │ \u001b[90mInt64\u001b[39m │\n",
       "├─────┼──────────┼───────┼───────┤\n",
       "│ 1   │ M1       │ 11    │ 1     │\n",
       "│ 2   │ M1       │ 12    │ 2     │\n",
       "│ 3   │ M1       │ 13    │ 3     │\n",
       "│ 4   │ M1       │ 14    │ 4     │\n",
       "│ 5   │ M2       │ 111   │ 1     │\n",
       "│ 6   │ M2       │ 112   │ 2     │\n",
       "│ 7   │ M2       │ 113   │ 3     │\n",
       "│ 8   │ M2       │ 114   │ 4     │"
      ]
     },
     "execution_count": 3,
     "metadata": {},
     "output_type": "execute_result"
    }
   ],
   "source": [
    "melt(x, :id, [:M1, :M2]) # id 변수를 먼저 넣고, measure 변수를 넣는다. meltdf는 뷰(view)를 만든다."
   ]
  },
  {
   "cell_type": "code",
   "execution_count": 4,
   "metadata": {},
   "outputs": [
    {
     "data": {
      "text/html": [
       "<table class=\"data-frame\"><thead><tr><th></th><th>key</th><th>observed</th><th>id</th></tr><tr><th></th><th>Symbol</th><th>Int64</th><th>Int64</th></tr></thead><tbody><tr><th>1</th><td>M1</td><td>11</td><td>1</td></tr><tr><th>2</th><td>M1</td><td>12</td><td>2</td></tr><tr><th>3</th><td>M1</td><td>13</td><td>3</td></tr><tr><th>4</th><td>M1</td><td>14</td><td>4</td></tr><tr><th>5</th><td>M2</td><td>111</td><td>1</td></tr><tr><th>6</th><td>M2</td><td>112</td><td>2</td></tr><tr><th>7</th><td>M2</td><td>113</td><td>3</td></tr><tr><th>8</th><td>M2</td><td>114</td><td>4</td></tr></tbody></table>"
      ],
      "text/plain": [
       "8×3 DataFrame\n",
       "│ Row │ key    │ observed │ id    │\n",
       "│     │ \u001b[90mSymbol\u001b[39m │ \u001b[90mInt64\u001b[39m    │ \u001b[90mInt64\u001b[39m │\n",
       "├─────┼────────┼──────────┼───────┤\n",
       "│ 1   │ M1     │ 11       │ 1     │\n",
       "│ 2   │ M1     │ 12       │ 2     │\n",
       "│ 3   │ M1     │ 13       │ 3     │\n",
       "│ 4   │ M1     │ 14       │ 4     │\n",
       "│ 5   │ M2     │ 111      │ 1     │\n",
       "│ 6   │ M2     │ 112      │ 2     │\n",
       "│ 7   │ M2     │ 113      │ 3     │\n",
       "│ 8   │ M2     │ 114      │ 4     │"
      ]
     },
     "execution_count": 4,
     "metadata": {},
     "output_type": "execute_result"
    }
   ],
   "source": [
    "# 추가적으로 행 이름을 지정해 줄 수 있다. (melt와 stack은 같은 역할을 하지만 인자(argument)의 순서가 다르다.\n",
    "stack(x, [:M1, :M2], :id, variable_name=:key, value_name=:observed) # measure가 먼저오고 id가 나중에 온다. stackdf는 뷰(view)를 만든다."
   ]
  },
  {
   "cell_type": "code",
   "execution_count": 5,
   "metadata": {},
   "outputs": [
    {
     "data": {
      "text/html": [
       "<table class=\"data-frame\"><thead><tr><th></th><th>variable</th><th>value</th><th>id</th><th>id2</th></tr><tr><th></th><th>Symbol</th><th>Int64</th><th>Int64</th><th>Int64</th></tr></thead><tbody><tr><th>1</th><td>M1</td><td>11</td><td>1</td><td>1</td></tr><tr><th>2</th><td>M1</td><td>12</td><td>2</td><td>1</td></tr><tr><th>3</th><td>M1</td><td>13</td><td>3</td><td>2</td></tr><tr><th>4</th><td>M1</td><td>14</td><td>4</td><td>2</td></tr><tr><th>5</th><td>M2</td><td>111</td><td>1</td><td>1</td></tr><tr><th>6</th><td>M2</td><td>112</td><td>2</td><td>1</td></tr><tr><th>7</th><td>M2</td><td>113</td><td>3</td><td>2</td></tr><tr><th>8</th><td>M2</td><td>114</td><td>4</td><td>2</td></tr></tbody></table>"
      ],
      "text/plain": [
       "8×4 DataFrame\n",
       "│ Row │ variable │ value │ id    │ id2   │\n",
       "│     │ \u001b[90mSymbol\u001b[39m   │ \u001b[90mInt64\u001b[39m │ \u001b[90mInt64\u001b[39m │ \u001b[90mInt64\u001b[39m │\n",
       "├─────┼──────────┼───────┼───────┼───────┤\n",
       "│ 1   │ M1       │ 11    │ 1     │ 1     │\n",
       "│ 2   │ M1       │ 12    │ 2     │ 1     │\n",
       "│ 3   │ M1       │ 13    │ 3     │ 2     │\n",
       "│ 4   │ M1       │ 14    │ 4     │ 2     │\n",
       "│ 5   │ M2       │ 111   │ 1     │ 1     │\n",
       "│ 6   │ M2       │ 112   │ 2     │ 1     │\n",
       "│ 7   │ M2       │ 113   │ 3     │ 2     │\n",
       "│ 8   │ M2       │ 114   │ 4     │ 2     │"
      ]
     },
     "execution_count": 5,
     "metadata": {},
     "output_type": "execute_result"
    }
   ],
   "source": [
    "# 만일 melt나 stack 함수에 두 번째 인자가 없다면, 모든 다른 행이 두 번째 인자인 것 처럼 실행된다.\n",
    "# 하지만 measure 변수는 <: AbstractFloat 타입일 때만 선택된다.\n",
    "melt(x, [:id, :id2])"
   ]
  },
  {
   "cell_type": "code",
   "execution_count": 6,
   "metadata": {},
   "outputs": [
    {
     "data": {
      "text/html": [
       "<table class=\"data-frame\"><thead><tr><th></th><th>variable</th><th>value</th><th>id</th><th>id2</th></tr><tr><th></th><th>Symbol</th><th>Int64</th><th>Int64</th><th>Int64</th></tr></thead><tbody><tr><th>1</th><td>M1</td><td>11</td><td>1</td><td>1</td></tr><tr><th>2</th><td>M1</td><td>12</td><td>2</td><td>1</td></tr><tr><th>3</th><td>M1</td><td>13</td><td>3</td><td>2</td></tr><tr><th>4</th><td>M1</td><td>14</td><td>4</td><td>2</td></tr><tr><th>5</th><td>M2</td><td>111</td><td>1</td><td>1</td></tr><tr><th>6</th><td>M2</td><td>112</td><td>2</td><td>1</td></tr><tr><th>7</th><td>M2</td><td>113</td><td>3</td><td>2</td></tr><tr><th>8</th><td>M2</td><td>114</td><td>4</td><td>2</td></tr></tbody></table>"
      ],
      "text/plain": [
       "8×4 DataFrame\n",
       "│ Row │ variable │ value │ id    │ id2   │\n",
       "│     │ \u001b[90mSymbol\u001b[39m   │ \u001b[90mInt64\u001b[39m │ \u001b[90mInt64\u001b[39m │ \u001b[90mInt64\u001b[39m │\n",
       "├─────┼──────────┼───────┼───────┼───────┤\n",
       "│ 1   │ M1       │ 11    │ 1     │ 1     │\n",
       "│ 2   │ M1       │ 12    │ 2     │ 1     │\n",
       "│ 3   │ M1       │ 13    │ 3     │ 2     │\n",
       "│ 4   │ M1       │ 14    │ 4     │ 2     │\n",
       "│ 5   │ M2       │ 111   │ 1     │ 1     │\n",
       "│ 6   │ M2       │ 112   │ 2     │ 1     │\n",
       "│ 7   │ M2       │ 113   │ 3     │ 2     │\n",
       "│ 8   │ M2       │ 114   │ 4     │ 2     │"
      ]
     },
     "execution_count": 6,
     "metadata": {},
     "output_type": "execute_result"
    }
   ],
   "source": [
    "melt(x, [1, 2]) # 행 이름 대신에 인덱스(index)를 사용할 수도 있다."
   ]
  },
  {
   "cell_type": "code",
   "execution_count": 7,
   "metadata": {},
   "outputs": [
    {
     "name": "stdout",
     "output_type": "stream",
     "text": [
      "  0.253764 seconds (172.28 k allocations: 237.679 MiB, 33.81% gc time)\n",
      "  0.201528 seconds (144 allocations: 228.889 MiB, 53.45% gc time)\n",
      "  0.387475 seconds (633.47 k allocations: 32.617 MiB, 15.52% gc time)\n",
      "  0.000169 seconds (117 allocations: 6.453 KiB)\n"
     ]
    }
   ],
   "source": [
    "bigx = DataFrame(rand(10^6, 10)) # 데이터프레임을 만드는 것과 뷰(view)를 만드는 것의 차이를 보기 위해 만듦.\n",
    "bigx[:id] = 1:10^6\n",
    "@time melt(bigx, :id)\n",
    "@time melt(bigx, :id)\n",
    "@time meltdf(bigx, :id)\n",
    "@time meltdf(bigx, :id);"
   ]
  },
  {
   "cell_type": "code",
   "execution_count": 8,
   "metadata": {},
   "outputs": [
    {
     "data": {
      "text/html": [
       "<table class=\"data-frame\"><thead><tr><th></th><th>id</th><th>id2</th><th>a1</th><th>a2</th></tr><tr><th></th><th>Int64</th><th>Char</th><th>Float64</th><th>Float64</th></tr></thead><tbody><tr><th>1</th><td>1</td><td>'a'</td><td>0.327033</td><td>0.248548</td></tr><tr><th>2</th><td>1</td><td>'b'</td><td>0.347882</td><td>0.853054</td></tr><tr><th>3</th><td>1</td><td>'c'</td><td>0.862527</td><td>0.489913</td></tr></tbody></table>"
      ],
      "text/plain": [
       "3×4 DataFrame\n",
       "│ Row │ id    │ id2  │ a1       │ a2       │\n",
       "│     │ \u001b[90mInt64\u001b[39m │ \u001b[90mChar\u001b[39m │ \u001b[90mFloat64\u001b[39m  │ \u001b[90mFloat64\u001b[39m  │\n",
       "├─────┼───────┼──────┼──────────┼──────────┤\n",
       "│ 1   │ 1     │ 'a'  │ 0.327033 │ 0.248548 │\n",
       "│ 2   │ 1     │ 'b'  │ 0.347882 │ 0.853054 │\n",
       "│ 3   │ 1     │ 'c'  │ 0.862527 │ 0.489913 │"
      ]
     },
     "execution_count": 8,
     "metadata": {},
     "output_type": "execute_result"
    }
   ],
   "source": [
    "x = DataFrame(id = [1,1,1], id2=['a','b','c'], a1 = rand(3), a2 = rand(3))"
   ]
  },
  {
   "cell_type": "code",
   "execution_count": 9,
   "metadata": {},
   "outputs": [
    {
     "data": {
      "text/html": [
       "<table class=\"data-frame\"><thead><tr><th></th><th>variable</th><th>value</th><th>id</th><th>id2</th></tr><tr><th></th><th>Symbol</th><th>Float64</th><th>Int64</th><th>Char</th></tr></thead><tbody><tr><th>1</th><td>a1</td><td>0.327033</td><td>1</td><td>'a'</td></tr><tr><th>2</th><td>a1</td><td>0.347882</td><td>1</td><td>'b'</td></tr><tr><th>3</th><td>a1</td><td>0.862527</td><td>1</td><td>'c'</td></tr><tr><th>4</th><td>a2</td><td>0.248548</td><td>1</td><td>'a'</td></tr><tr><th>5</th><td>a2</td><td>0.853054</td><td>1</td><td>'b'</td></tr><tr><th>6</th><td>a2</td><td>0.489913</td><td>1</td><td>'c'</td></tr></tbody></table>"
      ],
      "text/plain": [
       "6×4 DataFrame\n",
       "│ Row │ variable │ value    │ id    │ id2  │\n",
       "│     │ \u001b[90mSymbol\u001b[39m   │ \u001b[90mFloat64\u001b[39m  │ \u001b[90mInt64\u001b[39m │ \u001b[90mChar\u001b[39m │\n",
       "├─────┼──────────┼──────────┼───────┼──────┤\n",
       "│ 1   │ a1       │ 0.327033 │ 1     │ 'a'  │\n",
       "│ 2   │ a1       │ 0.347882 │ 1     │ 'b'  │\n",
       "│ 3   │ a1       │ 0.862527 │ 1     │ 'c'  │\n",
       "│ 4   │ a2       │ 0.248548 │ 1     │ 'a'  │\n",
       "│ 5   │ a2       │ 0.853054 │ 1     │ 'b'  │\n",
       "│ 6   │ a2       │ 0.489913 │ 1     │ 'c'  │"
      ]
     },
     "execution_count": 9,
     "metadata": {},
     "output_type": "execute_result"
    }
   ],
   "source": [
    "melt(x)"
   ]
  },
  {
   "cell_type": "code",
   "execution_count": 10,
   "metadata": {},
   "outputs": [
    {
     "data": {
      "text/html": [
       "<table class=\"data-frame\"><thead><tr><th></th><th>variable</th><th>value</th></tr><tr><th></th><th>Symbol</th><th>Float64</th></tr></thead><tbody><tr><th>1</th><td>x1</td><td>0.509455</td></tr><tr><th>2</th><td>x1</td><td>0.873081</td></tr><tr><th>3</th><td>x1</td><td>0.820428</td></tr><tr><th>4</th><td>x2</td><td>0.27679</td></tr><tr><th>5</th><td>x2</td><td>0.422507</td></tr><tr><th>6</th><td>x2</td><td>0.535333</td></tr></tbody></table>"
      ],
      "text/plain": [
       "6×2 DataFrame\n",
       "│ Row │ variable │ value    │\n",
       "│     │ \u001b[90mSymbol\u001b[39m   │ \u001b[90mFloat64\u001b[39m  │\n",
       "├─────┼──────────┼──────────┤\n",
       "│ 1   │ x1       │ 0.509455 │\n",
       "│ 2   │ x1       │ 0.873081 │\n",
       "│ 3   │ x1       │ 0.820428 │\n",
       "│ 4   │ x2       │ 0.27679  │\n",
       "│ 5   │ x2       │ 0.422507 │\n",
       "│ 6   │ x2       │ 0.535333 │"
      ]
     },
     "execution_count": 10,
     "metadata": {},
     "output_type": "execute_result"
    }
   ],
   "source": [
    "melt(DataFrame(rand(3,2))) # 기본적으로 stack과 melt는 float타입을 value행으로 취급한다."
   ]
  },
  {
   "cell_type": "code",
   "execution_count": 11,
   "metadata": {},
   "outputs": [
    {
     "data": {
      "text/html": [
       "<table class=\"data-frame\"><thead><tr><th></th><th>variable</th><th>value</th><th>key</th></tr><tr><th></th><th>Symbol</th><th>Float64</th><th>Int64</th></tr></thead><tbody><tr><th>1</th><td>x1</td><td>0.362025</td><td>1</td></tr><tr><th>2</th><td>x1</td><td>0.61307</td><td>1</td></tr><tr><th>3</th><td>x1</td><td>0.475587</td><td>1</td></tr><tr><th>4</th><td>x2</td><td>0.778</td><td>1</td></tr><tr><th>5</th><td>x2</td><td>0.771635</td><td>1</td></tr><tr><th>6</th><td>x2</td><td>0.0312133</td><td>1</td></tr></tbody></table>"
      ],
      "text/plain": [
       "6×3 DataFrame\n",
       "│ Row │ variable │ value     │ key   │\n",
       "│     │ \u001b[90mSymbol\u001b[39m   │ \u001b[90mFloat64\u001b[39m   │ \u001b[90mInt64\u001b[39m │\n",
       "├─────┼──────────┼───────────┼───────┤\n",
       "│ 1   │ x1       │ 0.362025  │ 1     │\n",
       "│ 2   │ x1       │ 0.61307   │ 1     │\n",
       "│ 3   │ x1       │ 0.475587  │ 1     │\n",
       "│ 4   │ x2       │ 0.778     │ 1     │\n",
       "│ 5   │ x2       │ 0.771635  │ 1     │\n",
       "│ 6   │ x2       │ 0.0312133 │ 1     │"
      ]
     },
     "execution_count": 11,
     "metadata": {},
     "output_type": "execute_result"
    }
   ],
   "source": [
    "df = DataFrame(rand(3,2))\n",
    "df[:key] = [1,1,1]\n",
    "mdf = melt(df) # key가 중복되더라도 아무런 메세지 없이 실행된다."
   ]
  },
  {
   "cell_type": "markdown",
   "metadata": {},
   "source": [
    "### 긴 형태에서 넓은 형태로 (Long to wide)"
   ]
  },
  {
   "cell_type": "code",
   "execution_count": 12,
   "metadata": {},
   "outputs": [
    {
     "data": {
      "text/html": [
       "<table class=\"data-frame\"><thead><tr><th></th><th>id</th><th>id2</th><th>a1</th><th>a2</th></tr><tr><th></th><th>Int64</th><th>Char</th><th>Float64</th><th>Float64</th></tr></thead><tbody><tr><th>1</th><td>1</td><td>'a'</td><td>0.675709</td><td>0.172469</td></tr><tr><th>2</th><td>1</td><td>'b'</td><td>0.0652696</td><td>0.748051</td></tr><tr><th>3</th><td>1</td><td>'c'</td><td>0.394419</td><td>0.452423</td></tr></tbody></table>"
      ],
      "text/plain": [
       "3×4 DataFrame\n",
       "│ Row │ id    │ id2  │ a1        │ a2       │\n",
       "│     │ \u001b[90mInt64\u001b[39m │ \u001b[90mChar\u001b[39m │ \u001b[90mFloat64\u001b[39m   │ \u001b[90mFloat64\u001b[39m  │\n",
       "├─────┼───────┼──────┼───────────┼──────────┤\n",
       "│ 1   │ 1     │ 'a'  │ 0.675709  │ 0.172469 │\n",
       "│ 2   │ 1     │ 'b'  │ 0.0652696 │ 0.748051 │\n",
       "│ 3   │ 1     │ 'c'  │ 0.394419  │ 0.452423 │"
      ]
     },
     "execution_count": 12,
     "metadata": {},
     "output_type": "execute_result"
    }
   ],
   "source": [
    "x = DataFrame(id = [1,1,1], id2=['a','b','c'], a1 = rand(3), a2 = rand(3))"
   ]
  },
  {
   "cell_type": "code",
   "execution_count": 13,
   "metadata": {},
   "outputs": [
    {
     "data": {
      "text/html": [
       "<table class=\"data-frame\"><thead><tr><th></th><th>id</th><th>id2</th><th>a1</th><th>a2</th></tr><tr><th></th><th>Int64</th><th>Char</th><th>Float64</th><th>Float64</th></tr></thead><tbody><tr><th>1</th><td>1</td><td>'a'</td><td>0.675709</td><td>0.172469</td></tr><tr><th>2</th><td>1</td><td>'b'</td><td>0.0652696</td><td>0.748051</td></tr><tr><th>3</th><td>1</td><td>'c'</td><td>0.394419</td><td>0.452423</td></tr></tbody></table>"
      ],
      "text/plain": [
       "3×4 DataFrame\n",
       "│ Row │ id    │ id2  │ a1        │ a2       │\n",
       "│     │ \u001b[90mInt64\u001b[39m │ \u001b[90mChar\u001b[39m │ \u001b[90mFloat64\u001b[39m   │ \u001b[90mFloat64\u001b[39m  │\n",
       "├─────┼───────┼──────┼───────────┼──────────┤\n",
       "│ 1   │ 1     │ 'a'  │ 0.675709  │ 0.172469 │\n",
       "│ 2   │ 1     │ 'b'  │ 0.0652696 │ 0.748051 │\n",
       "│ 3   │ 1     │ 'c'  │ 0.394419  │ 0.452423 │"
      ]
     },
     "metadata": {},
     "output_type": "display_data"
    },
    {
     "data": {
      "text/html": [
       "<table class=\"data-frame\"><thead><tr><th></th><th>variable</th><th>value</th><th>id</th><th>id2</th></tr><tr><th></th><th>Symbol</th><th>Float64</th><th>Int64</th><th>Char</th></tr></thead><tbody><tr><th>1</th><td>a1</td><td>0.675709</td><td>1</td><td>'a'</td></tr><tr><th>2</th><td>a1</td><td>0.0652696</td><td>1</td><td>'b'</td></tr><tr><th>3</th><td>a1</td><td>0.394419</td><td>1</td><td>'c'</td></tr><tr><th>4</th><td>a2</td><td>0.172469</td><td>1</td><td>'a'</td></tr><tr><th>5</th><td>a2</td><td>0.748051</td><td>1</td><td>'b'</td></tr><tr><th>6</th><td>a2</td><td>0.452423</td><td>1</td><td>'c'</td></tr></tbody></table>"
      ],
      "text/plain": [
       "6×4 DataFrame\n",
       "│ Row │ variable │ value     │ id    │ id2  │\n",
       "│     │ \u001b[90mSymbol\u001b[39m   │ \u001b[90mFloat64\u001b[39m   │ \u001b[90mInt64\u001b[39m │ \u001b[90mChar\u001b[39m │\n",
       "├─────┼──────────┼───────────┼───────┼──────┤\n",
       "│ 1   │ a1       │ 0.675709  │ 1     │ 'a'  │\n",
       "│ 2   │ a1       │ 0.0652696 │ 1     │ 'b'  │\n",
       "│ 3   │ a1       │ 0.394419  │ 1     │ 'c'  │\n",
       "│ 4   │ a2       │ 0.172469  │ 1     │ 'a'  │\n",
       "│ 5   │ a2       │ 0.748051  │ 1     │ 'b'  │\n",
       "│ 6   │ a2       │ 0.452423  │ 1     │ 'c'  │"
      ]
     },
     "metadata": {},
     "output_type": "display_data"
    }
   ],
   "source": [
    "y = melt(x, [1,2])\n",
    "display(x)\n",
    "display(y)"
   ]
  },
  {
   "cell_type": "code",
   "execution_count": 14,
   "metadata": {},
   "outputs": [
    {
     "data": {
      "text/html": [
       "<table class=\"data-frame\"><thead><tr><th></th><th>id2</th><th>a1</th><th>a2</th></tr><tr><th></th><th>Char</th><th>Float64⍰</th><th>Float64⍰</th></tr></thead><tbody><tr><th>1</th><td>'a'</td><td>0.675709</td><td>0.172469</td></tr><tr><th>2</th><td>'b'</td><td>0.0652696</td><td>0.748051</td></tr><tr><th>3</th><td>'c'</td><td>0.394419</td><td>0.452423</td></tr></tbody></table>"
      ],
      "text/plain": [
       "3×3 DataFrame\n",
       "│ Row │ id2  │ a1        │ a2       │\n",
       "│     │ \u001b[90mChar\u001b[39m │ \u001b[90mFloat64⍰\u001b[39m  │ \u001b[90mFloat64⍰\u001b[39m │\n",
       "├─────┼──────┼───────────┼──────────┤\n",
       "│ 1   │ 'a'  │ 0.675709  │ 0.172469 │\n",
       "│ 2   │ 'b'  │ 0.0652696 │ 0.748051 │\n",
       "│ 3   │ 'c'  │ 0.394419  │ 0.452423 │"
      ]
     },
     "execution_count": 14,
     "metadata": {},
     "output_type": "execute_result"
    }
   ],
   "source": [
    "unstack(y, :id2, :variable, :value) # key가 하나인 기본적인 unstack"
   ]
  },
  {
   "cell_type": "code",
   "execution_count": 15,
   "metadata": {},
   "outputs": [
    {
     "data": {
      "text/html": [
       "<table class=\"data-frame\"><thead><tr><th></th><th>id</th><th>id2</th><th>a1</th><th>a2</th></tr><tr><th></th><th>Int64</th><th>Char</th><th>Float64⍰</th><th>Float64⍰</th></tr></thead><tbody><tr><th>1</th><td>1</td><td>'a'</td><td>0.675709</td><td>0.172469</td></tr><tr><th>2</th><td>1</td><td>'b'</td><td>0.0652696</td><td>0.748051</td></tr><tr><th>3</th><td>1</td><td>'c'</td><td>0.394419</td><td>0.452423</td></tr></tbody></table>"
      ],
      "text/plain": [
       "3×4 DataFrame\n",
       "│ Row │ id    │ id2  │ a1        │ a2       │\n",
       "│     │ \u001b[90mInt64\u001b[39m │ \u001b[90mChar\u001b[39m │ \u001b[90mFloat64⍰\u001b[39m  │ \u001b[90mFloat64⍰\u001b[39m │\n",
       "├─────┼───────┼──────┼───────────┼──────────┤\n",
       "│ 1   │ 1     │ 'a'  │ 0.675709  │ 0.172469 │\n",
       "│ 2   │ 1     │ 'b'  │ 0.0652696 │ 0.748051 │\n",
       "│ 3   │ 1     │ 'c'  │ 0.394419  │ 0.452423 │"
      ]
     },
     "execution_count": 15,
     "metadata": {},
     "output_type": "execute_result"
    }
   ],
   "source": [
    "unstack(y, :variable, :value) # 모든 행이 key로 받아들여진다."
   ]
  },
  {
   "cell_type": "code",
   "execution_count": 16,
   "metadata": {},
   "outputs": [
    {
     "name": "stderr",
     "output_type": "stream",
     "text": [
      "┌ Warning: In the future `unstack(df)` will call `unstack(df, :variable, :value)`. use `unstack(df, :id, :variable, :value)` to treat `:id` as the only `rowkeys` column\n",
      "│   caller = top-level scope at In[16]:1\n",
      "└ @ Core In[16]:1\n",
      "┌ Warning: Duplicate entries in unstack at row 2 for key 1 and variable a1.\n",
      "└ @ DataFrames /home/yt/.julia/packages/DataFrames/1PqZ3/src/abstractdataframe/reshape.jl:244\n"
     ]
    },
    {
     "data": {
      "text/html": [
       "<table class=\"data-frame\"><thead><tr><th></th><th>id</th><th>a1</th><th>a2</th></tr><tr><th></th><th>Int64</th><th>Float64⍰</th><th>Float64⍰</th></tr></thead><tbody><tr><th>1</th><td>1</td><td>0.394419</td><td>0.452423</td></tr></tbody></table>"
      ],
      "text/plain": [
       "1×3 DataFrame\n",
       "│ Row │ id    │ a1       │ a2       │\n",
       "│     │ \u001b[90mInt64\u001b[39m │ \u001b[90mFloat64⍰\u001b[39m │ \u001b[90mFloat64⍰\u001b[39m │\n",
       "├─────┼───────┼──────────┼──────────┤\n",
       "│ 1   │ 1     │ 0.394419 │ 0.452423 │"
      ]
     },
     "execution_count": 16,
     "metadata": {},
     "output_type": "execute_result"
    }
   ],
   "source": [
    "# 기본적으로 (:id, :variable, :value)가 가정돼있다. 이 경우에는 중복되는 key가 있어서 경고(Warning)을 출력한다.\n",
    "unstack(y)"
   ]
  },
  {
   "cell_type": "code",
   "execution_count": 17,
   "metadata": {},
   "outputs": [
    {
     "data": {
      "text/html": [
       "<table class=\"data-frame\"><thead><tr><th></th><th>variable</th><th>value</th></tr><tr><th></th><th>Symbol</th><th>Float64</th></tr></thead><tbody><tr><th>1</th><td>x1</td><td>0.971137</td></tr><tr><th>2</th><td>x1</td><td>0.0227282</td></tr><tr><th>3</th><td>x1</td><td>0.0354664</td></tr><tr><th>4</th><td>x2</td><td>0.42655</td></tr><tr><th>5</th><td>x2</td><td>0.287566</td></tr><tr><th>6</th><td>x2</td><td>0.278549</td></tr></tbody></table>"
      ],
      "text/plain": [
       "6×2 DataFrame\n",
       "│ Row │ variable │ value     │\n",
       "│     │ \u001b[90mSymbol\u001b[39m   │ \u001b[90mFloat64\u001b[39m   │\n",
       "├─────┼──────────┼───────────┤\n",
       "│ 1   │ x1       │ 0.971137  │\n",
       "│ 2   │ x1       │ 0.0227282 │\n",
       "│ 3   │ x1       │ 0.0354664 │\n",
       "│ 4   │ x2       │ 0.42655   │\n",
       "│ 5   │ x2       │ 0.287566  │\n",
       "│ 6   │ x2       │ 0.278549  │"
      ]
     },
     "execution_count": 17,
     "metadata": {},
     "output_type": "execute_result"
    }
   ],
   "source": [
    "df = stack(DataFrame(rand(3,2)))"
   ]
  },
  {
   "cell_type": "code",
   "execution_count": 18,
   "metadata": {},
   "outputs": [
    {
     "ename": "ArgumentError",
     "evalue": "ArgumentError: No key column found",
     "output_type": "error",
     "traceback": [
      "ArgumentError: No key column found",
      "",
      "Stacktrace:",
      " [1] unstack(::DataFrame, ::Array{Symbol,1}, ::Int64, ::Int64) at /home/yt/.julia/packages/DataFrames/1PqZ3/src/abstractdataframe/reshape.jl:279",
      " [2] unstack(::DataFrame, ::Int64, ::Int64) at /home/yt/.julia/packages/DataFrames/1PqZ3/src/abstractdataframe/reshape.jl:269",
      " [3] unstack(::DataFrame, ::Symbol, ::Symbol) at /home/yt/.julia/packages/DataFrames/1PqZ3/src/abstractdataframe/reshape.jl:265",
      " [4] top-level scope at In[18]:1"
     ]
    }
   ],
   "source": [
    "unstack(df, :variable, :value) # key 행이 없으면 unstack이 되지 않는다."
   ]
  }
 ],
 "metadata": {
  "kernelspec": {
   "display_name": "Julia 1.0.0",
   "language": "julia",
   "name": "julia-1.0"
  },
  "language_info": {
   "file_extension": ".jl",
   "mimetype": "application/julia",
   "name": "julia",
   "version": "1.0.1"
  }
 },
 "nbformat": 4,
 "nbformat_minor": 1
}

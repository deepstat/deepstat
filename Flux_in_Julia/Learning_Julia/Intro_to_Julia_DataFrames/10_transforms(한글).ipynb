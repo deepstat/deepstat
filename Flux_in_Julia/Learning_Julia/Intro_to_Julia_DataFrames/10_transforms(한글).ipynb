{
 "cells": [
  {
   "cell_type": "markdown",
   "metadata": {},
   "source": [
    "# Introduction to DataFrames\n",
    "**[Bogumił Kamiński](http://bogumilkaminski.pl/about/), Apr 21, 2018**\n",
    "\n",
    "### 출처\n",
    "\n",
    "* https://github.com/JuliaComputing/JuliaBoxTutorials/tree/master/introductory-tutorials/broader-topics-and-ecosystem/intro-to-julia-DataFrames\n",
    "\n",
    "### 함께보기\n",
    "\n",
    "* https://deepstat.tistory.com/69 (01. constructors)(in English)\n",
    "* https://deepstat.tistory.com/70 (01. constructors)(한글)\n",
    "* https://deepstat.tistory.com/71 (02. basicinfo)(in English)\n",
    "* https://deepstat.tistory.com/72 (02. basicinfo)(한글)\n",
    "* https://deepstat.tistory.com/73 (03. missingvalues)(in English)\n",
    "* https://deepstat.tistory.com/74 (03. missingvalues)(한글)\n",
    "* https://deepstat.tistory.com/75 (04. loadsave)(in English)\n",
    "* https://deepstat.tistory.com/76 (04. loadsave)(한글)\n",
    "* https://deepstat.tistory.com/77 (05. columns)(in English)\n",
    "* https://deepstat.tistory.com/78 (05. columns)(한글)\n",
    "* https://deepstat.tistory.com/79 (06. rows)(in English)\n",
    "* https://deepstat.tistory.com/80 (06. rows)(한글)\n",
    "* https://deepstat.tistory.com/81 (07. factors)(in English)\n",
    "* https://deepstat.tistory.com/82 (07. factors)(한글)\n",
    "* https://deepstat.tistory.com/83 (08. joins)(in English)\n",
    "* https://deepstat.tistory.com/84 (08. joins)(한글)\n",
    "* https://deepstat.tistory.com/85 (09. reshaping)(in English)\n",
    "* https://deepstat.tistory.com/86 (09. reshaping)(한글)\n",
    "* https://deepstat.tistory.com/87 (10. transforms)(in English)\n",
    "* https://deepstat.tistory.com/88 (10. transforms)(한글)"
   ]
  },
  {
   "cell_type": "code",
   "execution_count": 1,
   "metadata": {},
   "outputs": [],
   "source": [
    "using DataFrames # load package"
   ]
  },
  {
   "cell_type": "markdown",
   "metadata": {},
   "source": [
    "## 분할-적용-결합 (Split-apply-combine)"
   ]
  },
  {
   "cell_type": "code",
   "execution_count": 2,
   "metadata": {},
   "outputs": [
    {
     "data": {
      "text/html": [
       "<table class=\"data-frame\"><thead><tr><th></th><th>id</th><th>id2</th><th>v</th></tr><tr><th></th><th>Int64</th><th>Int64</th><th>Float64</th></tr></thead><tbody><tr><th>1</th><td>1</td><td>1</td><td>0.853822</td></tr><tr><th>2</th><td>2</td><td>2</td><td>0.428594</td></tr><tr><th>3</th><td>3</td><td>1</td><td>0.784733</td></tr><tr><th>4</th><td>4</td><td>2</td><td>0.702739</td></tr><tr><th>5</th><td>1</td><td>1</td><td>0.624787</td></tr><tr><th>6</th><td>2</td><td>2</td><td>0.43275</td></tr><tr><th>7</th><td>3</td><td>1</td><td>0.724575</td></tr><tr><th>8</th><td>4</td><td>2</td><td>0.393803</td></tr></tbody></table>"
      ],
      "text/plain": [
       "8×3 DataFrame\n",
       "│ Row │ id    │ id2   │ v        │\n",
       "│     │ \u001b[90mInt64\u001b[39m │ \u001b[90mInt64\u001b[39m │ \u001b[90mFloat64\u001b[39m  │\n",
       "├─────┼───────┼───────┼──────────┤\n",
       "│ 1   │ 1     │ 1     │ 0.853822 │\n",
       "│ 2   │ 2     │ 2     │ 0.428594 │\n",
       "│ 3   │ 3     │ 1     │ 0.784733 │\n",
       "│ 4   │ 4     │ 2     │ 0.702739 │\n",
       "│ 5   │ 1     │ 1     │ 0.624787 │\n",
       "│ 6   │ 2     │ 2     │ 0.43275  │\n",
       "│ 7   │ 3     │ 1     │ 0.724575 │\n",
       "│ 8   │ 4     │ 2     │ 0.393803 │"
      ]
     },
     "execution_count": 2,
     "metadata": {},
     "output_type": "execute_result"
    }
   ],
   "source": [
    "x = DataFrame(id=[1,2,3,4,1,2,3,4], id2=[1,2,1,2,1,2,1,2], v=rand(8))"
   ]
  },
  {
   "cell_type": "code",
   "execution_count": 3,
   "metadata": {},
   "outputs": [
    {
     "data": {
      "text/plain": [
       "GroupedDataFrame with 4 groups based on key: :id\n",
       "First Group: 2 rows\n",
       "│ Row │ id    │ id2   │ v        │\n",
       "│     │ \u001b[90mInt64\u001b[39m │ \u001b[90mInt64\u001b[39m │ \u001b[90mFloat64\u001b[39m  │\n",
       "├─────┼───────┼───────┼──────────┤\n",
       "│ 1   │ 1     │ 1     │ 0.853822 │\n",
       "│ 2   │ 1     │ 1     │ 0.624787 │\n",
       "⋮\n",
       "Last Group: 2 rows\n",
       "│ Row │ id    │ id2   │ v        │\n",
       "│     │ \u001b[90mInt64\u001b[39m │ \u001b[90mInt64\u001b[39m │ \u001b[90mFloat64\u001b[39m  │\n",
       "├─────┼───────┼───────┼──────────┤\n",
       "│ 1   │ 4     │ 2     │ 0.702739 │\n",
       "│ 2   │ 4     │ 2     │ 0.393803 │"
      ]
     },
     "execution_count": 3,
     "metadata": {},
     "output_type": "execute_result"
    }
   ],
   "source": [
    "gx1 = groupby(x, :id)"
   ]
  },
  {
   "cell_type": "code",
   "execution_count": 4,
   "metadata": {},
   "outputs": [
    {
     "data": {
      "text/plain": [
       "GroupedDataFrame with 4 groups based on keys: :id, :id2\n",
       "First Group: 2 rows\n",
       "│ Row │ id    │ id2   │ v        │\n",
       "│     │ \u001b[90mInt64\u001b[39m │ \u001b[90mInt64\u001b[39m │ \u001b[90mFloat64\u001b[39m  │\n",
       "├─────┼───────┼───────┼──────────┤\n",
       "│ 1   │ 1     │ 1     │ 0.853822 │\n",
       "│ 2   │ 1     │ 1     │ 0.624787 │\n",
       "⋮\n",
       "Last Group: 2 rows\n",
       "│ Row │ id    │ id2   │ v        │\n",
       "│     │ \u001b[90mInt64\u001b[39m │ \u001b[90mInt64\u001b[39m │ \u001b[90mFloat64\u001b[39m  │\n",
       "├─────┼───────┼───────┼──────────┤\n",
       "│ 1   │ 4     │ 2     │ 0.702739 │\n",
       "│ 2   │ 4     │ 2     │ 0.393803 │"
      ]
     },
     "execution_count": 4,
     "metadata": {},
     "output_type": "execute_result"
    }
   ],
   "source": [
    "gx2 = groupby(x, [:id, :id2])"
   ]
  },
  {
   "cell_type": "code",
   "execution_count": 5,
   "metadata": {},
   "outputs": [
    {
     "data": {
      "text/html": [
       "<table class=\"data-frame\"><thead><tr><th></th><th>id</th><th>id2</th><th>v</th></tr><tr><th></th><th>Int64</th><th>Int64</th><th>Float64</th></tr></thead><tbody><tr><th>1</th><td>1</td><td>1</td><td>0.853822</td></tr><tr><th>2</th><td>1</td><td>1</td><td>0.624787</td></tr><tr><th>3</th><td>2</td><td>2</td><td>0.428594</td></tr><tr><th>4</th><td>2</td><td>2</td><td>0.43275</td></tr><tr><th>5</th><td>3</td><td>1</td><td>0.784733</td></tr><tr><th>6</th><td>3</td><td>1</td><td>0.724575</td></tr><tr><th>7</th><td>4</td><td>2</td><td>0.702739</td></tr><tr><th>8</th><td>4</td><td>2</td><td>0.393803</td></tr></tbody></table>"
      ],
      "text/plain": [
       "8×3 DataFrame\n",
       "│ Row │ id    │ id2   │ v        │\n",
       "│     │ \u001b[90mInt64\u001b[39m │ \u001b[90mInt64\u001b[39m │ \u001b[90mFloat64\u001b[39m  │\n",
       "├─────┼───────┼───────┼──────────┤\n",
       "│ 1   │ 1     │ 1     │ 0.853822 │\n",
       "│ 2   │ 1     │ 1     │ 0.624787 │\n",
       "│ 3   │ 2     │ 2     │ 0.428594 │\n",
       "│ 4   │ 2     │ 2     │ 0.43275  │\n",
       "│ 5   │ 3     │ 1     │ 0.784733 │\n",
       "│ 6   │ 3     │ 1     │ 0.724575 │\n",
       "│ 7   │ 4     │ 2     │ 0.702739 │\n",
       "│ 8   │ 4     │ 2     │ 0.393803 │"
      ]
     },
     "execution_count": 5,
     "metadata": {},
     "output_type": "execute_result"
    }
   ],
   "source": [
    "vcat(gx2...) # 원래의 데이터프레임으로."
   ]
  },
  {
   "cell_type": "code",
   "execution_count": 6,
   "metadata": {},
   "outputs": [
    {
     "data": {
      "text/html": [
       "<table class=\"data-frame\"><thead><tr><th></th><th>id</th><th>x</th></tr><tr><th></th><th>Int64⍰</th><th>Int64</th></tr></thead><tbody><tr><th>1</th><td>missing</td><td>1</td></tr><tr><th>2</th><td>5</td><td>2</td></tr><tr><th>3</th><td>1</td><td>3</td></tr><tr><th>4</th><td>3</td><td>4</td></tr><tr><th>5</th><td>missing</td><td>5</td></tr></tbody></table>"
      ],
      "text/plain": [
       "5×2 DataFrame\n",
       "│ Row │ id      │ x     │\n",
       "│     │ \u001b[90mInt64⍰\u001b[39m  │ \u001b[90mInt64\u001b[39m │\n",
       "├─────┼─────────┼───────┤\n",
       "│ 1   │ \u001b[90mmissing\u001b[39m │ 1     │\n",
       "│ 2   │ 5       │ 2     │\n",
       "│ 3   │ 1       │ 3     │\n",
       "│ 4   │ 3       │ 4     │\n",
       "│ 5   │ \u001b[90mmissing\u001b[39m │ 5     │"
      ]
     },
     "execution_count": 6,
     "metadata": {},
     "output_type": "execute_result"
    }
   ],
   "source": [
    "x = DataFrame(id = [missing, 5, 1, 3, missing], x = 1:5)"
   ]
  },
  {
   "cell_type": "code",
   "execution_count": 7,
   "metadata": {},
   "outputs": [
    {
     "name": "stdout",
     "output_type": "stream",
     "text": [
      "GroupedDataFrame with 4 groups based on key: :id\n",
      "Group 1: 2 rows\n",
      "│ Row │ id      │ x     │\n",
      "│     │ \u001b[90mInt64⍰\u001b[39m  │ \u001b[90mInt64\u001b[39m │\n",
      "├─────┼─────────┼───────┤\n",
      "│ 1   │ \u001b[90mmissing\u001b[39m │ 1     │\n",
      "│ 2   │ \u001b[90mmissing\u001b[39m │ 5     │\n",
      "Group 2: 1 row\n",
      "│ Row │ id     │ x     │\n",
      "│     │ \u001b[90mInt64⍰\u001b[39m │ \u001b[90mInt64\u001b[39m │\n",
      "├─────┼────────┼───────┤\n",
      "│ 1   │ 5      │ 2     │\n",
      "Group 3: 1 row\n",
      "│ Row │ id     │ x     │\n",
      "│     │ \u001b[90mInt64⍰\u001b[39m │ \u001b[90mInt64\u001b[39m │\n",
      "├─────┼────────┼───────┤\n",
      "│ 1   │ 1      │ 3     │\n",
      "Group 4: 1 row\n",
      "│ Row │ id     │ x     │\n",
      "│     │ \u001b[90mInt64⍰\u001b[39m │ \u001b[90mInt64\u001b[39m │\n",
      "├─────┼────────┼───────┤\n",
      "│ 1   │ 3      │ 4     │"
     ]
    }
   ],
   "source": [
    "show(groupby(x, :id), allgroups=true) # 기본적으로 그룹은 결측(missing)도 포함하고, 정렬되지 않는다."
   ]
  },
  {
   "cell_type": "code",
   "execution_count": 8,
   "metadata": {},
   "outputs": [
    {
     "name": "stdout",
     "output_type": "stream",
     "text": [
      "GroupedDataFrame with 3 groups based on key: :id\n",
      "Group 1: 1 row\n",
      "│ Row │ id     │ x     │\n",
      "│     │ \u001b[90mInt64⍰\u001b[39m │ \u001b[90mInt64\u001b[39m │\n",
      "├─────┼────────┼───────┤\n",
      "│ 1   │ 1      │ 3     │\n",
      "Group 2: 1 row\n",
      "│ Row │ id     │ x     │\n",
      "│     │ \u001b[90mInt64⍰\u001b[39m │ \u001b[90mInt64\u001b[39m │\n",
      "├─────┼────────┼───────┤\n",
      "│ 1   │ 3      │ 4     │\n",
      "Group 3: 1 row\n",
      "│ Row │ id     │ x     │\n",
      "│     │ \u001b[90mInt64⍰\u001b[39m │ \u001b[90mInt64\u001b[39m │\n",
      "├─────┼────────┼───────┤\n",
      "│ 1   │ 5      │ 2     │"
     ]
    }
   ],
   "source": [
    "show(groupby(x, :id, sort=true, skipmissing=true), allgroups=true) # 하지만 바꿀 수 있다."
   ]
  },
  {
   "cell_type": "code",
   "execution_count": 9,
   "metadata": {},
   "outputs": [
    {
     "data": {
      "text/html": [
       "<table class=\"data-frame\"><thead><tr><th></th><th>id</th><th>x1</th></tr><tr><th></th><th>Char</th><th>Float64</th></tr></thead><tbody><tr><th>1</th><td>'c'</td><td>0.506402</td></tr><tr><th>2</th><td>'b'</td><td>0.495104</td></tr><tr><th>3</th><td>'a'</td><td>0.447717</td></tr><tr><th>4</th><td>'d'</td><td>0.477769</td></tr></tbody></table>"
      ],
      "text/plain": [
       "4×2 DataFrame\n",
       "│ Row │ id   │ x1       │\n",
       "│     │ \u001b[90mChar\u001b[39m │ \u001b[90mFloat64\u001b[39m  │\n",
       "├─────┼──────┼──────────┤\n",
       "│ 1   │ 'c'  │ 0.506402 │\n",
       "│ 2   │ 'b'  │ 0.495104 │\n",
       "│ 3   │ 'a'  │ 0.447717 │\n",
       "│ 4   │ 'd'  │ 0.477769 │"
      ]
     },
     "execution_count": 9,
     "metadata": {},
     "output_type": "execute_result"
    }
   ],
   "source": [
    "x = DataFrame(id=rand('a':'d', 100), v=rand(100));\n",
    "using Statistics\n",
    "by(x, :id, y->mean(y[:v])) # 각각의 그룹에 대해서 함수를 적용할 수 있다."
   ]
  },
  {
   "cell_type": "code",
   "execution_count": 10,
   "metadata": {},
   "outputs": [
    {
     "data": {
      "text/html": [
       "<table class=\"data-frame\"><thead><tr><th></th><th>id</th><th>x1</th></tr><tr><th></th><th>Char</th><th>Float64</th></tr></thead><tbody><tr><th>1</th><td>'a'</td><td>0.447717</td></tr><tr><th>2</th><td>'b'</td><td>0.495104</td></tr><tr><th>3</th><td>'c'</td><td>0.506402</td></tr><tr><th>4</th><td>'d'</td><td>0.477769</td></tr></tbody></table>"
      ],
      "text/plain": [
       "4×2 DataFrame\n",
       "│ Row │ id   │ x1       │\n",
       "│     │ \u001b[90mChar\u001b[39m │ \u001b[90mFloat64\u001b[39m  │\n",
       "├─────┼──────┼──────────┤\n",
       "│ 1   │ 'a'  │ 0.447717 │\n",
       "│ 2   │ 'b'  │ 0.495104 │\n",
       "│ 3   │ 'c'  │ 0.506402 │\n",
       "│ 4   │ 'd'  │ 0.477769 │"
      ]
     },
     "execution_count": 10,
     "metadata": {},
     "output_type": "execute_result"
    }
   ],
   "source": [
    "by(x, :id, y->mean(y[:v]), sort=true) # 결과를 정렬할 수 있다."
   ]
  },
  {
   "cell_type": "code",
   "execution_count": 11,
   "metadata": {},
   "outputs": [
    {
     "data": {
      "text/html": [
       "<table class=\"data-frame\"><thead><tr><th></th><th>id</th><th>res</th></tr><tr><th></th><th>Char</th><th>Float64</th></tr></thead><tbody><tr><th>1</th><td>'c'</td><td>0.506402</td></tr><tr><th>2</th><td>'b'</td><td>0.495104</td></tr><tr><th>3</th><td>'a'</td><td>0.447717</td></tr><tr><th>4</th><td>'d'</td><td>0.477769</td></tr></tbody></table>"
      ],
      "text/plain": [
       "4×2 DataFrame\n",
       "│ Row │ id   │ res      │\n",
       "│     │ \u001b[90mChar\u001b[39m │ \u001b[90mFloat64\u001b[39m  │\n",
       "├─────┼──────┼──────────┤\n",
       "│ 1   │ 'c'  │ 0.506402 │\n",
       "│ 2   │ 'b'  │ 0.495104 │\n",
       "│ 3   │ 'a'  │ 0.447717 │\n",
       "│ 4   │ 'd'  │ 0.477769 │"
      ]
     },
     "execution_count": 11,
     "metadata": {},
     "output_type": "execute_result"
    }
   ],
   "source": [
    "by(x, :id, y->DataFrame(res=mean(y[:v]))) # 이 방법으로 열 이름을 바꿀 수 있다."
   ]
  },
  {
   "cell_type": "code",
   "execution_count": 12,
   "metadata": {},
   "outputs": [
    {
     "data": {
      "text/html": [
       "<table class=\"data-frame\"><thead><tr><th></th><th>id</th><th>x1_sum</th><th>x2_sum</th></tr><tr><th></th><th>Char</th><th>Float64</th><th>Float64</th></tr></thead><tbody><tr><th>1</th><td>'b'</td><td>9.68519</td><td>10.1587</td></tr><tr><th>2</th><td>'c'</td><td>14.4105</td><td>15.8606</td></tr><tr><th>3</th><td>'a'</td><td>8.01008</td><td>6.03163</td></tr><tr><th>4</th><td>'d'</td><td>15.9544</td><td>13.8985</td></tr></tbody></table>"
      ],
      "text/plain": [
       "4×3 DataFrame\n",
       "│ Row │ id   │ x1_sum  │ x2_sum  │\n",
       "│     │ \u001b[90mChar\u001b[39m │ \u001b[90mFloat64\u001b[39m │ \u001b[90mFloat64\u001b[39m │\n",
       "├─────┼──────┼─────────┼─────────┤\n",
       "│ 1   │ 'b'  │ 9.68519 │ 10.1587 │\n",
       "│ 2   │ 'c'  │ 14.4105 │ 15.8606 │\n",
       "│ 3   │ 'a'  │ 8.01008 │ 6.03163 │\n",
       "│ 4   │ 'd'  │ 15.9544 │ 13.8985 │"
      ]
     },
     "execution_count": 12,
     "metadata": {},
     "output_type": "execute_result"
    }
   ],
   "source": [
    "x = DataFrame(id=rand('a':'d', 100), x1=rand(100), x2=rand(100))\n",
    "aggregate(x, :id, sum) # 모든 열에 대해서 :id별로 함수를 적용한다."
   ]
  },
  {
   "cell_type": "code",
   "execution_count": 13,
   "metadata": {},
   "outputs": [
    {
     "data": {
      "text/html": [
       "<table class=\"data-frame\"><thead><tr><th></th><th>id</th><th>x1_sum</th><th>x2_sum</th></tr><tr><th></th><th>Char</th><th>Float64</th><th>Float64</th></tr></thead><tbody><tr><th>1</th><td>'a'</td><td>8.01008</td><td>6.03163</td></tr><tr><th>2</th><td>'b'</td><td>9.68519</td><td>10.1587</td></tr><tr><th>3</th><td>'c'</td><td>14.4105</td><td>15.8606</td></tr><tr><th>4</th><td>'d'</td><td>15.9544</td><td>13.8985</td></tr></tbody></table>"
      ],
      "text/plain": [
       "4×3 DataFrame\n",
       "│ Row │ id   │ x1_sum  │ x2_sum  │\n",
       "│     │ \u001b[90mChar\u001b[39m │ \u001b[90mFloat64\u001b[39m │ \u001b[90mFloat64\u001b[39m │\n",
       "├─────┼──────┼─────────┼─────────┤\n",
       "│ 1   │ 'a'  │ 8.01008 │ 6.03163 │\n",
       "│ 2   │ 'b'  │ 9.68519 │ 10.1587 │\n",
       "│ 3   │ 'c'  │ 14.4105 │ 15.8606 │\n",
       "│ 4   │ 'd'  │ 15.9544 │ 13.8985 │"
      ]
     },
     "execution_count": 13,
     "metadata": {},
     "output_type": "execute_result"
    }
   ],
   "source": [
    "aggregate(x, :id, sum, sort=true) # 이 또한 정렬할 수 있다."
   ]
  },
  {
   "cell_type": "markdown",
   "metadata": {},
   "source": [
    "*원문의 저자가 map과 combine은 유용한지 잘 모르겠어서 크게 언급하지 않기로 했다고 한다. (by가 더 낫다고 한다.)*"
   ]
  },
  {
   "cell_type": "code",
   "execution_count": 14,
   "metadata": {},
   "outputs": [
    {
     "data": {
      "text/html": [
       "<table class=\"data-frame\"><thead><tr><th></th><th>x1</th><th>x2</th><th>x3</th><th>x4</th><th>x5</th></tr><tr><th></th><th>Float64</th><th>Float64</th><th>Float64</th><th>Float64</th><th>Float64</th></tr></thead><tbody><tr><th>1</th><td>0.492489</td><td>0.780919</td><td>0.883863</td><td>0.929136</td><td>0.582756</td></tr><tr><th>2</th><td>0.284936</td><td>0.526468</td><td>0.726811</td><td>0.848188</td><td>0.245438</td></tr><tr><th>3</th><td>0.617582</td><td>0.223529</td><td>0.33223</td><td>0.511916</td><td>0.00244369</td></tr></tbody></table>"
      ],
      "text/plain": [
       "3×5 DataFrame\n",
       "│ Row │ x1       │ x2       │ x3       │ x4       │ x5         │\n",
       "│     │ \u001b[90mFloat64\u001b[39m  │ \u001b[90mFloat64\u001b[39m  │ \u001b[90mFloat64\u001b[39m  │ \u001b[90mFloat64\u001b[39m  │ \u001b[90mFloat64\u001b[39m    │\n",
       "├─────┼──────────┼──────────┼──────────┼──────────┼────────────┤\n",
       "│ 1   │ 0.492489 │ 0.780919 │ 0.883863 │ 0.929136 │ 0.582756   │\n",
       "│ 2   │ 0.284936 │ 0.526468 │ 0.726811 │ 0.848188 │ 0.245438   │\n",
       "│ 3   │ 0.617582 │ 0.223529 │ 0.33223  │ 0.511916 │ 0.00244369 │"
      ]
     },
     "execution_count": 14,
     "metadata": {},
     "output_type": "execute_result"
    }
   ],
   "source": [
    "x = DataFrame(rand(3, 5))"
   ]
  },
  {
   "cell_type": "code",
   "execution_count": 15,
   "metadata": {},
   "outputs": [
    {
     "data": {
      "text/html": [
       "<table class=\"data-frame\"><thead><tr><th></th><th>x1</th><th>x2</th><th>x3</th><th>x4</th><th>x5</th></tr><tr><th></th><th>Float64</th><th>Float64</th><th>Float64</th><th>Float64</th><th>Float64</th></tr></thead><tbody><tr><th>1</th><td>0.465002</td><td>0.510306</td><td>0.647635</td><td>0.76308</td><td>0.276879</td></tr></tbody></table>"
      ],
      "text/plain": [
       "1×5 DataFrame\n",
       "│ Row │ x1       │ x2       │ x3       │ x4      │ x5       │\n",
       "│     │ \u001b[90mFloat64\u001b[39m  │ \u001b[90mFloat64\u001b[39m  │ \u001b[90mFloat64\u001b[39m  │ \u001b[90mFloat64\u001b[39m │ \u001b[90mFloat64\u001b[39m  │\n",
       "├─────┼──────────┼──────────┼──────────┼─────────┼──────────┤\n",
       "│ 1   │ 0.465002 │ 0.510306 │ 0.647635 │ 0.76308 │ 0.276879 │"
      ]
     },
     "execution_count": 15,
     "metadata": {},
     "output_type": "execute_result"
    }
   ],
   "source": [
    "map(mean, eachcol(x)) # 각 열에 대해서 함수를 매핑하고 결과를 데이터프레임으로 받는다."
   ]
  },
  {
   "cell_type": "code",
   "execution_count": 16,
   "metadata": {},
   "outputs": [
    {
     "name": "stdout",
     "output_type": "stream",
     "text": [
      "x1: 0.4650023050024165\n",
      "x2: 0.5103055011163233\n",
      "x3: 0.6476346358419589\n",
      "x4: 0.7630800031479401\n",
      "x5: 0.27687920249388487\n"
     ]
    }
   ],
   "source": [
    "foreach(c -> println(c[1], \": \", mean(c[2])), eachcol(x)) # 반복을 이용해서 열 이름과 계산 값을 튜플로 받는다."
   ]
  },
  {
   "cell_type": "code",
   "execution_count": 17,
   "metadata": {},
   "outputs": [
    {
     "data": {
      "text/plain": [
       "5-element Array{Float64,1}:\n",
       " 0.4650023050024165 \n",
       " 0.5103055011163233 \n",
       " 0.6476346358419589 \n",
       " 0.7630800031479401 \n",
       " 0.27687920249388487"
      ]
     },
     "execution_count": 17,
     "metadata": {},
     "output_type": "execute_result"
    }
   ],
   "source": [
    "colwise(mean, x) # 열별로 하는 것은 비슷하나, 결과를 벡터로 받는다."
   ]
  },
  {
   "cell_type": "code",
   "execution_count": 18,
   "metadata": {},
   "outputs": [
    {
     "data": {
      "text/plain": [
       "2-element Array{Array{Float64,1},1}:\n",
       " [0.388712, 0.653694, 0.805337, 0.888662, 0.414097, 1.0] \n",
       " [0.617582, 0.223529, 0.33223, 0.511916, 0.00244369, 2.0]"
      ]
     },
     "execution_count": 18,
     "metadata": {},
     "output_type": "execute_result"
    }
   ],
   "source": [
    "x[:id] = [1,1,2]\n",
    "colwise(mean,groupby(x, :id)) # 그룹화된 데이터프레임 (GroupedDataFrame)으로 작업한다."
   ]
  },
  {
   "cell_type": "code",
   "execution_count": 19,
   "metadata": {},
   "outputs": [
    {
     "data": {
      "text/plain": [
       "3-element Array{Float64,1}:\n",
       " 0.6306527976520862\n",
       " 0.5412219085291118\n",
       " 2.7628664958717355"
      ]
     },
     "execution_count": 19,
     "metadata": {},
     "output_type": "execute_result"
    }
   ],
   "source": [
    "map(r -> r[:x1]/r[:x2], eachrow(x)) # 이번에는 데이터프레임의 행별로 함수를 적용한다."
   ]
  }
 ],
 "metadata": {
  "kernelspec": {
   "display_name": "Julia 1.0.0",
   "language": "julia",
   "name": "julia-1.0"
  },
  "language_info": {
   "file_extension": ".jl",
   "mimetype": "application/julia",
   "name": "julia",
   "version": "1.0.1"
  }
 },
 "nbformat": 4,
 "nbformat_minor": 1
}

{
 "cells": [
  {
   "cell_type": "markdown",
   "metadata": {},
   "source": [
    "# Introduction to DataFrames\n",
    "**[Bogumił Kamiński](http://bogumilkaminski.pl/about/), Apr 21, 2017**\n",
    "\n",
    "\n",
    "### 출처\n",
    "\n",
    "* https://github.com/JuliaComputing/JuliaBoxTutorials/tree/master/introductory-tutorials/broader-topics-and-ecosystem/intro-to-julia-DataFrames\n",
    "\n",
    "### 함께보기\n",
    "\n",
    "* https://deepstat.tistory.com/69 (01. constructors)(in English)\n",
    "* https://deepstat.tistory.com/70 (01. constructors)(한글)\n",
    "* https://deepstat.tistory.com/71 (02. basicinfo)(in English)\n",
    "* https://deepstat.tistory.com/72 (02. basicinfo)(한글)\n",
    "* https://deepstat.tistory.com/73 (03. missingvalues)(in English)\n",
    "* https://deepstat.tistory.com/74 (03. missingvalues)(한글)\n",
    "* https://deepstat.tistory.com/75 (04. loadsave)(in English)\n",
    "* https://deepstat.tistory.com/76 (04. loadsave)(한글)\n",
    "* https://deepstat.tistory.com/77 (05. columns)(in English)\n",
    "* https://deepstat.tistory.com/78 (05. columns)(한글)\n",
    "* https://deepstat.tistory.com/79 (06. rows)(in English)\n",
    "* https://deepstat.tistory.com/80 (06. rows)(한글)\n",
    "* https://deepstat.tistory.com/81 (07. factors)(in English)\n",
    "* https://deepstat.tistory.com/82 (07. factors)(한글)\n",
    "* https://deepstat.tistory.com/83 (08. joins)(in English)\n",
    "* https://deepstat.tistory.com/84 (08. joins)(한글)"
   ]
  },
  {
   "cell_type": "code",
   "execution_count": 1,
   "metadata": {},
   "outputs": [],
   "source": [
    "using DataFrames # load package"
   ]
  },
  {
   "cell_type": "markdown",
   "metadata": {},
   "source": [
    "## 데이터프레임 조인하기 (Joining DataFrames)"
   ]
  },
  {
   "cell_type": "markdown",
   "metadata": {},
   "source": [
    "### 조인할 데이터프레임 준비하기 (Preparing DataFrames for a join)"
   ]
  },
  {
   "cell_type": "code",
   "execution_count": 2,
   "metadata": {},
   "outputs": [
    {
     "name": "stdout",
     "output_type": "stream",
     "text": [
      "5×2 DataFrame\n",
      "│ Row │ ID      │ name   │\n",
      "│     │ \u001b[90mInt64⍰\u001b[39m  │ \u001b[90mString\u001b[39m │\n",
      "├─────┼─────────┼────────┤\n",
      "│ 1   │ 1       │ Alice  │\n",
      "│ 2   │ 2       │ Bob    │\n",
      "│ 3   │ 3       │ Conor  │\n",
      "│ 4   │ 4       │ Dave   │\n",
      "│ 5   │ \u001b[90mmissing\u001b[39m │ Zed    │\n",
      "5×2 DataFrame\n",
      "│ Row │ id      │ age   │\n",
      "│     │ \u001b[90mInt64⍰\u001b[39m  │ \u001b[90mInt64\u001b[39m │\n",
      "├─────┼─────────┼───────┤\n",
      "│ 1   │ 1       │ 21    │\n",
      "│ 2   │ 2       │ 22    │\n",
      "│ 3   │ 5       │ 23    │\n",
      "│ 4   │ 6       │ 24    │\n",
      "│ 5   │ \u001b[90mmissing\u001b[39m │ 99    │\n"
     ]
    }
   ],
   "source": [
    "x = DataFrame(ID=[1,2,3,4,missing], name = [\"Alice\", \"Bob\", \"Conor\", \"Dave\",\"Zed\"])\n",
    "y = DataFrame(id=[1,2,5,6,missing], age = [21,22,23,24,99])\n",
    "println(x)\n",
    "println(y)"
   ]
  },
  {
   "cell_type": "code",
   "execution_count": 3,
   "metadata": {},
   "outputs": [
    {
     "data": {
      "text/html": [
       "<table class=\"data-frame\"><thead><tr><th></th><th>id</th><th>name</th></tr><tr><th></th><th>Int64⍰</th><th>String</th></tr></thead><tbody><tr><th>1</th><td>1</td><td>Alice</td></tr><tr><th>2</th><td>2</td><td>Bob</td></tr><tr><th>3</th><td>3</td><td>Conor</td></tr><tr><th>4</th><td>4</td><td>Dave</td></tr><tr><th>5</th><td>missing</td><td>Zed</td></tr></tbody></table>"
      ],
      "text/plain": [
       "5×2 DataFrame\n",
       "│ Row │ id      │ name   │\n",
       "│     │ \u001b[90mInt64⍰\u001b[39m  │ \u001b[90mString\u001b[39m │\n",
       "├─────┼─────────┼────────┤\n",
       "│ 1   │ 1       │ Alice  │\n",
       "│ 2   │ 2       │ Bob    │\n",
       "│ 3   │ 3       │ Conor  │\n",
       "│ 4   │ 4       │ Dave   │\n",
       "│ 5   │ \u001b[90mmissing\u001b[39m │ Zed    │"
      ]
     },
     "execution_count": 3,
     "metadata": {},
     "output_type": "execute_result"
    }
   ],
   "source": [
    "rename!(x, :ID=>:id) # 조인(joini할 기준이 되는 행 이름은 같아야만 한다."
   ]
  },
  {
   "cell_type": "markdown",
   "metadata": {},
   "source": [
    "### 기본 조인 (Standard joins: inner, left, right, outer, semi, anti)"
   ]
  },
  {
   "cell_type": "code",
   "execution_count": 4,
   "metadata": {},
   "outputs": [
    {
     "data": {
      "text/html": [
       "<table class=\"data-frame\"><thead><tr><th></th><th>id</th><th>name</th><th>age</th></tr><tr><th></th><th>Int64⍰</th><th>String</th><th>Int64</th></tr></thead><tbody><tr><th>1</th><td>1</td><td>Alice</td><td>21</td></tr><tr><th>2</th><td>2</td><td>Bob</td><td>22</td></tr><tr><th>3</th><td>missing</td><td>Zed</td><td>99</td></tr></tbody></table>"
      ],
      "text/plain": [
       "3×3 DataFrame\n",
       "│ Row │ id      │ name   │ age   │\n",
       "│     │ \u001b[90mInt64⍰\u001b[39m  │ \u001b[90mString\u001b[39m │ \u001b[90mInt64\u001b[39m │\n",
       "├─────┼─────────┼────────┼───────┤\n",
       "│ 1   │ 1       │ Alice  │ 21    │\n",
       "│ 2   │ 2       │ Bob    │ 22    │\n",
       "│ 3   │ \u001b[90mmissing\u001b[39m │ Zed    │ 99    │"
      ]
     },
     "execution_count": 4,
     "metadata": {},
     "output_type": "execute_result"
    }
   ],
   "source": [
    "join(x, y, on=:id) # 기본적으로 이너조인(inner join)을 수행한다. 결측(missing)도 조인된다."
   ]
  },
  {
   "cell_type": "code",
   "execution_count": 5,
   "metadata": {},
   "outputs": [
    {
     "data": {
      "text/html": [
       "<table class=\"data-frame\"><thead><tr><th></th><th>id</th><th>name</th><th>age</th></tr><tr><th></th><th>Int64⍰</th><th>String</th><th>Int64⍰</th></tr></thead><tbody><tr><th>1</th><td>1</td><td>Alice</td><td>21</td></tr><tr><th>2</th><td>2</td><td>Bob</td><td>22</td></tr><tr><th>3</th><td>3</td><td>Conor</td><td>missing</td></tr><tr><th>4</th><td>4</td><td>Dave</td><td>missing</td></tr><tr><th>5</th><td>missing</td><td>Zed</td><td>99</td></tr></tbody></table>"
      ],
      "text/plain": [
       "5×3 DataFrame\n",
       "│ Row │ id      │ name   │ age     │\n",
       "│     │ \u001b[90mInt64⍰\u001b[39m  │ \u001b[90mString\u001b[39m │ \u001b[90mInt64⍰\u001b[39m  │\n",
       "├─────┼─────────┼────────┼─────────┤\n",
       "│ 1   │ 1       │ Alice  │ 21      │\n",
       "│ 2   │ 2       │ Bob    │ 22      │\n",
       "│ 3   │ 3       │ Conor  │ \u001b[90mmissing\u001b[39m │\n",
       "│ 4   │ 4       │ Dave   │ \u001b[90mmissing\u001b[39m │\n",
       "│ 5   │ \u001b[90mmissing\u001b[39m │ Zed    │ 99      │"
      ]
     },
     "execution_count": 5,
     "metadata": {},
     "output_type": "execute_result"
    }
   ],
   "source": [
    "join(x, y, on=:id, kind=:left) # 레프트조인(left join)"
   ]
  },
  {
   "cell_type": "code",
   "execution_count": 6,
   "metadata": {},
   "outputs": [
    {
     "data": {
      "text/html": [
       "<table class=\"data-frame\"><thead><tr><th></th><th>id</th><th>name</th><th>age</th></tr><tr><th></th><th>Int64⍰</th><th>String⍰</th><th>Int64</th></tr></thead><tbody><tr><th>1</th><td>1</td><td>Alice</td><td>21</td></tr><tr><th>2</th><td>2</td><td>Bob</td><td>22</td></tr><tr><th>3</th><td>missing</td><td>Zed</td><td>99</td></tr><tr><th>4</th><td>5</td><td>missing</td><td>23</td></tr><tr><th>5</th><td>6</td><td>missing</td><td>24</td></tr></tbody></table>"
      ],
      "text/plain": [
       "5×3 DataFrame\n",
       "│ Row │ id      │ name    │ age   │\n",
       "│     │ \u001b[90mInt64⍰\u001b[39m  │ \u001b[90mString⍰\u001b[39m │ \u001b[90mInt64\u001b[39m │\n",
       "├─────┼─────────┼─────────┼───────┤\n",
       "│ 1   │ 1       │ Alice   │ 21    │\n",
       "│ 2   │ 2       │ Bob     │ 22    │\n",
       "│ 3   │ \u001b[90mmissing\u001b[39m │ Zed     │ 99    │\n",
       "│ 4   │ 5       │ \u001b[90mmissing\u001b[39m │ 23    │\n",
       "│ 5   │ 6       │ \u001b[90mmissing\u001b[39m │ 24    │"
      ]
     },
     "execution_count": 6,
     "metadata": {},
     "output_type": "execute_result"
    }
   ],
   "source": [
    "join(x, y, on=:id, kind=:right) # 라이트조인(right join)"
   ]
  },
  {
   "cell_type": "code",
   "execution_count": 7,
   "metadata": {},
   "outputs": [
    {
     "data": {
      "text/html": [
       "<table class=\"data-frame\"><thead><tr><th></th><th>id</th><th>name</th><th>age</th></tr><tr><th></th><th>Int64⍰</th><th>String⍰</th><th>Int64⍰</th></tr></thead><tbody><tr><th>1</th><td>1</td><td>Alice</td><td>21</td></tr><tr><th>2</th><td>2</td><td>Bob</td><td>22</td></tr><tr><th>3</th><td>3</td><td>Conor</td><td>missing</td></tr><tr><th>4</th><td>4</td><td>Dave</td><td>missing</td></tr><tr><th>5</th><td>missing</td><td>Zed</td><td>99</td></tr><tr><th>6</th><td>5</td><td>missing</td><td>23</td></tr><tr><th>7</th><td>6</td><td>missing</td><td>24</td></tr></tbody></table>"
      ],
      "text/plain": [
       "7×3 DataFrame\n",
       "│ Row │ id      │ name    │ age     │\n",
       "│     │ \u001b[90mInt64⍰\u001b[39m  │ \u001b[90mString⍰\u001b[39m │ \u001b[90mInt64⍰\u001b[39m  │\n",
       "├─────┼─────────┼─────────┼─────────┤\n",
       "│ 1   │ 1       │ Alice   │ 21      │\n",
       "│ 2   │ 2       │ Bob     │ 22      │\n",
       "│ 3   │ 3       │ Conor   │ \u001b[90mmissing\u001b[39m │\n",
       "│ 4   │ 4       │ Dave    │ \u001b[90mmissing\u001b[39m │\n",
       "│ 5   │ \u001b[90mmissing\u001b[39m │ Zed     │ 99      │\n",
       "│ 6   │ 5       │ \u001b[90mmissing\u001b[39m │ 23      │\n",
       "│ 7   │ 6       │ \u001b[90mmissing\u001b[39m │ 24      │"
      ]
     },
     "execution_count": 7,
     "metadata": {},
     "output_type": "execute_result"
    }
   ],
   "source": [
    "join(x, y, on=:id, kind=:outer) #아우터조인(outer join)"
   ]
  },
  {
   "cell_type": "code",
   "execution_count": 8,
   "metadata": {},
   "outputs": [
    {
     "data": {
      "text/html": [
       "<table class=\"data-frame\"><thead><tr><th></th><th>id</th><th>name</th></tr><tr><th></th><th>Int64⍰</th><th>String</th></tr></thead><tbody><tr><th>1</th><td>1</td><td>Alice</td></tr><tr><th>2</th><td>2</td><td>Bob</td></tr><tr><th>3</th><td>missing</td><td>Zed</td></tr></tbody></table>"
      ],
      "text/plain": [
       "3×2 DataFrame\n",
       "│ Row │ id      │ name   │\n",
       "│     │ \u001b[90mInt64⍰\u001b[39m  │ \u001b[90mString\u001b[39m │\n",
       "├─────┼─────────┼────────┤\n",
       "│ 1   │ 1       │ Alice  │\n",
       "│ 2   │ 2       │ Bob    │\n",
       "│ 3   │ \u001b[90mmissing\u001b[39m │ Zed    │"
      ]
     },
     "execution_count": 8,
     "metadata": {},
     "output_type": "execute_result"
    }
   ],
   "source": [
    "join(x, y, on=:id, kind=:semi) #세미조인(semi join)"
   ]
  },
  {
   "cell_type": "code",
   "execution_count": 9,
   "metadata": {},
   "outputs": [
    {
     "data": {
      "text/html": [
       "<table class=\"data-frame\"><thead><tr><th></th><th>id</th><th>name</th></tr><tr><th></th><th>Int64⍰</th><th>String</th></tr></thead><tbody><tr><th>1</th><td>3</td><td>Conor</td></tr><tr><th>2</th><td>4</td><td>Dave</td></tr></tbody></table>"
      ],
      "text/plain": [
       "2×2 DataFrame\n",
       "│ Row │ id     │ name   │\n",
       "│     │ \u001b[90mInt64⍰\u001b[39m │ \u001b[90mString\u001b[39m │\n",
       "├─────┼────────┼────────┤\n",
       "│ 1   │ 3      │ Conor  │\n",
       "│ 2   │ 4      │ Dave   │"
      ]
     },
     "execution_count": 9,
     "metadata": {},
     "output_type": "execute_result"
    }
   ],
   "source": [
    "join(x, y, on=:id, kind=:anti) #안티조인(anti join)"
   ]
  },
  {
   "cell_type": "markdown",
   "metadata": {},
   "source": [
    "### 크로스조인 (Cross join)"
   ]
  },
  {
   "cell_type": "code",
   "execution_count": 10,
   "metadata": {},
   "outputs": [
    {
     "ename": "ArgumentError",
     "evalue": "ArgumentError: unable to construct DataFrame from Pair{Int64,Int64}",
     "output_type": "error",
     "traceback": [
      "ArgumentError: unable to construct DataFrame from Pair{Int64,Int64}",
      "",
      "Stacktrace:",
      " [1] DataFrame(::Pair{Int64,Int64}) at /home/yt/.julia/packages/DataFrames/1PqZ3/src/other/tables.jl:32",
      " [2] #expand_grid#3(::Base.Iterators.Pairs{Symbol,Array{T,1} where T,Tuple{Symbol,Symbol,Symbol},NamedTuple{(:a, :b, :c),Tuple{Array{Int64,1},Array{String,1},Array{Bool,1}}}}, ::Function) at ./In[10]:4",
      " [3] (::getfield(Main, Symbol(\"#kw##expand_grid\")))(::NamedTuple{(:a, :b, :c),Tuple{Array{Int64,1},Array{String,1},Array{Bool,1}}}, ::typeof(expand_grid)) at ./none:0",
      " [4] top-level scope at In[10]:7"
     ]
    }
   ],
   "source": [
    "# 크로스조인(cross-join)은 \"on\" 인자(argument)를 필요로 하지 않는다.\n",
    "# 크로스조인(cross-join)은 카테이션 곱(Cartesian product) 혹은 인자(argument)를 만든다.\n",
    "function expand_grid(;xs...) # R 언어에서 쓰이는 expand.grid의 간단한 형태의 함수\n",
    "    reduce((x,y) -> join(x, DataFrame(Pair(y...)), kind=:cross),\n",
    "           DataFrame(Pair(xs[1]...)), xs[2:end])\n",
    "end\n",
    "\n",
    "expand_grid(a=[1,2], b=[\"a\",\"b\",\"c\"], c=[true,false])"
   ]
  },
  {
   "cell_type": "code",
   "execution_count": 11,
   "metadata": {},
   "outputs": [
    {
     "name": "stdout",
     "output_type": "stream",
     "text": [
      "search: \u001b[0m\u001b[1mr\u001b[22m\u001b[0m\u001b[1me\u001b[22m\u001b[0m\u001b[1md\u001b[22m\u001b[0m\u001b[1mu\u001b[22m\u001b[0m\u001b[1mc\u001b[22m\u001b[0m\u001b[1me\u001b[22m map\u001b[0m\u001b[1mr\u001b[22m\u001b[0m\u001b[1me\u001b[22m\u001b[0m\u001b[1md\u001b[22m\u001b[0m\u001b[1mu\u001b[22m\u001b[0m\u001b[1mc\u001b[22m\u001b[0m\u001b[1me\u001b[22m\n",
      "\n"
     ]
    },
    {
     "data": {
      "text/markdown": [
       "```\n",
       "reduce(op, itr; [init])\n",
       "```\n",
       "\n",
       "Reduce the given collection `itr` with the given binary operator `op`. If provided, the initial value `init` must be a neutral element for `op` that will be returned for empty collections. It is unspecified whether `init` is used for non-empty collections.\n",
       "\n",
       "For empty collections, providing `init` will be necessary, except for some special cases (e.g. when `op` is one of `+`, `*`, `max`, `min`, `&`, `|`) when Julia can determine the neutral element of `op`.\n",
       "\n",
       "Reductions for certain commonly-used operators may have special implementations, and should be used instead: `maximum(itr)`, `minimum(itr)`, `sum(itr)`, `prod(itr)`,  `any(itr)`, `all(itr)`.\n",
       "\n",
       "The associativity of the reduction is implementation dependent. This means that you can't use non-associative operations like `-` because it is undefined whether `reduce(-,[1,2,3])` should be evaluated as `(1-2)-3` or `1-(2-3)`. Use [`foldl`](@ref) or [`foldr`](@ref) instead for guaranteed left or right associativity.\n",
       "\n",
       "Some operations accumulate error. Parallelism will be easier if the reduction can be executed in groups. Future versions of Julia might change the algorithm. Note that the elements are not reordered if you use an ordered collection.\n",
       "\n",
       "# Examples\n",
       "\n",
       "```jldoctest\n",
       "julia> reduce(*, [2; 3; 4])\n",
       "24\n",
       "\n",
       "julia> reduce(*, [2; 3; 4]; init=-1)\n",
       "-24\n",
       "```\n",
       "\n",
       "---\n",
       "\n",
       "```\n",
       "reduce(f, A; dims=:, [init])\n",
       "```\n",
       "\n",
       "Reduce 2-argument function `f` along dimensions of `A`. `dims` is a vector specifying the dimensions to reduce, and the keyword argument `init` is the initial value to use in the reductions. For `+`, `*`, `max` and `min` the `init` argument is optional.\n",
       "\n",
       "The associativity of the reduction is implementation-dependent; if you need a particular associativity, e.g. left-to-right, you should write your own loop or consider using [`foldl`](@ref) or [`foldr`](@ref). See documentation for [`reduce`](@ref).\n",
       "\n",
       "# Examples\n",
       "\n",
       "```jldoctest\n",
       "julia> a = reshape(Vector(1:16), (4,4))\n",
       "4×4 Array{Int64,2}:\n",
       " 1  5   9  13\n",
       " 2  6  10  14\n",
       " 3  7  11  15\n",
       " 4  8  12  16\n",
       "\n",
       "julia> reduce(max, a, dims=2)\n",
       "4×1 Array{Int64,2}:\n",
       " 13\n",
       " 14\n",
       " 15\n",
       " 16\n",
       "\n",
       "julia> reduce(max, a, dims=1)\n",
       "1×4 Array{Int64,2}:\n",
       " 4  8  12  16\n",
       "```\n"
      ],
      "text/plain": [
       "\u001b[36m  reduce(op, itr; [init])\u001b[39m\n",
       "\n",
       "  Reduce the given collection \u001b[36mitr\u001b[39m with the given binary operator \u001b[36mop\u001b[39m. If\n",
       "  provided, the initial value \u001b[36minit\u001b[39m must be a neutral element for \u001b[36mop\u001b[39m that will\n",
       "  be returned for empty collections. It is unspecified whether \u001b[36minit\u001b[39m is used\n",
       "  for non-empty collections.\n",
       "\n",
       "  For empty collections, providing \u001b[36minit\u001b[39m will be necessary, except for some\n",
       "  special cases (e.g. when \u001b[36mop\u001b[39m is one of \u001b[36m+\u001b[39m, \u001b[36m*\u001b[39m, \u001b[36mmax\u001b[39m, \u001b[36mmin\u001b[39m, \u001b[36m&\u001b[39m, \u001b[36m|\u001b[39m) when Julia can\n",
       "  determine the neutral element of \u001b[36mop\u001b[39m.\n",
       "\n",
       "  Reductions for certain commonly-used operators may have special\n",
       "  implementations, and should be used instead: \u001b[36mmaximum(itr)\u001b[39m, \u001b[36mminimum(itr)\u001b[39m,\n",
       "  \u001b[36msum(itr)\u001b[39m, \u001b[36mprod(itr)\u001b[39m, \u001b[36many(itr)\u001b[39m, \u001b[36mall(itr)\u001b[39m.\n",
       "\n",
       "  The associativity of the reduction is implementation dependent. This means\n",
       "  that you can't use non-associative operations like \u001b[36m-\u001b[39m because it is undefined\n",
       "  whether \u001b[36mreduce(-,[1,2,3])\u001b[39m should be evaluated as \u001b[36m(1-2)-3\u001b[39m or \u001b[36m1-(2-3)\u001b[39m. Use\n",
       "  \u001b[36mfoldl\u001b[39m or \u001b[36mfoldr\u001b[39m instead for guaranteed left or right associativity.\n",
       "\n",
       "  Some operations accumulate error. Parallelism will be easier if the\n",
       "  reduction can be executed in groups. Future versions of Julia might change\n",
       "  the algorithm. Note that the elements are not reordered if you use an\n",
       "  ordered collection.\n",
       "\n",
       "\u001b[1m  Examples\u001b[22m\n",
       "\u001b[1m  ≡≡≡≡≡≡≡≡≡≡\u001b[22m\n",
       "\n",
       "\u001b[36m  julia> reduce(*, [2; 3; 4])\u001b[39m\n",
       "\u001b[36m  24\u001b[39m\n",
       "\u001b[36m  \u001b[39m\n",
       "\u001b[36m  julia> reduce(*, [2; 3; 4]; init=-1)\u001b[39m\n",
       "\u001b[36m  -24\u001b[39m\n",
       "\n",
       "  ────────────────────────────────────────────────────────────────────────────\n",
       "\n",
       "\u001b[36m  reduce(f, A; dims=:, [init])\u001b[39m\n",
       "\n",
       "  Reduce 2-argument function \u001b[36mf\u001b[39m along dimensions of \u001b[36mA\u001b[39m. \u001b[36mdims\u001b[39m is a vector\n",
       "  specifying the dimensions to reduce, and the keyword argument \u001b[36minit\u001b[39m is the\n",
       "  initial value to use in the reductions. For \u001b[36m+\u001b[39m, \u001b[36m*\u001b[39m, \u001b[36mmax\u001b[39m and \u001b[36mmin\u001b[39m the \u001b[36minit\u001b[39m\n",
       "  argument is optional.\n",
       "\n",
       "  The associativity of the reduction is implementation-dependent; if you need\n",
       "  a particular associativity, e.g. left-to-right, you should write your own\n",
       "  loop or consider using \u001b[36mfoldl\u001b[39m or \u001b[36mfoldr\u001b[39m. See documentation for \u001b[36mreduce\u001b[39m.\n",
       "\n",
       "\u001b[1m  Examples\u001b[22m\n",
       "\u001b[1m  ≡≡≡≡≡≡≡≡≡≡\u001b[22m\n",
       "\n",
       "\u001b[36m  julia> a = reshape(Vector(1:16), (4,4))\u001b[39m\n",
       "\u001b[36m  4×4 Array{Int64,2}:\u001b[39m\n",
       "\u001b[36m   1  5   9  13\u001b[39m\n",
       "\u001b[36m   2  6  10  14\u001b[39m\n",
       "\u001b[36m   3  7  11  15\u001b[39m\n",
       "\u001b[36m   4  8  12  16\u001b[39m\n",
       "\u001b[36m  \u001b[39m\n",
       "\u001b[36m  julia> reduce(max, a, dims=2)\u001b[39m\n",
       "\u001b[36m  4×1 Array{Int64,2}:\u001b[39m\n",
       "\u001b[36m   13\u001b[39m\n",
       "\u001b[36m   14\u001b[39m\n",
       "\u001b[36m   15\u001b[39m\n",
       "\u001b[36m   16\u001b[39m\n",
       "\u001b[36m  \u001b[39m\n",
       "\u001b[36m  julia> reduce(max, a, dims=1)\u001b[39m\n",
       "\u001b[36m  1×4 Array{Int64,2}:\u001b[39m\n",
       "\u001b[36m   4  8  12  16\u001b[39m"
      ]
     },
     "execution_count": 11,
     "metadata": {},
     "output_type": "execute_result"
    }
   ],
   "source": [
    "?reduce"
   ]
  },
  {
   "cell_type": "markdown",
   "metadata": {},
   "source": [
    "### 복잡한 형태의 조인 (Complex cases of joins)"
   ]
  },
  {
   "cell_type": "code",
   "execution_count": 12,
   "metadata": {},
   "outputs": [
    {
     "name": "stdout",
     "output_type": "stream",
     "text": [
      "6×3 DataFrame\n",
      "│ Row │ id1     │ id2     │ name   │\n",
      "│     │ \u001b[90mInt64⍰\u001b[39m  │ \u001b[90mInt64⍰\u001b[39m  │ \u001b[90mString\u001b[39m │\n",
      "├─────┼─────────┼─────────┼────────┤\n",
      "│ 1   │ 1       │ 1       │ Alice  │\n",
      "│ 2   │ 1       │ 11      │ Bob    │\n",
      "│ 3   │ 2       │ 2       │ Conor  │\n",
      "│ 4   │ 2       │ 21      │ Dave   │\n",
      "│ 5   │ \u001b[90mmissing\u001b[39m │ \u001b[90mmissing\u001b[39m │ Zed    │\n",
      "│ 6   │ \u001b[90mmissing\u001b[39m │ 99      │ Zoe    │\n",
      "6×3 DataFrame\n",
      "│ Row │ id1     │ id2     │ age   │\n",
      "│     │ \u001b[90mInt64⍰\u001b[39m  │ \u001b[90mInt64⍰\u001b[39m  │ \u001b[90mInt64\u001b[39m │\n",
      "├─────┼─────────┼─────────┼───────┤\n",
      "│ 1   │ 1       │ 11      │ 21    │\n",
      "│ 2   │ 1       │ 1       │ 22    │\n",
      "│ 3   │ 3       │ 31      │ 23    │\n",
      "│ 4   │ 3       │ 3       │ 24    │\n",
      "│ 5   │ \u001b[90mmissing\u001b[39m │ \u001b[90mmissing\u001b[39m │ 99    │\n",
      "│ 6   │ \u001b[90mmissing\u001b[39m │ 999     │ 100   │\n"
     ]
    }
   ],
   "source": [
    "x = DataFrame(id1=[1,1,2,2,missing,missing],\n",
    "              id2=[1,11,2,21,missing,99],\n",
    "              name = [\"Alice\", \"Bob\", \"Conor\", \"Dave\",\"Zed\", \"Zoe\"])\n",
    "y = DataFrame(id1=[1,1,3,3,missing,missing],\n",
    "              id2=[11,1,31,3,missing,999],\n",
    "              age = [21,22,23,24,99, 100])\n",
    "println(x)\n",
    "println(y)"
   ]
  },
  {
   "cell_type": "code",
   "execution_count": 13,
   "metadata": {},
   "outputs": [
    {
     "data": {
      "text/html": [
       "<table class=\"data-frame\"><thead><tr><th></th><th>id1</th><th>id2</th><th>name</th><th>age</th></tr><tr><th></th><th>Int64⍰</th><th>Int64⍰</th><th>String</th><th>Int64</th></tr></thead><tbody><tr><th>1</th><td>1</td><td>1</td><td>Alice</td><td>22</td></tr><tr><th>2</th><td>1</td><td>11</td><td>Bob</td><td>21</td></tr><tr><th>3</th><td>missing</td><td>missing</td><td>Zed</td><td>99</td></tr></tbody></table>"
      ],
      "text/plain": [
       "3×4 DataFrame\n",
       "│ Row │ id1     │ id2     │ name   │ age   │\n",
       "│     │ \u001b[90mInt64⍰\u001b[39m  │ \u001b[90mInt64⍰\u001b[39m  │ \u001b[90mString\u001b[39m │ \u001b[90mInt64\u001b[39m │\n",
       "├─────┼─────────┼─────────┼────────┼───────┤\n",
       "│ 1   │ 1       │ 1       │ Alice  │ 22    │\n",
       "│ 2   │ 1       │ 11      │ Bob    │ 21    │\n",
       "│ 3   │ \u001b[90mmissing\u001b[39m │ \u001b[90mmissing\u001b[39m │ Zed    │ 99    │"
      ]
     },
     "execution_count": 13,
     "metadata": {},
     "output_type": "execute_result"
    }
   ],
   "source": [
    "join(x, y, on=[:id1, :id2]) # 2개 행을 기준으로 조인"
   ]
  },
  {
   "cell_type": "code",
   "execution_count": 14,
   "metadata": {
    "scrolled": true
   },
   "outputs": [
    {
     "data": {
      "text/html": [
       "<table class=\"data-frame\"><thead><tr><th></th><th>id1</th><th>id2</th><th>name</th><th>id2_1</th><th>age</th></tr><tr><th></th><th>Int64⍰</th><th>Int64⍰</th><th>String</th><th>Int64⍰</th><th>Int64</th></tr></thead><tbody><tr><th>1</th><td>1</td><td>1</td><td>Alice</td><td>11</td><td>21</td></tr><tr><th>2</th><td>1</td><td>1</td><td>Alice</td><td>1</td><td>22</td></tr><tr><th>3</th><td>1</td><td>11</td><td>Bob</td><td>11</td><td>21</td></tr><tr><th>4</th><td>1</td><td>11</td><td>Bob</td><td>1</td><td>22</td></tr><tr><th>5</th><td>missing</td><td>missing</td><td>Zed</td><td>missing</td><td>99</td></tr><tr><th>6</th><td>missing</td><td>missing</td><td>Zed</td><td>999</td><td>100</td></tr><tr><th>7</th><td>missing</td><td>99</td><td>Zoe</td><td>missing</td><td>99</td></tr><tr><th>8</th><td>missing</td><td>99</td><td>Zoe</td><td>999</td><td>100</td></tr></tbody></table>"
      ],
      "text/plain": [
       "8×5 DataFrame\n",
       "│ Row │ id1     │ id2     │ name   │ id2_1   │ age   │\n",
       "│     │ \u001b[90mInt64⍰\u001b[39m  │ \u001b[90mInt64⍰\u001b[39m  │ \u001b[90mString\u001b[39m │ \u001b[90mInt64⍰\u001b[39m  │ \u001b[90mInt64\u001b[39m │\n",
       "├─────┼─────────┼─────────┼────────┼─────────┼───────┤\n",
       "│ 1   │ 1       │ 1       │ Alice  │ 11      │ 21    │\n",
       "│ 2   │ 1       │ 1       │ Alice  │ 1       │ 22    │\n",
       "│ 3   │ 1       │ 11      │ Bob    │ 11      │ 21    │\n",
       "│ 4   │ 1       │ 11      │ Bob    │ 1       │ 22    │\n",
       "│ 5   │ \u001b[90mmissing\u001b[39m │ \u001b[90mmissing\u001b[39m │ Zed    │ \u001b[90mmissing\u001b[39m │ 99    │\n",
       "│ 6   │ \u001b[90mmissing\u001b[39m │ \u001b[90mmissing\u001b[39m │ Zed    │ 999     │ 100   │\n",
       "│ 7   │ \u001b[90mmissing\u001b[39m │ 99      │ Zoe    │ \u001b[90mmissing\u001b[39m │ 99    │\n",
       "│ 8   │ \u001b[90mmissing\u001b[39m │ 99      │ Zoe    │ 999     │ 100   │"
      ]
     },
     "execution_count": 14,
     "metadata": {},
     "output_type": "execute_result"
    }
   ],
   "source": [
    "join(x, y, on=[:id1], makeunique=true) # 중복되는 경우 모든 경우의 결합을 다 만들어준다. (이 예제는 이너조인(inner join))"
   ]
  },
  {
   "cell_type": "code",
   "execution_count": 15,
   "metadata": {},
   "outputs": [
    {
     "data": {
      "text/html": [
       "<table class=\"data-frame\"><thead><tr><th></th><th>id1</th><th>id2</th><th>name</th></tr><tr><th></th><th>Int64⍰</th><th>Int64⍰</th><th>String</th></tr></thead><tbody><tr><th>1</th><td>1</td><td>1</td><td>Alice</td></tr><tr><th>2</th><td>1</td><td>11</td><td>Bob</td></tr><tr><th>3</th><td>missing</td><td>missing</td><td>Zed</td></tr><tr><th>4</th><td>missing</td><td>99</td><td>Zoe</td></tr></tbody></table>"
      ],
      "text/plain": [
       "4×3 DataFrame\n",
       "│ Row │ id1     │ id2     │ name   │\n",
       "│     │ \u001b[90mInt64⍰\u001b[39m  │ \u001b[90mInt64⍰\u001b[39m  │ \u001b[90mString\u001b[39m │\n",
       "├─────┼─────────┼─────────┼────────┤\n",
       "│ 1   │ 1       │ 1       │ Alice  │\n",
       "│ 2   │ 1       │ 11      │ Bob    │\n",
       "│ 3   │ \u001b[90mmissing\u001b[39m │ \u001b[90mmissing\u001b[39m │ Zed    │\n",
       "│ 4   │ \u001b[90mmissing\u001b[39m │ 99      │ Zoe    │"
      ]
     },
     "execution_count": 15,
     "metadata": {},
     "output_type": "execute_result"
    }
   ],
   "source": [
    "join(x, y, on=[:id1], kind=:semi) # 예외적으로 세미조인(semi join)인 경우는 모든 결합을 다 만들어주지 않는다."
   ]
  }
 ],
 "metadata": {
  "kernelspec": {
   "display_name": "Julia 1.0.0",
   "language": "julia",
   "name": "julia-1.0"
  },
  "language_info": {
   "file_extension": ".jl",
   "mimetype": "application/julia",
   "name": "julia",
   "version": "1.0.1"
  }
 },
 "nbformat": 4,
 "nbformat_minor": 1
}

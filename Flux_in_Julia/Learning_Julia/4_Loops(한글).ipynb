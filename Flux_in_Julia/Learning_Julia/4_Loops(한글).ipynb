{
 "cells": [
  {
   "cell_type": "markdown",
   "metadata": {},
   "source": [
    "# Loops\n",
    "\n",
    "## 출처\n",
    "\n",
    "https://github.com/JuliaComputing/JuliaBoxTutorials/tree/master/introductory-tutorials/intro-to-julia (github : JuliaComputing/JuliaBoxTutorials/introductory-tutorials/intro-to-julia/)\n",
    "\n",
    "Topics:\n",
    "\n",
    "1. [while 반복문](#1)\n",
    "2. [for 반복문](#2)\n",
    "3. [연습문제](#3)\n",
    "\n",
    "### 함께보기\n",
    "\n",
    "- http://deepstat.tistory.com/45 (01. Getting started)(in English)\n",
    "- http://deepstat.tistory.com/46 (01. Getting started(한글))\n",
    "- http://deepstat.tistory.com/47 (02. Strings)(in English)\n",
    "- http://deepstat.tistory.com/48 (02. Strings(한글))\n",
    "- http://deepstat.tistory.com/49 (03. Data structures)(in English)\n",
    "- http://deepstat.tistory.com/50 (03. Data structures(한글))\n",
    "- http://deepstat.tistory.com/51 (04. Loops)(in English)"
   ]
  },
  {
   "cell_type": "markdown",
   "metadata": {},
   "source": [
    "## while 반복문 <a id='1'></a>"
   ]
  },
  {
   "cell_type": "markdown",
   "metadata": {},
   "source": [
    "구문:\n",
    "\n",
    "    <font color=green>while<\\font> *조건*\n",
    "        *반복 내용*\n",
    "    <font color=green>end<\\font>"
   ]
  },
  {
   "cell_type": "code",
   "execution_count": 1,
   "metadata": {},
   "outputs": [
    {
     "name": "stdout",
     "output_type": "stream",
     "text": [
      "1\n",
      "2\n",
      "3\n",
      "4\n",
      "5\n",
      "6\n",
      "7\n",
      "8\n",
      "9\n",
      "10\n"
     ]
    },
    {
     "data": {
      "text/plain": [
       "10"
      ]
     },
     "execution_count": 1,
     "metadata": {},
     "output_type": "execute_result"
    }
   ],
   "source": [
    "숫자 = 0\n",
    "while 숫자 < 10\n",
    "    숫자 += 1\n",
    "    println(숫자)\n",
    "end\n",
    "숫자"
   ]
  },
  {
   "cell_type": "code",
   "execution_count": 2,
   "metadata": {},
   "outputs": [
    {
     "name": "stdout",
     "output_type": "stream",
     "text": [
      "안녕 균우, 만나서 반가워!\n",
      "안녕 상완, 만나서 반가워!\n",
      "안녕 동훈, 만나서 반가워!\n",
      "안녕 진, 만나서 반가워!\n",
      "안녕 재현, 만나서 반가워!\n"
     ]
    }
   ],
   "source": [
    "친구목록 = [\"균우\", \"상완\", \"동훈\", \"진\", \"재현\"]\n",
    "\n",
    "ㅁ = 1\n",
    "while ㅁ <= length(친구목록)\n",
    "    친구 = 친구목록[ㅁ]\n",
    "    println(\"안녕 $친구, 만나서 반가워!\")\n",
    "    ㅁ += 1\n",
    "end"
   ]
  },
  {
   "cell_type": "markdown",
   "metadata": {},
   "source": [
    "## for 반복문 <a id='2'></a>"
   ]
  },
  {
   "cell_type": "markdown",
   "metadata": {},
   "source": [
    "구문:\n",
    "\n",
    "    <font color=green>for<\\font> *변수명* <font color=green>in<\\font> *반복시 변수에 넣을 목록*\n",
    "        *반복 내용*\n",
    "    <font color=green>end<\\font>"
   ]
  },
  {
   "cell_type": "code",
   "execution_count": 3,
   "metadata": {},
   "outputs": [
    {
     "name": "stdout",
     "output_type": "stream",
     "text": [
      "1\n",
      "2\n",
      "3\n",
      "4\n",
      "5\n",
      "6\n",
      "7\n",
      "8\n",
      "9\n",
      "10\n"
     ]
    }
   ],
   "source": [
    "for ㅁ in 1:10\n",
    "    println(ㅁ)\n",
    "end"
   ]
  },
  {
   "cell_type": "code",
   "execution_count": 4,
   "metadata": {},
   "outputs": [
    {
     "name": "stdout",
     "output_type": "stream",
     "text": [
      "안녕 균우, 만나서 반가워!\n",
      "안녕 상완, 만나서 반가워!\n",
      "안녕 동훈, 만나서 반가워!\n",
      "안녕 진, 만나서 반가워!\n",
      "안녕 재현, 만나서 반가워!\n"
     ]
    }
   ],
   "source": [
    "친구목록 = [\"균우\", \"상완\", \"동훈\", \"진\", \"재현\"]\n",
    "\n",
    "for 친구 in 친구목록\n",
    "    println(\"안녕 $친구, 만나서 반가워!\")\n",
    "end"
   ]
  },
  {
   "cell_type": "markdown",
   "metadata": {},
   "source": [
    "이제 for 문을 이용해서 특정 표를 만들어보자. 이 표는 각 원소가 행 위치와 열 위치의 합으로 되어있다.\n",
    "\n",
    "먼저 표를 0값으로 이루어진 array로 선언한다."
   ]
  },
  {
   "cell_type": "code",
   "execution_count": 5,
   "metadata": {
    "scrolled": true
   },
   "outputs": [
    {
     "data": {
      "text/plain": [
       "5×5 Array{Int64,2}:\n",
       " 0  0  0  0  0\n",
       " 0  0  0  0  0\n",
       " 0  0  0  0  0\n",
       " 0  0  0  0  0\n",
       " 0  0  0  0  0"
      ]
     },
     "execution_count": 5,
     "metadata": {},
     "output_type": "execute_result"
    }
   ],
   "source": [
    "행, 열 = 5, 5\n",
    "표 = fill(0, (행, 열))"
   ]
  },
  {
   "cell_type": "code",
   "execution_count": 6,
   "metadata": {},
   "outputs": [
    {
     "data": {
      "text/plain": [
       "5×5 Array{Int64,2}:\n",
       " 2  3  4  5   6\n",
       " 3  4  5  6   7\n",
       " 4  5  6  7   8\n",
       " 5  6  7  8   9\n",
       " 6  7  8  9  10"
      ]
     },
     "execution_count": 6,
     "metadata": {},
     "output_type": "execute_result"
    }
   ],
   "source": [
    "for ㄱ in 1:행\n",
    "    for ㄴ in 1:열\n",
    "        표[ㄱ, ㄴ] = ㄱ + ㄴ\n",
    "    end\n",
    "end\n",
    "표"
   ]
  },
  {
   "cell_type": "markdown",
   "metadata": {},
   "source": [
    "같은 결과를 낼 수 있는 다른 문법도 있다."
   ]
  },
  {
   "cell_type": "code",
   "execution_count": 7,
   "metadata": {},
   "outputs": [
    {
     "data": {
      "text/plain": [
       "5×5 Array{Int64,2}:\n",
       " 0  0  0  0  0\n",
       " 0  0  0  0  0\n",
       " 0  0  0  0  0\n",
       " 0  0  0  0  0\n",
       " 0  0  0  0  0"
      ]
     },
     "execution_count": 7,
     "metadata": {},
     "output_type": "execute_result"
    }
   ],
   "source": [
    "표2 = fill(0, (행, 열))"
   ]
  },
  {
   "cell_type": "code",
   "execution_count": 8,
   "metadata": {},
   "outputs": [
    {
     "data": {
      "text/plain": [
       "5×5 Array{Int64,2}:\n",
       " 2  3  4  5   6\n",
       " 3  4  5  6   7\n",
       " 4  5  6  7   8\n",
       " 5  6  7  8   9\n",
       " 6  7  8  9  10"
      ]
     },
     "execution_count": 8,
     "metadata": {},
     "output_type": "execute_result"
    }
   ],
   "source": [
    "for ㄱ in 1:행, ㄴ in 1:열\n",
    "    표2[ㄱ, ㄴ] = ㄱ + ㄴ\n",
    "end\n",
    "표2"
   ]
  },
  {
   "cell_type": "markdown",
   "metadata": {},
   "source": [
    "array 안에 반복문이 들어가있는 좀 더 \"Julia\"스러운 문법이 있다."
   ]
  },
  {
   "cell_type": "code",
   "execution_count": 9,
   "metadata": {},
   "outputs": [
    {
     "data": {
      "text/plain": [
       "5×5 Array{Int64,2}:\n",
       " 2  3  4  5   6\n",
       " 3  4  5  6   7\n",
       " 4  5  6  7   8\n",
       " 5  6  7  8   9\n",
       " 6  7  8  9  10"
      ]
     },
     "execution_count": 9,
     "metadata": {},
     "output_type": "execute_result"
    }
   ],
   "source": [
    "표3 = [ㄱ + ㄴ for ㄱ in 1:행, ㄴ in 1:열]"
   ]
  },
  {
   "cell_type": "markdown",
   "metadata": {},
   "source": [
    "## 연습문제 <a id='3'></a>"
   ]
  },
  {
   "cell_type": "markdown",
   "metadata": {},
   "source": [
    "### 4.1\n",
    "\n",
    "1부터 100까지 반복문을 돌리면서 제곱값을 출력하자."
   ]
  },
  {
   "cell_type": "code",
   "execution_count": 10,
   "metadata": {},
   "outputs": [
    {
     "name": "stdout",
     "output_type": "stream",
     "text": [
      "1 4 9 16 25 36 49 64 81 100 121 144 169 196 225 256 289 324 361 400 441 484 529 576 625 676 729 784 841 900 961 1024 1089 1156 1225 1296 1369 1444 1521 1600 1681 1764 1849 1936 2025 2116 2209 2304 2401 2500 2601 2704 2809 2916 3025 3136 3249 3364 3481 3600 3721 3844 3969 4096 4225 4356 4489 4624 4761 4900 5041 5184 5329 5476 5625 5776 5929 6084 6241 6400 6561 6724 6889 7056 7225 7396 7569 7744 7921 8100 8281 8464 8649 8836 9025 9216 9409 9604 9801 10000 "
     ]
    }
   ],
   "source": [
    "수 = 0\n",
    "while 수 < 100\n",
    "    수 += 1\n",
    "    print(\"$(수^2) \")\n",
    "end"
   ]
  },
  {
   "cell_type": "code",
   "execution_count": 11,
   "metadata": {},
   "outputs": [
    {
     "name": "stdout",
     "output_type": "stream",
     "text": [
      "1 4 9 16 25 36 49 64 81 100 121 144 169 196 225 256 289 324 361 400 441 484 529 576 625 676 729 784 841 900 961 1024 1089 1156 1225 1296 1369 1444 1521 1600 1681 1764 1849 1936 2025 2116 2209 2304 2401 2500 2601 2704 2809 2916 3025 3136 3249 3364 3481 3600 3721 3844 3969 4096 4225 4356 4489 4624 4761 4900 5041 5184 5329 5476 5625 5776 5929 6084 6241 6400 6561 6724 6889 7056 7225 7396 7569 7744 7921 8100 8281 8464 8649 8836 9025 9216 9409 9604 9801 10000 "
     ]
    }
   ],
   "source": [
    "for 수 in 1:100\n",
    "    print(\"$(수^2) \")\n",
    "end"
   ]
  },
  {
   "cell_type": "markdown",
   "metadata": {},
   "source": [
    "### 4.2\n",
    "\n",
    "(수, 제곱한 수) 가 (key, value)가 되도록 dictionary를 만들자. 즉,\n",
    "\n",
    "    squares[10] == 100\n",
    "\n",
    "는 true가 된다."
   ]
  },
  {
   "cell_type": "code",
   "execution_count": 12,
   "metadata": {},
   "outputs": [
    {
     "data": {
      "text/plain": [
       "Dict{Int64,Int64} with 100 entries:\n",
       "  68 => 4624\n",
       "  2  => 4\n",
       "  89 => 7921\n",
       "  11 => 121\n",
       "  39 => 1521\n",
       "  46 => 2116\n",
       "  85 => 7225\n",
       "  25 => 625\n",
       "  55 => 3025\n",
       "  42 => 1764\n",
       "  29 => 841\n",
       "  58 => 3364\n",
       "  66 => 4356\n",
       "  59 => 3481\n",
       "  8  => 64\n",
       "  74 => 5476\n",
       "  95 => 9025\n",
       "  57 => 3249\n",
       "  20 => 400\n",
       "  90 => 8100\n",
       "  14 => 196\n",
       "  31 => 961\n",
       "  78 => 6084\n",
       "  70 => 4900\n",
       "  33 => 1089\n",
       "  ⋮  => ⋮"
      ]
     },
     "execution_count": 12,
     "metadata": {},
     "output_type": "execute_result"
    }
   ],
   "source": [
    "제곱1 = Dict(수 => 수^2 for 수 in 1:100)"
   ]
  },
  {
   "cell_type": "code",
   "execution_count": 13,
   "metadata": {},
   "outputs": [
    {
     "data": {
      "text/plain": [
       "true"
      ]
     },
     "execution_count": 13,
     "metadata": {},
     "output_type": "execute_result"
    }
   ],
   "source": [
    "제곱1[10] == 100"
   ]
  },
  {
   "cell_type": "code",
   "execution_count": null,
   "metadata": {},
   "outputs": [],
   "source": []
  },
  {
   "cell_type": "code",
   "execution_count": 14,
   "metadata": {},
   "outputs": [],
   "source": [
    "제곱2 = Dict()\n",
    "수 = 0\n",
    "while 수 < 100\n",
    "    수 += 1\n",
    "    제곱2[수] = 수^2\n",
    "end"
   ]
  },
  {
   "cell_type": "code",
   "execution_count": 15,
   "metadata": {},
   "outputs": [
    {
     "data": {
      "text/plain": [
       "Dict{Any,Any} with 100 entries:\n",
       "  68 => 4624\n",
       "  2  => 4\n",
       "  89 => 7921\n",
       "  11 => 121\n",
       "  39 => 1521\n",
       "  46 => 2116\n",
       "  85 => 7225\n",
       "  25 => 625\n",
       "  55 => 3025\n",
       "  42 => 1764\n",
       "  29 => 841\n",
       "  58 => 3364\n",
       "  66 => 4356\n",
       "  59 => 3481\n",
       "  8  => 64\n",
       "  74 => 5476\n",
       "  95 => 9025\n",
       "  57 => 3249\n",
       "  20 => 400\n",
       "  90 => 8100\n",
       "  14 => 196\n",
       "  31 => 961\n",
       "  78 => 6084\n",
       "  70 => 4900\n",
       "  33 => 1089\n",
       "  ⋮  => ⋮"
      ]
     },
     "execution_count": 15,
     "metadata": {},
     "output_type": "execute_result"
    }
   ],
   "source": [
    "제곱2"
   ]
  },
  {
   "cell_type": "code",
   "execution_count": 16,
   "metadata": {},
   "outputs": [
    {
     "data": {
      "text/plain": [
       "true"
      ]
     },
     "execution_count": 16,
     "metadata": {},
     "output_type": "execute_result"
    }
   ],
   "source": [
    "제곱2[10] == 100"
   ]
  },
  {
   "cell_type": "code",
   "execution_count": null,
   "metadata": {},
   "outputs": [],
   "source": []
  },
  {
   "cell_type": "code",
   "execution_count": 17,
   "metadata": {},
   "outputs": [],
   "source": [
    "제곱3 = Dict()\n",
    "for 수 in 1:100\n",
    "    제곱3[수] = 수^2\n",
    "end"
   ]
  },
  {
   "cell_type": "code",
   "execution_count": 18,
   "metadata": {},
   "outputs": [
    {
     "data": {
      "text/plain": [
       "Dict{Any,Any} with 100 entries:\n",
       "  68 => 4624\n",
       "  2  => 4\n",
       "  89 => 7921\n",
       "  11 => 121\n",
       "  39 => 1521\n",
       "  46 => 2116\n",
       "  85 => 7225\n",
       "  25 => 625\n",
       "  55 => 3025\n",
       "  42 => 1764\n",
       "  29 => 841\n",
       "  58 => 3364\n",
       "  66 => 4356\n",
       "  59 => 3481\n",
       "  8  => 64\n",
       "  74 => 5476\n",
       "  95 => 9025\n",
       "  57 => 3249\n",
       "  20 => 400\n",
       "  90 => 8100\n",
       "  14 => 196\n",
       "  31 => 961\n",
       "  78 => 6084\n",
       "  70 => 4900\n",
       "  33 => 1089\n",
       "  ⋮  => ⋮"
      ]
     },
     "execution_count": 18,
     "metadata": {},
     "output_type": "execute_result"
    }
   ],
   "source": [
    "제곱3"
   ]
  },
  {
   "cell_type": "code",
   "execution_count": 19,
   "metadata": {},
   "outputs": [
    {
     "data": {
      "text/plain": [
       "true"
      ]
     },
     "execution_count": 19,
     "metadata": {},
     "output_type": "execute_result"
    }
   ],
   "source": [
    "제곱3[10] == 100"
   ]
  },
  {
   "cell_type": "markdown",
   "metadata": {},
   "source": [
    "### 4.3\n",
    "\n",
    "array 안에 반복문을 넣어서 1부터 100까지 수의 제곱을 array에 저장하자."
   ]
  },
  {
   "cell_type": "code",
   "execution_count": 20,
   "metadata": {},
   "outputs": [
    {
     "name": "stdout",
     "output_type": "stream",
     "text": [
      "[1, 4, 9, 16, 25, 36, 49, 64, 81, 100, 121, 144, 169, 196, 225, 256, 289, 324, 361, 400, 441, 484, 529, 576, 625, 676, 729, 784, 841, 900, 961, 1024, 1089, 1156, 1225, 1296, 1369, 1444, 1521, 1600, 1681, 1764, 1849, 1936, 2025, 2116, 2209, 2304, 2401, 2500, 2601, 2704, 2809, 2916, 3025, 3136, 3249, 3364, 3481, 3600, 3721, 3844, 3969, 4096, 4225, 4356, 4489, 4624, 4761, 4900, 5041, 5184, 5329, 5476, 5625, 5776, 5929, 6084, 6241, 6400, 6561, 6724, 6889, 7056, 7225, 7396, 7569, 7744, 7921, 8100, 8281, 8464, 8649, 8836, 9025, 9216, 9409, 9604, 9801, 10000]\n"
     ]
    }
   ],
   "source": [
    "수_제곱 = [수^2 for 수 in 1:100]\n",
    "println(수_제곱)"
   ]
  },
  {
   "cell_type": "code",
   "execution_count": null,
   "metadata": {},
   "outputs": [],
   "source": []
  }
 ],
 "metadata": {
  "kernelspec": {
   "display_name": "Julia 1.0.0",
   "language": "julia",
   "name": "julia-1.0"
  },
  "language_info": {
   "file_extension": ".jl",
   "mimetype": "application/julia",
   "name": "julia",
   "version": "1.0.0"
  }
 },
 "nbformat": 4,
 "nbformat_minor": 2
}
